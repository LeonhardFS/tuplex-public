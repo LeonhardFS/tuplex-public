{
 "cells": [
  {
   "cell_type": "code",
   "execution_count": 12,
   "id": "2a142c4f",
   "metadata": {},
   "outputs": [],
   "source": [
    "import json\n",
    "import glob\n",
    "import os\n",
    "import pandas as pd\n",
    "import numpy as np"
   ]
  },
  {
   "cell_type": "markdown",
   "id": "ba541929",
   "metadata": {},
   "source": [
    "## 1. Settings to check:\n",
    "\n",
    "-> activate proj. pushdown, filter pushdown\n",
    "\n",
    "- hyper / no-cf  invoked via `python3.9 runtuplex.py --no-cf`\n",
    "- nohyper / no-cf invoked via `python3.9 runtuplex.py --no-cf --no-hyper`\n",
    "- hyper / cf invoked via `python3.9 runtuplex.py`\n",
    "- nohyper / cf `python3.9 runtuplex.py --no-hyper`\n",
    "\n",
    "All of them should have the same number of output rows, input rows."
   ]
  },
  {
   "cell_type": "code",
   "execution_count": 13,
   "id": "7d73e670",
   "metadata": {},
   "outputs": [
    {
     "name": "stdout",
     "output_type": "stream",
     "text": [
      "job_0000.json job_0001.json job_0002.json job_0003.json\r\n"
     ]
    }
   ],
   "source": [
    "!ls flights_debug/"
   ]
  },
  {
   "cell_type": "code",
   "execution_count": 31,
   "id": "ddb2886f",
   "metadata": {},
   "outputs": [],
   "source": [
    "path_map = {\n",
    "    'flights_debug/job_0000.json':'hyper-nocf',\n",
    "           'flights_debug/job_0001.json':'nohyper-nocf',\n",
    "          'flights_debug/job_0002.json':'hyper-cf',\n",
    "           'flights_debug/job_0003.json':'nohyper-cf'}"
   ]
  },
  {
   "cell_type": "code",
   "execution_count": 32,
   "id": "cebc7652",
   "metadata": {},
   "outputs": [],
   "source": [
    "path = list(path_map.keys())[0]"
   ]
  },
  {
   "cell_type": "code",
   "execution_count": 33,
   "id": "5f760807",
   "metadata": {},
   "outputs": [
    {
     "name": "stdout",
     "output_type": "stream",
     "text": [
      "hyper-nocf\n",
      "{'normal': 202449065, 'general': 238590, 'fallback': 0, 'unresolved': 0}\n",
      "{'normal': 197327045, 'unresolved': 0}\n",
      "total: 202687655\n",
      "---\n",
      "nohyper-nocf\n",
      "{'normal': 202449065, 'general': 238590, 'fallback': 0, 'unresolved': 0}\n",
      "{'normal': 175791035, 'unresolved': 0}\n",
      "total: 202687655\n",
      "---\n",
      "hyper-cf\n",
      "{'normal': 144522313, 'general': 57974043, 'fallback': 0, 'unresolved': 191299}\n",
      "{'normal': 198926126, 'unresolved': 191299}\n",
      "total: 202687655\n",
      "---\n",
      "nohyper-cf\n",
      "{'normal': 202449065, 'general': 238590, 'fallback': 0, 'unresolved': 0}\n",
      "{'normal': 175791035, 'unresolved': 0}\n",
      "total: 202687655\n",
      "---\n"
     ]
    }
   ],
   "source": [
    "for path in path_map.keys():\n",
    "    with open(path, 'r') as fp:\n",
    "        print(path_map[path])\n",
    "        data = json.load(fp)\n",
    "        print(data['input_paths_taken'])\n",
    "        print(data['output_paths_taken'])\n",
    "        x = np.array(list(data['input_paths_taken'].values()))\n",
    "        print('total: {}'.format(x.sum()))\n",
    "        print('---')"
   ]
  },
  {
   "cell_type": "code",
   "execution_count": 28,
   "id": "37c30137",
   "metadata": {},
   "outputs": [
    {
     "data": {
      "text/plain": [
       "{'normal': 175791035, 'unresolved': 0}"
      ]
     },
     "execution_count": 28,
     "metadata": {},
     "output_type": "execute_result"
    }
   ],
   "source": [
    "data['output_paths_taken']"
   ]
  },
  {
   "cell_type": "code",
   "execution_count": 22,
   "id": "45559d12",
   "metadata": {},
   "outputs": [],
   "source": [
    "test_path = '/Users/leonhards/projects/tuplex-public/tuplex/test/resources/hyperspecialization/flights/flights_on_time_performance_2021_11.csv.sample'"
   ]
  },
  {
   "cell_type": "code",
   "execution_count": 24,
   "id": "ccad738b",
   "metadata": {},
   "outputs": [],
   "source": [
    "df = pd.read_csv(test_path)"
   ]
  },
  {
   "cell_type": "code",
   "execution_count": 26,
   "id": "a5455066",
   "metadata": {},
   "outputs": [
    {
     "data": {
      "text/plain": [
       "0       29.0\n",
       "1       22.0\n",
       "2       31.0\n",
       "3       23.0\n",
       "4       20.0\n",
       "        ... \n",
       "4994     NaN\n",
       "4995     NaN\n",
       "4996     NaN\n",
       "4997     NaN\n",
       "4998     NaN\n",
       "Name: NAS_DELAY, Length: 4999, dtype: float64"
      ]
     },
     "execution_count": 26,
     "metadata": {},
     "output_type": "execute_result"
    }
   ],
   "source": [
    "df['NAS_DELAY']"
   ]
  },
  {
   "cell_type": "markdown",
   "id": "7d9f2dd8",
   "metadata": {},
   "source": [
    "Next test: write pipeline to (only) extract year and check in all modes.\n",
    "    "
   ]
  },
  {
   "cell_type": "markdown",
   "id": "b4cf79bf",
   "metadata": {},
   "source": [
    "=> #input rows should match #output rows. If not, debug and fix!"
   ]
  },
  {
   "cell_type": "markdown",
   "id": "db5717cd",
   "metadata": {},
   "source": [
    "- number of input rows is: 202687655\n",
    "- number of output rows should be the same!: 202687655"
   ]
  },
  {
   "cell_type": "code",
   "execution_count": null,
   "id": "3e89f67d",
   "metadata": {},
   "outputs": [],
   "source": [
    "[2022-12-04 13:54:36.257] [aws-lambda] [info] LAMBDA Stage output: 202687655 rows, 0 exceptions\n",
    "[2022-12-04 13:54:36.257] [aws-lambda] [info] LAMBDA paths input rows took: normal: 202687655 general: 0 interpreter: 0"
   ]
  },
  {
   "cell_type": "code",
   "execution_count": null,
   "id": "58a6853f",
   "metadata": {},
   "outputs": [],
   "source": []
  },
  {
   "cell_type": "code",
   "execution_count": 36,
   "id": "e55cdd35",
   "metadata": {},
   "outputs": [],
   "source": [
    "# for nas delay, hyper fails with: 201224513 vs. 202687655 -> incorrect number of rows."
   ]
  },
  {
   "cell_type": "code",
   "execution_count": 37,
   "id": "7ba381bd",
   "metadata": {},
   "outputs": [],
   "source": [
    "# nohyper as well: 180051706"
   ]
  },
  {
   "cell_type": "code",
   "execution_count": 38,
   "id": "6655708b",
   "metadata": {},
   "outputs": [],
   "source": [
    "#nohyper/nocf as well: 180051706"
   ]
  },
  {
   "cell_type": "code",
   "execution_count": null,
   "id": "3e42cdb5",
   "metadata": {},
   "outputs": [],
   "source": [
    "prob. the null check is off. Need to investigate, fix this."
   ]
  }
 ],
 "metadata": {
  "kernelspec": {
   "display_name": "Python 3.10",
   "language": "python",
   "name": "python3"
  },
  "language_info": {
   "codemirror_mode": {
    "name": "ipython",
    "version": 3
   },
   "file_extension": ".py",
   "mimetype": "text/x-python",
   "name": "python",
   "nbconvert_exporter": "python",
   "pygments_lexer": "ipython3",
   "version": "3.10.6"
  }
 },
 "nbformat": 4,
 "nbformat_minor": 5
}
