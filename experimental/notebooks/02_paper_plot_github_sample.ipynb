{
 "cells": [
  {
   "cell_type": "markdown",
   "id": "484e136f",
   "metadata": {},
   "source": [
    "Fetch data (~52MB) from gdrive"
   ]
  },
  {
   "cell_type": "code",
   "execution_count": 116,
   "id": "a581524f",
   "metadata": {},
   "outputs": [
    {
     "name": "stdout",
     "output_type": "stream",
     "text": [
      "Downloading...\n",
      "From: https://drive.google.com/uc?id=1GJ7E6QGOFCL1VOHkCyOUftks9DBC-E3I\n",
      "To: /Users/leonhards/projects/tuplex-public/experimental/notebooks/experiment_result.json\n",
      "100%|██████████████████████████████████████| 55.1M/55.1M [00:03<00:00, 13.9MB/s]\n"
     ]
    }
   ],
   "source": [
    "!bash -c '[[ -f experimental_data.json ]] || gdown --fuzzy https://drive.google.com/file/d/1GJ7E6QGOFCL1VOHkCyOUftks9DBC-E3I/view?usp=sharing'"
   ]
  },
  {
   "cell_type": "code",
   "execution_count": 152,
   "id": "400c014e",
   "metadata": {},
   "outputs": [],
   "source": [
    "import json\n",
    "import pandas as pd\n",
    "import matplotlib\n",
    "import matplotlib.pyplot as plt\n",
    "import seaborn as sns\n",
    "import numpy as np\n",
    "\n",
    "from matplotlib.lines import Line2D\n",
    "import matplotlib.ticker as ticker\n",
    "from matplotlib.lines import Line2D\n",
    "import matplotlib.ticker\n",
    "from paper import *"
   ]
  },
  {
   "cell_type": "code",
   "execution_count": 118,
   "id": "760a24be",
   "metadata": {},
   "outputs": [
    {
     "name": "stderr",
     "output_type": "stream",
     "text": [
      "/Users/leonhards/projects/tuplex-public/experimental/notebooks/paper.py:36: MatplotlibDeprecationWarning: Support for setting the 'text.latex.preamble' or 'pgf.preamble' rcParam to a list of strings is deprecated since 3.3 and will be removed two minor releases later; set it to a single string instead.\n",
      "  matplotlib.rc('text.latex', preamble=['\\\\usepackage{times,mathptmx}'])\n"
     ]
    }
   ],
   "source": [
    "adjust_settings()"
   ]
  },
  {
   "cell_type": "code",
   "execution_count": 119,
   "id": "1fd7b917",
   "metadata": {},
   "outputs": [],
   "source": [
    "with open('experiment_result.json', 'r') as fp:\n",
    "    data = fp.read()"
   ]
  },
  {
   "cell_type": "code",
   "execution_count": 120,
   "id": "6f81b792",
   "metadata": {},
   "outputs": [
    {
     "data": {
      "text/plain": [
       "22"
      ]
     },
     "execution_count": 120,
     "metadata": {},
     "output_type": "execute_result"
    }
   ],
   "source": [
    "lines = data.strip().split('\\n')\n",
    "len(lines)"
   ]
  },
  {
   "cell_type": "code",
   "execution_count": 121,
   "id": "96c8cf7e",
   "metadata": {},
   "outputs": [],
   "source": [
    "d = [json.loads(line) for line in lines]\n",
    "df = pd.DataFrame(d)"
   ]
  },
  {
   "cell_type": "code",
   "execution_count": 122,
   "id": "9e72c80f",
   "metadata": {},
   "outputs": [],
   "source": [
    "#df = pd.read_json('experimental_data.json', lines=True)\n",
    "#df = pd.read_json('data_first8mb_sampled.json', lines=True)\n",
    "# df = pd.read_json('data_first256K_sampled.json', lines=True)"
   ]
  },
  {
   "cell_type": "code",
   "execution_count": 123,
   "id": "3e978e5b",
   "metadata": {},
   "outputs": [
    {
     "data": {
      "text/plain": [
       "Index(['buf_size_compressed', 'buf_size_uncompressed', 'fallback_mem',\n",
       "       'fallback_rows', 'general_case', 'general_case_field_count',\n",
       "       'general_json_paths', 'general_mem', 'general_rows', 'mode',\n",
       "       'normal_case', 'normal_case_field_count', 'normal_json_paths',\n",
       "       'normal_mem', 'normal_rows', 'path', 'perfect_sample',\n",
       "       'sample_row_count', 'sample_size', 'total_rows', 'type_counts'],\n",
       "      dtype='object')"
      ]
     },
     "execution_count": 123,
     "metadata": {},
     "output_type": "execute_result"
    }
   ],
   "source": [
    "df.columns"
   ]
  },
  {
   "cell_type": "code",
   "execution_count": 124,
   "id": "315d1c92",
   "metadata": {},
   "outputs": [],
   "source": [
    "df['year'] = df['path'].apply(lambda x: x.replace('.json.gz', '')).apply(lambda x: x[x.rfind('/')+1:].split('-')[0]).astype(int)"
   ]
  },
  {
   "cell_type": "code",
   "execution_count": 125,
   "id": "f345e272",
   "metadata": {},
   "outputs": [
    {
     "data": {
      "text/plain": [
       "10      48899\n",
       "9      165692\n",
       "8      296456\n",
       "7      476393\n",
       "6      737714\n",
       "5      678134\n",
       "4      910100\n",
       "3     1522655\n",
       "2     2134789\n",
       "1     2963694\n",
       "0     1078139\n",
       "Name: total_rows, dtype: int64"
      ]
     },
     "execution_count": 125,
     "metadata": {},
     "output_type": "execute_result"
    }
   ],
   "source": [
    "df[df['mode'] == 'hyper'].sort_values(by=['year'])['total_rows']"
   ]
  },
  {
   "cell_type": "code",
   "execution_count": 126,
   "id": "b473ff88",
   "metadata": {},
   "outputs": [
    {
     "data": {
      "text/plain": [
       "21      48899\n",
       "20     165692\n",
       "19     296456\n",
       "18     476393\n",
       "17     737714\n",
       "16     678134\n",
       "15     910100\n",
       "14    1522655\n",
       "13    2134789\n",
       "12    2963694\n",
       "11    1078139\n",
       "Name: total_rows, dtype: int64"
      ]
     },
     "execution_count": 126,
     "metadata": {},
     "output_type": "execute_result"
    }
   ],
   "source": [
    "df[df['mode'] == 'global'].sort_values(by=['year'])['total_rows']"
   ]
  },
  {
   "cell_type": "markdown",
   "id": "b3b7044a",
   "metadata": {},
   "source": [
    "sanity check done, now let's plot them next to each other"
   ]
  },
  {
   "cell_type": "code",
   "execution_count": 127,
   "id": "460c9294",
   "metadata": {},
   "outputs": [],
   "source": [
    "df_hyper = df[df['mode'] == 'hyper'].sort_values(by=['year'])\n",
    "df_global = df[df['mode'] == 'global'].sort_values(by=['year'])"
   ]
  },
  {
   "cell_type": "markdown",
   "id": "87f42e5f",
   "metadata": {},
   "source": [
    "plot nice overview over data"
   ]
  },
  {
   "cell_type": "code",
   "execution_count": 128,
   "id": "4ef14030",
   "metadata": {},
   "outputs": [
    {
     "data": {
      "image/png": "[encoded data removed]",
      "text/plain": [
       "<Figure size 864x288 with 2 Axes>"
      ]
     },
     "metadata": {},
     "output_type": "display_data"
    }
   ],
   "source": [
    "plt.figure(figsize=(12, 4))\n",
    "\n",
    "primary_col = sns.color_palette('Blues')[-2]\n",
    "secondary_col = [0.6]*3\n",
    "\n",
    "\n",
    "ax1 = plt.gca()\n",
    "xq = np.arange(len(df_global))\n",
    "oct_offset = 288/365 # ignore leap year\n",
    "ax1.plot(xq + oct_offset, df_global['total_rows'] / 10**6, marker='o',\n",
    "         color=primary_col, markersize=15, linewidth=2)\n",
    "\n",
    "ax1.set_ylabel('rows in million')\n",
    "ax1.set_ylim(0, 4)\n",
    "xt = np.array([0, 1, 2, 3, 4])\n",
    "ax1.set_yticks(xt)\n",
    "ax2 = ax1.twinx()\n",
    "ax2.plot(xq + oct_offset, df_global['buf_size_uncompressed'] / (1024**3),\n",
    "         color=secondary_col, marker='^', markersize=15,\n",
    "        linewidth=2)\n",
    "ax2.set_ylim(0, 12)\n",
    "ax2.set_yticks(xt * 3)\n",
    "ax2.set_ylabel('size in GiB')\n",
    "\n",
    "# fix for ordering\n",
    "ax2.zorder=0\n",
    "ax1.zorder=1\n",
    "ax1.patch.set_visible(False)\n",
    "\n",
    "lgd_handles = []\n",
    "lgd_handles.append(Line2D([0], [0], marker='o', color=primary_col, label='rows',\n",
    "                   markerfacecolor=primary_col, markersize=20, linewidth=0))\n",
    "lgd_handles.append(Line2D([0], [0], marker='^', color=secondary_col, label='uncompressed size',\n",
    "                   markerfacecolor=secondary_col, markersize=20, linewidth=0))\n",
    "ax1.legend(handles=lgd_handles, fontsize=16, handletextpad=0.05, facecolor='w', framealpha=1)\n",
    "\n",
    "#sns.despine()\n",
    "xq = np.arange(len(df_global) + 1)\n",
    "\n",
    "# ax1.grid(axis='y')\n",
    "ax1.grid(False)\n",
    "# ax2.grid(axis='x')\n",
    "plt.xticks(xq, list(df_global['year'].values) + ['2022'], visible=True, rotation=\"vertical\")\n",
    "plt.savefig('peryear_data_overview.pdf', transparent=True, bbox_inches = 'tight', pad_inches = 0)"
   ]
  },
  {
   "cell_type": "markdown",
   "id": "609df7b3",
   "metadata": {},
   "source": [
    "plot number of fields over years"
   ]
  },
  {
   "cell_type": "code",
   "execution_count": null,
   "id": "9759cb50",
   "metadata": {},
   "outputs": [],
   "source": [
    "plt.figure(figsize=(16,5))\n",
    "plt.plot(df_hyper['year'], df_hyper['normal_case_field_count'],\n",
    "         marker='^', linewidth=2, label='normal case (hyper)')\n",
    "plt.plot(df_hyper['year'], df_hyper['general_case_field_count'],\n",
    "         marker='v', linewidth=2, label='general case (hyper)')\n",
    "plt.axhline(df_global['normal_case_field_count'].iloc[0], linewidth=3,\n",
    "            linestyle='--',\n",
    "            color='k', label='normal case (global)')\n",
    "plt.axhline(df_global['general_case_field_count'].iloc[0], linewidth=3, linestyle='--',\n",
    "            color=[0.6]*3, label='general case (global)')\n",
    "plt.legend(fontsize=20)\n",
    "plt.yscale('log')\n",
    "plt.yticks([1, 10, 100, 1000])\n",
    "plt.xticks(df_hyper['year'])\n",
    "plt.ylim([10, 1500])\n",
    "sns.despine()\n",
    "plt.grid(axis='x')"
   ]
  },
  {
   "cell_type": "code",
   "execution_count": null,
   "id": "fb6e76ad",
   "metadata": {},
   "outputs": [],
   "source": []
  },
  {
   "cell_type": "code",
   "execution_count": null,
   "id": "dc66cf60",
   "metadata": {},
   "outputs": [],
   "source": []
  },
  {
   "cell_type": "code",
   "execution_count": 129,
   "id": "23c1bb89",
   "metadata": {
    "scrolled": true
   },
   "outputs": [
    {
     "data": {
      "text/plain": [
       "21    25\n",
       "20    25\n",
       "19    25\n",
       "18    25\n",
       "17    25\n",
       "16    25\n",
       "15    25\n",
       "14    25\n",
       "13    25\n",
       "12    25\n",
       "11    25\n",
       "Name: normal_case_field_count, dtype: int64"
      ]
     },
     "execution_count": 129,
     "metadata": {},
     "output_type": "execute_result"
    }
   ],
   "source": [
    "df_global['normal_case_field_count']"
   ]
  },
  {
   "cell_type": "code",
   "execution_count": 130,
   "id": "8aa4dc68",
   "metadata": {},
   "outputs": [
    {
     "data": {
      "text/plain": [
       "21    961\n",
       "20    961\n",
       "19    961\n",
       "18    961\n",
       "17    961\n",
       "16    961\n",
       "15    961\n",
       "14    961\n",
       "13    961\n",
       "12    961\n",
       "11    961\n",
       "Name: general_case_field_count, dtype: int64"
      ]
     },
     "execution_count": 130,
     "metadata": {},
     "output_type": "execute_result"
    }
   ],
   "source": [
    "df_global['general_case_field_count']"
   ]
  },
  {
   "cell_type": "code",
   "execution_count": 131,
   "id": "8add31e6",
   "metadata": {},
   "outputs": [
    {
     "data": {
      "text/plain": [
       "10    26\n",
       "9     35\n",
       "8     36\n",
       "7     90\n",
       "6     24\n",
       "5     25\n",
       "4     25\n",
       "3     25\n",
       "2     25\n",
       "1     25\n",
       "0     25\n",
       "Name: normal_case_field_count, dtype: int64"
      ]
     },
     "execution_count": 131,
     "metadata": {},
     "output_type": "execute_result"
    }
   ],
   "source": [
    "df_hyper['normal_case_field_count']"
   ]
  },
  {
   "cell_type": "code",
   "execution_count": null,
   "id": "612d3836",
   "metadata": {},
   "outputs": [],
   "source": []
  },
  {
   "cell_type": "code",
   "execution_count": null,
   "id": "ed1aff0e",
   "metadata": {},
   "outputs": [],
   "source": []
  },
  {
   "cell_type": "code",
   "execution_count": 63,
   "id": "262fbf48",
   "metadata": {},
   "outputs": [],
   "source": [
    "def plot_bars(subdf, xoff, w, c1, c2, c3):\n",
    "    xq = np.arange(len(subdf))\n",
    "    plt.bar(xq + xoff, subdf['normal_rows'],  w, color=c1)\n",
    "    plt.bar(xq + xoff, subdf['general_rows'], w, bottom=subdf['normal_rows'], color=c2)\n",
    "    plt.bar(xq + xoff, subdf['fallback_rows'], w, bottom=subdf['normal_rows'] + subdf['general_rows'], color=c3)\n",
    "    \n",
    "def plot_bars_mem(subdf, xoff, w, mem_factor, c1, c2, c3):\n",
    "    xq = np.arange(len(subdf))\n",
    "    plt.bar(xq + xoff, subdf['normal_mem'] / mem_factor,  w, color=c1)\n",
    "    plt.bar(xq + xoff, subdf['general_mem'] / mem_factor, w, bottom=subdf['normal_mem'] / mem_factor, color=c2)\n",
    "    plt.bar(xq + xoff, subdf['fallback_mem'] / mem_factor, w, bottom=subdf['normal_mem']  / mem_factor + subdf['general_mem']  / mem_factor, color=c3)"
   ]
  },
  {
   "cell_type": "code",
   "execution_count": 106,
   "id": "309867aa",
   "metadata": {},
   "outputs": [
    {
     "name": "stdout",
     "output_type": "stream",
     "text": [
      "done\n"
     ]
    },
    {
     "data": {
      "image/png": "[encoded data removed]",
      "text/plain": [
       "<Figure size 1152x360 with 1 Axes>"
      ]
     },
     "metadata": {},
     "output_type": "display_data"
    }
   ],
   "source": [
    "plt.figure(figsize=(16, 5))\n",
    "handles =[]\n",
    "c1, c2, c3 = sns.color_palette('Blues', 3)[::-1]\n",
    "plot_bars(df_hyper, -.2, 0.4, c1, c2 , c3)\n",
    "normal = df_hyper['normal_rows'].sum()\n",
    "general = df_hyper['general_rows'].sum()\n",
    "fallback = df_hyper['fallback_rows'].sum()\n",
    "handles += [(f'hyper (normal)    \\\\,\\\\,\\\\quad{normal:,} rows', c1),\n",
    "            (f'hyper (general)   \\\\,\\\\quad{general:,} rows', c2),\n",
    "            (f'hyper (fallback)  \\\\quad {fallback:,} rows', c3)]\n",
    "c1, c2, c3 = sns.color_palette('Reds', 3)[::-1]\n",
    "normal =   df_global['normal_rows'].sum()\n",
    "general =  df_global['general_rows'].sum()\n",
    "fallback = df_global['fallback_rows'].sum()\n",
    "handles += [(f'global (normal)   \\\\;\\\\,\\\\,\\\\,\\\\, {normal:,} rows', c1),\n",
    "            (f'global (general)  \\\\quad {general:,} rows', c2),\n",
    "            (f'global (fallback) \\\\quad\\; {fallback:,} rows', c3)]\n",
    "plot_bars(df_global, .2, 0.4, c1, c2, c3)\n",
    "xq = np.arange(len(df_hyper))\n",
    "plt.xticks(xq, df_hyper['year'])\n",
    "print('done')\n",
    "sns.despine()\n",
    "plt.ylabel('rows')\n",
    "plt.xlabel('year')\n",
    "\n",
    "plt.grid(axis='x')\n",
    "\n",
    "# https://matplotlib.org/3.1.1/tutorials/intermediate/legend_guide.html\n",
    "lgd_handles=[]\n",
    "for h in handles:\n",
    "    lgd_handles.append(Line2D([0], [0], marker='o', color='w', label=h[0],\n",
    "                        markerfacecolor=h[1], markersize=12))\n",
    "ax = plt.gca()\n",
    "ax.legend(loc='best', handles=lgd_handles, fontsize=20, handletextpad=0.05, facecolor='w', framealpha=1)\n",
    "\n",
    "def fmt(x, pos):\n",
    "    k = int(x / 10**3)\n",
    "    return  f'{k:,}' + 'k'\n",
    "\n",
    "ax.yaxis.set_major_locator(ticker.FixedLocator(np.arange(0, 10 ** 7, 0.5 * 10**6)))\n",
    "ax.yaxis.set_major_formatter(matplotlib.ticker.FuncFormatter(fmt))\n",
    "ax.tick_params(which = 'major', length = 25)\n",
    "\n",
    "plt.savefig('peryear_data_fullschema.pdf', transparent=True, bbox_inches = 'tight', pad_inches = 0)"
   ]
  },
  {
   "cell_type": "code",
   "execution_count": 110,
   "id": "63867c0c",
   "metadata": {},
   "outputs": [
    {
     "name": "stdout",
     "output_type": "stream",
     "text": [
      "done\n"
     ]
    },
    {
     "data": {
      "image/png": "[encoded data removed]",
      "text/plain": [
       "<Figure size 1152x360 with 1 Axes>"
      ]
     },
     "metadata": {},
     "output_type": "display_data"
    }
   ],
   "source": [
    "plt.figure(figsize=(16, 5))\n",
    "handles =[]\n",
    "c1, c2, c3 = sns.color_palette('Greens', 3)[::-1]\n",
    "mem_factor = 1024 * 1024\n",
    "mem_unit = 'MiB'\n",
    "plot_bars_mem(df_hyper, -.2, 0.4, mem_factor, c1, c2 , c3)\n",
    "normal = int(df_hyper['normal_mem'].sum() / mem_factor)\n",
    "general = int(df_hyper['general_mem'].sum() / mem_factor)\n",
    "fallback = int(df_hyper['fallback_mem'].sum() / mem_factor)\n",
    "handles += [(f'hyper (normal)    {normal:,} {mem_unit}', c1),\n",
    "            (f'hyper (general)   {general:,} {mem_unit}', c2),\n",
    "            (f'hyper (fallback)  {fallback:,} {mem_unit}', c3)]\n",
    "c1, c2, c3 = sns.color_palette('Greys', 3)[::-1]\n",
    "normal =   int(df_global['normal_mem'].sum() / mem_factor)\n",
    "general =  int(df_global['general_mem'].sum() / mem_factor)\n",
    "fallback = int(df_global['fallback_mem'].sum() / mem_factor)\n",
    "handles += [(f'global (normal)    {normal:,} {mem_unit}', c1),\n",
    "            (f'global (general)     {general:,} {mem_unit}', c2),\n",
    "            (f'global (fallback) {fallback:,} {mem_unit}', c3)]\n",
    "plot_bars_mem(df_global, .2, 0.4, mem_factor, c1, c2, c3)\n",
    "xq = np.arange(len(df_hyper))\n",
    "plt.xticks(xq, df_hyper['year'])\n",
    "print('done')\n",
    "sns.despine()\n",
    "plt.ylabel(mem_unit)\n",
    "plt.xlabel('year')\n",
    "\n",
    "plt.grid(axis='x')\n",
    "\n",
    "# https://matplotlib.org/3.1.1/tutorials/intermediate/legend_guide.html\n",
    "lgd_handles=[]\n",
    "for h in handles:\n",
    "    lgd_handles.append(Line2D([0], [0], marker='o', color='w', label=h[0],\n",
    "                        markerfacecolor=h[1], markersize=12))\n",
    "ax = plt.gca()\n",
    "ax.legend(loc='best', handles=lgd_handles, fontsize=20, handletextpad=0.05, facecolor='w', framealpha=1)\n",
    "plt.savefig('peryear_data_fullschema_memory.pdf', transparent=True, bbox_inches = 'tight', pad_inches = 0)"
   ]
  },
  {
   "cell_type": "code",
   "execution_count": 112,
   "id": "eedb8483",
   "metadata": {},
   "outputs": [
    {
     "name": "stdout",
     "output_type": "stream",
     "text": [
      "memory usage:: hyper 49405.7 MiB  global 65210.5 MiB\n",
      "memory usage:: hyper 48.2 GiB  global 63.7 GiB\n"
     ]
    }
   ],
   "source": [
    "# interpolation for full dataset (pretty off)\n",
    "hyper_total = df_hyper['normal_mem'].sum() + df_hyper['general_mem'].sum() + df_hyper['fallback_mem'].sum()\n",
    "global_total = df_global['normal_mem'].sum() + df_global['general_mem'].sum() + df_global['fallback_mem'].sum()\n",
    "\n",
    "print('memory usage:: hyper {:.1f} MiB  global {:.1f} MiB'.format(\n",
    "    hyper_total / mem_factor, global_total / mem_factor))\n",
    "\n",
    "print('memory usage:: hyper {:.1f} GiB  global {:.1f} GiB'.format(\n",
    "    hyper_total / (mem_factor * 1024), global_total / (mem_factor * 1024)))"
   ]
  },
  {
   "cell_type": "code",
   "execution_count": 115,
   "id": "8c2a7623",
   "metadata": {},
   "outputs": [
    {
     "name": "stdout",
     "output_type": "stream",
     "text": [
      "hyper reduced overall footprint by 24.23666043140702%\n"
     ]
    }
   ],
   "source": [
    "pct_reduction = 100.0 * (1.0 - hyper_total / global_total)\n",
    "print('hyper reduced overall footprint by {}%'.format(pct_reduction))"
   ]
  },
  {
   "cell_type": "code",
   "execution_count": null,
   "id": "e3dcff44",
   "metadata": {},
   "outputs": [],
   "source": [
    "# averages per row may be also interesting:\n",
    "\n",
    "print('encoding 1 row in normal   (hyper): {:.2f} Kib'.format(\n",
    "    df_hyper['normal_mem'].sum() / df_hyper['normal_rows'].sum() / 1024))\n",
    "print('encoding 1 row in general  (hyper): {:.2f} Kib'.format(\n",
    "    df_hyper['general_mem'].sum() / df_hyper['general_rows'].sum() / 1024))\n",
    "print('encoding 1 row in fallback (hyper): {:.2f} Kib'.format(\n",
    "    df_hyper['fallback_mem'].sum() / df_hyper['fallback_rows'].sum() / 1024))\n",
    "print('----')\n",
    "print('encoding 1 row in normal   (global): {:.2f} Kib'.format(\n",
    "    df_global['normal_mem'].sum() / df_global['normal_rows'].sum() / 1024))\n",
    "print('encoding 1 row in general  (global): {:.2f} Kib'.format(\n",
    "    df_global['general_mem'].sum() / df_global['general_rows'].sum() / 1024))\n",
    "print('encoding 1 row in fallback (global): {:.2f} Kib'.format(\n",
    "    df_global['fallback_mem'].sum() / df_global['fallback_rows'].sum() / 1024))"
   ]
  },
  {
   "cell_type": "code",
   "execution_count": null,
   "id": "f1acbd22",
   "metadata": {},
   "outputs": [],
   "source": []
  },
  {
   "cell_type": "code",
   "execution_count": null,
   "id": "fd2a90cc",
   "metadata": {},
   "outputs": [],
   "source": [
    "plt.plot(df_hyper['buf_size_compressed'] / mem_factor, 'o', label='compressed data size')\n",
    "plt.plot(df_hyper['buf_size_uncompressed'] / mem_factor, 'o', label='compressed data size')\n",
    "plt.xticks(xq, df_hyper['year'])\n",
    "sns.despine()\n",
    "plt.ylabel(mem_unit)\n",
    "plt.xlabel('year')\n",
    "\n",
    "plt.legend(loc='best')"
   ]
  },
  {
   "cell_type": "code",
   "execution_count": null,
   "id": "7906dab1",
   "metadata": {},
   "outputs": [],
   "source": [
    "# require filter promotion etc. to get a better fit? E.g., a restrictive filter on years 2015 and 2016 could do."
   ]
  },
  {
   "cell_type": "code",
   "execution_count": null,
   "id": "e1a18589",
   "metadata": {},
   "outputs": [],
   "source": [
    "# least complex normal-case\n",
    "sorted(list(df['normal_case'].values), key=len)[0]"
   ]
  },
  {
   "cell_type": "code",
   "execution_count": null,
   "id": "91d58480",
   "metadata": {},
   "outputs": [],
   "source": [
    "# most complex normal-case\n",
    "sorted(list(df['normal_case'].values), key=len)[-1]"
   ]
  },
  {
   "cell_type": "code",
   "execution_count": null,
   "id": "12df46fc",
   "metadata": {},
   "outputs": [],
   "source": [
    "# least complex general_case\n",
    "sorted(list(df['general_case'].values), key=len)[0]"
   ]
  },
  {
   "cell_type": "code",
   "execution_count": null,
   "id": "5444d89a",
   "metadata": {
    "scrolled": false
   },
   "outputs": [],
   "source": [
    "# most complex general_case\n",
    "sorted(list(df['general_case'].values), key=len)[-1]"
   ]
  },
  {
   "cell_type": "code",
   "execution_count": null,
   "id": "ee88244f",
   "metadata": {},
   "outputs": [],
   "source": [
    "df_global['normal_case'].iloc[0]"
   ]
  },
  {
   "cell_type": "code",
   "execution_count": null,
   "id": "b45f2ba6",
   "metadata": {},
   "outputs": [],
   "source": [
    "df_global['general_case'].iloc[0]"
   ]
  },
  {
   "cell_type": "code",
   "execution_count": null,
   "id": "eea40822",
   "metadata": {},
   "outputs": [],
   "source": [
    "df_hyper['total_rows']"
   ]
  },
  {
   "cell_type": "code",
   "execution_count": null,
   "id": "b6d11d90",
   "metadata": {},
   "outputs": [],
   "source": []
  },
  {
   "cell_type": "code",
   "execution_count": null,
   "id": "926fff42",
   "metadata": {},
   "outputs": [],
   "source": [
    "# -> prob. picks up the wrong normal-case/global case... -> selection routine may be off..."
   ]
  },
  {
   "cell_type": "markdown",
   "id": "7604da82",
   "metadata": {},
   "source": [
    "Improvements:\n",
    "    \n",
    "    - pick specific day (October 15th :P?)\n",
    "    - combine data for the day (so it's larger)\n",
    "    - rerun this experiment"
   ]
  },
  {
   "cell_type": "markdown",
   "id": "31e1e1d0",
   "metadata": {},
   "source": [
    "Observations: \n",
    "\n",
    "    -> why is there nearly no general-case matching in the global specialization case?"
   ]
  },
  {
   "cell_type": "markdown",
   "id": "011f8652",
   "metadata": {},
   "source": [
    "--> perform pushdown (PushEvent?)"
   ]
  },
  {
   "cell_type": "markdown",
   "id": "ad9a04f9",
   "metadata": {},
   "source": [
    "--> then map function"
   ]
  },
  {
   "cell_type": "markdown",
   "id": "96023a23",
   "metadata": {},
   "source": [
    "Struct[(str,'actor'->Struct[(str,'avatar_url'->str),(str,'display_login'=>str),(str,'gravatar_id'=>str),(str,'id'=>i64),(str,'login'=>str),(str,'url'->str)]),(str,'created_at'->str),(str,'id'=>str),(str,'org'=>Struct[(str,'avatar_url'->str),(str,'gravatar_id'->str),(str,'id'->i64),(str,'login'->str),(str,'url'->str)]),(str,'payload'->Struct[(str,'action'=>str),(str,'before'=>str),(str,'comment'=>Struct[(str,'_links'=>Struct[(str,'self'->Struct[(str,'href'->str)]),(str,'html'->Struct[(str,'href'->str)]),(str,'pull_request'->Struct[(str,'href'->str)])]),(str,'author_association'=>str),(str,'body'->str),(str,'commit_id'=>str),(str,'created_at'->str),(str,'diff_hunk'=>str),(str,'html_url'=>str),(str,'id'->i64),(str,'issue_url'=>str),(str,'line'=>Option[i64]),(str,'node_id'=>str),(str,'original_commit_id'=>str),(str,'original_position'=>i64),(str,'path'=>Option[str]),(str,'performed_via_github_app'=>null),(str,'position'=>Option[i64]),(str,'pull_request_url'=>str),(str,'updated_at'->str),(str,'url'->str),(str,'user'->Struct[(str,'avatar_url'->str),(str,'events_url'=>str),(str,'followers_url'=>str),(str,'following_url'=>str),(str,'gists_url'=>str),(str,'gravatar_id'->str),(str,'html_url'=>str),(str,'id'->i64),(str,'login'->str),(str,'node_id'=>str),(str,'organizations_url'=>str),(str,'received_events_url'=>str),(str,'repos_url'=>str),(str,'site_admin'=>boolean),(str,'starred_url'=>str),(str,'subscriptions_url'=>str),(str,'type'=>str),(str,'url'->str)])]),(str,'commits'=>List[Struct[(str,'author'->Struct[(str,'email'->str),(str,'name'->str)]),(str,'distinct'=>boolean),(str,'message'->str),(str,'sha'->str),(str,'url'->str)]]),(str,'desc'=>str),(str,'description'=>Option[str]),(str,'distinct_size'=>i64),(str,'download'=>Struct[(str,'created_at'->str),(str,'content_type'->str),(str,'name'->str),(str,'id'->i64),(str,'description'->str),(str,'html_url'->str),(str,'size'->i64),(str,'url'->str),(str,'download_count'->i64)]),(str,'forkee'=>Struct[(str,'archive_url'=>str),(str,'archived'=>boolean),(str,'assignees_url'=>str),(str,'blobs_url'=>str),(str,'branches_url'=>str),(str,'clone_url'->str),(str,'collaborators_url'=>str),(str,'comments_url'=>str),(str,'commits_url'=>str),(str,'compare_url'=>str),(str,'contents_url'=>str),(str,'contributors_url'=>str),(str,'created_at'->str),(str,'default_branch'=>str),(str,'deployments_url'=>str),(str,'description'->Option[str]),(str,'disabled'=>boolean),(str,'downloads_url'=>str),(str,'events_url'=>str),(str,'fork'->boolean),(str,'forks'->i64),(str,'forks_count'=>i64),(str,'forks_url'=>str),(str,'full_name'=>str),(str,'git_commits_url'=>str),(str,'git_refs_url'=>str),(str,'git_tags_url'=>str),(str,'git_url'->str),(str,'has_downloads'=>boolean),(str,'has_issues'=>boolean),(str,'has_pages'=>boolean),(str,'has_projects'=>boolean),(str,'has_wiki'=>boolean),(str,'homepage'->Option[str]),(str,'hooks_url'=>str),(str,'html_url'->str),(str,'id'->i64),(str,'issue_comment_url'=>str),(str,'issue_events_url'=>str),(str,'issues_url'=>str),(str,'keys_url'=>str),(str,'labels_url'=>str),(str,'language'->Option[str]),(str,'languages_url'=>str),(str,'license'=>Option[Struct[(str,'key'->str),(str,'name'->str),(str,'spdx_id'->str),(str,'url'->str),(str,'node_id'->str)]]),(str,'master_branch'=>null),(str,'merges_url'=>str),(str,'milestones_url'=>str),(str,'mirror_url'=>null),(str,'name'->str),(str,'node_id'=>str),(str,'notifications_url'=>str),(str,'open_issues'->i64),(str,'open_issues_count'=>i64),(str,'owner'->Struct[(str,'avatar_url'->str),(str,'events_url'=>str),(str,'followers_url'=>str),(str,'following_url'=>str),(str,'gists_url'=>str),(str,'gravatar_id'->str),(str,'html_url'=>str),(str,'id'->i64),(str,'login'->str),(str,'node_id'=>str),(str,'organizations_url'=>str),(str,'received_events_url'=>str),(str,'repos_url'=>str),(str,'site_admin'=>boolean),(str,'starred_url'=>str),(str,'subscriptions_url'=>str),(str,'type'=>str),(str,'url'->str)]),(str,'private'->boolean),(str,'public'->boolean),(str,'pulls_url'=>str),(str,'pushed_at'->str),(str,'releases_url'=>str),(str,'size'->i64),(str,'ssh_url'->str),(str,'stargazers_count'=>i64),(str,'stargazers_url'=>str),(str,'statuses_url'=>str),(str,'subscribers_url'=>str),(str,'subscription_url'=>str),(str,'svn_url'->str),(str,'tags_url'=>str),(str,'teams_url'=>str),(str,'trees_url'=>str),(str,'updated_at'->str),(str,'url'->str),(str,'watchers'->i64),(str,'watchers_count'=>i64)]),(str,'gist'=>Struct[(str,'comments'->i64),(str,'created_at'->str),(str,'description'->str),(str,'files'->{}),(str,'git_pull_url'->str),(str,'git_push_url'->str),(str,'html_url'->str),(str,'id'->str),(str,'public'->boolean),(str,'updated_at'->str),(str,'url'->str),(str,'user'->null)]),(str,'head'=>str),(str,'id'=>i64),(str,'issue'=>Struct[(str,'active_lock_reason'=>null),(str,'assignee'->Option[Struct[(str,'gravatar_id'->str),(str,'id'->i64),(str,'url'->str),(str,'login'->str),(str,'avatar_url'->str)]]),(str,'assignees'=>[]),(str,'author_association'=>str),(str,'body'->Option[str]),(str,'closed_at'->Option[str]),(str,'comments'->i64),(str,'comments_url'=>str),(str,'created_at'->str),(str,'events_url'=>str),(str,'html_url'->str),(str,'id'->i64),(str,'labels'->[]),(str,'labels_url'=>str),(str,'locked'=>boolean),(str,'milestone'->null),(str,'node_id'=>str),(str,'number'->i64),(str,'performed_via_github_app'=>null),(str,'pull_request'=>Struct[(str,'diff_url'->Option[str]),(str,'html_url'->Option[str]),(str,'patch_url'->Option[str]),(str,'url'=>str)]),(str,'repository_url'=>str),(str,'state'->str),(str,'title'->str),(str,'updated_at'->str),(str,'url'->str),(str,'user'->Struct[(str,'avatar_url'->str),(str,'events_url'=>str),(str,'followers_url'=>str),(str,'following_url'=>str),(str,'gists_url'=>str),(str,'gravatar_id'->str),(str,'html_url'=>str),(str,'id'->i64),(str,'login'->str),(str,'node_id'=>str),(str,'organizations_url'=>str),(str,'received_events_url'=>str),(str,'repos_url'=>str),(str,'site_admin'=>boolean),(str,'starred_url'=>str),(str,'subscriptions_url'=>str),(str,'type'=>str),(str,'url'->str)])]),(str,'master_branch'=>str),(str,'member'=>Struct[(str,'avatar_url'->str),(str,'events_url'=>str),(str,'followers_url'=>str),(str,'following_url'=>str),(str,'gists_url'=>str),(str,'gravatar_id'->str),(str,'html_url'=>str),(str,'id'->i64),(str,'login'->str),(str,'node_id'=>str),(str,'organizations_url'=>str),(str,'received_events_url'=>str),(str,'repos_url'=>str),(str,'site_admin'=>boolean),(str,'starred_url'=>str),(str,'subscriptions_url'=>str),(str,'type'=>str),(str,'url'->str)]),(str,'name'=>str),(str,'number'=>i64),(str,'pages'=>List[Struct[(str,'action'->str),(str,'html_url'->str),(str,'page_name'->str),(str,'sha'->str),(str,'summary'->null),(str,'title'->str)]]),(str,'pull_request'=>Struct[(str,'_links'->Struct[(str,'comments'->Struct[(str,'href'->str)]),(str,'commits'=>Struct[(str,'href'->str)]),(str,'html'->Struct[(str,'href'->str)]),(str,'issue'=>Struct[(str,'href'->str)]),(str,'review_comment'=>Struct[(str,'href'->str)]),(str,'review_comments'->Struct[(str,'href'->str)]),(str,'self'->Struct[(str,'href'->str)]),(str,'statuses'=>Struct[(str,'href'->str)])]),(str,'active_lock_reason'=>null),(str,'additions'=>i64),(str,'assignee'=>null),(str,'assignees'=>[]),(str,'author_association'=>str),(str,'auto_merge'=>null),(str,'base'->Struct[(str,'label'->str),(str,'ref'->str),(str,'repo'->Struct[(str,'archive_url'=>str),(str,'archived'=>boolean),(str,'assignees_url'=>str),(str,'blobs_url'=>str),(str,'branches_url'=>str),(str,'clone_url'->str),(str,'collaborators_url'=>str),(str,'comments_url'=>str),(str,'commits_url'=>str),(str,'compare_url'=>str),(str,'contents_url'=>str),(str,'contributors_url'=>str),(str,'created_at'->str),(str,'default_branch'=>str),(str,'deployments_url'=>str),(str,'description'->Option[str]),(str,'disabled'=>boolean),(str,'downloads_url'=>str),(str,'events_url'=>str),(str,'fork'->boolean),(str,'forks'->i64),(str,'forks_count'=>i64),(str,'forks_url'=>str),(str,'full_name'=>str),(str,'git_commits_url'=>str),(str,'git_refs_url'=>str),(str,'git_tags_url'=>str),(str,'git_url'->str),(str,'has_downloads'=>boolean),(str,'has_issues'=>boolean),(str,'has_pages'=>boolean),(str,'has_projects'=>boolean),(str,'has_wiki'=>boolean),(str,'homepage'->Option[str]),(str,'hooks_url'=>str),(str,'html_url'->str),(str,'id'->i64),(str,'issue_comment_url'=>str),(str,'issue_events_url'=>str),(str,'issues_url'=>str),(str,'keys_url'=>str),(str,'labels_url'=>str),(str,'language'->Option[str]),(str,'languages_url'=>str),(str,'license'=>Option[Struct[(str,'key'->str),(str,'name'->str),(str,'node_id'->str),(str,'spdx_id'->str),(str,'url'->Option[str])]]),(str,'master_branch'=>null),(str,'merges_url'=>str),(str,'milestones_url'=>str),(str,'mirror_url'=>null),(str,'name'->str),(str,'node_id'=>str),(str,'notifications_url'=>str),(str,'open_issues'->i64),(str,'open_issues_count'=>i64),(str,'owner'->Struct[(str,'avatar_url'->str),(str,'events_url'=>str),(str,'followers_url'=>str),(str,'following_url'=>str),(str,'gists_url'=>str),(str,'gravatar_id'->str),(str,'html_url'=>str),(str,'id'->i64),(str,'login'->str),(str,'node_id'=>str),(str,'organizations_url'=>str),(str,'received_events_url'=>str),(str,'repos_url'=>str),(str,'site_admin'=>boolean),(str,'starred_url'=>str),(str,'subscriptions_url'=>str),(str,'type'=>str),(str,'url'->str)]),(str,'private'->boolean),(str,'pulls_url'=>str),(str,'pushed_at'->str),(str,'releases_url'=>str),(str,'size'->i64),(str,'ssh_url'->str),(str,'stargazers_count'=>i64),(str,'stargazers_url'=>str),(str,'statuses_url'=>str),(str,'subscribers_url'=>str),(str,'subscription_url'=>str),(str,'svn_url'->str),(str,'tags_url'=>str),(str,'teams_url'=>str),(str,'trees_url'=>str),(str,'updated_at'->str),(str,'url'->str),(str,'watchers'->i64),(str,'watchers_count'=>i64)]),(str,'sha'->str),(str,'user'->Struct[(str,'avatar_url'->str),(str,'events_url'=>str),(str,'followers_url'=>str),(str,'following_url'=>str),(str,'gists_url'=>str),(str,'gravatar_id'->str),(str,'html_url'=>str),(str,'id'->i64),(str,'login'->str),(str,'node_id'=>str),(str,'organizations_url'=>str),(str,'received_events_url'=>str),(str,'repos_url'=>str),(str,'site_admin'=>boolean),(str,'starred_url'=>str),(str,'subscriptions_url'=>str),(str,'type'=>str),(str,'url'->str)])]),(str,'body'->Option[str]),(str,'changed_files'=>i64),(str,'closed_at'->Option[str]),(str,'comments'=>i64),(str,'comments_url'=>str),(str,'commits'=>i64),(str,'commits_url'=>str),(str,'created_at'->str),(str,'deletions'=>i64),(str,'diff_url'->str),(str,'draft'=>boolean),(str,'head'->Struct[(str,'label'->str),(str,'ref'->str),(str,'repo'->Struct[(str,'archive_url'=>str),(str,'archived'=>boolean),(str,'assignees_url'=>str),(str,'blobs_url'=>str),(str,'branches_url'=>str),(str,'clone_url'->str),(str,'collaborators_url'=>str),(str,'comments_url'=>str),(str,'commits_url'=>str),(str,'compare_url'=>str),(str,'contents_url'=>str),(str,'contributors_url'=>str),(str,'created_at'->str),(str,'default_branch'=>str),(str,'deployments_url'=>str),(str,'description'->Option[str]),(str,'disabled'=>boolean),(str,'downloads_url'=>str),(str,'events_url'=>str),(str,'fork'->boolean),(str,'forks'->i64),(str,'forks_count'=>i64),(str,'forks_url'=>str),(str,'full_name'=>str),(str,'git_commits_url'=>str),(str,'git_refs_url'=>str),(str,'git_tags_url'=>str),(str,'git_url'->str),(str,'has_downloads'=>boolean),(str,'has_issues'=>boolean),(str,'has_pages'=>boolean),(str,'has_projects'=>boolean),(str,'has_wiki'=>boolean),(str,'homepage'->Option[str]),(str,'hooks_url'=>str),(str,'html_url'->str),(str,'id'->i64),(str,'issue_comment_url'=>str),(str,'issue_events_url'=>str),(str,'issues_url'=>str),(str,'keys_url'=>str),(str,'labels_url'=>str),(str,'language'->Option[str]),(str,'languages_url'=>str),(str,'license'=>Option[Struct[(str,'key'->str),(str,'name'->str),(str,'node_id'->str),(str,'spdx_id'->str),(str,'url'->Option[str])]]),(str,'master_branch'=>null),(str,'merges_url'=>str),(str,'milestones_url'=>str),(str,'mirror_url'=>null),(str,'name'->str),(str,'node_id'=>str),(str,'notifications_url'=>str),(str,'open_issues'->i64),(str,'open_issues_count'=>i64),(str,'owner'->Struct[(str,'avatar_url'->str),(str,'events_url'=>str),(str,'followers_url'=>str),(str,'following_url'=>str),(str,'gists_url'=>str),(str,'gravatar_id'->str),(str,'html_url'=>str),(str,'id'->i64),(str,'login'->str),(str,'node_id'=>str),(str,'organizations_url'=>str),(str,'received_events_url'=>str),(str,'repos_url'=>str),(str,'site_admin'=>boolean),(str,'starred_url'=>str),(str,'subscriptions_url'=>str),(str,'type'=>str),(str,'url'->str)]),(str,'private'->boolean),(str,'pulls_url'=>str),(str,'pushed_at'->str),(str,'releases_url'=>str),(str,'size'->i64),(str,'ssh_url'->str),(str,'stargazers_count'=>i64),(str,'stargazers_url'=>str),(str,'statuses_url'=>str),(str,'subscribers_url'=>str),(str,'subscription_url'=>str),(str,'svn_url'->str),(str,'tags_url'=>str),(str,'teams_url'=>str),(str,'trees_url'=>str),(str,'updated_at'->str),(str,'url'->str),(str,'watchers'->i64),(str,'watchers_count'=>i64)]),(str,'sha'->str),(str,'user'->Struct[(str,'avatar_url'->str),(str,'events_url'=>str),(str,'followers_url'=>str),(str,'following_url'=>str),(str,'gists_url'=>str),(str,'gravatar_id'->str),(str,'html_url'=>str),(str,'id'->i64),(str,'login'->str),(str,'node_id'=>str),(str,'organizations_url'=>str),(str,'received_events_url'=>str),(str,'repos_url'=>str),(str,'site_admin'=>boolean),(str,'starred_url'=>str),(str,'subscriptions_url'=>str),(str,'type'=>str),(str,'url'->str)])]),(str,'html_url'->str),(str,'id'->i64),(str,'issue_url'->str),(str,'labels'=>[]),(str,'locked'=>boolean),(str,'maintainer_can_modify'=>boolean),(str,'merge_commit_sha'=>Option[str]),(str,'mergeable'=>null),(str,'mergeable_state'=>str),(str,'merged'=>boolean),(str,'merged_at'->Option[str]),(str,'merged_by'=>Option[Struct[(str,'avatar_url'->str),(str,'events_url'=>str),(str,'followers_url'=>str),(str,'following_url'=>str),(str,'gists_url'=>str),(str,'gravatar_id'->str),(str,'html_url'=>str),(str,'id'->i64),(str,'login'->str),(str,'node_id'=>str),(str,'organizations_url'=>str),(str,'received_events_url'=>str),(str,'repos_url'=>str),(str,'site_admin'=>boolean),(str,'starred_url'=>str),(str,'subscriptions_url'=>str),(str,'type'=>str),(str,'url'->str)]]),(str,'milestone'=>null),(str,'node_id'=>str),(str,'number'->i64),(str,'patch_url'->str),(str,'rebaseable'=>null),(str,'requested_reviewers'=>[]),(str,'requested_teams'=>[]),(str,'review_comment_url'=>str),(str,'review_comments'=>i64),(str,'review_comments_url'=>str),(str,'state'->str),(str,'statuses_url'=>str),(str,'title'->str),(str,'updated_at'->str),(str,'url'->str),(str,'user'->Struct[(str,'avatar_url'->str),(str,'events_url'=>str),(str,'followers_url'=>str),(str,'following_url'=>str),(str,'gists_url'=>str),(str,'gravatar_id'->str),(str,'html_url'=>str),(str,'id'->i64),(str,'login'->str),(str,'node_id'=>str),(str,'organizations_url'=>str),(str,'received_events_url'=>str),(str,'repos_url'=>str),(str,'site_admin'=>boolean),(str,'starred_url'=>str),(str,'subscriptions_url'=>str),(str,'type'=>str),(str,'url'->str)])]),(str,'push_id'=>i64),(str,'pusher_type'=>str),(str,'ref'=>Option[str]),(str,'ref_type'=>str),(str,'release'=>Struct[(str,'assets'->[]),(str,'assets_url'->str),(str,'author'->Struct[(str,'login'->str),(str,'id'->i64),(str,'node_id'->str),(str,'avatar_url'->str),(str,'gravatar_id'->str),(str,'url'->str),(str,'html_url'->str),(str,'followers_url'->str),(str,'following_url'->str),(str,'gists_url'->str),(str,'starred_url'->str),(str,'subscriptions_url'->str),(str,'organizations_url'->str),(str,'repos_url'->str),(str,'events_url'->str),(str,'received_events_url'->str),(str,'type'->str),(str,'site_admin'->boolean)]),(str,'body'->str),(str,'created_at'->str),(str,'draft'->boolean),(str,'html_url'->str),(str,'id'->i64),(str,'is_short_description_html_truncated'=>boolean),(str,'name'->str),(str,'node_id'->str),(str,'prerelease'->boolean),(str,'published_at'->str),(str,'short_description_html'=>null),(str,'tag_name'->str),(str,'tarball_url'->str),(str,'target_commitish'->str),(str,'upload_url'->str),(str,'url'->str),(str,'zipball_url'->str)]),(str,'review'=>Struct[(str,'id'->i64),(str,'node_id'->str),(str,'user'->Struct[(str,'login'->str),(str,'id'->i64),(str,'node_id'->str),(str,'avatar_url'->str),(str,'gravatar_id'->str),(str,'url'->str),(str,'html_url'->str),(str,'followers_url'->str),(str,'following_url'->str),(str,'gists_url'->str),(str,'starred_url'->str),(str,'subscriptions_url'->str),(str,'organizations_url'->str),(str,'repos_url'->str),(str,'events_url'->str),(str,'received_events_url'->str),(str,'type'->str),(str,'site_admin'->boolean)]),(str,'body'->str),(str,'commit_id'->str),(str,'submitted_at'->str),(str,'state'->str),(str,'html_url'->str),(str,'pull_request_url'->str),(str,'author_association'->str),(str,'_links'->Struct[(str,'html'->Struct[(str,'href'->str)]),(str,'pull_request'->Struct[(str,'href'->str)])])]),(str,'size'=>i64),(str,'target'=>Struct[(str,'avatar_url'->str),(str,'bio'->Option[str]),(str,'blog'->Option[str]),(str,'company'->Option[str]),(str,'created_at'->str),(str,'email'->Option[str]),(str,'followers'->i64),(str,'following'->i64),(str,'gravatar_id'->str),(str,'hireable'->boolean),(str,'html_url'->str),(str,'id'->i64),(str,'location'->Option[str]),(str,'login'->str),(str,'name'->str),(str,'public_gists'->i64),(str,'public_repos'->i64),(str,'type'->str),(str,'url'->str)]),(str,'url'=>str)]),(str,'public'->boolean),(str,'repo'=>Struct[(str,'id'=>i64),(str,'name'->str),(str,'url'->str)]),(str,'type'->str),(str,'url'=>str)]"
   ]
  },
  {
   "cell_type": "code",
   "execution_count": null,
   "id": "8ad9a89e",
   "metadata": {},
   "outputs": [],
   "source": []
  }
 ],
 "metadata": {
  "kernelspec": {
   "display_name": "Python 3",
   "language": "python",
   "name": "python3"
  },
  "language_info": {
   "codemirror_mode": {
    "name": "ipython",
    "version": 3
   },
   "file_extension": ".py",
   "mimetype": "text/x-python",
   "name": "python",
   "nbconvert_exporter": "python",
   "pygments_lexer": "ipython3",
   "version": "3.9.14"
  }
 },
 "nbformat": 4,
 "nbformat_minor": 5
}
