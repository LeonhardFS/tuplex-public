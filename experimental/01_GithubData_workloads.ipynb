{
 "cells": [
  {
   "cell_type": "markdown",
   "id": "6ff64cb0",
   "metadata": {},
   "source": [
    "## Github data\n",
    "We may be able to develop a benchmark based on Github data from https://www.gharchive.org/\n",
    "\n",
    "To download, use e.g.\n",
    "```\n",
    "\twget https://data.gharchive.org/2015-01-{01..31}-{0..23}.json.gz\n",
    "```"
   ]
  },
  {
   "cell_type": "code",
   "execution_count": 1,
   "id": "c25a3c76",
   "metadata": {},
   "outputs": [],
   "source": [
    "!mkdir -p data"
   ]
  },
  {
   "cell_type": "code",
   "execution_count": 5,
   "id": "11c19542",
   "metadata": {},
   "outputs": [
    {
     "name": "stdout",
     "output_type": "stream",
     "text": [
      "wget not found\n",
      "Updating Homebrew...\n",
      "\u001b[34m==>\u001b[0m \u001b[1mAuto-updated Homebrew!\u001b[0m\n",
      "Updated 1 tap (homebrew/core).\n",
      "\u001b[34m==>\u001b[0m \u001b[1mNew Formulae\u001b[0m\n",
      "all-repos                  git-svn                    libsigrok\n",
      "charmcraft                 gitlab-ci-local            ncnn\n",
      "copier                     jellyfish                  node@16\n",
      "\u001b[34m==>\u001b[0m \u001b[1mUpdated Formulae\u001b[0m\n",
      "Updated 1012 formulae.\n",
      "\n",
      "\u001b[34m==>\u001b[0m \u001b[1mDownloading https://ghcr.io/v2/homebrew/core/wget/manifests/1.21.2\u001b[0m\n",
      "######################################################################## 100.0%\n",
      "\u001b[34m==>\u001b[0m \u001b[1mDownloading https://ghcr.io/v2/homebrew/core/wget/blobs/sha256:7a8e6512e0890\u001b[0m\n",
      "\u001b[34m==>\u001b[0m \u001b[1mDownloading from https://pkg-containers.githubusercontent.com/ghcr1/blobs/sh\u001b[0m\n",
      "######################################################################## 100.0%\n",
      "\u001b[34m==>\u001b[0m \u001b[1mPouring wget--1.21.2.big_sur.bottle.tar.gz\u001b[0m\n",
      "🍺  /usr/local/Cellar/wget/1.21.2: 89 files, 4.2MB\n"
     ]
    }
   ],
   "source": [
    "!which wget || brew install wget"
   ]
  },
  {
   "cell_type": "code",
   "execution_count": 8,
   "id": "98f4bdad",
   "metadata": {},
   "outputs": [],
   "source": [
    "#!cd data && wget https://data.gharchive.org/2015-01-{01..31}-{0..23}.json.gz"
   ]
  },
  {
   "cell_type": "code",
   "execution_count": 7,
   "id": "173070c0",
   "metadata": {},
   "outputs": [],
   "source": [
    "# Analysis of files\n",
    "\n",
    "# -> how many fields?\n",
    "# -> data length?\n",
    "# max nested level?\n",
    "# shortest array length, longest array length?\n",
    "\n",
    "# for string pooling? ==> separate analysis"
   ]
  },
  {
   "cell_type": "code",
   "execution_count": 9,
   "id": "18c8647b",
   "metadata": {},
   "outputs": [],
   "source": [
    "def compute_statistics(path):\n",
    "    assert path.endswith('.gz')"
   ]
  },
  {
   "cell_type": "code",
   "execution_count": 16,
   "id": "1e9069ef",
   "metadata": {},
   "outputs": [],
   "source": [
    "import gzip\n",
    "import json\n",
    "\n",
    "path = 'data/2015-01-01-0.json.gz'\n",
    "\n",
    "fp = gzip.open(path, 'rb')\n",
    "lines = fp.readlines()\n",
    "lines = [json.loads(line) for line in lines]"
   ]
  },
  {
   "cell_type": "code",
   "execution_count": 17,
   "id": "51e089c2",
   "metadata": {},
   "outputs": [],
   "source": []
  },
  {
   "cell_type": "code",
   "execution_count": 18,
   "id": "b9d79cce",
   "metadata": {},
   "outputs": [
    {
     "data": {
      "text/plain": [
       "{'id': '2489368070',\n",
       " 'type': 'PushEvent',\n",
       " 'actor': {'id': 9152315,\n",
       "  'login': 'davidjhulse',\n",
       "  'gravatar_id': '',\n",
       "  'url': 'https://api.github.com/users/davidjhulse',\n",
       "  'avatar_url': 'https://avatars.githubusercontent.com/u/9152315?'},\n",
       " 'repo': {'id': 28635890,\n",
       "  'name': 'davidjhulse/davesbingrewardsbot',\n",
       "  'url': 'https://api.github.com/repos/davidjhulse/davesbingrewardsbot'},\n",
       " 'payload': {'push_id': 536740396,\n",
       "  'size': 1,\n",
       "  'distinct_size': 1,\n",
       "  'ref': 'refs/heads/master',\n",
       "  'head': 'a9b22a6d80c1e0bb49c1cf75a3c075b642c28f81',\n",
       "  'before': '86ffa724b4d70fce46e760f8cc080f5ec3d7d85f',\n",
       "  'commits': [{'sha': 'a9b22a6d80c1e0bb49c1cf75a3c075b642c28f81',\n",
       "    'author': {'email': 'da8d7d1118ca5befd4d0d3e4f449c76ba6f1ee7e@live.com',\n",
       "     'name': 'davidjhulse'},\n",
       "    'message': 'Altered BingBot.jar\\n\\nFixed issue with multiple account support',\n",
       "    'distinct': True,\n",
       "    'url': 'https://api.github.com/repos/davidjhulse/davesbingrewardsbot/commits/a9b22a6d80c1e0bb49c1cf75a3c075b642c28f81'}]},\n",
       " 'public': True,\n",
       " 'created_at': '2015-01-01T00:00:00Z'}"
      ]
     },
     "execution_count": 18,
     "metadata": {},
     "output_type": "execute_result"
    }
   ],
   "source": [
    "lines[0]"
   ]
  },
  {
   "cell_type": "code",
   "execution_count": 19,
   "id": "3266e431",
   "metadata": {},
   "outputs": [],
   "source": [
    "# create json stats\n",
    "obj = lines[0]"
   ]
  },
  {
   "cell_type": "code",
   "execution_count": 26,
   "id": "8a4ca3bd",
   "metadata": {},
   "outputs": [],
   "source": [
    "def json_stats(obj):\n",
    "    stats = {}\n",
    "\n",
    "    stats['keys'] = len(obj.keys())\n",
    "    stats['max_nesting'] = 0\n",
    "    stats['max_array_length'] = 0\n",
    "    \n",
    "    for k, v in obj.items():\n",
    "        if isinstance(v, dict):\n",
    "            sub_stats = json_stats(v)\n",
    "            \n",
    "            # combine stats\n",
    "            stats['keys'] += len(v.keys())\n",
    "            stats['max_nesting'] = 1 + sub_stats['max_nesting']\n",
    "            stats['max_array_length'] = max(sub_stats['max_array_length'], stats['max_array_length'])\n",
    "            \n",
    "        if isinstance(v, list):\n",
    "            stats['max_array_length'] = max(stats['max_array_length'], len(v))\n",
    "            for el in v:\n",
    "                if isinstance(v, dict):\n",
    "                    sub_stats = json_stats(v)\n",
    "                    \n",
    "                    # combine stats\n",
    "                    stats['keys'] += len(v.keys())\n",
    "                    stats['max_nesting'] = 1 + sub_stats['max_nesting']\n",
    "                    stats['max_array_length'] = max(sub_stats['max_array_length'], stats['max_array_length'])\n",
    "    \n",
    "    return stats"
   ]
  },
  {
   "cell_type": "code",
   "execution_count": 27,
   "id": "ad3980eb",
   "metadata": {},
   "outputs": [
    {
     "data": {
      "text/plain": [
       "{'keys': 22, 'max_nesting': 1, 'max_array_length': 1}"
      ]
     },
     "execution_count": 27,
     "metadata": {},
     "output_type": "execute_result"
    }
   ],
   "source": [
    "json_stats(obj)"
   ]
  },
  {
   "cell_type": "code",
   "execution_count": 30,
   "id": "34dd87c3",
   "metadata": {},
   "outputs": [],
   "source": [
    "from tqdm import tqdm"
   ]
  },
  {
   "cell_type": "code",
   "execution_count": 31,
   "id": "07551e2b",
   "metadata": {},
   "outputs": [
    {
     "name": "stderr",
     "output_type": "stream",
     "text": [
      "100%|███████████████████████████████████████████████| 7702/7702 [00:00<00:00, 58517.40it/s]\n"
     ]
    }
   ],
   "source": [
    "rows = []\n",
    "\n",
    "for line in tqdm(lines):\n",
    "    row = json_stats(line)\n",
    "    row['path'] = path\n",
    "    \n",
    "    rows.append(row)"
   ]
  },
  {
   "cell_type": "code",
   "execution_count": 40,
   "id": "4190716f",
   "metadata": {},
   "outputs": [],
   "source": [
    "import pandas as pd\n",
    "\n",
    "import matplotlib.pyplot as plt\n",
    "\n",
    "import seaborn as sns"
   ]
  },
  {
   "cell_type": "code",
   "execution_count": 36,
   "id": "85031a72",
   "metadata": {},
   "outputs": [],
   "source": [
    "df = pd.DataFrame(rows)"
   ]
  },
  {
   "cell_type": "code",
   "execution_count": 41,
   "id": "1967c8c6",
   "metadata": {},
   "outputs": [
    {
     "data": {
      "text/html": [
       "<div>\n",
       "<style scoped>\n",
       "    .dataframe tbody tr th:only-of-type {\n",
       "        vertical-align: middle;\n",
       "    }\n",
       "\n",
       "    .dataframe tbody tr th {\n",
       "        vertical-align: top;\n",
       "    }\n",
       "\n",
       "    .dataframe thead th {\n",
       "        text-align: right;\n",
       "    }\n",
       "</style>\n",
       "<table border=\"1\" class=\"dataframe\">\n",
       "  <thead>\n",
       "    <tr style=\"text-align: right;\">\n",
       "      <th></th>\n",
       "      <th>keys</th>\n",
       "      <th>max_nesting</th>\n",
       "      <th>max_array_length</th>\n",
       "      <th>path</th>\n",
       "    </tr>\n",
       "  </thead>\n",
       "  <tbody>\n",
       "    <tr>\n",
       "      <th>0</th>\n",
       "      <td>22</td>\n",
       "      <td>1</td>\n",
       "      <td>1</td>\n",
       "      <td>data/2015-01-01-0.json.gz</td>\n",
       "    </tr>\n",
       "    <tr>\n",
       "      <th>1</th>\n",
       "      <td>22</td>\n",
       "      <td>1</td>\n",
       "      <td>1</td>\n",
       "      <td>data/2015-01-01-0.json.gz</td>\n",
       "    </tr>\n",
       "    <tr>\n",
       "      <th>2</th>\n",
       "      <td>20</td>\n",
       "      <td>1</td>\n",
       "      <td>0</td>\n",
       "      <td>data/2015-01-01-0.json.gz</td>\n",
       "    </tr>\n",
       "    <tr>\n",
       "      <th>3</th>\n",
       "      <td>28</td>\n",
       "      <td>1</td>\n",
       "      <td>8</td>\n",
       "      <td>data/2015-01-01-0.json.gz</td>\n",
       "    </tr>\n",
       "    <tr>\n",
       "      <th>4</th>\n",
       "      <td>22</td>\n",
       "      <td>1</td>\n",
       "      <td>1</td>\n",
       "      <td>data/2015-01-01-0.json.gz</td>\n",
       "    </tr>\n",
       "    <tr>\n",
       "      <th>...</th>\n",
       "      <td>...</td>\n",
       "      <td>...</td>\n",
       "      <td>...</td>\n",
       "      <td>...</td>\n",
       "    </tr>\n",
       "    <tr>\n",
       "      <th>7697</th>\n",
       "      <td>17</td>\n",
       "      <td>3</td>\n",
       "      <td>0</td>\n",
       "      <td>data/2015-01-01-0.json.gz</td>\n",
       "    </tr>\n",
       "    <tr>\n",
       "      <th>7698</th>\n",
       "      <td>20</td>\n",
       "      <td>1</td>\n",
       "      <td>0</td>\n",
       "      <td>data/2015-01-01-0.json.gz</td>\n",
       "    </tr>\n",
       "    <tr>\n",
       "      <th>7699</th>\n",
       "      <td>22</td>\n",
       "      <td>1</td>\n",
       "      <td>0</td>\n",
       "      <td>data/2015-01-01-0.json.gz</td>\n",
       "    </tr>\n",
       "    <tr>\n",
       "      <th>7700</th>\n",
       "      <td>16</td>\n",
       "      <td>1</td>\n",
       "      <td>1</td>\n",
       "      <td>data/2015-01-01-0.json.gz</td>\n",
       "    </tr>\n",
       "    <tr>\n",
       "      <th>7701</th>\n",
       "      <td>22</td>\n",
       "      <td>1</td>\n",
       "      <td>1</td>\n",
       "      <td>data/2015-01-01-0.json.gz</td>\n",
       "    </tr>\n",
       "  </tbody>\n",
       "</table>\n",
       "<p>7702 rows × 4 columns</p>\n",
       "</div>"
      ],
      "text/plain": [
       "      keys  max_nesting  max_array_length                       path\n",
       "0       22            1                 1  data/2015-01-01-0.json.gz\n",
       "1       22            1                 1  data/2015-01-01-0.json.gz\n",
       "2       20            1                 0  data/2015-01-01-0.json.gz\n",
       "3       28            1                 8  data/2015-01-01-0.json.gz\n",
       "4       22            1                 1  data/2015-01-01-0.json.gz\n",
       "...    ...          ...               ...                        ...\n",
       "7697    17            3                 0  data/2015-01-01-0.json.gz\n",
       "7698    20            1                 0  data/2015-01-01-0.json.gz\n",
       "7699    22            1                 0  data/2015-01-01-0.json.gz\n",
       "7700    16            1                 1  data/2015-01-01-0.json.gz\n",
       "7701    22            1                 1  data/2015-01-01-0.json.gz\n",
       "\n",
       "[7702 rows x 4 columns]"
      ]
     },
     "execution_count": 41,
     "metadata": {},
     "output_type": "execute_result"
    }
   ],
   "source": [
    "df"
   ]
  },
  {
   "cell_type": "code",
   "execution_count": 43,
   "id": "96d98415",
   "metadata": {},
   "outputs": [
    {
     "data": {
      "text/plain": [
       "<matplotlib.collections.PathCollection at 0x127756d30>"
      ]
     },
     "execution_count": 43,
     "metadata": {},
     "output_type": "execute_result"
    },
    {
     "data": {
      "image/png": "[encoded data removed]",
      "text/plain": [
       "<Figure size 432x288 with 1 Axes>"
      ]
     },
     "metadata": {
      "needs_background": "light"
     },
     "output_type": "display_data"
    }
   ],
   "source": [
    "plt.scatter(df.index, df['max_nesting'])"
   ]
  },
  {
   "cell_type": "code",
   "execution_count": 44,
   "id": "336a19ef",
   "metadata": {},
   "outputs": [
    {
     "data": {
      "text/plain": [
       "<matplotlib.collections.PathCollection at 0x1349cb4c0>"
      ]
     },
     "execution_count": 44,
     "metadata": {},
     "output_type": "execute_result"
    },
    {
     "data": {
      "image/png": "[encoded data removed]",
      "text/plain": [
       "<Figure size 432x288 with 1 Axes>"
      ]
     },
     "metadata": {
      "needs_background": "light"
     },
     "output_type": "display_data"
    }
   ],
   "source": [
    "plt.scatter(df.index, df['max_array_length'])"
   ]
  },
  {
   "cell_type": "code",
   "execution_count": 45,
   "id": "394802e9",
   "metadata": {},
   "outputs": [
    {
     "data": {
      "text/plain": [
       "<matplotlib.collections.PathCollection at 0x1349f3640>"
      ]
     },
     "execution_count": 45,
     "metadata": {},
     "output_type": "execute_result"
    },
    {
     "data": {
      "image/png": "[encoded data removed]",
      "text/plain": [
       "<Figure size 432x288 with 1 Axes>"
      ]
     },
     "metadata": {
      "needs_background": "light"
     },
     "output_type": "display_data"
    }
   ],
   "source": [
    "plt.scatter(df.index, df['keys'])"
   ]
  },
  {
   "cell_type": "code",
   "execution_count": 48,
   "id": "bcef6083",
   "metadata": {},
   "outputs": [],
   "source": [
    "def analyze_path(path):\n",
    "    fp = gzip.open(path, 'rb')\n",
    "    lines = fp.readlines()\n",
    "    lines = [json.loads(line) for line in lines]\n",
    "    \n",
    "    rows = []\n",
    "    for i, line in enumerate(lines):\n",
    "        row = json_stats(line)\n",
    "        row['path'] = path\n",
    "        row['lineno'] = i\n",
    "        rows.append(row)\n",
    "    return pd.DataFrame(rows)"
   ]
  },
  {
   "cell_type": "code",
   "execution_count": 47,
   "id": "0152fc86",
   "metadata": {},
   "outputs": [],
   "source": [
    "import glob"
   ]
  },
  {
   "cell_type": "code",
   "execution_count": 51,
   "id": "47e1174c",
   "metadata": {},
   "outputs": [
    {
     "name": "stderr",
     "output_type": "stream",
     "text": [
      "100%|████████████████████████████████████████████████████| 742/742 [16:16<00:00,  1.32s/it]\n"
     ]
    }
   ],
   "source": [
    "df = pd.DataFrame()\n",
    "for path in tqdm(sorted(glob.glob('data/*.gz'))):\n",
    "    df = pd.concat((df, analyze_path(path)))"
   ]
  },
  {
   "cell_type": "code",
   "execution_count": 52,
   "id": "05fce1ee",
   "metadata": {},
   "outputs": [],
   "source": [
    "df.to_csv('analysis.csv', index=False)"
   ]
  },
  {
   "cell_type": "code",
   "execution_count": 57,
   "id": "e42dec57",
   "metadata": {},
   "outputs": [],
   "source": [
    "df_agg = df.groupby('path').agg(['min', 'max']).reset_index()"
   ]
  },
  {
   "cell_type": "code",
   "execution_count": 58,
   "id": "94bce5d1",
   "metadata": {},
   "outputs": [
    {
     "data": {
      "text/html": [
       "<div>\n",
       "<style scoped>\n",
       "    .dataframe tbody tr th:only-of-type {\n",
       "        vertical-align: middle;\n",
       "    }\n",
       "\n",
       "    .dataframe tbody tr th {\n",
       "        vertical-align: top;\n",
       "    }\n",
       "\n",
       "    .dataframe thead tr th {\n",
       "        text-align: left;\n",
       "    }\n",
       "</style>\n",
       "<table border=\"1\" class=\"dataframe\">\n",
       "  <thead>\n",
       "    <tr>\n",
       "      <th></th>\n",
       "      <th>path</th>\n",
       "      <th colspan=\"2\" halign=\"left\">keys</th>\n",
       "      <th colspan=\"2\" halign=\"left\">max_nesting</th>\n",
       "      <th colspan=\"2\" halign=\"left\">max_array_length</th>\n",
       "      <th colspan=\"2\" halign=\"left\">lineno</th>\n",
       "    </tr>\n",
       "    <tr>\n",
       "      <th></th>\n",
       "      <th></th>\n",
       "      <th>min</th>\n",
       "      <th>max</th>\n",
       "      <th>min</th>\n",
       "      <th>max</th>\n",
       "      <th>min</th>\n",
       "      <th>max</th>\n",
       "      <th>min</th>\n",
       "      <th>max</th>\n",
       "    </tr>\n",
       "  </thead>\n",
       "  <tbody>\n",
       "    <tr>\n",
       "      <th>0</th>\n",
       "      <td>data/2015-01-01-0.json.gz</td>\n",
       "      <td>15</td>\n",
       "      <td>28</td>\n",
       "      <td>1</td>\n",
       "      <td>4</td>\n",
       "      <td>0</td>\n",
       "      <td>20</td>\n",
       "      <td>0</td>\n",
       "      <td>7701</td>\n",
       "    </tr>\n",
       "    <tr>\n",
       "      <th>1</th>\n",
       "      <td>data/2015-01-01-1.json.gz</td>\n",
       "      <td>15</td>\n",
       "      <td>28</td>\n",
       "      <td>1</td>\n",
       "      <td>4</td>\n",
       "      <td>0</td>\n",
       "      <td>40</td>\n",
       "      <td>0</td>\n",
       "      <td>7426</td>\n",
       "    </tr>\n",
       "    <tr>\n",
       "      <th>2</th>\n",
       "      <td>data/2015-01-01-10.json.gz</td>\n",
       "      <td>15</td>\n",
       "      <td>28</td>\n",
       "      <td>1</td>\n",
       "      <td>4</td>\n",
       "      <td>0</td>\n",
       "      <td>20</td>\n",
       "      <td>0</td>\n",
       "      <td>7233</td>\n",
       "    </tr>\n",
       "    <tr>\n",
       "      <th>3</th>\n",
       "      <td>data/2015-01-01-11.json.gz</td>\n",
       "      <td>15</td>\n",
       "      <td>28</td>\n",
       "      <td>1</td>\n",
       "      <td>4</td>\n",
       "      <td>0</td>\n",
       "      <td>20</td>\n",
       "      <td>0</td>\n",
       "      <td>7386</td>\n",
       "    </tr>\n",
       "    <tr>\n",
       "      <th>4</th>\n",
       "      <td>data/2015-01-01-12.json.gz</td>\n",
       "      <td>15</td>\n",
       "      <td>28</td>\n",
       "      <td>1</td>\n",
       "      <td>4</td>\n",
       "      <td>0</td>\n",
       "      <td>20</td>\n",
       "      <td>0</td>\n",
       "      <td>8272</td>\n",
       "    </tr>\n",
       "    <tr>\n",
       "      <th>...</th>\n",
       "      <td>...</td>\n",
       "      <td>...</td>\n",
       "      <td>...</td>\n",
       "      <td>...</td>\n",
       "      <td>...</td>\n",
       "      <td>...</td>\n",
       "      <td>...</td>\n",
       "      <td>...</td>\n",
       "      <td>...</td>\n",
       "    </tr>\n",
       "    <tr>\n",
       "      <th>737</th>\n",
       "      <td>data/2015-01-31-5.json.gz</td>\n",
       "      <td>15</td>\n",
       "      <td>28</td>\n",
       "      <td>1</td>\n",
       "      <td>4</td>\n",
       "      <td>0</td>\n",
       "      <td>20</td>\n",
       "      <td>0</td>\n",
       "      <td>11015</td>\n",
       "    </tr>\n",
       "    <tr>\n",
       "      <th>738</th>\n",
       "      <td>data/2015-01-31-6.json.gz</td>\n",
       "      <td>15</td>\n",
       "      <td>28</td>\n",
       "      <td>1</td>\n",
       "      <td>4</td>\n",
       "      <td>0</td>\n",
       "      <td>20</td>\n",
       "      <td>0</td>\n",
       "      <td>10835</td>\n",
       "    </tr>\n",
       "    <tr>\n",
       "      <th>739</th>\n",
       "      <td>data/2015-01-31-7.json.gz</td>\n",
       "      <td>15</td>\n",
       "      <td>28</td>\n",
       "      <td>1</td>\n",
       "      <td>4</td>\n",
       "      <td>0</td>\n",
       "      <td>20</td>\n",
       "      <td>0</td>\n",
       "      <td>10850</td>\n",
       "    </tr>\n",
       "    <tr>\n",
       "      <th>740</th>\n",
       "      <td>data/2015-01-31-8.json.gz</td>\n",
       "      <td>15</td>\n",
       "      <td>28</td>\n",
       "      <td>1</td>\n",
       "      <td>4</td>\n",
       "      <td>0</td>\n",
       "      <td>20</td>\n",
       "      <td>0</td>\n",
       "      <td>10688</td>\n",
       "    </tr>\n",
       "    <tr>\n",
       "      <th>741</th>\n",
       "      <td>data/2015-01-31-9.json.gz</td>\n",
       "      <td>15</td>\n",
       "      <td>28</td>\n",
       "      <td>1</td>\n",
       "      <td>4</td>\n",
       "      <td>0</td>\n",
       "      <td>20</td>\n",
       "      <td>0</td>\n",
       "      <td>11655</td>\n",
       "    </tr>\n",
       "  </tbody>\n",
       "</table>\n",
       "<p>742 rows × 9 columns</p>\n",
       "</div>"
      ],
      "text/plain": [
       "                           path keys     max_nesting     max_array_length      \\\n",
       "                                 min max         min max              min max   \n",
       "0     data/2015-01-01-0.json.gz   15  28           1   4                0  20   \n",
       "1     data/2015-01-01-1.json.gz   15  28           1   4                0  40   \n",
       "2    data/2015-01-01-10.json.gz   15  28           1   4                0  20   \n",
       "3    data/2015-01-01-11.json.gz   15  28           1   4                0  20   \n",
       "4    data/2015-01-01-12.json.gz   15  28           1   4                0  20   \n",
       "..                          ...  ...  ..         ...  ..              ...  ..   \n",
       "737   data/2015-01-31-5.json.gz   15  28           1   4                0  20   \n",
       "738   data/2015-01-31-6.json.gz   15  28           1   4                0  20   \n",
       "739   data/2015-01-31-7.json.gz   15  28           1   4                0  20   \n",
       "740   data/2015-01-31-8.json.gz   15  28           1   4                0  20   \n",
       "741   data/2015-01-31-9.json.gz   15  28           1   4                0  20   \n",
       "\n",
       "    lineno         \n",
       "       min    max  \n",
       "0        0   7701  \n",
       "1        0   7426  \n",
       "2        0   7233  \n",
       "3        0   7386  \n",
       "4        0   8272  \n",
       "..     ...    ...  \n",
       "737      0  11015  \n",
       "738      0  10835  \n",
       "739      0  10850  \n",
       "740      0  10688  \n",
       "741      0  11655  \n",
       "\n",
       "[742 rows x 9 columns]"
      ]
     },
     "execution_count": 58,
     "metadata": {},
     "output_type": "execute_result"
    }
   ],
   "source": [
    "df_agg"
   ]
  },
  {
   "cell_type": "code",
   "execution_count": 59,
   "id": "162dd61a",
   "metadata": {},
   "outputs": [
    {
     "data": {
      "text/plain": [
       "<matplotlib.collections.PathCollection at 0x1391912e0>"
      ]
     },
     "execution_count": 59,
     "metadata": {},
     "output_type": "execute_result"
    },
    {
     "data": {
      "image/png": "[encoded data removed]",
      "text/plain": [
       "<Figure size 432x288 with 1 Axes>"
      ]
     },
     "metadata": {
      "needs_background": "light"
     },
     "output_type": "display_data"
    }
   ],
   "source": [
    "plt.scatter(df_agg.index, df_agg[('keys', 'max')])"
   ]
  },
  {
   "cell_type": "code",
   "execution_count": 60,
   "id": "fd968230",
   "metadata": {},
   "outputs": [
    {
     "data": {
      "text/plain": [
       "<matplotlib.collections.PathCollection at 0x1394485b0>"
      ]
     },
     "execution_count": 60,
     "metadata": {},
     "output_type": "execute_result"
    },
    {
     "data": {
      "image/png": "[encoded data removed]",
      "text/plain": [
       "<Figure size 432x288 with 1 Axes>"
      ]
     },
     "metadata": {
      "needs_background": "light"
     },
     "output_type": "display_data"
    }
   ],
   "source": [
    "plt.scatter(df_agg.index, df_agg[('keys', 'min')])"
   ]
  },
  {
   "cell_type": "code",
   "execution_count": 61,
   "id": "f9835878",
   "metadata": {},
   "outputs": [
    {
     "data": {
      "text/plain": [
       "<matplotlib.collections.PathCollection at 0x138768160>"
      ]
     },
     "execution_count": 61,
     "metadata": {},
     "output_type": "execute_result"
    },
    {
     "data": {
      "image/png": "[encoded data removed]",
      "text/plain": [
       "<Figure size 432x288 with 1 Axes>"
      ]
     },
     "metadata": {
      "needs_background": "light"
     },
     "output_type": "display_data"
    }
   ],
   "source": [
    "plt.scatter(df_agg.index, df_agg[('max_array_length', 'min')])"
   ]
  },
  {
   "cell_type": "code",
   "execution_count": 62,
   "id": "708162a1",
   "metadata": {},
   "outputs": [
    {
     "data": {
      "text/plain": [
       "<matplotlib.collections.PathCollection at 0x13846d5e0>"
      ]
     },
     "execution_count": 62,
     "metadata": {},
     "output_type": "execute_result"
    },
    {
     "data": {
      "image/png": "[encoded data removed]",
      "text/plain": [
       "<Figure size 432x288 with 1 Axes>"
      ]
     },
     "metadata": {
      "needs_background": "light"
     },
     "output_type": "display_data"
    }
   ],
   "source": [
    "plt.scatter(df_agg.index, df_agg[('max_array_length', 'max')])"
   ]
  },
  {
   "cell_type": "code",
   "execution_count": null,
   "id": "c0b5b1ef",
   "metadata": {},
   "outputs": [],
   "source": []
  },
  {
   "cell_type": "code",
   "execution_count": null,
   "id": "8de1cae8",
   "metadata": {},
   "outputs": [],
   "source": []
  },
  {
   "cell_type": "markdown",
   "id": "eb3367ab",
   "metadata": {},
   "source": [
    "Q: Which keys occur in which rows? Do all keys occur in all rows?"
   ]
  },
  {
   "cell_type": "code",
   "execution_count": null,
   "id": "4121adf7",
   "metadata": {},
   "outputs": [],
   "source": []
  },
  {
   "cell_type": "code",
   "execution_count": null,
   "id": "9f2e6abd",
   "metadata": {},
   "outputs": [],
   "source": []
  }
 ],
 "metadata": {
  "kernelspec": {
   "display_name": "Python 3 (ipykernel)",
   "language": "python",
   "name": "python3"
  },
  "language_info": {
   "codemirror_mode": {
    "name": "ipython",
    "version": 3
   },
   "file_extension": ".py",
   "mimetype": "text/x-python",
   "name": "python",
   "nbconvert_exporter": "python",
   "pygments_lexer": "ipython3",
   "version": "3.9.7"
  }
 },
 "nbformat": 4,
 "nbformat_minor": 5
}
