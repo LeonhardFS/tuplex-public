{
 "cells": [
  {
   "cell_type": "code",
   "execution_count": 8,
   "id": "80b634ec",
   "metadata": {},
   "outputs": [],
   "source": [
    "import boto3\n",
    "import subprocess\n",
    "import shlex\n",
    "import json\n",
    "\n",
    "def run_command(cmd):\n",
    "    args = shlex.split(cmd)\n",
    "    p = subprocess.run(args, capture_output=True)\n",
    "    \n",
    "    # parse in, check whether ret code is wrong -> throw exception\n",
    "    if 0 != p.returncode:\n",
    "        raise Exception('Process failed: {}'.format(p.stderr.decode()))\n",
    "        \n",
    "    # return stdout\n",
    "    return p.stdout.decode()\n",
    "\n",
    "def run_awscli(cmd):\n",
    "    return json.loads(run_command(cmd))"
   ]
  },
  {
   "cell_type": "code",
   "execution_count": 9,
   "id": "512b3927",
   "metadata": {},
   "outputs": [
    {
     "data": {
      "text/plain": [
       "{'applications': [{'id': '00eublscuhvnu609',\n",
       "   'name': 'emr-zillow',\n",
       "   'arn': 'arn:aws:emr-serverless:us-east-1:587583095482:/applications/00eublscuhvnu609',\n",
       "   'releaseLabel': 'emr-6.5.0-preview',\n",
       "   'type': 'SPARK',\n",
       "   'state': 'CREATED',\n",
       "   'stateDetails': '',\n",
       "   'createdAt': 1643650052.768,\n",
       "   'updatedAt': 1643650053.761}]}"
      ]
     },
     "execution_count": 9,
     "metadata": {},
     "output_type": "execute_result"
    }
   ],
   "source": [
    "run_awscli('aws emr-serverless list-applications')"
   ]
  },
  {
   "cell_type": "code",
   "execution_count": null,
   "id": "efc35d3d",
   "metadata": {},
   "outputs": [],
   "source": []
  }
 ],
 "metadata": {
  "kernelspec": {
   "display_name": "Python 3",
   "language": "python",
   "name": "python3"
  },
  "language_info": {
   "codemirror_mode": {
    "name": "ipython",
    "version": 3
   },
   "file_extension": ".py",
   "mimetype": "text/x-python",
   "name": "python",
   "nbconvert_exporter": "python",
   "pygments_lexer": "ipython3",
   "version": "3.9.9"
  }
 },
 "nbformat": 4,
 "nbformat_minor": 5
}
