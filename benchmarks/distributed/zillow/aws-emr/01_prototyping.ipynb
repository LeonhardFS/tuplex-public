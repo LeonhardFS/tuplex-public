{
 "cells": [
  {
   "cell_type": "code",
   "execution_count": 8,
   "id": "4da0fb2e",
   "metadata": {},
   "outputs": [],
   "source": [
    "import boto3\n",
    "import subprocess\n",
    "import shlex\n",
    "import json\n",
    "\n",
    "def run_command(cmd):\n",
    "    args = shlex.split(cmd)\n",
    "    p = subprocess.run(args, capture_output=True)\n",
    "    \n",
    "    # parse in, check whether ret code is wrong -> throw exception\n",
    "    if 0 != p.returncode:\n",
    "        raise Exception('Process failed: {}'.format(p.stderr.decode()))\n",
    "        \n",
    "    # return stdout\n",
    "    return p.stdout.decode()\n",
    "\n",
    "def run_awscli(cmd):\n",
    "    return json.loads(run_command(cmd))"
   ]
  },
  {
   "cell_type": "code",
   "execution_count": 9,
   "id": "8a6ecbab",
   "metadata": {},
   "outputs": [
    {
     "data": {
      "text/plain": [
       "{'applications': [{'id': '00eublscuhvnu609',\n",
       "   'name': 'emr-zillow',\n",
       "   'arn': 'arn:aws:emr-serverless:us-east-1:587583095482:/applications/00eublscuhvnu609',\n",
       "   'releaseLabel': 'emr-6.5.0-preview',\n",
       "   'type': 'SPARK',\n",
       "   'state': 'CREATED',\n",
       "   'stateDetails': '',\n",
       "   'createdAt': 1643650052.768,\n",
       "   'updatedAt': 1643650053.761}]}"
      ]
     },
     "execution_count": 9,
     "metadata": {},
     "output_type": "execute_result"
    }
   ],
   "source": [
    "run_awscli('aws emr-serverless list-applications')"
   ]
  },
  {
   "cell_type": "markdown",
   "id": "c5cf4c43",
   "metadata": {},
   "source": [
    "https://docs.aws.amazon.com/emr/latest/EMR-Serverless-UserGuide/getting-started.html"
   ]
  },
  {
   "cell_type": "code",
   "execution_count": 10,
   "id": "ae5b3e66",
   "metadata": {},
   "outputs": [],
   "source": [
    "# create bucket"
   ]
  },
  {
   "cell_type": "markdown",
   "id": "f529e6b6",
   "metadata": {},
   "source": [
    "```\n",
    "aws emr-serverless start-job-run \\\n",
    "    --application-id <application_id> \\\n",
    "    --execution-role-arn <execution_role_arn> \\\n",
    "    --job-driver '{\n",
    "        \"sparkSubmit\": {\n",
    "            \"entryPoint\": \"s3://us-east-1.elasticmapreduce/emr-containers/samples/wordcount/scripts/wordcount.py\",\n",
    "            \"entryPointArguments\": [\"s3://DOC-EXAMPLE-BUCKET/output\"],\n",
    "            \"sparkSubmitParameters\": \"--conf spark.executor.cores=1 --conf spark.executor.memory=4g --conf spark.driver.cores=1 --conf spark.driver.memory=4g --conf spark.executor.instances=1\"\n",
    "        }\n",
    "    }' \\\n",
    "    --configuration-overrides '{\n",
    "        \"monitoringConfiguration\": {\n",
    "           \"s3MonitoringConfiguration\": {\n",
    "             \"logUri\": \"s3://DOC-EXAMPLE-BUCKET/logs\"\n",
    "           }\n",
    "        }\n",
    "    }'\n",
    "```\n",
    "    \n",
    "\n",
    "```\n",
    "aws emr-serverless get-job-run \\\n",
    "--application-id <application_id> \\\n",
    "--job-run-id <job_run_id>\n",
    "```"
   ]
  },
  {
   "cell_type": "code",
   "execution_count": 12,
   "id": "0deba9eb",
   "metadata": {},
   "outputs": [],
   "source": [
    "s3 = boto3.client('s3')"
   ]
  },
  {
   "cell_type": "code",
   "execution_count": 13,
   "id": "da38063f",
   "metadata": {},
   "outputs": [
    {
     "data": {
      "text/plain": [
       "{'ResponseMetadata': {'RequestId': 'N1Y4MANRQ0EYP0GB',\n",
       "  'HostId': 'We4oYC5JWNlfo+Cd5c9QqgcFi00ONPPF0hmXLRX367w9xGyvGQ6uo9Z57PeVsVe2c9ZL4xcCxMU=',\n",
       "  'HTTPStatusCode': 200,\n",
       "  'HTTPHeaders': {'x-amz-id-2': 'We4oYC5JWNlfo+Cd5c9QqgcFi00ONPPF0hmXLRX367w9xGyvGQ6uo9Z57PeVsVe2c9ZL4xcCxMU=',\n",
       "   'x-amz-request-id': 'N1Y4MANRQ0EYP0GB',\n",
       "   'date': 'Mon, 31 Jan 2022 20:34:40 GMT',\n",
       "   'content-type': 'application/xml',\n",
       "   'transfer-encoding': 'chunked',\n",
       "   'server': 'AmazonS3'},\n",
       "  'RetryAttempts': 0},\n",
       " 'Buckets': [{'Name': 'aws-deepracer-3f4fbafa-e09c-412c-8491-baeb4b0bffb7',\n",
       "   'CreationDate': datetime.datetime(2020, 3, 2, 22, 55, 55, tzinfo=tzutc())},\n",
       "  {'Name': 'bbsn00',\n",
       "   'CreationDate': datetime.datetime(2020, 3, 16, 14, 12, 58, tzinfo=tzutc())},\n",
       "  {'Name': 'bmwcpo',\n",
       "   'CreationDate': datetime.datetime(2019, 3, 4, 17, 32, 42, tzinfo=tzutc())},\n",
       "  {'Name': 'pywren-leonhard',\n",
       "   'CreationDate': datetime.datetime(2021, 11, 22, 19, 54, 24, tzinfo=tzutc())},\n",
       "  {'Name': 'results-leonhard',\n",
       "   'CreationDate': datetime.datetime(2021, 11, 24, 19, 19, 30, tzinfo=tzutc())},\n",
       "  {'Name': 'tuplex',\n",
       "   'CreationDate': datetime.datetime(2019, 6, 13, 19, 11, 45, tzinfo=tzutc())},\n",
       "  {'Name': 'tuplex-leonhard',\n",
       "   'CreationDate': datetime.datetime(2021, 11, 3, 20, 3, 5, tzinfo=tzutc())},\n",
       "  {'Name': 'tuplex-public',\n",
       "   'CreationDate': datetime.datetime(2019, 12, 4, 20, 54, 34, tzinfo=tzutc())},\n",
       "  {'Name': 'tuplex-test',\n",
       "   'CreationDate': datetime.datetime(2021, 3, 2, 16, 23, 26, tzinfo=tzutc())}],\n",
       " 'Owner': {'DisplayName': 'leonhard_spiegelberg',\n",
       "  'ID': '2d5e91c935a63056054873f9e30267db0e59a56efe2c296d423298f04ee296dd'}}"
      ]
     },
     "execution_count": 13,
     "metadata": {},
     "output_type": "execute_result"
    }
   ],
   "source": [
    "s3.list_buckets()"
   ]
  },
  {
   "cell_type": "code",
   "execution_count": 18,
   "id": "fe545f42",
   "metadata": {},
   "outputs": [],
   "source": [
    "emr_bucket = 'serverless-emr'"
   ]
  },
  {
   "cell_type": "code",
   "execution_count": 25,
   "id": "7f4b100b",
   "metadata": {},
   "outputs": [
    {
     "name": "stdout",
     "output_type": "stream",
     "text": [
      "usage: \r",
      "Note: AWS CLI version 2, the latest major version of the AWS CLI, is now stable and recommended for general use. For more information, see the AWS CLI version 2 installation instructions at: https://docs.aws.amazon.com/cli/latest/userguide/install-cliv2.html\r\n",
      "\r\n",
      "usage: aws [options] <command> <subcommand> [<subcommand> ...] [parameters]\r\n",
      "To see help text, you can run:\r\n",
      "\r\n",
      "  aws help\r\n",
      "  aws <command> help\r\n",
      "  aws <command> <subcommand> help\r\n",
      "aws: error: the following arguments are required: --application-id\r\n"
     ]
    }
   ],
   "source": [
    "!aws emr-serverless start-application --application-id '00eublscuhvnu609'\n",
    "\n",
    "# then need to wait till application is started\n",
    "!aws emr-serverless get-application --application-id '00eublscuhvnu609'"
   ]
  },
  {
   "cell_type": "code",
   "execution_count": 26,
   "id": "1cc6e6ea",
   "metadata": {},
   "outputs": [
    {
     "ename": "SyntaxError",
     "evalue": "invalid syntax (<ipython-input-26-8a738b112381>, line 2)",
     "output_type": "error",
     "traceback": [
      "\u001b[0;36m  File \u001b[0;32m\"<ipython-input-26-8a738b112381>\"\u001b[0;36m, line \u001b[0;32m2\u001b[0m\n\u001b[0;31m    aws emr-serverless get-application --application-id '00eublscuhvnu609' | jq '.\"application\".\"state\"'\u001b[0m\n\u001b[0m        ^\u001b[0m\n\u001b[0;31mSyntaxError\u001b[0m\u001b[0;31m:\u001b[0m invalid syntax\n"
     ]
    }
   ],
   "source": [
    "# start of application takes a while...\n",
    "aws emr-serverless get-application --application-id '00eublscuhvnu609' | jq '.\"application\".\"state\"'"
   ]
  },
  {
   "cell_type": "code",
   "execution_count": 23,
   "id": "67767407",
   "metadata": {},
   "outputs": [
    {
     "ename": "IndentationError",
     "evalue": "unindent does not match any outer indentation level (<tokenize>, line 7)",
     "output_type": "error",
     "traceback": [
      "\u001b[0;36m  File \u001b[0;32m\"<tokenize>\"\u001b[0;36m, line \u001b[0;32m7\u001b[0m\n\u001b[0;31m    }' \\\u001b[0m\n\u001b[0m    ^\u001b[0m\n\u001b[0;31mIndentationError\u001b[0m\u001b[0;31m:\u001b[0m unindent does not match any outer indentation level\n"
     ]
    }
   ],
   "source": [
    "!aws emr-serverless start-job-run \\\n",
    "    --application-id '00eublscuhvnu609' \\\n",
    "    --execution-role-arn 'arn:aws:iam::587583095482:role/emrExecutionRole' \\\n",
    "    --job-driver '{\n",
    "        \"sparkSubmit\": {\n",
    "            \"entryPoint\": \"s3://us-east-1.elasticmapreduce/emr-containers/samples/wordcount/scripts/wordcount.py\",\n",
    "            \"entryPointArguments\": [\"s3://serverless-emr/wordcount/output\"],\n",
    "            \"sparkSubmitParameters\": \"--conf spark.executor.cores=1 --conf spark.executor.memory=4g --conf spark.driver.cores=1 --conf spark.driver.memory=4g --conf spark.executor.instances=1\"\n",
    "        }\n",
    "    }' \\\n",
    "    --configuration-overrides '{\n",
    "        \"monitoringConfiguration\": {\n",
    "           \"s3MonitoringConfiguration\": {\n",
    "             \"logUri\": \"s3://serverless-emr/wordcount/logs\"\n",
    "           }\n",
    "        }\n",
    "    }'"
   ]
  },
  {
   "cell_type": "code",
   "execution_count": 27,
   "id": "16c57b5b",
   "metadata": {},
   "outputs": [
    {
     "data": {
      "text/plain": [
       "'00eubpcad7ceub01'"
      ]
     },
     "execution_count": 27,
     "metadata": {},
     "output_type": "execute_result"
    }
   ],
   "source": [
    "\"00eubpcad7ceub01\""
   ]
  },
  {
   "cell_type": "code",
   "execution_count": 29,
   "id": "036efa3a",
   "metadata": {},
   "outputs": [
    {
     "name": "stdout",
     "output_type": "stream",
     "text": [
      "{\r\n",
      "    \"jobRun\": {\r\n",
      "        \"applicationId\": \"00eublscuhvnu609\",\r\n",
      "        \"jobRunId\": \"00eubpcad7ceub01\",\r\n",
      "        \"arn\": \"arn:aws:emr-serverless:us-east-1:587583095482:/applications/00eublscuhvnu609/jobruns/00eubpcad7ceub01\",\r\n",
      "        \"createdBy\": \"arn:aws:iam::587583095482:user/Leonhard\",\r\n",
      "        \"createdAt\": 1643661788.49,\r\n",
      "        \"updatedAt\": 1643661794.339,\r\n",
      "        \"executionRole\": \"arn:aws:iam::587583095482:role/emrExecutionRole\",\r\n",
      "        \"state\": \"FAILED\",\r\n",
      "        \"stateDetails\": \"\",\r\n",
      "        \"releaseLabel\": \"emr-6.5.0-preview\",\r\n",
      "        \"configurationOverrides\": {\r\n",
      "            \"monitoringConfiguration\": {\r\n",
      "                \"s3MonitoringConfiguration\": {\r\n",
      "                    \"logUri\": \"s3://serverless-emr/wordcount/logs\"\r\n",
      "                }\r\n",
      "            }\r\n",
      "        },\r\n",
      "        \"jobDriver\": {\r\n",
      "            \"sparkSubmit\": {\r\n",
      "                \"entryPoint\": \"s3://us-east-1.elasticmapreduce/emr-containers/samples/wordcount/scripts/wordcount.py\",\r\n",
      "                \"entryPointArguments\": [\r\n",
      "                    \"s3://serverless-emr/wordcount/output\"\r\n",
      "                ],\r\n",
      "                \"sparkSubmitParameters\": \"--conf spark.executor.cores=1 --conf spark.executor.memory=4g --conf spark.driver.cores=1 --conf spark.driver.memory=4g --conf spark.executor.instances=1\"\r\n",
      "            }\r\n",
      "        }\r\n",
      "    }\r\n",
      "}\r\n"
     ]
    }
   ],
   "source": [
    "!aws emr-serverless get-job-run \\\n",
    "    --application-id '00eublscuhvnu609' \\\n",
    "    --job-run-id \"00eubpcad7ceub01\""
   ]
  },
  {
   "cell_type": "code",
   "execution_count": null,
   "id": "f253b760",
   "metadata": {},
   "outputs": [],
   "source": []
  },
  {
   "cell_type": "code",
   "execution_count": 21,
   "id": "dc3c22f2",
   "metadata": {},
   "outputs": [
    {
     "name": "stdout",
     "output_type": "stream",
     "text": [
      "arn:aws:iam::587583095482:role/emrExecutionRole\r\n"
     ]
    }
   ],
   "source": [
    "!aws iam get-role --role-name emrExecutionRole | jq -r '.\"Role\".\"Arn\"'"
   ]
  },
  {
   "cell_type": "code",
   "execution_count": null,
   "id": "c83d027d",
   "metadata": {},
   "outputs": [],
   "source": []
  }
 ],
 "metadata": {
  "kernelspec": {
   "display_name": "Python 3",
   "language": "python",
   "name": "python3"
  },
  "language_info": {
   "codemirror_mode": {
    "name": "ipython",
    "version": 3
   },
   "file_extension": ".py",
   "mimetype": "text/x-python",
   "name": "python",
   "nbconvert_exporter": "python",
   "pygments_lexer": "ipython3",
   "version": "3.9.9"
  }
 },
 "nbformat": 4,
 "nbformat_minor": 5
}
