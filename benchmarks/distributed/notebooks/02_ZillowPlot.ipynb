{
 "cells": [
  {
   "cell_type": "code",
   "execution_count": 1,
   "id": "445436f7",
   "metadata": {},
   "outputs": [],
   "source": [
    "import pandas as pd\n",
    "import matplotlib.pyplot as plt\n",
    "import seaborn as sns\n",
    "import tarfile\n",
    "import os\n",
    "import re\n",
    "import json"
   ]
  },
  {
   "cell_type": "code",
   "execution_count": 2,
   "id": "15ea4d31",
   "metadata": {},
   "outputs": [],
   "source": [
    "if not os.path.isdir('results'):\n",
    "    os.system('tar xf z1_distributed.tar.gz')"
   ]
  },
  {
   "cell_type": "code",
   "execution_count": 3,
   "id": "8201851a",
   "metadata": {},
   "outputs": [],
   "source": [
    "root_path='results/zillow/Z1/'\n",
    "paths = sorted(list(map(lambda p: os.path.join(root_path, p), os.listdir(root_path))))"
   ]
  },
  {
   "cell_type": "code",
   "execution_count": 4,
   "id": "97c77599",
   "metadata": {},
   "outputs": [
    {
     "data": {
      "text/plain": [
       "['results/zillow/Z1/aws-emr-run-1.log.txt',\n",
       " 'results/zillow/Z1/aws-emr-run-1.txt',\n",
       " 'results/zillow/Z1/aws-emr-run-1.txt.stderr',\n",
       " 'results/zillow/Z1/aws-emr-run-10.log.txt',\n",
       " 'results/zillow/Z1/aws-emr-run-10.txt',\n",
       " 'results/zillow/Z1/aws-emr-run-10.txt.stderr',\n",
       " 'results/zillow/Z1/aws-emr-run-11.log.txt',\n",
       " 'results/zillow/Z1/aws-emr-run-11.txt',\n",
       " 'results/zillow/Z1/aws-emr-run-11.txt.stderr',\n",
       " 'results/zillow/Z1/aws-emr-run-2.log.txt',\n",
       " 'results/zillow/Z1/aws-emr-run-2.txt',\n",
       " 'results/zillow/Z1/aws-emr-run-2.txt.stderr',\n",
       " 'results/zillow/Z1/aws-emr-run-3.log.txt',\n",
       " 'results/zillow/Z1/aws-emr-run-3.txt',\n",
       " 'results/zillow/Z1/aws-emr-run-3.txt.stderr',\n",
       " 'results/zillow/Z1/aws-emr-run-4.log.txt',\n",
       " 'results/zillow/Z1/aws-emr-run-4.txt',\n",
       " 'results/zillow/Z1/aws-emr-run-4.txt.stderr',\n",
       " 'results/zillow/Z1/aws-emr-run-5.log.txt',\n",
       " 'results/zillow/Z1/aws-emr-run-5.txt',\n",
       " 'results/zillow/Z1/aws-emr-run-5.txt.stderr',\n",
       " 'results/zillow/Z1/aws-emr-run-6.log.txt',\n",
       " 'results/zillow/Z1/aws-emr-run-6.txt',\n",
       " 'results/zillow/Z1/aws-emr-run-6.txt.stderr',\n",
       " 'results/zillow/Z1/aws-emr-run-7.log.txt',\n",
       " 'results/zillow/Z1/aws-emr-run-7.txt',\n",
       " 'results/zillow/Z1/aws-emr-run-7.txt.stderr',\n",
       " 'results/zillow/Z1/aws-emr-run-8.log.txt',\n",
       " 'results/zillow/Z1/aws-emr-run-8.txt',\n",
       " 'results/zillow/Z1/aws-emr-run-8.txt.stderr',\n",
       " 'results/zillow/Z1/aws-emr-run-9.log.txt',\n",
       " 'results/zillow/Z1/aws-emr-run-9.txt',\n",
       " 'results/zillow/Z1/aws-emr-run-9.txt.stderr',\n",
       " 'results/zillow/Z1/pywren-run-1.txt',\n",
       " 'results/zillow/Z1/pywren-run-1.txt.stderr',\n",
       " 'results/zillow/Z1/pywren-run-10.txt',\n",
       " 'results/zillow/Z1/pywren-run-10.txt.stderr',\n",
       " 'results/zillow/Z1/pywren-run-11.txt',\n",
       " 'results/zillow/Z1/pywren-run-11.txt.stderr',\n",
       " 'results/zillow/Z1/pywren-run-2.txt',\n",
       " 'results/zillow/Z1/pywren-run-2.txt.stderr',\n",
       " 'results/zillow/Z1/pywren-run-3.txt',\n",
       " 'results/zillow/Z1/pywren-run-3.txt.stderr',\n",
       " 'results/zillow/Z1/pywren-run-4.txt',\n",
       " 'results/zillow/Z1/pywren-run-4.txt.stderr',\n",
       " 'results/zillow/Z1/pywren-run-5.txt',\n",
       " 'results/zillow/Z1/pywren-run-5.txt.stderr',\n",
       " 'results/zillow/Z1/pywren-run-6.txt',\n",
       " 'results/zillow/Z1/pywren-run-6.txt.stderr',\n",
       " 'results/zillow/Z1/pywren-run-7.txt',\n",
       " 'results/zillow/Z1/pywren-run-7.txt.stderr',\n",
       " 'results/zillow/Z1/pywren-run-8.txt',\n",
       " 'results/zillow/Z1/pywren-run-8.txt.stderr',\n",
       " 'results/zillow/Z1/pywren-run-9.txt',\n",
       " 'results/zillow/Z1/pywren-run-9.txt.stderr',\n",
       " 'results/zillow/Z1/tuplex-compiled-run-1.log.txt',\n",
       " 'results/zillow/Z1/tuplex-compiled-run-1.txt',\n",
       " 'results/zillow/Z1/tuplex-compiled-run-1.txt.stderr',\n",
       " 'results/zillow/Z1/tuplex-compiled-run-10.log.txt',\n",
       " 'results/zillow/Z1/tuplex-compiled-run-10.txt',\n",
       " 'results/zillow/Z1/tuplex-compiled-run-10.txt.stderr',\n",
       " 'results/zillow/Z1/tuplex-compiled-run-11.log.txt',\n",
       " 'results/zillow/Z1/tuplex-compiled-run-11.txt',\n",
       " 'results/zillow/Z1/tuplex-compiled-run-11.txt.stderr',\n",
       " 'results/zillow/Z1/tuplex-compiled-run-2.log.txt',\n",
       " 'results/zillow/Z1/tuplex-compiled-run-2.txt',\n",
       " 'results/zillow/Z1/tuplex-compiled-run-2.txt.stderr',\n",
       " 'results/zillow/Z1/tuplex-compiled-run-3.log.txt',\n",
       " 'results/zillow/Z1/tuplex-compiled-run-3.txt',\n",
       " 'results/zillow/Z1/tuplex-compiled-run-3.txt.stderr',\n",
       " 'results/zillow/Z1/tuplex-compiled-run-4.log.txt',\n",
       " 'results/zillow/Z1/tuplex-compiled-run-4.txt',\n",
       " 'results/zillow/Z1/tuplex-compiled-run-4.txt.stderr',\n",
       " 'results/zillow/Z1/tuplex-compiled-run-5.log.txt',\n",
       " 'results/zillow/Z1/tuplex-compiled-run-5.txt',\n",
       " 'results/zillow/Z1/tuplex-compiled-run-5.txt.stderr',\n",
       " 'results/zillow/Z1/tuplex-compiled-run-6.log.txt',\n",
       " 'results/zillow/Z1/tuplex-compiled-run-6.txt',\n",
       " 'results/zillow/Z1/tuplex-compiled-run-6.txt.stderr',\n",
       " 'results/zillow/Z1/tuplex-compiled-run-7.log.txt',\n",
       " 'results/zillow/Z1/tuplex-compiled-run-7.txt',\n",
       " 'results/zillow/Z1/tuplex-compiled-run-7.txt.stderr',\n",
       " 'results/zillow/Z1/tuplex-compiled-run-8.log.txt',\n",
       " 'results/zillow/Z1/tuplex-compiled-run-8.txt',\n",
       " 'results/zillow/Z1/tuplex-compiled-run-8.txt.stderr',\n",
       " 'results/zillow/Z1/tuplex-compiled-run-9.log.txt',\n",
       " 'results/zillow/Z1/tuplex-compiled-run-9.txt',\n",
       " 'results/zillow/Z1/tuplex-compiled-run-9.txt.stderr',\n",
       " 'results/zillow/Z1/tuplex-interpreted-run-1.log.txt',\n",
       " 'results/zillow/Z1/tuplex-interpreted-run-1.txt',\n",
       " 'results/zillow/Z1/tuplex-interpreted-run-1.txt.stderr',\n",
       " 'results/zillow/Z1/tuplex-interpreted-run-10.log.txt',\n",
       " 'results/zillow/Z1/tuplex-interpreted-run-10.txt',\n",
       " 'results/zillow/Z1/tuplex-interpreted-run-10.txt.stderr',\n",
       " 'results/zillow/Z1/tuplex-interpreted-run-11.log.txt',\n",
       " 'results/zillow/Z1/tuplex-interpreted-run-11.txt',\n",
       " 'results/zillow/Z1/tuplex-interpreted-run-11.txt.stderr',\n",
       " 'results/zillow/Z1/tuplex-interpreted-run-2.log.txt',\n",
       " 'results/zillow/Z1/tuplex-interpreted-run-2.txt',\n",
       " 'results/zillow/Z1/tuplex-interpreted-run-2.txt.stderr',\n",
       " 'results/zillow/Z1/tuplex-interpreted-run-3.log.txt',\n",
       " 'results/zillow/Z1/tuplex-interpreted-run-3.txt',\n",
       " 'results/zillow/Z1/tuplex-interpreted-run-3.txt.stderr',\n",
       " 'results/zillow/Z1/tuplex-interpreted-run-4.log.txt',\n",
       " 'results/zillow/Z1/tuplex-interpreted-run-4.txt',\n",
       " 'results/zillow/Z1/tuplex-interpreted-run-4.txt.stderr',\n",
       " 'results/zillow/Z1/tuplex-interpreted-run-5.log.txt',\n",
       " 'results/zillow/Z1/tuplex-interpreted-run-5.txt',\n",
       " 'results/zillow/Z1/tuplex-interpreted-run-5.txt.stderr',\n",
       " 'results/zillow/Z1/tuplex-interpreted-run-6.log.txt',\n",
       " 'results/zillow/Z1/tuplex-interpreted-run-6.txt',\n",
       " 'results/zillow/Z1/tuplex-interpreted-run-6.txt.stderr',\n",
       " 'results/zillow/Z1/tuplex-interpreted-run-7.log.txt',\n",
       " 'results/zillow/Z1/tuplex-interpreted-run-7.txt',\n",
       " 'results/zillow/Z1/tuplex-interpreted-run-7.txt.stderr',\n",
       " 'results/zillow/Z1/tuplex-interpreted-run-8.log.txt',\n",
       " 'results/zillow/Z1/tuplex-interpreted-run-8.txt',\n",
       " 'results/zillow/Z1/tuplex-interpreted-run-8.txt.stderr',\n",
       " 'results/zillow/Z1/tuplex-interpreted-run-9.log.txt',\n",
       " 'results/zillow/Z1/tuplex-interpreted-run-9.txt',\n",
       " 'results/zillow/Z1/tuplex-interpreted-run-9.txt.stderr']"
      ]
     },
     "execution_count": 4,
     "metadata": {},
     "output_type": "execute_result"
    }
   ],
   "source": [
    "paths"
   ]
  },
  {
   "cell_type": "code",
   "execution_count": 5,
   "id": "02696e3c",
   "metadata": {
    "scrolled": true
   },
   "outputs": [
    {
     "name": "stdout",
     "output_type": "stream",
     "text": [
      "2022-02-04 03:23:34,554:INFO: Running experiment with 120 concurrency, 10000MB Lambda memory, mode=compiled\r\n",
      "2022-02-04 03:23:34,632:INFO: Tuplex startup time: 0.07747244834899902\r\n",
      "2022-02-04 03:23:48,602:INFO: Tuplex job time: 13.969614505767822 s\r\n",
      "2022-02-04 03:23:48,602:INFO: {\"startupTime\": 0.07747244834899902, \"jobTime\": 13.969614505767822}\r\n",
      "2022-02-04 03:23:48,602:INFO: options={'tuplex.useLLVMOptimizer': True, 'tuplex.autoUpcast': False, 'tuplex.allowUndefinedBehavior': False, 'tuplex.optimizer.codeStats': False, 'tuplex.optimizer.generateParser': False, 'tuplex.optimizer.nullValueOptimization': False, 'tuplex.optimizer.filterPushdown': True, 'tuplex.optimizer.sharedObjectPropagation': True, 'tuplex.optimizer.mergeExceptionsInOrder': True, 'tuplex.optimizer.operatorReordering': False, 'tuplex.interleaveIO': True, 'tuplex.resolveWithInterpreterOnly': False, 'tuplex.network.verifySSL': False, 'tuplex.redirectToPythonLogging': False, 'tuplex.csv.selectionPushdown': True, 'tuplex.webui.enable': False, 'tuplex.executorCount': 1, 'tuplex.csv.maxDetectionRows': 10000, 'tuplex.webui.port': 5000, 'tuplex.webui.mongodb.port': 27017, 'tuplex.webui.exceptionDisplayLimit': 5, 'tuplex.aws.requestTimeout': 890, 'tuplex.aws.connectTimeout': 30, 'tuplex.aws.maxConcurrency': 120, 'tuplex.aws.httpThreadCount': 120, 'tuplex.aws.lambdaMemory': 10000, 'tuplex.aws.lambdaTimeout': 600, 'tuplex.aws.requesterPay': True, 'tuplex.normalcaseThreshold': 0.9, 'tuplex.optionalThreshold': 0.7, 'tuplex.aws.lambdaInvocationStrategy': 'direct', 'tuplex.aws.lambdaInvokeOthers': 'true', 'tuplex.aws.lambdaThreads': '4', 'tuplex.aws.region': 'us-east-1', 'tuplex.aws.scratchDir': '', 'tuplex.backend': 'lambda', 'tuplex.csv.comments': ['#', '~'], 'tuplex.csv.maxDetectionMemory': '256KB', 'tuplex.csv.quotechar': '\"', 'tuplex.csv.separators': [',', ';', '|', '\\t'], 'tuplex.driverMemory': '2G', 'tuplex.env.hostname': 'ip-172-31-0-195.ec2.internal', 'tuplex.env.mode': 'file', 'tuplex.env.user': 'ubuntu', 'tuplex.executorMemory': '2G', 'tuplex.inputSplitSize': '64MB', 'tuplex.logDir': '.', 'tuplex.network.caFile': '', 'tuplex.network.caPath': '', 'tuplex.partitionSize': '32MB', 'tuplex.readBufferSize': '128KB', 'tuplex.runTimeLibrary': '/home/ubuntu/.local/lib/python3.8/site-packages/tuplex/libexec/tuplex_runtime.cpython-38-x86_64-linux-gnu.so', 'tuplex.runTimeMemory': '128MB', 'tuplex.runTimeMemoryBlockSize': '4MB', 'tuplex.scratchDir': 's3://tuplex-leonhard/scratch', 'tuplex.useInterpreterOnly': 'false', 'tuplex.webui.mongodb.path': '/tmp/tuplex-cache-ubuntu/mongodb', 'tuplex.webui.mongodb.url': 'localhost', 'tuplex.webui.url': 'localhost'}\r\n",
      "2022-02-04 03:23:48,602:INFO: metrics={\"logical_optimization_time_s\":0.0103432,\"llvm_optimization_time_s\":0,\"llvm_compilation_time_s\":0,\"total_compilation_time_s\":0,\"sampling_time_s\":0.241757,\"stages\":[]}\r\n",
      "2022-02-04 03:23:48,602:INFO: conf={\"backend\": \"lambda\", \"scratchDir\": \"s3://tuplex-leonhard/scratch\", \"aws.httpThreadCount\": 120, \"aws.requestTimeout\": 890, \"aws.connectTimeout\": 30, \"aws.maxConcurrency\": 120, \"aws.lambdaThreads\": 4, \"aws.requesterPay\": true, \"aws.lambdaMemory\": 10000, \"useInterpreterOnly\": false, \"webui.enable\": false, \"executorCount\": 1, \"executorMemory\": \"2G\", \"driverMemory\": \"2G\", \"partitionSize\": \"32MB\", \"runTimeMemory\": \"128MB\", \"useLLVMOptimizer\": true, \"optimizer.nullValueOptimization\": false, \"csv.selectionPushdown\": true}\r\n"
     ]
    }
   ],
   "source": [
    "!tail 'results/zillow/Z1/tuplex-compiled-run-3.txt.stderr'"
   ]
  },
  {
   "cell_type": "code",
   "execution_count": 6,
   "id": "845e67ca",
   "metadata": {},
   "outputs": [
    {
     "name": "stdout",
     "output_type": "stream",
     "text": [
      ">>> bad file: results/zillow/Z1/aws-emr-run-9.txt.stderr\n"
     ]
    }
   ],
   "source": [
    "rows = []\n",
    "\n",
    "for path in paths:\n",
    "    try:\n",
    "        if 'aws-emr' in path and path.endswith('txt.stderr'):\n",
    "            line = open(path, 'r').readlines()[-2]\n",
    "\n",
    "            m = re.search(r'run-(\\d+)', path)\n",
    "            run = int(m[1])\n",
    "\n",
    "            m = re.search(r'(\\d+.\\d+)s', line)\n",
    "            job_time = float(m[1])\n",
    "\n",
    "            rows.append({'framework' : 'aws-emr', 'job_time' : job_time, 'run': run})\n",
    "\n",
    "        elif 'pywren' in path and path.endswith('.txt'):\n",
    "            data = json.load(open(path, 'r'))\n",
    "\n",
    "            m = re.search(r'run-(\\d+)', path)\n",
    "            run = int(m[1])\n",
    "\n",
    "            job_time = data['job_time']\n",
    "\n",
    "            rows.append({'framework' : 'pywren', 'job_time' : job_time, 'run': run})\n",
    "        elif 'tuplex' in path and path.endswith('txt.stderr'):\n",
    "            # extract name -> tuplex-compiled or tuplex-interpreted\n",
    "            fw = 'tuplex-compiled' if 'tuplex-compiled' in path else 'tuplex-interpreted'\n",
    "\n",
    "            line = list(filter(lambda line: '\"jobTime\":' in line, open(path, 'r').readlines()))[0]\n",
    "            line = line[line.find('{'):]\n",
    "            data = json.loads(line)\n",
    "\n",
    "            m = re.search(r'run-(\\d+)', path)\n",
    "            run = int(m[1])\n",
    "\n",
    "            job_time = data['jobTime']\n",
    "\n",
    "            rows.append({'framework' : fw, 'job_time' : job_time, 'run': run})\n",
    "    except Exception as e:\n",
    "        print('>>> bad file: ' + path)\n"
   ]
  },
  {
   "cell_type": "code",
   "execution_count": 7,
   "id": "1daddb53",
   "metadata": {},
   "outputs": [],
   "source": [
    "df = pd.DataFrame(rows).sort_values(by='job_time').reset_index(drop=True)"
   ]
  },
  {
   "cell_type": "code",
   "execution_count": 8,
   "id": "7e66677d",
   "metadata": {},
   "outputs": [
    {
     "data": {
      "image/png": "[encoded data removed]",
      "text/plain": [
       "<Figure size 720x360 with 1 Axes>"
      ]
     },
     "metadata": {
      "needs_background": "light"
     },
     "output_type": "display_data"
    }
   ],
   "source": [
    "plt.figure(figsize=(10, 5))\n",
    "sns.barplot(data=df, y='framework', x = 'job_time', capsize=.1)\n",
    "#sns.boxplot(data=df, x='framework', y = 'job_time')\n",
    "# plt.yscale('log')\n",
    "plt.grid(axis='x')\n",
    "sns.despine()"
   ]
  },
  {
   "cell_type": "code",
   "execution_count": 9,
   "id": "9d6fa64d",
   "metadata": {},
   "outputs": [],
   "source": [
    "df.to_csv('zillow_Z1_distributed.csv', index=None)"
   ]
  },
  {
   "cell_type": "code",
   "execution_count": 10,
   "id": "dea2e6d2",
   "metadata": {},
   "outputs": [
    {
     "data": {
      "text/html": [
       "<div>\n",
       "<style scoped>\n",
       "    .dataframe tbody tr th:only-of-type {\n",
       "        vertical-align: middle;\n",
       "    }\n",
       "\n",
       "    .dataframe tbody tr th {\n",
       "        vertical-align: top;\n",
       "    }\n",
       "\n",
       "    .dataframe thead tr th {\n",
       "        text-align: left;\n",
       "    }\n",
       "\n",
       "    .dataframe thead tr:last-of-type th {\n",
       "        text-align: right;\n",
       "    }\n",
       "</style>\n",
       "<table border=\"1\" class=\"dataframe\">\n",
       "  <thead>\n",
       "    <tr>\n",
       "      <th></th>\n",
       "      <th colspan=\"8\" halign=\"left\">job_time</th>\n",
       "    </tr>\n",
       "    <tr>\n",
       "      <th></th>\n",
       "      <th>count</th>\n",
       "      <th>mean</th>\n",
       "      <th>std</th>\n",
       "      <th>min</th>\n",
       "      <th>25%</th>\n",
       "      <th>50%</th>\n",
       "      <th>75%</th>\n",
       "      <th>max</th>\n",
       "    </tr>\n",
       "    <tr>\n",
       "      <th>framework</th>\n",
       "      <th></th>\n",
       "      <th></th>\n",
       "      <th></th>\n",
       "      <th></th>\n",
       "      <th></th>\n",
       "      <th></th>\n",
       "      <th></th>\n",
       "      <th></th>\n",
       "    </tr>\n",
       "  </thead>\n",
       "  <tbody>\n",
       "    <tr>\n",
       "      <th>tuplex-compiled</th>\n",
       "      <td>11.0</td>\n",
       "      <td>16.480847</td>\n",
       "      <td>1.907574</td>\n",
       "      <td>13.969615</td>\n",
       "      <td>14.787935</td>\n",
       "      <td>16.181465</td>\n",
       "      <td>18.165119</td>\n",
       "      <td>19.093873</td>\n",
       "    </tr>\n",
       "    <tr>\n",
       "      <th>pywren</th>\n",
       "      <td>11.0</td>\n",
       "      <td>68.511083</td>\n",
       "      <td>6.482510</td>\n",
       "      <td>63.548484</td>\n",
       "      <td>65.613988</td>\n",
       "      <td>65.802774</td>\n",
       "      <td>66.391986</td>\n",
       "      <td>81.541633</td>\n",
       "    </tr>\n",
       "    <tr>\n",
       "      <th>tuplex-interpreted</th>\n",
       "      <td>11.0</td>\n",
       "      <td>728.394932</td>\n",
       "      <td>283.467165</td>\n",
       "      <td>363.383731</td>\n",
       "      <td>576.344713</td>\n",
       "      <td>692.594272</td>\n",
       "      <td>758.291702</td>\n",
       "      <td>1302.954115</td>\n",
       "    </tr>\n",
       "    <tr>\n",
       "      <th>aws-emr</th>\n",
       "      <td>10.0</td>\n",
       "      <td>3972.866671</td>\n",
       "      <td>364.216276</td>\n",
       "      <td>3751.066321</td>\n",
       "      <td>3820.890856</td>\n",
       "      <td>3894.968917</td>\n",
       "      <td>3901.943772</td>\n",
       "      <td>4995.993513</td>\n",
       "    </tr>\n",
       "  </tbody>\n",
       "</table>\n",
       "</div>"
      ],
      "text/plain": [
       "                   job_time                                        \\\n",
       "                      count         mean         std          min   \n",
       "framework                                                           \n",
       "tuplex-compiled        11.0    16.480847    1.907574    13.969615   \n",
       "pywren                 11.0    68.511083    6.482510    63.548484   \n",
       "tuplex-interpreted     11.0   728.394932  283.467165   363.383731   \n",
       "aws-emr                10.0  3972.866671  364.216276  3751.066321   \n",
       "\n",
       "                                                                        \n",
       "                            25%          50%          75%          max  \n",
       "framework                                                               \n",
       "tuplex-compiled       14.787935    16.181465    18.165119    19.093873  \n",
       "pywren                65.613988    65.802774    66.391986    81.541633  \n",
       "tuplex-interpreted   576.344713   692.594272   758.291702  1302.954115  \n",
       "aws-emr             3820.890856  3894.968917  3901.943772  4995.993513  "
      ]
     },
     "execution_count": 10,
     "metadata": {},
     "output_type": "execute_result"
    }
   ],
   "source": [
    "df[['framework', 'job_time']].groupby('framework').describe().sort_values(by=('job_time', 'mean'))"
   ]
  },
  {
   "cell_type": "code",
   "execution_count": 18,
   "id": "c80d839d",
   "metadata": {},
   "outputs": [],
   "source": [
    "latex = df[['framework', 'job_time']].groupby('framework').describe().sort_values(by=('job_time', 'mean'))[[('job_time', 'mean'), ('job_time', 'std'), ('job_time', 'min'), ('job_time', 'max')]].to_latex(float_format=\"%.2f\")"
   ]
  },
  {
   "cell_type": "code",
   "execution_count": 19,
   "id": "bb603cc7",
   "metadata": {},
   "outputs": [
    {
     "name": "stdout",
     "output_type": "stream",
     "text": [
      "\\begin{tabular}{lrrrr}\n",
      "\\toprule\n",
      "{} & \\multicolumn{4}{l}{job\\_time} \\\\\n",
      "{} &     mean &    std &     min &     max \\\\\n",
      "framework          &          &        &         &         \\\\\n",
      "\\midrule\n",
      "tuplex-compiled    &    16.48 &   1.91 &   13.97 &   19.09 \\\\\n",
      "pywren             &    68.51 &   6.48 &   63.55 &   81.54 \\\\\n",
      "tuplex-interpreted &   728.39 & 283.47 &  363.38 & 1302.95 \\\\\n",
      "aws-emr            &  3972.87 & 364.22 & 3751.07 & 4995.99 \\\\\n",
      "\\bottomrule\n",
      "\\end{tabular}\n",
      "\n"
     ]
    }
   ],
   "source": [
    "print(latex)"
   ]
  },
  {
   "cell_type": "code",
   "execution_count": null,
   "id": "8fa442eb",
   "metadata": {},
   "outputs": [],
   "source": []
  }
 ],
 "metadata": {
  "kernelspec": {
   "display_name": "Python 3",
   "language": "python",
   "name": "python3"
  },
  "language_info": {
   "codemirror_mode": {
    "name": "ipython",
    "version": 3
   },
   "file_extension": ".py",
   "mimetype": "text/x-python",
   "name": "python",
   "nbconvert_exporter": "python",
   "pygments_lexer": "ipython3",
   "version": "3.9.9"
  }
 },
 "nbformat": 4,
 "nbformat_minor": 5
}
