{
 "cells": [
  {
   "cell_type": "code",
   "execution_count": 3,
   "id": "1f70a3fb",
   "metadata": {},
   "outputs": [],
   "source": [
    "import matplotlib.pyplot as plt\n",
    "import pandas as pd\n",
    "import seaborn as sns\n",
    "import numpy as np\n",
    "import json\n",
    "import os"
   ]
  },
  {
   "cell_type": "code",
   "execution_count": 19,
   "id": "f94981a7",
   "metadata": {},
   "outputs": [],
   "source": [
    "root_path = os.path.join(os.environ['HOME'], 'projects/tuplex-public/tuplex/cmake-build-debug/dist/bin')\n",
    "path = root_path + '/aws_job.json'"
   ]
  },
  {
   "cell_type": "code",
   "execution_count": 21,
   "id": "c4ec4752",
   "metadata": {},
   "outputs": [
    {
     "data": {
      "text/plain": [
       "True"
      ]
     },
     "execution_count": 21,
     "metadata": {},
     "output_type": "execute_result"
    }
   ],
   "source": [
    "os.path.isfile(path)"
   ]
  },
  {
   "cell_type": "code",
   "execution_count": 25,
   "id": "892731aa",
   "metadata": {},
   "outputs": [],
   "source": [
    "with open(path, 'r') as fp:\n",
    "    data = json.load(fp)"
   ]
  },
  {
   "cell_type": "code",
   "execution_count": 58,
   "id": "30dbf1e6",
   "metadata": {},
   "outputs": [
    {
     "data": {
      "text/plain": [
       "{'stageStartTimestamp': 391858287253828,\n",
       " 'tasks': [{'container': {'reused': False,\n",
       "    'requestId': 'e4cf5f8d-27c6-4051-aa13-cc66d10c830b',\n",
       "    'uuid': 'de711321-fc87-4798-9bc0-7d446a7a71c1',\n",
       "    'msRemaining': 595898,\n",
       "    'requestsServed': 1,\n",
       "    'startTimestamp': 1643339402105915345,\n",
       "    'deadlineTimestamp': 1643339406233805553},\n",
       "   'invoked_containers': [{'reused': False,\n",
       "     'requestId': '876aa79f-0037-4ea6-be37-6b4e0ad60869',\n",
       "     'uuid': '2eb8ca6f-45bb-48bc-8985-1e78e551b43a',\n",
       "     'msRemaining': 598170,\n",
       "     'requestsServed': 1,\n",
       "     'startTimestamp': 1643339404011208154,\n",
       "     'deadlineTimestamp': 1643339405895508969},\n",
       "    {'reused': False,\n",
       "     'requestId': '582ccc33-8d18-46c9-8212-69b25fedf51c',\n",
       "     'uuid': '655d9e80-2c34-4463-9a0d-9bf70afbaef1',\n",
       "     'msRemaining': 598597,\n",
       "     'requestsServed': 1,\n",
       "     'startTimestamp': 1643339403956466641,\n",
       "     'deadlineTimestamp': 1643339405384964291},\n",
       "    {'reused': False,\n",
       "     'requestId': 'adddd99c-9e0b-4080-9e4b-4bfe82233771',\n",
       "     'uuid': 'e9213179-2985-4c95-987f-6859223cea6a',\n",
       "     'msRemaining': 597991,\n",
       "     'requestsServed': 1,\n",
       "     'startTimestamp': 1643339404174495380,\n",
       "     'deadlineTimestamp': 1643339406209958244}]}]}"
      ]
     },
     "execution_count": 58,
     "metadata": {},
     "output_type": "execute_result"
    }
   ],
   "source": [
    "data"
   ]
  },
  {
   "cell_type": "code",
   "execution_count": 59,
   "id": "50887f78",
   "metadata": {},
   "outputs": [],
   "source": [
    "# analyze invocations with start/end"
   ]
  },
  {
   "cell_type": "code",
   "execution_count": 60,
   "id": "721b0ba7",
   "metadata": {},
   "outputs": [
    {
     "name": "stdout",
     "output_type": "stream",
     "text": [
      "{'reused': False, 'requestId': '876aa79f-0037-4ea6-be37-6b4e0ad60869', 'uuid': '2eb8ca6f-45bb-48bc-8985-1e78e551b43a', 'msRemaining': 598170, 'requestsServed': 1, 'startTimestamp': 1643339404011208154, 'deadlineTimestamp': 1643339405895508969}\n",
      "1.884300708770752\n",
      "{'reused': False, 'requestId': '582ccc33-8d18-46c9-8212-69b25fedf51c', 'uuid': '655d9e80-2c34-4463-9a0d-9bf70afbaef1', 'msRemaining': 598597, 'requestsServed': 1, 'startTimestamp': 1643339403956466641, 'deadlineTimestamp': 1643339405384964291}\n",
      "1.4284977912902832\n",
      "{'reused': False, 'requestId': 'adddd99c-9e0b-4080-9e4b-4bfe82233771', 'uuid': 'e9213179-2985-4c95-987f-6859223cea6a', 'msRemaining': 597991, 'requestsServed': 1, 'startTimestamp': 1643339404174495380, 'deadlineTimestamp': 1643339406209958244}\n",
      "2.0354626178741455\n"
     ]
    }
   ],
   "source": [
    "for task in data['tasks'][0]['invoked_containers']:\n",
    "    print(task)\n",
    "    start_ts = task['startTimestamp'] / 1e9\n",
    "    dead_ts = task['deadlineTimestamp'] / 1e9\n",
    "    \n",
    "    t = dead_ts - start_ts\n",
    "    print(t)"
   ]
  },
  {
   "cell_type": "code",
   "execution_count": 55,
   "id": "99db8867",
   "metadata": {},
   "outputs": [
    {
     "data": {
      "text/plain": [
       "[{'reused': False,\n",
       "  'requestId': '876aa79f-0037-4ea6-be37-6b4e0ad60869',\n",
       "  'uuid': '2eb8ca6f-45bb-48bc-8985-1e78e551b43a',\n",
       "  'msRemaining': 598170,\n",
       "  'requestsServed': 1,\n",
       "  'startTimestamp': 1643339404011208154,\n",
       "  'deadlineTimestamp': 1643339405895508969},\n",
       " {'reused': False,\n",
       "  'requestId': '582ccc33-8d18-46c9-8212-69b25fedf51c',\n",
       "  'uuid': '655d9e80-2c34-4463-9a0d-9bf70afbaef1',\n",
       "  'msRemaining': 598597,\n",
       "  'requestsServed': 1,\n",
       "  'startTimestamp': 1643339403956466641,\n",
       "  'deadlineTimestamp': 1643339405384964291},\n",
       " {'reused': False,\n",
       "  'requestId': 'adddd99c-9e0b-4080-9e4b-4bfe82233771',\n",
       "  'uuid': 'e9213179-2985-4c95-987f-6859223cea6a',\n",
       "  'msRemaining': 597991,\n",
       "  'requestsServed': 1,\n",
       "  'startTimestamp': 1643339404174495380,\n",
       "  'deadlineTimestamp': 1643339406209958244}]"
      ]
     },
     "execution_count": 55,
     "metadata": {},
     "output_type": "execute_result"
    }
   ],
   "source": [
    "data['tasks'][0]['invoked_containers']"
   ]
  },
  {
   "cell_type": "code",
   "execution_count": 27,
   "id": "f1e9c9ce",
   "metadata": {},
   "outputs": [],
   "source": [
    "import datetime"
   ]
  },
  {
   "cell_type": "code",
   "execution_count": null,
   "id": "7c21a193",
   "metadata": {},
   "outputs": [],
   "source": [
    "stageStart"
   ]
  },
  {
   "cell_type": "code",
   "execution_count": 28,
   "id": "54fed962",
   "metadata": {},
   "outputs": [
    {
     "ename": "OSError",
     "evalue": "[Errno 22] Invalid argument",
     "output_type": "error",
     "traceback": [
      "\u001b[0;31m---------------------------------------------------------------------------\u001b[0m",
      "\u001b[0;31mOSError\u001b[0m                                   Traceback (most recent call last)",
      "\u001b[0;32m<ipython-input-28-da26dc25dd01>\u001b[0m in \u001b[0;36m<module>\u001b[0;34m\u001b[0m\n\u001b[0;32m----> 1\u001b[0;31m \u001b[0mdatetime\u001b[0m\u001b[0;34m.\u001b[0m\u001b[0mdatetime\u001b[0m\u001b[0;34m.\u001b[0m\u001b[0mfromtimestamp\u001b[0m\u001b[0;34m(\u001b[0m\u001b[0;36m1643339402105915345\u001b[0m\u001b[0;34m)\u001b[0m\u001b[0;34m\u001b[0m\u001b[0;34m\u001b[0m\u001b[0m\n\u001b[0m",
      "\u001b[0;31mOSError\u001b[0m: [Errno 22] Invalid argument"
     ]
    }
   ],
   "source": [
    "datetime.datetime.fromtimestamp(1643339402105915345)"
   ]
  },
  {
   "cell_type": "code",
   "execution_count": 30,
   "id": "ed5aad34",
   "metadata": {},
   "outputs": [
    {
     "name": "stdout",
     "output_type": "stream",
     "text": [
      "Help on built-in function fromtimestamp:\n",
      "\n",
      "fromtimestamp(...) method of builtins.type instance\n",
      "    timestamp[, tz] -> tz's local time from POSIX timestamp.\n",
      "\n"
     ]
    }
   ],
   "source": [
    "help(datetime.datetime.fromtimestamp)"
   ]
  },
  {
   "cell_type": "code",
   "execution_count": 37,
   "id": "5df2b969",
   "metadata": {},
   "outputs": [
    {
     "data": {
      "text/plain": [
       "datetime.datetime(2022, 1, 27, 23, 50, 57, 880027)"
      ]
     },
     "execution_count": 37,
     "metadata": {},
     "output_type": "execute_result"
    }
   ],
   "source": [
    "import time\n",
    "datetime.datetime.fromtimestamp(time.time())"
   ]
  },
  {
   "cell_type": "code",
   "execution_count": 47,
   "id": "468ba386",
   "metadata": {},
   "outputs": [
    {
     "data": {
      "text/plain": [
       "datetime.datetime(2022, 1, 27, 22, 10, 4, 174495)"
      ]
     },
     "execution_count": 47,
     "metadata": {},
     "output_type": "execute_result"
    }
   ],
   "source": [
    "datetime.datetime.fromtimestamp(1643339404174495380 / 1e9)"
   ]
  },
  {
   "cell_type": "code",
   "execution_count": 49,
   "id": "c9fe0ec8",
   "metadata": {},
   "outputs": [
    {
     "data": {
      "text/plain": [
       "datetime.datetime(1970, 1, 5, 7, 50, 58, 287254)"
      ]
     },
     "execution_count": 49,
     "metadata": {},
     "output_type": "execute_result"
    }
   ],
   "source": [
    "datetime.datetime.fromtimestamp(391858287253828 / 1e9)"
   ]
  },
  {
   "cell_type": "code",
   "execution_count": null,
   "id": "5c133bc6",
   "metadata": {},
   "outputs": [],
   "source": []
  }
 ],
 "metadata": {
  "kernelspec": {
   "display_name": "Python 3",
   "language": "python",
   "name": "python3"
  },
  "language_info": {
   "codemirror_mode": {
    "name": "ipython",
    "version": 3
   },
   "file_extension": ".py",
   "mimetype": "text/x-python",
   "name": "python",
   "nbconvert_exporter": "python",
   "pygments_lexer": "ipython3",
   "version": "3.9.9"
  }
 },
 "nbformat": 4,
 "nbformat_minor": 5
}
