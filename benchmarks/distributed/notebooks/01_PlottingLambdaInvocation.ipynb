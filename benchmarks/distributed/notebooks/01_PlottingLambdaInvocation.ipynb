{
 "cells": [
  {
   "cell_type": "code",
   "execution_count": 3,
   "id": "445cb2bc",
   "metadata": {},
   "outputs": [],
   "source": [
    "import matplotlib.pyplot as plt\n",
    "import pandas as pd\n",
    "import seaborn as sns\n",
    "import numpy as np\n",
    "import json\n",
    "import os"
   ]
  },
  {
   "cell_type": "code",
   "execution_count": 19,
   "id": "67bc77e7",
   "metadata": {},
   "outputs": [],
   "source": [
    "root_path = os.path.join(os.environ['HOME'], 'projects/tuplex-public/tuplex/cmake-build-debug/dist/bin')\n",
    "path = root_path + '/aws_job.json'"
   ]
  },
  {
   "cell_type": "code",
   "execution_count": 21,
   "id": "1ba0df8a",
   "metadata": {},
   "outputs": [
    {
     "data": {
      "text/plain": [
       "True"
      ]
     },
     "execution_count": 21,
     "metadata": {},
     "output_type": "execute_result"
    }
   ],
   "source": [
    "os.path.isfile(path)"
   ]
  },
  {
   "cell_type": "code",
   "execution_count": 25,
   "id": "f7c40367",
   "metadata": {},
   "outputs": [],
   "source": [
    "with open(path, 'r') as fp:\n",
    "    data = json.load(fp)"
   ]
  },
  {
   "cell_type": "code",
   "execution_count": 26,
   "id": "bd52ccf8",
   "metadata": {},
   "outputs": [
    {
     "data": {
      "text/plain": [
       "{'stageStartTimestamp': 391858287253828,\n",
       " 'tasks': [{'container': {'reused': False,\n",
       "    'requestId': 'e4cf5f8d-27c6-4051-aa13-cc66d10c830b',\n",
       "    'uuid': 'de711321-fc87-4798-9bc0-7d446a7a71c1',\n",
       "    'msRemaining': 595898,\n",
       "    'requestsServed': 1,\n",
       "    'startTimestamp': 1643339402105915345,\n",
       "    'deadlineTimestamp': 1643339406233805553},\n",
       "   'invoked_containers': [{'reused': False,\n",
       "     'requestId': '876aa79f-0037-4ea6-be37-6b4e0ad60869',\n",
       "     'uuid': '2eb8ca6f-45bb-48bc-8985-1e78e551b43a',\n",
       "     'msRemaining': 598170,\n",
       "     'requestsServed': 1,\n",
       "     'startTimestamp': 1643339404011208154,\n",
       "     'deadlineTimestamp': 1643339405895508969},\n",
       "    {'reused': False,\n",
       "     'requestId': '582ccc33-8d18-46c9-8212-69b25fedf51c',\n",
       "     'uuid': '655d9e80-2c34-4463-9a0d-9bf70afbaef1',\n",
       "     'msRemaining': 598597,\n",
       "     'requestsServed': 1,\n",
       "     'startTimestamp': 1643339403956466641,\n",
       "     'deadlineTimestamp': 1643339405384964291},\n",
       "    {'reused': False,\n",
       "     'requestId': 'adddd99c-9e0b-4080-9e4b-4bfe82233771',\n",
       "     'uuid': 'e9213179-2985-4c95-987f-6859223cea6a',\n",
       "     'msRemaining': 597991,\n",
       "     'requestsServed': 1,\n",
       "     'startTimestamp': 1643339404174495380,\n",
       "     'deadlineTimestamp': 1643339406209958244}]}]}"
      ]
     },
     "execution_count": 26,
     "metadata": {},
     "output_type": "execute_result"
    }
   ],
   "source": [
    "data"
   ]
  },
  {
   "cell_type": "code",
   "execution_count": 27,
   "id": "86800399",
   "metadata": {},
   "outputs": [],
   "source": [
    "import datetime"
   ]
  },
  {
   "cell_type": "code",
   "execution_count": null,
   "id": "b9cdc026",
   "metadata": {},
   "outputs": [],
   "source": [
    "stageStart"
   ]
  },
  {
   "cell_type": "code",
   "execution_count": null,
   "id": "32c784d9",
   "metadata": {},
   "outputs": [],
   "source": []
  }
 ],
 "metadata": {
  "kernelspec": {
   "display_name": "Python 3",
   "language": "python",
   "name": "python3"
  },
  "language_info": {
   "codemirror_mode": {
    "name": "ipython",
    "version": 3
   },
   "file_extension": ".py",
   "mimetype": "text/x-python",
   "name": "python",
   "nbconvert_exporter": "python",
   "pygments_lexer": "ipython3",
   "version": "3.9.9"
  }
 },
 "nbformat": 4,
 "nbformat_minor": 5
}
