{
 "cells": [
  {
   "cell_type": "code",
   "execution_count": 68,
   "id": "b9bebd82",
   "metadata": {},
   "outputs": [],
   "source": [
    "import matplotlib.pyplot as plt\n",
    "import pandas as pd\n",
    "import seaborn as sns\n",
    "import numpy as np\n",
    "import json\n",
    "import os"
   ]
  },
  {
   "cell_type": "code",
   "execution_count": 69,
   "id": "a92cbcd7",
   "metadata": {},
   "outputs": [],
   "source": [
    "root_path = os.path.join(os.environ['HOME'], 'projects/tuplex-public/tuplex/cmake-build-debug/dist/bin')\n",
    "path = root_path + '/aws_job.json'"
   ]
  },
  {
   "cell_type": "code",
   "execution_count": 70,
   "id": "febe5619",
   "metadata": {},
   "outputs": [
    {
     "data": {
      "text/plain": [
       "True"
      ]
     },
     "execution_count": 70,
     "metadata": {},
     "output_type": "execute_result"
    }
   ],
   "source": [
    "os.path.isfile(path)"
   ]
  },
  {
   "cell_type": "code",
   "execution_count": 71,
   "id": "39bd45c6",
   "metadata": {},
   "outputs": [],
   "source": [
    "with open(path, 'r') as fp:\n",
    "    data = json.load(fp)"
   ]
  },
  {
   "cell_type": "code",
   "execution_count": 72,
   "id": "1c6ca460",
   "metadata": {},
   "outputs": [
    {
     "data": {
      "text/plain": [
       "{'stageStartTimestamp': 1643348906784254000,\n",
       " 'tasks': [{'container': {'reused': False,\n",
       "    'requestId': '',\n",
       "    'uuid': '',\n",
       "    'msRemaining': 0,\n",
       "    'requestsServed': 0,\n",
       "    'startTimestamp': 0,\n",
       "    'deadlineTimestamp': 0},\n",
       "   'invoked_containers': []}]}"
      ]
     },
     "execution_count": 72,
     "metadata": {},
     "output_type": "execute_result"
    }
   ],
   "source": [
    "data"
   ]
  },
  {
   "cell_type": "code",
   "execution_count": 73,
   "id": "e53cefd4",
   "metadata": {},
   "outputs": [],
   "source": [
    "# analyze invocations with start/end"
   ]
  },
  {
   "cell_type": "code",
   "execution_count": 74,
   "id": "56510661",
   "metadata": {},
   "outputs": [],
   "source": [
    "for task in data['tasks'][0]['invoked_containers']:\n",
    "    print(task)\n",
    "    start_ts = task['startTimestamp'] / 1e9\n",
    "    dead_ts = task['deadlineTimestamp'] / 1e9\n",
    "    \n",
    "    t = dead_ts - start_ts\n",
    "    print(t)"
   ]
  },
  {
   "cell_type": "code",
   "execution_count": 75,
   "id": "3165d423",
   "metadata": {},
   "outputs": [
    {
     "data": {
      "text/plain": [
       "[]"
      ]
     },
     "execution_count": 75,
     "metadata": {},
     "output_type": "execute_result"
    }
   ],
   "source": [
    "data['tasks'][0]['invoked_containers']"
   ]
  },
  {
   "cell_type": "code",
   "execution_count": 27,
   "id": "62f5336c",
   "metadata": {},
   "outputs": [],
   "source": [
    "import datetime"
   ]
  },
  {
   "cell_type": "code",
   "execution_count": null,
   "id": "e7b8bb9f",
   "metadata": {},
   "outputs": [],
   "source": [
    "stageStart"
   ]
  },
  {
   "cell_type": "code",
   "execution_count": 28,
   "id": "2cf2932d",
   "metadata": {},
   "outputs": [
    {
     "ename": "OSError",
     "evalue": "[Errno 22] Invalid argument",
     "output_type": "error",
     "traceback": [
      "\u001b[0;31m---------------------------------------------------------------------------\u001b[0m",
      "\u001b[0;31mOSError\u001b[0m                                   Traceback (most recent call last)",
      "\u001b[0;32m<ipython-input-28-da26dc25dd01>\u001b[0m in \u001b[0;36m<module>\u001b[0;34m\u001b[0m\n\u001b[0;32m----> 1\u001b[0;31m \u001b[0mdatetime\u001b[0m\u001b[0;34m.\u001b[0m\u001b[0mdatetime\u001b[0m\u001b[0;34m.\u001b[0m\u001b[0mfromtimestamp\u001b[0m\u001b[0;34m(\u001b[0m\u001b[0;36m1643339402105915345\u001b[0m\u001b[0;34m)\u001b[0m\u001b[0;34m\u001b[0m\u001b[0;34m\u001b[0m\u001b[0m\n\u001b[0m",
      "\u001b[0;31mOSError\u001b[0m: [Errno 22] Invalid argument"
     ]
    }
   ],
   "source": [
    "datetime.datetime.fromtimestamp(1643339402105915345)"
   ]
  },
  {
   "cell_type": "code",
   "execution_count": 30,
   "id": "014b77a7",
   "metadata": {},
   "outputs": [
    {
     "name": "stdout",
     "output_type": "stream",
     "text": [
      "Help on built-in function fromtimestamp:\n",
      "\n",
      "fromtimestamp(...) method of builtins.type instance\n",
      "    timestamp[, tz] -> tz's local time from POSIX timestamp.\n",
      "\n"
     ]
    }
   ],
   "source": [
    "help(datetime.datetime.fromtimestamp)"
   ]
  },
  {
   "cell_type": "code",
   "execution_count": 37,
   "id": "b10e65bc",
   "metadata": {},
   "outputs": [
    {
     "data": {
      "text/plain": [
       "datetime.datetime(2022, 1, 27, 23, 50, 57, 880027)"
      ]
     },
     "execution_count": 37,
     "metadata": {},
     "output_type": "execute_result"
    }
   ],
   "source": [
    "import time\n",
    "datetime.datetime.fromtimestamp(time.time())"
   ]
  },
  {
   "cell_type": "code",
   "execution_count": 47,
   "id": "84fdb66a",
   "metadata": {},
   "outputs": [
    {
     "data": {
      "text/plain": [
       "datetime.datetime(2022, 1, 27, 22, 10, 4, 174495)"
      ]
     },
     "execution_count": 47,
     "metadata": {},
     "output_type": "execute_result"
    }
   ],
   "source": [
    "datetime.datetime.fromtimestamp(1643339404174495380 / 1e9)"
   ]
  },
  {
   "cell_type": "code",
   "execution_count": 49,
   "id": "0f2d40f0",
   "metadata": {},
   "outputs": [
    {
     "data": {
      "text/plain": [
       "datetime.datetime(1970, 1, 5, 7, 50, 58, 287254)"
      ]
     },
     "execution_count": 49,
     "metadata": {},
     "output_type": "execute_result"
    }
   ],
   "source": [
    "datetime.datetime.fromtimestamp(391858287253828 / 1e9)"
   ]
  },
  {
   "cell_type": "code",
   "execution_count": null,
   "id": "20d3b3e8",
   "metadata": {},
   "outputs": [],
   "source": []
  }
 ],
 "metadata": {
  "kernelspec": {
   "display_name": "Python 3",
   "language": "python",
   "name": "python3"
  },
  "language_info": {
   "codemirror_mode": {
    "name": "ipython",
    "version": 3
   },
   "file_extension": ".py",
   "mimetype": "text/x-python",
   "name": "python",
   "nbconvert_exporter": "python",
   "pygments_lexer": "ipython3",
   "version": "3.9.9"
  }
 },
 "nbformat": 4,
 "nbformat_minor": 5
}
