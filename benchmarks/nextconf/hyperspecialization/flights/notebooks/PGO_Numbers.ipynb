{
 "cells": [
  {
   "cell_type": "code",
   "execution_count": 1,
   "id": "7bf0c78a",
   "metadata": {},
   "outputs": [],
   "source": [
    "import re\n",
    "import numpy as np\n",
    "import pandas as pd"
   ]
  },
  {
   "cell_type": "code",
   "execution_count": 2,
   "id": "2b86dc16",
   "metadata": {},
   "outputs": [],
   "source": [
    "path = '../pgo-log-bbsn00.txt'"
   ]
  },
  {
   "cell_type": "code",
   "execution_count": 3,
   "id": "28cb7a19",
   "metadata": {},
   "outputs": [],
   "source": [
    "with open(path, 'r') as fp:\n",
    "    lines = fp.readlines()"
   ]
  },
  {
   "cell_type": "code",
   "execution_count": 7,
   "id": "8d6d7c01",
   "metadata": {},
   "outputs": [],
   "source": [
    "timings = list(filter(lambda line: line.startswith('real'), lines))"
   ]
  },
  {
   "cell_type": "code",
   "execution_count": 16,
   "id": "eb0c4c2b",
   "metadata": {},
   "outputs": [],
   "source": [
    "# exclude first which is generating the profile runner.\n",
    "timings = timings[1:]\n",
    "ts = [60.0 + float(t.strip().replace('real\\t1m', '').replace('s', '')) for t in timings]"
   ]
  },
  {
   "cell_type": "code",
   "execution_count": 19,
   "id": "f6865e9e",
   "metadata": {},
   "outputs": [
    {
     "data": {
      "text/plain": [
       "(87.125, 103.906)"
      ]
     },
     "execution_count": 19,
     "metadata": {},
     "output_type": "execute_result"
    }
   ],
   "source": [
    "min(ts), max(ts)"
   ]
  },
  {
   "cell_type": "code",
   "execution_count": 21,
   "id": "44df83a4",
   "metadata": {},
   "outputs": [
    {
     "data": {
      "text/plain": [
       "89.45500000000001"
      ]
     },
     "execution_count": 21,
     "metadata": {},
     "output_type": "execute_result"
    }
   ],
   "source": [
    "np.array(ts).mean()"
   ]
  },
  {
   "cell_type": "code",
   "execution_count": 22,
   "id": "14b16760",
   "metadata": {},
   "outputs": [
    {
     "data": {
      "text/plain": [
       "5.463659396411897"
      ]
     },
     "execution_count": 22,
     "metadata": {},
     "output_type": "execute_result"
    }
   ],
   "source": [
    "np.array(ts).std()"
   ]
  },
  {
   "cell_type": "code",
   "execution_count": null,
   "id": "9a1598ce",
   "metadata": {},
   "outputs": [],
   "source": []
  }
 ],
 "metadata": {
  "kernelspec": {
   "display_name": "Python 3",
   "language": "python",
   "name": "python3"
  },
  "language_info": {
   "codemirror_mode": {
    "name": "ipython",
    "version": 3
   },
   "file_extension": ".py",
   "mimetype": "text/x-python",
   "name": "python",
   "nbconvert_exporter": "python",
   "pygments_lexer": "ipython3",
   "version": "3.9.10"
  }
 },
 "nbformat": 4,
 "nbformat_minor": 5
}
