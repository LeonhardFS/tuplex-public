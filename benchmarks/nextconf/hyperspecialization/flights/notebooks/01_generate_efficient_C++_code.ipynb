{
 "cells": [
  {
   "cell_type": "code",
   "execution_count": 231,
   "metadata": {},
   "outputs": [],
   "source": [
    "import pandas as pd\n",
    "import matplotlib.pyplot as plt\n",
    "import matplotlib.patheffects as path_effects\n",
    "import os\n",
    "import glob\n",
    "import json\n",
    "import csv\n",
    "import sys\n",
    "import numpy as np"
   ]
  },
  {
   "cell_type": "code",
   "execution_count": 5,
   "metadata": {},
   "outputs": [
    {
     "name": "stdout",
     "output_type": "stream",
     "text": [
      "/hot/data/flights/flights_on_time_performance_2009_01.csv\r\n",
      "/hot/data/flights/flights_on_time_performance_2009_02.csv\r\n",
      "/hot/data/flights/flights_on_time_performance_2009_03.csv\r\n",
      "/hot/data/flights/flights_on_time_performance_2009_04.csv\r\n",
      "/hot/data/flights/flights_on_time_performance_2009_05.csv\r\n",
      "/hot/data/flights/flights_on_time_performance_2009_06.csv\r\n",
      "/hot/data/flights/flights_on_time_performance_2009_07.csv\r\n",
      "/hot/data/flights/flights_on_time_performance_2009_08.csv\r\n",
      "/hot/data/flights/flights_on_time_performance_2009_09.csv\r\n",
      "/hot/data/flights/flights_on_time_performance_2009_10.csv\r\n"
     ]
    }
   ],
   "source": [
    "!ls /hot/data/flights/*.csv | head"
   ]
  },
  {
   "cell_type": "code",
   "execution_count": 15,
   "metadata": {},
   "outputs": [],
   "source": [
    "df = pd.read_csv('/hot/data/flights/flights_on_time_performance_2009_01.csv', nrows=10)\n",
    "cleaned_columns = list(map(lambda x: x.lower(), list(df.columns)))"
   ]
  },
  {
   "cell_type": "code",
   "execution_count": 54,
   "metadata": {},
   "outputs": [
    {
     "data": {
      "text/html": [
       "<div>\n",
       "<style scoped>\n",
       "    .dataframe tbody tr th:only-of-type {\n",
       "        vertical-align: middle;\n",
       "    }\n",
       "\n",
       "    .dataframe tbody tr th {\n",
       "        vertical-align: top;\n",
       "    }\n",
       "\n",
       "    .dataframe thead th {\n",
       "        text-align: right;\n",
       "    }\n",
       "</style>\n",
       "<table border=\"1\" class=\"dataframe\">\n",
       "  <thead>\n",
       "    <tr style=\"text-align: right;\">\n",
       "      <th></th>\n",
       "      <th>YEAR</th>\n",
       "      <th>MONTH</th>\n",
       "      <th>DAY_OF_WEEK</th>\n",
       "      <th>CRS_DEP_TIME</th>\n",
       "      <th>DEP_DELAY</th>\n",
       "      <th>TAXI_OUT</th>\n",
       "      <th>TAXI_IN</th>\n",
       "      <th>CRS_ARR_TIME</th>\n",
       "      <th>ARR_DELAY</th>\n",
       "      <th>CANCELLED</th>\n",
       "      <th>DIVERTED</th>\n",
       "      <th>CRS_ELAPSED_TIME</th>\n",
       "      <th>ACTUAL_ELAPSED_TIME</th>\n",
       "      <th>AIR_TIME</th>\n",
       "      <th>DISTANCE</th>\n",
       "      <th>CARRIER_DELAY</th>\n",
       "      <th>WEATHER_DELAY</th>\n",
       "      <th>NAS_DELAY</th>\n",
       "      <th>SECURITY_DELAY</th>\n",
       "      <th>LATE_AIRCRAFT_DELAY</th>\n",
       "    </tr>\n",
       "  </thead>\n",
       "  <tbody>\n",
       "    <tr>\n",
       "      <th>0</th>\n",
       "      <td>2009</td>\n",
       "      <td>1</td>\n",
       "      <td>7</td>\n",
       "      <td>1503</td>\n",
       "      <td>5.0</td>\n",
       "      <td>16.0</td>\n",
       "      <td>8.0</td>\n",
       "      <td>1623</td>\n",
       "      <td>-1.0</td>\n",
       "      <td>0.0</td>\n",
       "      <td>0.0</td>\n",
       "      <td>80.0</td>\n",
       "      <td>74.0</td>\n",
       "      <td>50.0</td>\n",
       "      <td>229.0</td>\n",
       "      <td>NaN</td>\n",
       "      <td>NaN</td>\n",
       "      <td>NaN</td>\n",
       "      <td>NaN</td>\n",
       "      <td>NaN</td>\n",
       "    </tr>\n",
       "    <tr>\n",
       "      <th>1</th>\n",
       "      <td>2009</td>\n",
       "      <td>1</td>\n",
       "      <td>1</td>\n",
       "      <td>1503</td>\n",
       "      <td>0.0</td>\n",
       "      <td>11.0</td>\n",
       "      <td>14.0</td>\n",
       "      <td>1623</td>\n",
       "      <td>-12.0</td>\n",
       "      <td>0.0</td>\n",
       "      <td>0.0</td>\n",
       "      <td>80.0</td>\n",
       "      <td>68.0</td>\n",
       "      <td>43.0</td>\n",
       "      <td>229.0</td>\n",
       "      <td>NaN</td>\n",
       "      <td>NaN</td>\n",
       "      <td>NaN</td>\n",
       "      <td>NaN</td>\n",
       "      <td>NaN</td>\n",
       "    </tr>\n",
       "    <tr>\n",
       "      <th>2</th>\n",
       "      <td>2009</td>\n",
       "      <td>1</td>\n",
       "      <td>2</td>\n",
       "      <td>1503</td>\n",
       "      <td>-12.0</td>\n",
       "      <td>10.0</td>\n",
       "      <td>16.0</td>\n",
       "      <td>1623</td>\n",
       "      <td>-23.0</td>\n",
       "      <td>0.0</td>\n",
       "      <td>0.0</td>\n",
       "      <td>80.0</td>\n",
       "      <td>69.0</td>\n",
       "      <td>43.0</td>\n",
       "      <td>229.0</td>\n",
       "      <td>NaN</td>\n",
       "      <td>NaN</td>\n",
       "      <td>NaN</td>\n",
       "      <td>NaN</td>\n",
       "      <td>NaN</td>\n",
       "    </tr>\n",
       "    <tr>\n",
       "      <th>3</th>\n",
       "      <td>2009</td>\n",
       "      <td>1</td>\n",
       "      <td>3</td>\n",
       "      <td>1503</td>\n",
       "      <td>-5.0</td>\n",
       "      <td>15.0</td>\n",
       "      <td>8.0</td>\n",
       "      <td>1623</td>\n",
       "      <td>-13.0</td>\n",
       "      <td>0.0</td>\n",
       "      <td>0.0</td>\n",
       "      <td>80.0</td>\n",
       "      <td>72.0</td>\n",
       "      <td>49.0</td>\n",
       "      <td>229.0</td>\n",
       "      <td>NaN</td>\n",
       "      <td>NaN</td>\n",
       "      <td>NaN</td>\n",
       "      <td>NaN</td>\n",
       "      <td>NaN</td>\n",
       "    </tr>\n",
       "    <tr>\n",
       "      <th>4</th>\n",
       "      <td>2009</td>\n",
       "      <td>1</td>\n",
       "      <td>4</td>\n",
       "      <td>1503</td>\n",
       "      <td>-8.0</td>\n",
       "      <td>9.0</td>\n",
       "      <td>11.0</td>\n",
       "      <td>1623</td>\n",
       "      <td>-16.0</td>\n",
       "      <td>0.0</td>\n",
       "      <td>0.0</td>\n",
       "      <td>80.0</td>\n",
       "      <td>72.0</td>\n",
       "      <td>52.0</td>\n",
       "      <td>229.0</td>\n",
       "      <td>NaN</td>\n",
       "      <td>NaN</td>\n",
       "      <td>NaN</td>\n",
       "      <td>NaN</td>\n",
       "      <td>NaN</td>\n",
       "    </tr>\n",
       "  </tbody>\n",
       "</table>\n",
       "</div>"
      ],
      "text/plain": [
       "   YEAR  MONTH  DAY_OF_WEEK  CRS_DEP_TIME  DEP_DELAY  TAXI_OUT  TAXI_IN  \\\n",
       "0  2009      1            7          1503        5.0      16.0      8.0   \n",
       "1  2009      1            1          1503        0.0      11.0     14.0   \n",
       "2  2009      1            2          1503      -12.0      10.0     16.0   \n",
       "3  2009      1            3          1503       -5.0      15.0      8.0   \n",
       "4  2009      1            4          1503       -8.0       9.0     11.0   \n",
       "\n",
       "   CRS_ARR_TIME  ARR_DELAY  CANCELLED  DIVERTED  CRS_ELAPSED_TIME  \\\n",
       "0          1623       -1.0        0.0       0.0              80.0   \n",
       "1          1623      -12.0        0.0       0.0              80.0   \n",
       "2          1623      -23.0        0.0       0.0              80.0   \n",
       "3          1623      -13.0        0.0       0.0              80.0   \n",
       "4          1623      -16.0        0.0       0.0              80.0   \n",
       "\n",
       "   ACTUAL_ELAPSED_TIME  AIR_TIME  DISTANCE  CARRIER_DELAY  WEATHER_DELAY  \\\n",
       "0                 74.0      50.0     229.0            NaN            NaN   \n",
       "1                 68.0      43.0     229.0            NaN            NaN   \n",
       "2                 69.0      43.0     229.0            NaN            NaN   \n",
       "3                 72.0      49.0     229.0            NaN            NaN   \n",
       "4                 72.0      52.0     229.0            NaN            NaN   \n",
       "\n",
       "   NAS_DELAY  SECURITY_DELAY  LATE_AIRCRAFT_DELAY  \n",
       "0        NaN             NaN                  NaN  \n",
       "1        NaN             NaN                  NaN  \n",
       "2        NaN             NaN                  NaN  \n",
       "3        NaN             NaN                  NaN  \n",
       "4        NaN             NaN                  NaN  "
      ]
     },
     "execution_count": 54,
     "metadata": {},
     "output_type": "execute_result"
    }
   ],
   "source": [
    "df.head()"
   ]
  },
  {
   "cell_type": "code",
   "execution_count": null,
   "metadata": {},
   "outputs": [],
   "source": []
  },
  {
   "cell_type": "code",
   "execution_count": 16,
   "metadata": {},
   "outputs": [],
   "source": [
    "output_columns = ['CarrierName', 'CarrierCode', 'FlightNumber',\n",
    "                               'Day', 'Month', 'Year', 'DayOfWeek',\n",
    "                               'OriginCity', 'OriginState', 'OriginAirportIATACode', 'OriginLongitude', 'OriginLatitude',\n",
    "                               'OriginAltitude',\n",
    "                               'DestCity', 'DestState', 'DestAirportIATACode', 'DestLongitude', 'DestLatitude', 'DestAltitude',\n",
    "                               'Distance',\n",
    "                               'CancellationReason', 'Cancelled', 'Diverted', 'CrsArrTime', 'CrsDepTime',\n",
    "                               'ActualElapsedTime', 'AirTime', 'ArrDelay',\n",
    "                               'CarrierDelay', 'CrsElapsedTime',\n",
    "                               'DepDelay', 'LateAircraftDelay', 'NasDelay',\n",
    "                               'SecurityDelay', 'TaxiIn', 'TaxiOut', 'WeatherDelay',\n",
    "                               'AirlineYearFounded', 'AirlineYearDefunct']"
   ]
  },
  {
   "cell_type": "code",
   "execution_count": 17,
   "metadata": {},
   "outputs": [],
   "source": [
    "Sfinal = set(map(lambda x: x.lower(), output_columns))"
   ]
  },
  {
   "cell_type": "code",
   "execution_count": 18,
   "metadata": {},
   "outputs": [],
   "source": [
    "Sinput = set(map(lambda x: x.replace('_', ''), cleaned_columns))"
   ]
  },
  {
   "cell_type": "code",
   "execution_count": 21,
   "metadata": {},
   "outputs": [],
   "source": [
    "csvinput_cols = Sinput & Sfinal"
   ]
  },
  {
   "cell_type": "code",
   "execution_count": 23,
   "metadata": {},
   "outputs": [
    {
     "data": {
      "text/plain": [
       "{'actualelapsedtime',\n",
       " 'airtime',\n",
       " 'arrdelay',\n",
       " 'cancelled',\n",
       " 'carrierdelay',\n",
       " 'crsarrtime',\n",
       " 'crsdeptime',\n",
       " 'crselapsedtime',\n",
       " 'dayofweek',\n",
       " 'depdelay',\n",
       " 'distance',\n",
       " 'diverted',\n",
       " 'lateaircraftdelay',\n",
       " 'month',\n",
       " 'nasdelay',\n",
       " 'securitydelay',\n",
       " 'taxiin',\n",
       " 'taxiout',\n",
       " 'weatherdelay',\n",
       " 'year'}"
      ]
     },
     "execution_count": 23,
     "metadata": {},
     "output_type": "execute_result"
    }
   ],
   "source": [
    "# indices\n",
    "csvinput_cols"
   ]
  },
  {
   "cell_type": "code",
   "execution_count": 26,
   "metadata": {
    "scrolled": false
   },
   "outputs": [],
   "source": [
    "normalcols = [name.replace('_', '') for name in cleaned_columns]"
   ]
  },
  {
   "cell_type": "code",
   "execution_count": 29,
   "metadata": {},
   "outputs": [],
   "source": [
    "relevant_column_pairs = sorted([(name, normalcols.index(name)) for name in csvinput_cols], key=lambda x: x[1])"
   ]
  },
  {
   "cell_type": "code",
   "execution_count": 32,
   "metadata": {},
   "outputs": [
    {
     "data": {
      "text/plain": [
       "(['year',\n",
       "  'month',\n",
       "  'dayofweek',\n",
       "  'crsdeptime',\n",
       "  'depdelay',\n",
       "  'taxiout',\n",
       "  'taxiin',\n",
       "  'crsarrtime',\n",
       "  'arrdelay',\n",
       "  'cancelled',\n",
       "  'diverted',\n",
       "  'crselapsedtime',\n",
       "  'actualelapsedtime',\n",
       "  'airtime',\n",
       "  'distance',\n",
       "  'carrierdelay',\n",
       "  'weatherdelay',\n",
       "  'nasdelay',\n",
       "  'securitydelay',\n",
       "  'lateaircraftdelay'],\n",
       " [0, 2, 4, 29, 31, 36, 39, 40, 42, 47, 49, 50, 51, 52, 54, 56, 57, 58, 59, 60])"
      ]
     },
     "execution_count": 32,
     "metadata": {},
     "output_type": "execute_result"
    }
   ],
   "source": [
    "relevant_columns = [t[0] for t in relevant_column_pairs]\n",
    "relevant_indices = [t[1] for t in relevant_column_pairs]\n",
    "relevant_columns, relevant_indices"
   ]
  },
  {
   "cell_type": "code",
   "execution_count": 33,
   "metadata": {},
   "outputs": [],
   "source": [
    "# now analyze csv file! only fetch relevant columns..."
   ]
  },
  {
   "cell_type": "code",
   "execution_count": 132,
   "metadata": {},
   "outputs": [],
   "source": [
    "\n",
    "path = '/hot/data/flights/flights_on_time_performance_2009_01.csv'\n",
    "df = pd.read_csv(path, nrows=10, usecols=relevant_indices)"
   ]
  },
  {
   "cell_type": "code",
   "execution_count": 133,
   "metadata": {},
   "outputs": [],
   "source": [
    "df_str = pd.read_csv(path, dtype=str, nrows=10, usecols=relevant_indices)"
   ]
  },
  {
   "cell_type": "code",
   "execution_count": 134,
   "metadata": {},
   "outputs": [],
   "source": [
    "# import csv\n",
    "\n",
    "# # want to get the fieldnames\n",
    "\n",
    "# path = '/hot/data/flights/flights_on_time_performance_2009_01.csv'\n",
    "# with open('names.csv', newline='') as csvfile:\n",
    "#     reader = csv.DictReader(csvfile)"
   ]
  },
  {
   "cell_type": "code",
   "execution_count": 135,
   "metadata": {},
   "outputs": [
    {
     "data": {
      "text/plain": [
       "0    4\n",
       "1    4\n",
       "2    4\n",
       "3    4\n",
       "4    4\n",
       "5    4\n",
       "6    4\n",
       "7    4\n",
       "8    4\n",
       "9    4\n",
       "Name: YEAR, dtype: int64"
      ]
     },
     "execution_count": 135,
     "metadata": {},
     "output_type": "execute_result"
    }
   ],
   "source": [
    "df_str.iloc[:, 0].str.len()"
   ]
  },
  {
   "cell_type": "code",
   "execution_count": 136,
   "metadata": {},
   "outputs": [],
   "source": [
    "# should parse delayed? --> do so if representation is SMALLER than smallest optimized representation that's possible.\n",
    "# for each column compute statistics\n",
    "\n",
    "# needs df, df_str\n",
    "\n",
    "stats = []\n",
    "for c in df.columns:\n",
    "    stat = {'name' : c, 'type': str(df[c].dtype)}\n",
    "    \n",
    "    null_count = df[c].isna().count()\n",
    "    stat['nullable'] = null_count > 0\n",
    "    stat['nrows'] = len(df[c])\n",
    "    stat['nnulls'] = null_count\n",
    "    stat['cardinality'] = len(df[c].unique())\n",
    "    \n",
    "    # csv data from str dataframe!\n",
    "    stat['csvcellmin'] = df_str[c].str.len().min()\n",
    "    stat['csvcellmax'] = df_str[c].str.len().max()\n",
    "    \n",
    "    if stat['type'] == 'int64':\n",
    "        # check min/max\n",
    "        stat['imin'] = int(df[c].min())\n",
    "        stat['imax'] = int(df[c].max())\n",
    "        \n",
    "    if stat['type'] == 'float64':\n",
    "        stat['fmin'] = df[c].min()\n",
    "        stat['fmax'] = df[c].max()\n",
    "    \n",
    "    stats.append(stat)"
   ]
  },
  {
   "cell_type": "code",
   "execution_count": 137,
   "metadata": {},
   "outputs": [],
   "source": [
    "# filter specialization for each file!!!\n",
    "\n",
    "# could write benchmark with two numbers -> parse, then specialize!"
   ]
  },
  {
   "cell_type": "code",
   "execution_count": 138,
   "metadata": {},
   "outputs": [
    {
     "data": {
      "text/plain": [
       "array([nan,  0.])"
      ]
     },
     "execution_count": 138,
     "metadata": {},
     "output_type": "execute_result"
    }
   ],
   "source": [
    "df.WEATHER_DELAY.unique()"
   ]
  },
  {
   "cell_type": "code",
   "execution_count": 139,
   "metadata": {},
   "outputs": [],
   "source": [
    "import math"
   ]
  },
  {
   "cell_type": "code",
   "execution_count": 140,
   "metadata": {},
   "outputs": [
    {
     "data": {
      "text/html": [
       "<div>\n",
       "<style scoped>\n",
       "    .dataframe tbody tr th:only-of-type {\n",
       "        vertical-align: middle;\n",
       "    }\n",
       "\n",
       "    .dataframe tbody tr th {\n",
       "        vertical-align: top;\n",
       "    }\n",
       "\n",
       "    .dataframe thead th {\n",
       "        text-align: right;\n",
       "    }\n",
       "</style>\n",
       "<table border=\"1\" class=\"dataframe\">\n",
       "  <thead>\n",
       "    <tr style=\"text-align: right;\">\n",
       "      <th></th>\n",
       "      <th>name</th>\n",
       "      <th>type</th>\n",
       "      <th>nullable</th>\n",
       "      <th>nrows</th>\n",
       "      <th>nnulls</th>\n",
       "      <th>cardinality</th>\n",
       "      <th>csvcellmin</th>\n",
       "      <th>csvcellmax</th>\n",
       "      <th>imin</th>\n",
       "      <th>imax</th>\n",
       "      <th>fmin</th>\n",
       "      <th>fmax</th>\n",
       "    </tr>\n",
       "  </thead>\n",
       "  <tbody>\n",
       "    <tr>\n",
       "      <th>0</th>\n",
       "      <td>YEAR</td>\n",
       "      <td>int64</td>\n",
       "      <td>True</td>\n",
       "      <td>10</td>\n",
       "      <td>10</td>\n",
       "      <td>1</td>\n",
       "      <td>4.0</td>\n",
       "      <td>4.0</td>\n",
       "      <td>2009.0</td>\n",
       "      <td>2009.0</td>\n",
       "      <td>NaN</td>\n",
       "      <td>NaN</td>\n",
       "    </tr>\n",
       "    <tr>\n",
       "      <th>1</th>\n",
       "      <td>MONTH</td>\n",
       "      <td>int64</td>\n",
       "      <td>True</td>\n",
       "      <td>10</td>\n",
       "      <td>10</td>\n",
       "      <td>1</td>\n",
       "      <td>1.0</td>\n",
       "      <td>1.0</td>\n",
       "      <td>1.0</td>\n",
       "      <td>1.0</td>\n",
       "      <td>NaN</td>\n",
       "      <td>NaN</td>\n",
       "    </tr>\n",
       "    <tr>\n",
       "      <th>2</th>\n",
       "      <td>DAY_OF_WEEK</td>\n",
       "      <td>int64</td>\n",
       "      <td>True</td>\n",
       "      <td>10</td>\n",
       "      <td>10</td>\n",
       "      <td>7</td>\n",
       "      <td>1.0</td>\n",
       "      <td>1.0</td>\n",
       "      <td>1.0</td>\n",
       "      <td>7.0</td>\n",
       "      <td>NaN</td>\n",
       "      <td>NaN</td>\n",
       "    </tr>\n",
       "    <tr>\n",
       "      <th>3</th>\n",
       "      <td>CRS_DEP_TIME</td>\n",
       "      <td>int64</td>\n",
       "      <td>True</td>\n",
       "      <td>10</td>\n",
       "      <td>10</td>\n",
       "      <td>1</td>\n",
       "      <td>4.0</td>\n",
       "      <td>4.0</td>\n",
       "      <td>1503.0</td>\n",
       "      <td>1503.0</td>\n",
       "      <td>NaN</td>\n",
       "      <td>NaN</td>\n",
       "    </tr>\n",
       "    <tr>\n",
       "      <th>4</th>\n",
       "      <td>DEP_DELAY</td>\n",
       "      <td>float64</td>\n",
       "      <td>True</td>\n",
       "      <td>10</td>\n",
       "      <td>10</td>\n",
       "      <td>10</td>\n",
       "      <td>4.0</td>\n",
       "      <td>6.0</td>\n",
       "      <td>NaN</td>\n",
       "      <td>NaN</td>\n",
       "      <td>-12.0</td>\n",
       "      <td>71.0</td>\n",
       "    </tr>\n",
       "  </tbody>\n",
       "</table>\n",
       "</div>"
      ],
      "text/plain": [
       "           name     type  nullable  nrows  nnulls  cardinality  csvcellmin  \\\n",
       "0          YEAR    int64      True     10      10            1         4.0   \n",
       "1         MONTH    int64      True     10      10            1         1.0   \n",
       "2   DAY_OF_WEEK    int64      True     10      10            7         1.0   \n",
       "3  CRS_DEP_TIME    int64      True     10      10            1         4.0   \n",
       "4     DEP_DELAY  float64      True     10      10           10         4.0   \n",
       "\n",
       "   csvcellmax    imin    imax  fmin  fmax  \n",
       "0         4.0  2009.0  2009.0   NaN   NaN  \n",
       "1         1.0     1.0     1.0   NaN   NaN  \n",
       "2         1.0     1.0     7.0   NaN   NaN  \n",
       "3         4.0  1503.0  1503.0   NaN   NaN  \n",
       "4         6.0     NaN     NaN -12.0  71.0  "
      ]
     },
     "execution_count": 140,
     "metadata": {},
     "output_type": "execute_result"
    }
   ],
   "source": [
    "df_stats = pd.DataFrame(stats)\n",
    "df_stats.head()"
   ]
  },
  {
   "cell_type": "code",
   "execution_count": 141,
   "metadata": {},
   "outputs": [],
   "source": [
    "optimization_list = ['null_value_optimization', 'i8_range_compression',\n",
    "                     'i16_range_compression',\n",
    "                     'i24_range_compression',\n",
    "                    'range_compression_optimization']\n",
    "\n",
    "# now for each column, decide which optimization is possible!\n",
    "def determine_col_optimizations(row, threshold=0.05):\n",
    "    # NVO?\n",
    "    # null values form more than 95% of all rows or less than 5% of all optimizations\n",
    "    null_ratio = row['nnulls'] / row['nrows']\n",
    "    null_optimization = null_ratio <= threshold or null_ratio >= 1.0 - threshold\n",
    "    \n",
    "    opts = {'null_value_optimization' : null_optimization}\n",
    "    \n",
    "    # integer range squeeze?\n",
    "    if not math.isnan(row['imin']) and not math.isnan(row['imax']):\n",
    "        imax_range = int(row['imax']) - int(row['imin'])\n",
    "    \n",
    "        # can we compress to 4 bytes, 2 bytes, 1 byte?\n",
    "        if imax_range < 2**8:\n",
    "            opts['i8_range_compression'] = True\n",
    "        elif imax_range < 2**16:\n",
    "            opts['i16_range_compression'] = True\n",
    "        elif imax_range < 2**24:\n",
    "            opts['i24_range_compression'] = True\n",
    "        elif imax_range < 2**32:\n",
    "            opts['i32_range_compression'] = True\n",
    "            opts['range_compression_optimization'] = True\n",
    "            \n",
    "    # check\n",
    "        \n",
    "    \n",
    "    #raise Exception()\n",
    "    return opts\n",
    "    "
   ]
  },
  {
   "cell_type": "code",
   "execution_count": 142,
   "metadata": {},
   "outputs": [],
   "source": [
    "import functools\n",
    "\n",
    "df_stats['optimizations'] = df_stats.apply(functools.partial(determine_col_optimizations, threshold=0.05), axis=1)"
   ]
  },
  {
   "cell_type": "code",
   "execution_count": 143,
   "metadata": {},
   "outputs": [
    {
     "data": {
      "text/html": [
       "<div>\n",
       "<style scoped>\n",
       "    .dataframe tbody tr th:only-of-type {\n",
       "        vertical-align: middle;\n",
       "    }\n",
       "\n",
       "    .dataframe tbody tr th {\n",
       "        vertical-align: top;\n",
       "    }\n",
       "\n",
       "    .dataframe thead th {\n",
       "        text-align: right;\n",
       "    }\n",
       "</style>\n",
       "<table border=\"1\" class=\"dataframe\">\n",
       "  <thead>\n",
       "    <tr style=\"text-align: right;\">\n",
       "      <th></th>\n",
       "      <th>name</th>\n",
       "      <th>type</th>\n",
       "      <th>nullable</th>\n",
       "      <th>nrows</th>\n",
       "      <th>nnulls</th>\n",
       "      <th>cardinality</th>\n",
       "      <th>csvcellmin</th>\n",
       "      <th>csvcellmax</th>\n",
       "      <th>imin</th>\n",
       "      <th>imax</th>\n",
       "      <th>fmin</th>\n",
       "      <th>fmax</th>\n",
       "      <th>optimizations</th>\n",
       "    </tr>\n",
       "  </thead>\n",
       "  <tbody>\n",
       "    <tr>\n",
       "      <th>0</th>\n",
       "      <td>YEAR</td>\n",
       "      <td>int64</td>\n",
       "      <td>True</td>\n",
       "      <td>10</td>\n",
       "      <td>10</td>\n",
       "      <td>1</td>\n",
       "      <td>4.0</td>\n",
       "      <td>4.0</td>\n",
       "      <td>2009.0</td>\n",
       "      <td>2009.0</td>\n",
       "      <td>NaN</td>\n",
       "      <td>NaN</td>\n",
       "      <td>{'null_value_optimization': True, 'i8_range_co...</td>\n",
       "    </tr>\n",
       "    <tr>\n",
       "      <th>1</th>\n",
       "      <td>MONTH</td>\n",
       "      <td>int64</td>\n",
       "      <td>True</td>\n",
       "      <td>10</td>\n",
       "      <td>10</td>\n",
       "      <td>1</td>\n",
       "      <td>1.0</td>\n",
       "      <td>1.0</td>\n",
       "      <td>1.0</td>\n",
       "      <td>1.0</td>\n",
       "      <td>NaN</td>\n",
       "      <td>NaN</td>\n",
       "      <td>{'null_value_optimization': True, 'i8_range_co...</td>\n",
       "    </tr>\n",
       "    <tr>\n",
       "      <th>2</th>\n",
       "      <td>DAY_OF_WEEK</td>\n",
       "      <td>int64</td>\n",
       "      <td>True</td>\n",
       "      <td>10</td>\n",
       "      <td>10</td>\n",
       "      <td>7</td>\n",
       "      <td>1.0</td>\n",
       "      <td>1.0</td>\n",
       "      <td>1.0</td>\n",
       "      <td>7.0</td>\n",
       "      <td>NaN</td>\n",
       "      <td>NaN</td>\n",
       "      <td>{'null_value_optimization': True, 'i8_range_co...</td>\n",
       "    </tr>\n",
       "    <tr>\n",
       "      <th>3</th>\n",
       "      <td>CRS_DEP_TIME</td>\n",
       "      <td>int64</td>\n",
       "      <td>True</td>\n",
       "      <td>10</td>\n",
       "      <td>10</td>\n",
       "      <td>1</td>\n",
       "      <td>4.0</td>\n",
       "      <td>4.0</td>\n",
       "      <td>1503.0</td>\n",
       "      <td>1503.0</td>\n",
       "      <td>NaN</td>\n",
       "      <td>NaN</td>\n",
       "      <td>{'null_value_optimization': True, 'i8_range_co...</td>\n",
       "    </tr>\n",
       "    <tr>\n",
       "      <th>4</th>\n",
       "      <td>DEP_DELAY</td>\n",
       "      <td>float64</td>\n",
       "      <td>True</td>\n",
       "      <td>10</td>\n",
       "      <td>10</td>\n",
       "      <td>10</td>\n",
       "      <td>4.0</td>\n",
       "      <td>6.0</td>\n",
       "      <td>NaN</td>\n",
       "      <td>NaN</td>\n",
       "      <td>-12.0</td>\n",
       "      <td>71.0</td>\n",
       "      <td>{'null_value_optimization': True}</td>\n",
       "    </tr>\n",
       "  </tbody>\n",
       "</table>\n",
       "</div>"
      ],
      "text/plain": [
       "           name     type  nullable  nrows  nnulls  cardinality  csvcellmin  \\\n",
       "0          YEAR    int64      True     10      10            1         4.0   \n",
       "1         MONTH    int64      True     10      10            1         1.0   \n",
       "2   DAY_OF_WEEK    int64      True     10      10            7         1.0   \n",
       "3  CRS_DEP_TIME    int64      True     10      10            1         4.0   \n",
       "4     DEP_DELAY  float64      True     10      10           10         4.0   \n",
       "\n",
       "   csvcellmax    imin    imax  fmin  fmax  \\\n",
       "0         4.0  2009.0  2009.0   NaN   NaN   \n",
       "1         1.0     1.0     1.0   NaN   NaN   \n",
       "2         1.0     1.0     7.0   NaN   NaN   \n",
       "3         4.0  1503.0  1503.0   NaN   NaN   \n",
       "4         6.0     NaN     NaN -12.0  71.0   \n",
       "\n",
       "                                       optimizations  \n",
       "0  {'null_value_optimization': True, 'i8_range_co...  \n",
       "1  {'null_value_optimization': True, 'i8_range_co...  \n",
       "2  {'null_value_optimization': True, 'i8_range_co...  \n",
       "3  {'null_value_optimization': True, 'i8_range_co...  \n",
       "4                  {'null_value_optimization': True}  "
      ]
     },
     "execution_count": 143,
     "metadata": {},
     "output_type": "execute_result"
    }
   ],
   "source": [
    "df_stats.head()"
   ]
  },
  {
   "cell_type": "code",
   "execution_count": 194,
   "metadata": {},
   "outputs": [],
   "source": [
    "# for each column count how many of each optimizations are available\n",
    "df_this_file_opt = pd.DataFrame(list(df_stats['optimizations'].values))\n",
    "row = df_this_file_opt.sum().to_dict()\n",
    "row['path'] = path\n",
    "row['ncolumns'] = len(df.columns)\n",
    "\n",
    "rows = [row]\n",
    "df_opt = pd.DataFrame(rows)"
   ]
  },
  {
   "cell_type": "code",
   "execution_count": 195,
   "metadata": {},
   "outputs": [
    {
     "data": {
      "text/html": [
       "<div>\n",
       "<style scoped>\n",
       "    .dataframe tbody tr th:only-of-type {\n",
       "        vertical-align: middle;\n",
       "    }\n",
       "\n",
       "    .dataframe tbody tr th {\n",
       "        vertical-align: top;\n",
       "    }\n",
       "\n",
       "    .dataframe thead th {\n",
       "        text-align: right;\n",
       "    }\n",
       "</style>\n",
       "<table border=\"1\" class=\"dataframe\">\n",
       "  <thead>\n",
       "    <tr style=\"text-align: right;\">\n",
       "      <th></th>\n",
       "      <th>null_value_optimization</th>\n",
       "      <th>i8_range_compression</th>\n",
       "      <th>path</th>\n",
       "      <th>ncolumns</th>\n",
       "    </tr>\n",
       "  </thead>\n",
       "  <tbody>\n",
       "    <tr>\n",
       "      <th>0</th>\n",
       "      <td>20</td>\n",
       "      <td>5</td>\n",
       "      <td>/hot/data/flights/flights_on_time_performance_...</td>\n",
       "      <td>20</td>\n",
       "    </tr>\n",
       "  </tbody>\n",
       "</table>\n",
       "</div>"
      ],
      "text/plain": [
       "   null_value_optimization  i8_range_compression  \\\n",
       "0                       20                     5   \n",
       "\n",
       "                                                path  ncolumns  \n",
       "0  /hot/data/flights/flights_on_time_performance_...        20  "
      ]
     },
     "execution_count": 195,
     "metadata": {},
     "output_type": "execute_result"
    }
   ],
   "source": [
    "df_opt"
   ]
  },
  {
   "cell_type": "code",
   "execution_count": 214,
   "metadata": {},
   "outputs": [
    {
     "data": {
      "text/plain": [
       "(1, 5)"
      ]
     },
     "execution_count": 214,
     "metadata": {},
     "output_type": "execute_result"
    }
   ],
   "source": [
    "# plot how many files could have optimizations!\n",
    "name = os.path.basename(path)\n",
    "\n",
    "names = list(df_opt.path.apply(os.path.basename).values)\n",
    "n_names = len(df_opt)\n",
    "\n",
    "n_opts = len(optimization_list)\n",
    "\n",
    "count_matrix = np.zeros((n_names, n_opts)) * np.nan\n",
    "\n",
    "# fill in from rows\n",
    "for idx, row in df_opt.iterrows():\n",
    "    row = row.to_dict()\n",
    "    for key, value in row.items():\n",
    "        if key in optimization_list:\n",
    "            j = optimization_list.index(key)\n",
    "            count_matrix[idx, j] = value\n",
    "count_matrix.shape"
   ]
  },
  {
   "cell_type": "code",
   "execution_count": 216,
   "metadata": {},
   "outputs": [
    {
     "data": {
      "text/plain": [
       "['flights_on_time_performance_2009_01.csv']"
      ]
     },
     "execution_count": 216,
     "metadata": {},
     "output_type": "execute_result"
    }
   ],
   "source": [
    "names"
   ]
  },
  {
   "cell_type": "code",
   "execution_count": 218,
   "metadata": {},
   "outputs": [
    {
     "data": {
      "text/plain": [
       "<matplotlib.colors.LinearSegmentedColormap at 0x7f35d41f12b0>"
      ]
     },
     "execution_count": 218,
     "metadata": {},
     "output_type": "execute_result"
    }
   ],
   "source": []
  },
  {
   "cell_type": "code",
   "execution_count": null,
   "metadata": {},
   "outputs": [],
   "source": [
    "import copy\n",
    "fig, ax = plt.subplots()\n",
    "\n",
    "min_val, max_val = 0, len(df.columns)\n",
    "\n",
    "cmap = copy.copy(plt.cm.get_cmap(\"Blues\"))\n",
    "cmap.set_bad('gray',1.)\n",
    "ax.matshow(count_matrix, cmap=cmap)\n",
    "\n",
    "for i in range(count_matrix.shape[1]):\n",
    "    for j in range(count_matrix.shape[0]):\n",
    "        c = count_matrix[j,i]\n",
    "        if not math.isnan(c):\n",
    "            txt = ax.text(i, j, str(int(c)), va='center', ha='center', fontsize=28)\n",
    "            # cf. https://osxastrotricks.wordpress.com/2014/12/02/add-border-around-text-with-matplotlib/\n",
    "            txt.set_path_effects([path_effects.Stroke(linewidth=2, foreground='white'),\n",
    "                       path_effects.Normal()])\n",
    "# ticks are names of files\n",
    "\n",
    "ax = plt.gca();\n",
    "\n",
    "# Major ticks\n",
    "ax.set_xticks(np.arange(0, n_opts, 1))\n",
    "ax.set_yticks(np.arange(0, n_names, 1))\n",
    "\n",
    "# Labels for major ticks\n",
    "# ax.set_xticklabels(np.arange(1, n_opts + 1, 1))\n",
    "ax.set_xticklabels(optimization_list, rotation = 90)\n",
    "# ax.set_yticklabels(np.arange(1, n_names + 1, 1))\n",
    "ax.set_yticklabels(names)\n",
    "\n",
    "# Minor ticks\n",
    "ax.set_xticks(np.arange(-.5, n_opts, 1), minor=True)\n",
    "ax.set_yticks(np.arange(-.5, n_names, 1), minor=True)\n",
    "\n",
    "# Gridlines based on minor ticks\n",
    "ax.grid(which='minor', color='w', linestyle='-', linewidth=2)"
   ]
  },
  {
   "cell_type": "code",
   "execution_count": 230,
   "metadata": {},
   "outputs": [
    {
     "ename": "ModuleNotFoundError",
     "evalue": "No module named 'matplotlib.pyplot.patheffects'; 'matplotlib.pyplot' is not a package",
     "output_type": "error",
     "traceback": [
      "\u001b[0;31m---------------------------------------------------------------------------\u001b[0m",
      "\u001b[0;31mModuleNotFoundError\u001b[0m                       Traceback (most recent call last)",
      "\u001b[0;32m<ipython-input-230-58874e0a320c>\u001b[0m in \u001b[0;36m<module>\u001b[0;34m\u001b[0m\n\u001b[0;32m----> 1\u001b[0;31m \u001b[0;32mfrom\u001b[0m \u001b[0mmatplotlib\u001b[0m\u001b[0;34m.\u001b[0m\u001b[0mpyplot\u001b[0m\u001b[0;34m.\u001b[0m\u001b[0mpatheffects\u001b[0m \u001b[0;32mimport\u001b[0m \u001b[0mPathEffects\u001b[0m\u001b[0;34m\u001b[0m\u001b[0;34m\u001b[0m\u001b[0m\n\u001b[0m",
      "\u001b[0;31mModuleNotFoundError\u001b[0m: No module named 'matplotlib.pyplot.patheffects'; 'matplotlib.pyplot' is not a package"
     ]
    }
   ],
   "source": [
    "import matplotlib.patheffects as path_effects"
   ]
  },
  {
   "cell_type": "code",
   "execution_count": 179,
   "metadata": {},
   "outputs": [
    {
     "data": {
      "text/plain": [
       "['flights_on_time_performance_2009_01.csv']"
      ]
     },
     "execution_count": 179,
     "metadata": {},
     "output_type": "execute_result"
    }
   ],
   "source": [
    "names"
   ]
  },
  {
   "cell_type": "code",
   "execution_count": null,
   "metadata": {},
   "outputs": [],
   "source": []
  },
  {
   "cell_type": "code",
   "execution_count": null,
   "metadata": {},
   "outputs": [],
   "source": [
    "masked_array = np.ma.array (a, mask=np.isnan(a))\n",
    "cmap = matplotlib.cm.jet\n",
    "cmap.set_bad('white',1.)\n",
    "ax.imshow(masked_array, interpolation='nearest', cmap=cmap)"
   ]
  },
  {
   "cell_type": "code",
   "execution_count": 147,
   "metadata": {},
   "outputs": [
    {
     "data": {
      "image/png": "[encoded data removed]",
      "text/plain": [
       "<Figure size 432x288 with 1 Axes>"
      ]
     },
     "metadata": {
      "needs_background": "light"
     },
     "output_type": "display_data"
    }
   ],
   "source": [
    "fig, ax = plt.subplots()\n",
    "\n",
    "min_val, max_val = 0, 15\n",
    "\n",
    "intersection_matrix = np.random.randint(0, 10, size=(max_val, max_val))\n",
    "\n",
    "ax.matshow(intersection_matrix, cmap=plt.cm.Blues)\n",
    "\n",
    "for i in range(15):\n",
    "    for j in range(15):\n",
    "        c = intersection_matrix[j,i]\n",
    "        ax.text(i, j, str(c), va='center', ha='center')"
   ]
  },
  {
   "cell_type": "code",
   "execution_count": null,
   "metadata": {},
   "outputs": [],
   "source": []
  }
 ],
 "metadata": {
  "kernelspec": {
   "display_name": "Python 3",
   "language": "python",
   "name": "python3"
  },
  "language_info": {
   "codemirror_mode": {
    "name": "ipython",
    "version": 3
   },
   "file_extension": ".py",
   "mimetype": "text/x-python",
   "name": "python",
   "nbconvert_exporter": "python",
   "pygments_lexer": "ipython3",
   "version": "3.6.9"
  }
 },
 "nbformat": 4,
 "nbformat_minor": 4
}
