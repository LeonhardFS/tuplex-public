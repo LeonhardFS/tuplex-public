{
 "cells": [
  {
   "cell_type": "code",
   "execution_count": null,
   "metadata": {},
   "outputs": [],
   "source": [
    "import pandas as pd\n",
    "import matplotlib.pyplot as plt\n",
    "import matplotlib.patheffects as path_effects\n",
    "import os\n",
    "import glob\n",
    "import json\n",
    "import csv\n",
    "import sys\n",
    "import numpy as np\n",
    "import math\n",
    "import functools\n",
    "from tqdm import tqdm"
   ]
  },
  {
   "cell_type": "code",
   "execution_count": null,
   "metadata": {},
   "outputs": [],
   "source": [
    "!ls /hot/data/flights/*.csv | head"
   ]
  },
  {
   "cell_type": "code",
   "execution_count": null,
   "metadata": {},
   "outputs": [],
   "source": [
    "df = pd.read_csv('/hot/data/flights/flights_on_time_performance_2009_01.csv', nrows=10)\n",
    "cleaned_columns = list(map(lambda x: x.lower(), list(df.columns)))"
   ]
  },
  {
   "cell_type": "code",
   "execution_count": 4,
   "metadata": {},
   "outputs": [
    {
     "data": {
      "text/html": [
       "<div>\n",
       "<style scoped>\n",
       "    .dataframe tbody tr th:only-of-type {\n",
       "        vertical-align: middle;\n",
       "    }\n",
       "\n",
       "    .dataframe tbody tr th {\n",
       "        vertical-align: top;\n",
       "    }\n",
       "\n",
       "    .dataframe thead th {\n",
       "        text-align: right;\n",
       "    }\n",
       "</style>\n",
       "<table border=\"1\" class=\"dataframe\">\n",
       "  <thead>\n",
       "    <tr style=\"text-align: right;\">\n",
       "      <th></th>\n",
       "      <th>YEAR</th>\n",
       "      <th>QUARTER</th>\n",
       "      <th>MONTH</th>\n",
       "      <th>DAY_OF_MONTH</th>\n",
       "      <th>DAY_OF_WEEK</th>\n",
       "      <th>FL_DATE</th>\n",
       "      <th>OP_UNIQUE_CARRIER</th>\n",
       "      <th>OP_CARRIER_AIRLINE_ID</th>\n",
       "      <th>OP_CARRIER</th>\n",
       "      <th>TAIL_NUM</th>\n",
       "      <th>...</th>\n",
       "      <th>DIV4_TAIL_NUM</th>\n",
       "      <th>DIV5_AIRPORT</th>\n",
       "      <th>DIV5_AIRPORT_ID</th>\n",
       "      <th>DIV5_AIRPORT_SEQ_ID</th>\n",
       "      <th>DIV5_WHEELS_ON</th>\n",
       "      <th>DIV5_TOTAL_GTIME</th>\n",
       "      <th>DIV5_LONGEST_GTIME</th>\n",
       "      <th>DIV5_WHEELS_OFF</th>\n",
       "      <th>DIV5_TAIL_NUM</th>\n",
       "      <th>Unnamed: 109</th>\n",
       "    </tr>\n",
       "  </thead>\n",
       "  <tbody>\n",
       "    <tr>\n",
       "      <th>0</th>\n",
       "      <td>2009</td>\n",
       "      <td>1</td>\n",
       "      <td>1</td>\n",
       "      <td>18</td>\n",
       "      <td>7</td>\n",
       "      <td>2009-01-18</td>\n",
       "      <td>9E</td>\n",
       "      <td>20363</td>\n",
       "      <td>9E</td>\n",
       "      <td>87099E</td>\n",
       "      <td>...</td>\n",
       "      <td>NaN</td>\n",
       "      <td>NaN</td>\n",
       "      <td>NaN</td>\n",
       "      <td>NaN</td>\n",
       "      <td>NaN</td>\n",
       "      <td>NaN</td>\n",
       "      <td>NaN</td>\n",
       "      <td>NaN</td>\n",
       "      <td>NaN</td>\n",
       "      <td>NaN</td>\n",
       "    </tr>\n",
       "    <tr>\n",
       "      <th>1</th>\n",
       "      <td>2009</td>\n",
       "      <td>1</td>\n",
       "      <td>1</td>\n",
       "      <td>19</td>\n",
       "      <td>1</td>\n",
       "      <td>2009-01-19</td>\n",
       "      <td>9E</td>\n",
       "      <td>20363</td>\n",
       "      <td>9E</td>\n",
       "      <td>87459E</td>\n",
       "      <td>...</td>\n",
       "      <td>NaN</td>\n",
       "      <td>NaN</td>\n",
       "      <td>NaN</td>\n",
       "      <td>NaN</td>\n",
       "      <td>NaN</td>\n",
       "      <td>NaN</td>\n",
       "      <td>NaN</td>\n",
       "      <td>NaN</td>\n",
       "      <td>NaN</td>\n",
       "      <td>NaN</td>\n",
       "    </tr>\n",
       "    <tr>\n",
       "      <th>2</th>\n",
       "      <td>2009</td>\n",
       "      <td>1</td>\n",
       "      <td>1</td>\n",
       "      <td>20</td>\n",
       "      <td>2</td>\n",
       "      <td>2009-01-20</td>\n",
       "      <td>9E</td>\n",
       "      <td>20363</td>\n",
       "      <td>9E</td>\n",
       "      <td>89249E</td>\n",
       "      <td>...</td>\n",
       "      <td>NaN</td>\n",
       "      <td>NaN</td>\n",
       "      <td>NaN</td>\n",
       "      <td>NaN</td>\n",
       "      <td>NaN</td>\n",
       "      <td>NaN</td>\n",
       "      <td>NaN</td>\n",
       "      <td>NaN</td>\n",
       "      <td>NaN</td>\n",
       "      <td>NaN</td>\n",
       "    </tr>\n",
       "    <tr>\n",
       "      <th>3</th>\n",
       "      <td>2009</td>\n",
       "      <td>1</td>\n",
       "      <td>1</td>\n",
       "      <td>21</td>\n",
       "      <td>3</td>\n",
       "      <td>2009-01-21</td>\n",
       "      <td>9E</td>\n",
       "      <td>20363</td>\n",
       "      <td>9E</td>\n",
       "      <td>80259E</td>\n",
       "      <td>...</td>\n",
       "      <td>NaN</td>\n",
       "      <td>NaN</td>\n",
       "      <td>NaN</td>\n",
       "      <td>NaN</td>\n",
       "      <td>NaN</td>\n",
       "      <td>NaN</td>\n",
       "      <td>NaN</td>\n",
       "      <td>NaN</td>\n",
       "      <td>NaN</td>\n",
       "      <td>NaN</td>\n",
       "    </tr>\n",
       "    <tr>\n",
       "      <th>4</th>\n",
       "      <td>2009</td>\n",
       "      <td>1</td>\n",
       "      <td>1</td>\n",
       "      <td>22</td>\n",
       "      <td>4</td>\n",
       "      <td>2009-01-22</td>\n",
       "      <td>9E</td>\n",
       "      <td>20363</td>\n",
       "      <td>9E</td>\n",
       "      <td>89239E</td>\n",
       "      <td>...</td>\n",
       "      <td>NaN</td>\n",
       "      <td>NaN</td>\n",
       "      <td>NaN</td>\n",
       "      <td>NaN</td>\n",
       "      <td>NaN</td>\n",
       "      <td>NaN</td>\n",
       "      <td>NaN</td>\n",
       "      <td>NaN</td>\n",
       "      <td>NaN</td>\n",
       "      <td>NaN</td>\n",
       "    </tr>\n",
       "  </tbody>\n",
       "</table>\n",
       "<p>5 rows × 110 columns</p>\n",
       "</div>"
      ],
      "text/plain": [
       "   YEAR  QUARTER  MONTH  DAY_OF_MONTH  DAY_OF_WEEK     FL_DATE  \\\n",
       "0  2009        1      1            18            7  2009-01-18   \n",
       "1  2009        1      1            19            1  2009-01-19   \n",
       "2  2009        1      1            20            2  2009-01-20   \n",
       "3  2009        1      1            21            3  2009-01-21   \n",
       "4  2009        1      1            22            4  2009-01-22   \n",
       "\n",
       "  OP_UNIQUE_CARRIER  OP_CARRIER_AIRLINE_ID OP_CARRIER TAIL_NUM  ...  \\\n",
       "0                9E                  20363         9E   87099E  ...   \n",
       "1                9E                  20363         9E   87459E  ...   \n",
       "2                9E                  20363         9E   89249E  ...   \n",
       "3                9E                  20363         9E   80259E  ...   \n",
       "4                9E                  20363         9E   89239E  ...   \n",
       "\n",
       "   DIV4_TAIL_NUM  DIV5_AIRPORT  DIV5_AIRPORT_ID  DIV5_AIRPORT_SEQ_ID  \\\n",
       "0            NaN           NaN              NaN                  NaN   \n",
       "1            NaN           NaN              NaN                  NaN   \n",
       "2            NaN           NaN              NaN                  NaN   \n",
       "3            NaN           NaN              NaN                  NaN   \n",
       "4            NaN           NaN              NaN                  NaN   \n",
       "\n",
       "  DIV5_WHEELS_ON DIV5_TOTAL_GTIME DIV5_LONGEST_GTIME  DIV5_WHEELS_OFF  \\\n",
       "0            NaN              NaN                NaN              NaN   \n",
       "1            NaN              NaN                NaN              NaN   \n",
       "2            NaN              NaN                NaN              NaN   \n",
       "3            NaN              NaN                NaN              NaN   \n",
       "4            NaN              NaN                NaN              NaN   \n",
       "\n",
       "  DIV5_TAIL_NUM  Unnamed: 109  \n",
       "0           NaN           NaN  \n",
       "1           NaN           NaN  \n",
       "2           NaN           NaN  \n",
       "3           NaN           NaN  \n",
       "4           NaN           NaN  \n",
       "\n",
       "[5 rows x 110 columns]"
      ]
     },
     "execution_count": 4,
     "metadata": {},
     "output_type": "execute_result"
    }
   ],
   "source": [
    "df.head()"
   ]
  },
  {
   "cell_type": "code",
   "execution_count": null,
   "metadata": {},
   "outputs": [],
   "source": []
  },
  {
   "cell_type": "code",
   "execution_count": 5,
   "metadata": {},
   "outputs": [],
   "source": [
    "output_columns = ['CarrierName', 'CarrierCode', 'FlightNumber',\n",
    "                               'Day', 'Month', 'Year', 'DayOfWeek',\n",
    "                               'OriginCity', 'OriginState', 'OriginAirportIATACode', 'OriginLongitude', 'OriginLatitude',\n",
    "                               'OriginAltitude',\n",
    "                               'DestCity', 'DestState', 'DestAirportIATACode', 'DestLongitude', 'DestLatitude', 'DestAltitude',\n",
    "                               'Distance',\n",
    "                               'CancellationReason', 'Cancelled', 'Diverted', 'CrsArrTime', 'CrsDepTime',\n",
    "                               'ActualElapsedTime', 'AirTime', 'ArrDelay',\n",
    "                               'CarrierDelay', 'CrsElapsedTime',\n",
    "                               'DepDelay', 'LateAircraftDelay', 'NasDelay',\n",
    "                               'SecurityDelay', 'TaxiIn', 'TaxiOut', 'WeatherDelay',\n",
    "                               'AirlineYearFounded', 'AirlineYearDefunct']"
   ]
  },
  {
   "cell_type": "code",
   "execution_count": 6,
   "metadata": {},
   "outputs": [],
   "source": [
    "Sfinal = set(map(lambda x: x.lower(), output_columns))"
   ]
  },
  {
   "cell_type": "code",
   "execution_count": 7,
   "metadata": {},
   "outputs": [],
   "source": [
    "Sinput = set(map(lambda x: x.replace('_', ''), cleaned_columns))"
   ]
  },
  {
   "cell_type": "code",
   "execution_count": 8,
   "metadata": {},
   "outputs": [],
   "source": [
    "csvinput_cols = Sinput & Sfinal"
   ]
  },
  {
   "cell_type": "code",
   "execution_count": 9,
   "metadata": {},
   "outputs": [
    {
     "data": {
      "text/plain": [
       "{'actualelapsedtime',\n",
       " 'airtime',\n",
       " 'arrdelay',\n",
       " 'cancelled',\n",
       " 'carrierdelay',\n",
       " 'crsarrtime',\n",
       " 'crsdeptime',\n",
       " 'crselapsedtime',\n",
       " 'dayofweek',\n",
       " 'depdelay',\n",
       " 'distance',\n",
       " 'diverted',\n",
       " 'lateaircraftdelay',\n",
       " 'month',\n",
       " 'nasdelay',\n",
       " 'securitydelay',\n",
       " 'taxiin',\n",
       " 'taxiout',\n",
       " 'weatherdelay',\n",
       " 'year'}"
      ]
     },
     "execution_count": 9,
     "metadata": {},
     "output_type": "execute_result"
    }
   ],
   "source": [
    "# indices\n",
    "csvinput_cols"
   ]
  },
  {
   "cell_type": "code",
   "execution_count": 10,
   "metadata": {
    "scrolled": false
   },
   "outputs": [],
   "source": [
    "normalcols = [name.replace('_', '') for name in cleaned_columns]"
   ]
  },
  {
   "cell_type": "code",
   "execution_count": 11,
   "metadata": {},
   "outputs": [],
   "source": [
    "relevant_column_pairs = sorted([(name, normalcols.index(name)) for name in csvinput_cols], key=lambda x: x[1])"
   ]
  },
  {
   "cell_type": "code",
   "execution_count": 12,
   "metadata": {},
   "outputs": [
    {
     "data": {
      "text/plain": [
       "(['year',\n",
       "  'month',\n",
       "  'dayofweek',\n",
       "  'crsdeptime',\n",
       "  'depdelay',\n",
       "  'taxiout',\n",
       "  'taxiin',\n",
       "  'crsarrtime',\n",
       "  'arrdelay',\n",
       "  'cancelled',\n",
       "  'diverted',\n",
       "  'crselapsedtime',\n",
       "  'actualelapsedtime',\n",
       "  'airtime',\n",
       "  'distance',\n",
       "  'carrierdelay',\n",
       "  'weatherdelay',\n",
       "  'nasdelay',\n",
       "  'securitydelay',\n",
       "  'lateaircraftdelay'],\n",
       " [0, 2, 4, 29, 31, 36, 39, 40, 42, 47, 49, 50, 51, 52, 54, 56, 57, 58, 59, 60])"
      ]
     },
     "execution_count": 12,
     "metadata": {},
     "output_type": "execute_result"
    }
   ],
   "source": [
    "relevant_columns = [t[0] for t in relevant_column_pairs]\n",
    "relevant_indices = [t[1] for t in relevant_column_pairs]\n",
    "relevant_columns, relevant_indices"
   ]
  },
  {
   "cell_type": "code",
   "execution_count": 13,
   "metadata": {},
   "outputs": [],
   "source": [
    "# should parse delayed? --> do so if representation is SMALLER than smallest optimized representation that's possible.\n",
    "# for each column compute statistics\n",
    "\n",
    "# needs df, df_str\n",
    "def get_stats(df, df_str):\n",
    "    stats = []\n",
    "    for c in df.columns:\n",
    "        stat = {'name' : c, 'type': str(df[c].dtype)}\n",
    "\n",
    "        null_count = df[c].isna().count()\n",
    "        stat['nullable'] = null_count > 0\n",
    "        stat['nrows'] = len(df[c])\n",
    "        stat['nnulls'] = null_count\n",
    "        stat['cardinality'] = len(df[c].unique())\n",
    "\n",
    "        # csv data from str dataframe!\n",
    "        stat['csvcellmin'] = df_str[c].str.len().min()\n",
    "        stat['csvcellmax'] = df_str[c].str.len().max()\n",
    "\n",
    "        if stat['type'] == 'int64':\n",
    "            # check min/max\n",
    "            stat['imin'] = int(df[c].min())\n",
    "            stat['imax'] = int(df[c].max())\n",
    "\n",
    "        if stat['type'] == 'float64':\n",
    "            stat['fmin'] = df[c].min()\n",
    "            stat['fmax'] = df[c].max()\n",
    "\n",
    "        stats.append(stat)\n",
    "    return pd.DataFrame(stats)\n"
   ]
  },
  {
   "cell_type": "code",
   "execution_count": 14,
   "metadata": {},
   "outputs": [],
   "source": [
    "optimization_list = ['null_value_optimization', 'i8_range_compression',\n",
    "                     'i16_range_compression',\n",
    "                     'i24_range_compression',\n",
    "                    'range_compression_optimization',\n",
    "                    'delay_parsing',\n",
    "                    'dict_singlebyte_encoding',\n",
    "                    'dict_encoding']\n",
    "\n",
    "# now for each column, decide which optimization is possible!\n",
    "def determine_col_optimizations(row, threshold=0.05):\n",
    "    # NVO?\n",
    "    # null values form more than 95% of all rows or less than 5% of all optimizations\n",
    "    null_ratio = row['nnulls'] / row['nrows']\n",
    "    null_optimization = null_ratio <= threshold or null_ratio >= 1.0 - threshold\n",
    "    \n",
    "    opts = {'null_value_optimization' : null_optimization}\n",
    "    \n",
    "    # integer range squeeze?\n",
    "    if not math.isnan(row['imin']) and not math.isnan(row['imax']):\n",
    "        imax_range = int(row['imax']) - int(row['imin'])\n",
    "    \n",
    "        # can we compress to 4 bytes, 2 bytes, 1 byte?\n",
    "        if imax_range < 2**8:\n",
    "            opts['i8_range_compression'] = True\n",
    "        if imax_range < 2**16:\n",
    "            opts['i16_range_compression'] = True\n",
    "        if imax_range < 2**24:\n",
    "            opts['i24_range_compression'] = True\n",
    "        if imax_range < 2**32:\n",
    "            opts['i32_range_compression'] = True\n",
    "            opts['range_compression_optimization'] = True\n",
    "            \n",
    "    # check whether cell size is < 7 bytes -> delay parsing!\n",
    "    # use 7 here to reserve 1 byte for length/flags\n",
    "    csv_max_cell_size = row['csvcellmax'] - row['csvcellmin'] + 1\n",
    "    opts['delay_parsing'] = csv_max_cell_size <= 7\n",
    "        \n",
    "    # dictionary encoding\n",
    "    card = row['cardinality']\n",
    "    max_dict_size = 2 ** 16\n",
    "    if card < 2**8:\n",
    "        opts['dict_singlebyte_encoding'] = True\n",
    "    if card <= max_dict_size:\n",
    "        opts['dict_encoding'] = True\n",
    "    \n",
    "    #raise Exception()\n",
    "    return opts\n",
    "    "
   ]
  },
  {
   "cell_type": "code",
   "execution_count": 17,
   "metadata": {},
   "outputs": [],
   "source": [
    "# function to determine how many columns can do each optimization (no details, simple analysis)\n",
    "def detect_file_specific_optimizations(path, relevant_indices=None, threshold=0.05):\n",
    "    df = pd.read_csv(path, usecols=relevant_indices, low_memory=False)\n",
    "    df_str = pd.read_csv(path, dtype=str, usecols=relevant_indices, low_memory=False)\n",
    "    \n",
    "    df_stats = get_stats(df, df_str)\n",
    "    df_stats['optimizations'] = df_stats.apply(functools.partial(determine_col_optimizations), axis=1)\n",
    "    \n",
    "    # for each column count how many of each optimizations are available\n",
    "    df_this_file_opt = pd.DataFrame(list(df_stats['optimizations'].values))\n",
    "    row = df_this_file_opt.sum().to_dict()\n",
    "    row['path'] = path\n",
    "    row['ncolumns'] = len(df.columns)\n",
    "\n",
    "    return row"
   ]
  },
  {
   "cell_type": "code",
   "execution_count": 16,
   "metadata": {},
   "outputs": [
    {
     "name": "stderr",
     "output_type": "stream",
     "text": [
      "/home/lspiegel/.local/lib/python3.6/site-packages/ipython-7.13.0-py3.6.egg/IPython/core/interactiveshell.py:3254: DtypeWarning: Columns (77,84) have mixed types.Specify dtype option on import or set low_memory=False.\n",
      "  if (await self.run_code(code, result,  async_=asy)):\n"
     ]
    }
   ],
   "source": [
    "path = '/hot/data/flights/flights_on_time_performance_2009_01.csv'\n",
    "row = detect_file_specific_optimizations(path)"
   ]
  },
  {
   "cell_type": "code",
   "execution_count": 19,
   "metadata": {},
   "outputs": [],
   "source": [
    "# run detection over all files (this might take a while!!!)\n",
    "paths = glob.glob('/hot/data/flights/flights_on_time_performance_*.csv')"
   ]
  },
  {
   "cell_type": "code",
   "execution_count": null,
   "metadata": {},
   "outputs": [
    {
     "name": "stderr",
     "output_type": "stream",
     "text": [
      " 32%|███▏      | 42/132 [57:29<1:56:24, 77.61s/it]"
     ]
    }
   ],
   "source": [
    "rows = []\n",
    "for path in tqdm(paths):\n",
    "    row = detect_file_specific_optimizations(path)\n",
    "    rows.append(row)"
   ]
  },
  {
   "cell_type": "code",
   "execution_count": 18,
   "metadata": {},
   "outputs": [
    {
     "data": {
      "text/plain": [
       "{'null_value_optimization': 110,\n",
       " 'i8_range_compression': 11,\n",
       " 'i16_range_compression': 19,\n",
       " 'i24_range_compression': 21,\n",
       " 'i32_range_compression': 21,\n",
       " 'range_compression_optimization': 21,\n",
       " 'delay_parsing': 81,\n",
       " 'dict_singlebyte_encoding': 74,\n",
       " 'dict_encoding': 110,\n",
       " 'path': '/hot/data/flights/flights_on_time_performance_2009_01.csv',\n",
       " 'ncolumns': 110}"
      ]
     },
     "execution_count": 18,
     "metadata": {},
     "output_type": "execute_result"
    }
   ],
   "source": [
    "row"
   ]
  },
  {
   "cell_type": "markdown",
   "metadata": {},
   "source": [
    "Plot figure out of specialization across files"
   ]
  },
  {
   "cell_type": "code",
   "execution_count": null,
   "metadata": {},
   "outputs": [],
   "source": [
    "# plot how many files could have optimizations!\n",
    "name = os.path.basename(path)\n",
    "\n",
    "names = ['FULLY SPECIALIZED'] + list(df_opt.path.apply(os.path.basename).values)\n",
    "n_names = len(names)\n",
    "\n",
    "n_opts = len(optimization_list)\n",
    "\n",
    "count_matrix = np.zeros((n_names, n_opts)) * np.nan\n",
    "n_columns = df_opt.iloc[0]['ncolumns']\n",
    "\n",
    "\n",
    "# fill in first row with ncolumns\n",
    "count_matrix[0, :] = n_columns\n",
    "\n",
    "# fill in from rows\n",
    "for idx, row in df_opt.iterrows():\n",
    "    row = row.to_dict()\n",
    "    for key, value in row.items():\n",
    "        if key in optimization_list:\n",
    "            j = optimization_list.index(key)\n",
    "            count_matrix[idx + 1, j] = value\n",
    "count_matrix.shape"
   ]
  },
  {
   "cell_type": "code",
   "execution_count": null,
   "metadata": {},
   "outputs": [],
   "source": [
    "import copy\n",
    "fig, ax = plt.subplots()\n",
    "\n",
    "min_val, max_val = 0, len(df.columns)\n",
    "\n",
    "cmap = copy.copy(plt.cm.get_cmap(\"Blues\"))\n",
    "cmap.set_bad('gray',1.)\n",
    "ax.matshow(count_matrix, cmap=cmap)\n",
    "\n",
    "for i in range(count_matrix.shape[1]):\n",
    "    for j in range(count_matrix.shape[0]):\n",
    "        c = count_matrix[j,i]\n",
    "        if not math.isnan(c):\n",
    "            txt = ax.text(i, j, str(int(c)), va='center', ha='center', fontsize=28)\n",
    "            # cf. https://osxastrotricks.wordpress.com/2014/12/02/add-border-around-text-with-matplotlib/\n",
    "            txt.set_path_effects([path_effects.Stroke(linewidth=2, foreground='white'),\n",
    "                       path_effects.Normal()])\n",
    "# ticks are names of files\n",
    "\n",
    "ax = plt.gca();\n",
    "\n",
    "# Major ticks\n",
    "ax.set_xticks(np.arange(0, n_opts, 1))\n",
    "ax.set_yticks(np.arange(0, n_names, 1))\n",
    "\n",
    "# Labels for major ticks\n",
    "# ax.set_xticklabels(np.arange(1, n_opts + 1, 1))\n",
    "ax.set_xticklabels(optimization_list, rotation = 90)\n",
    "# ax.set_yticklabels(np.arange(1, n_names + 1, 1))\n",
    "ax.set_yticklabels(names)\n",
    "\n",
    "# Minor ticks\n",
    "ax.set_xticks(np.arange(-.5, n_opts, 1), minor=True)\n",
    "ax.set_yticks(np.arange(-.5, n_names, 1), minor=True)\n",
    "\n",
    "# Gridlines based on minor ticks\n",
    "ax.grid(which='minor', color='w', linestyle='-', linewidth=2)"
   ]
  },
  {
   "cell_type": "code",
   "execution_count": null,
   "metadata": {},
   "outputs": [],
   "source": []
  },
  {
   "cell_type": "code",
   "execution_count": null,
   "metadata": {},
   "outputs": [],
   "source": []
  },
  {
   "cell_type": "code",
   "execution_count": null,
   "metadata": {},
   "outputs": [],
   "source": [
    "names"
   ]
  },
  {
   "cell_type": "code",
   "execution_count": null,
   "metadata": {},
   "outputs": [],
   "source": []
  },
  {
   "cell_type": "code",
   "execution_count": null,
   "metadata": {},
   "outputs": [],
   "source": [
    "masked_array = np.ma.array (a, mask=np.isnan(a))\n",
    "cmap = matplotlib.cm.jet\n",
    "cmap.set_bad('white',1.)\n",
    "ax.imshow(masked_array, interpolation='nearest', cmap=cmap)"
   ]
  },
  {
   "cell_type": "code",
   "execution_count": null,
   "metadata": {},
   "outputs": [],
   "source": [
    "fig, ax = plt.subplots()\n",
    "\n",
    "min_val, max_val = 0, 15\n",
    "\n",
    "intersection_matrix = np.random.randint(0, 10, size=(max_val, max_val))\n",
    "\n",
    "ax.matshow(intersection_matrix, cmap=plt.cm.Blues)\n",
    "\n",
    "for i in range(15):\n",
    "    for j in range(15):\n",
    "        c = intersection_matrix[j,i]\n",
    "        ax.text(i, j, str(c), va='center', ha='center')"
   ]
  },
  {
   "cell_type": "code",
   "execution_count": null,
   "metadata": {},
   "outputs": [],
   "source": []
  },
  {
   "cell_type": "code",
   "execution_count": null,
   "metadata": {},
   "outputs": [],
   "source": [
    "# filter specialization for each file!!!\n",
    "\n",
    "# could write benchmark with two numbers -> parse, then specialize!"
   ]
  }
 ],
 "metadata": {
  "kernelspec": {
   "display_name": "Python 3",
   "language": "python",
   "name": "python3"
  },
  "language_info": {
   "codemirror_mode": {
    "name": "ipython",
    "version": 3
   },
   "file_extension": ".py",
   "mimetype": "text/x-python",
   "name": "python",
   "nbconvert_exporter": "python",
   "pygments_lexer": "ipython3",
   "version": "3.6.9"
  }
 },
 "nbformat": 4,
 "nbformat_minor": 4
}
