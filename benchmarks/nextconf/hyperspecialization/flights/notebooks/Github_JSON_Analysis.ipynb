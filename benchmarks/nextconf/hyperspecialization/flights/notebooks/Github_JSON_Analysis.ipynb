{
 "cells": [
  {
   "cell_type": "code",
   "execution_count": 2,
   "metadata": {},
   "outputs": [],
   "source": [
    "import pandas as pd\n",
    "import json\n",
    "import zipfile\n",
    "import gzip\n",
    "import glob\n",
    "import os"
   ]
  },
  {
   "cell_type": "code",
   "execution_count": 7,
   "metadata": {},
   "outputs": [
    {
     "name": "stdout",
     "output_type": "stream",
     "text": [
      "2011-02-12-0.json.gz\n",
      "2011-02-12-10.json.gz\n",
      "2011-02-12-11.json.gz\n",
      "2011-02-12-12.json.gz\n",
      "2011-02-12-13.json.gz\n",
      "2011-02-12-14.json.gz\n",
      "2011-02-12-15.json.gz\n",
      "2011-02-12-16.json.gz\n",
      "2011-02-12-17.json.gz\n",
      "2011-02-12-18.json.gz\n",
      "ls: write error: Broken pipe\n"
     ]
    }
   ],
   "source": [
    "!ls /disk/download/data/ | head"
   ]
  },
  {
   "cell_type": "code",
   "execution_count": 17,
   "metadata": {},
   "outputs": [],
   "source": [
    "path = '/disk/download/data/2011-02-12-0.json.gz'\n",
    "\n",
    "with gzip.open(path, 'rb') as f:\n",
    "    file_content = f.read().decode()\n",
    "    \n",
    "    rows = [json.loads(line) for line in file_content.split('\\n') if len(line) > 0]"
   ]
  },
  {
   "cell_type": "code",
   "execution_count": 19,
   "metadata": {},
   "outputs": [
    {
     "data": {
      "text/plain": [
       "{'repo': {'id': 355634,\n",
       "  'url': 'https://api.github.dev/repos/projectblacklight/blacklight',\n",
       "  'name': 'projectblacklight/blacklight'},\n",
       " 'type': 'PushEvent',\n",
       " 'org': {'gravatar_id': '6cb76a4a521c36d96a0583e7c45eaf95',\n",
       "  'id': 120516,\n",
       "  'url': 'https://api.github.dev/orgs/projectblacklight',\n",
       "  'avatar_url': 'https://secure.gravatar.com/avatar/6cb76a4a521c36d96a0583e7c45eaf95?d=http://github.dev%2Fimages%2Fgravatars%2Fgravatar-org-420.png',\n",
       "  'login': 'projectblacklight'},\n",
       " 'public': True,\n",
       " 'created_at': '2011-02-12T00:00:00Z',\n",
       " 'payload': {'shas': [['d3da39ab96a2caecae5d526596a04820c6f848a6',\n",
       "    'b31a437f57bdf70558bed8ac28790a53e8174b87@stanford.edu',\n",
       "    \"We have to stay with cucumber < 0.10 and rspec < 2, otherwise our tests break. I updated the gem requirements to reflect this, so people won't accidentally upgrade to a gem version that's too new when they run rake gems:install\",\n",
       "    'Bess Sadler'],\n",
       "   ['898150b7830102cdc171cbd4304b6a783101c3e3',\n",
       "    'b31a437f57bdf70558bed8ac28790a53e8174b87@stanford.edu',\n",
       "    \"Removing unused cruise control tasks. Also, we shouldn't remove the coverage.data file, so we can look at the coverage data over time.\",\n",
       "    'Bess Sadler']],\n",
       "  'repo': 'projectblacklight/blacklight',\n",
       "  'actor': 'bess',\n",
       "  'ref': 'refs/heads/master',\n",
       "  'size': 2,\n",
       "  'head': '898150b7830102cdc171cbd4304b6a783101c3e3',\n",
       "  'actor_gravatar': '887fa2fcd0cf1cbdc6dc43e5524f33f6',\n",
       "  'push_id': 24643024},\n",
       " 'actor': {'gravatar_id': '887fa2fcd0cf1cbdc6dc43e5524f33f6',\n",
       "  'id': 65608,\n",
       "  'url': 'https://api.github.dev/users/bess',\n",
       "  'avatar_url': 'https://secure.gravatar.com/avatar/887fa2fcd0cf1cbdc6dc43e5524f33f6?d=http://github.dev%2Fimages%2Fgravatars%2Fgravatar-user-420.png',\n",
       "  'login': 'bess'},\n",
       " 'id': '1127195475'}"
      ]
     },
     "execution_count": 19,
     "metadata": {},
     "output_type": "execute_result"
    }
   ],
   "source": [
    "rows[0]"
   ]
  },
  {
   "cell_type": "code",
   "execution_count": 20,
   "metadata": {},
   "outputs": [
    {
     "data": {
      "text/plain": [
       "dict_keys(['repo', 'type', 'org', 'public', 'created_at', 'payload', 'actor', 'id'])"
      ]
     },
     "execution_count": 20,
     "metadata": {},
     "output_type": "execute_result"
    }
   ],
   "source": [
    "rows[0].keys()"
   ]
  },
  {
   "cell_type": "code",
   "execution_count": 22,
   "metadata": {},
   "outputs": [
    {
     "name": "stdout",
     "output_type": "stream",
     "text": [
      "Collecting treelib\n",
      "  Downloading https://files.pythonhosted.org/packages/04/b0/2269c328abffbb63979f7143351a24a066776b87526d79956aea5018b80a/treelib-1.6.1.tar.gz\n",
      "Collecting future (from treelib)\n",
      "  Downloading https://files.pythonhosted.org/packages/45/0b/38b06fd9b92dc2b68d58b75f900e97884c45bedd2ff83203d933cf5851c9/future-0.18.2.tar.gz (829kB)\n",
      "\u001b[K    100% |████████████████████████████████| 829kB 1.1MB/s eta 0:00:01\n",
      "\u001b[?25hBuilding wheels for collected packages: treelib, future\n",
      "  Running setup.py bdist_wheel for treelib ... \u001b[?25ldone\n",
      "\u001b[?25h  Stored in directory: /home/lspiegel/.cache/pip/wheels/68/1d/92/c50ec52951ccebafb40f3b8f0beb28fbaf745431c14a17c497\n",
      "  Running setup.py bdist_wheel for future ... \u001b[?25ldone\n",
      "\u001b[?25h  Stored in directory: /home/lspiegel/.cache/pip/wheels/8b/99/a0/81daf51dcd359a9377b110a8a886b3895921802d2fc1b2397e\n",
      "Successfully built treelib future\n",
      "Installing collected packages: future, treelib\n",
      "Successfully installed future-0.18.2 treelib-1.6.1\n"
     ]
    }
   ],
   "source": [
    "!pip3 install treelib"
   ]
  },
  {
   "cell_type": "code",
   "execution_count": 23,
   "metadata": {},
   "outputs": [],
   "source": [
    "import treelib"
   ]
  },
  {
   "cell_type": "code",
   "execution_count": null,
   "metadata": {},
   "outputs": [],
   "source": [
    "# build tree based on keys/attributes\n"
   ]
  },
  {
   "cell_type": "code",
   "execution_count": 26,
   "metadata": {},
   "outputs": [],
   "source": [
    "tree = treelib.Tree()\n",
    "\n",
    "n = tree.create_node(\"test\", 0)"
   ]
  },
  {
   "cell_type": "code",
   "execution_count": 28,
   "metadata": {},
   "outputs": [
    {
     "data": {
      "text/plain": [
       "0"
      ]
     },
     "execution_count": 28,
     "metadata": {},
     "output_type": "execute_result"
    }
   ],
   "source": [
    "n.identifier"
   ]
  },
  {
   "cell_type": "code",
   "execution_count": 83,
   "metadata": {},
   "outputs": [],
   "source": [
    "\n",
    "def detect_type(value):\n",
    "    if value is None:\n",
    "        return 'None'\n",
    "    elif value == dict:\n",
    "        return 'dict'\n",
    "   \n",
    "    if isinstance(value, dict):\n",
    "        return 'dict'\n",
    "    if isinstance(value, list):\n",
    "        \n",
    "        # check if it's a homogenous list! -> if not type as list[any]\n",
    "        \n",
    "        return 'list'\n",
    "    if isinstance(value, str):\n",
    "        return 'str'\n",
    "    if isinstance(value, bool):\n",
    "        return 'bool'\n",
    "    if isinstance(value, int):\n",
    "        return 'int'\n",
    "    if isinstance(value, float):\n",
    "        return 'float'\n",
    "\n",
    "    return ''\n",
    "\n",
    "class TreeData:\n",
    "    def __init__(self, name, type=None):\n",
    "        self.name = name\n",
    "        self.type = type\n",
    "        self.count = 1\n",
    "    \n",
    "    @property\n",
    "    def desc(self):\n",
    "        return '{}: {}'.format(self.name, self.type)\n",
    "    \n",
    "def dict_to_tree(d):\n",
    "    tree = treelib.Tree()\n",
    "    node = tree.create_node(tag=\"root\", identifier=0, data=TreeData(\"root\", 'dict'))\n",
    "    \n",
    "    \n",
    "    def recursive_helper(tree, parent, d):\n",
    "        for key, value in d.items():\n",
    "            node = tree.create_node(key, parent=parent.identifier, data=TreeData(key, detect_type(value)))\n",
    "\n",
    "            if isinstance(value, dict):\n",
    "                # recurse!\n",
    "                recursive_helper(tree, node, value)\n",
    "            elif isinstance(value, list):\n",
    "                # recurse!\n",
    "                # only take first element??\n",
    "                if len(value) > 0 and isinstance(value[0], dict):\n",
    "                    recursive_helper(tree, node, value[0])\n",
    "            else:\n",
    "                pass\n",
    "            \n",
    "    recursive_helper(tree, node, d)\n",
    "   \n",
    "    return tree"
   ]
  },
  {
   "cell_type": "code",
   "execution_count": 84,
   "metadata": {},
   "outputs": [
    {
     "name": "stdout",
     "output_type": "stream",
     "text": [
      "root: dict\n",
      "├── actor: dict\n",
      "│   ├── avatar_url: str\n",
      "│   ├── gravatar_id: str\n",
      "│   ├── id: int\n",
      "│   ├── login: str\n",
      "│   └── url: str\n",
      "├── created_at: str\n",
      "├── id: str\n",
      "├── org: dict\n",
      "│   ├── avatar_url: str\n",
      "│   ├── gravatar_id: str\n",
      "│   ├── id: int\n",
      "│   ├── login: str\n",
      "│   └── url: str\n",
      "├── payload: dict\n",
      "│   ├── actor: str\n",
      "│   ├── actor_gravatar: str\n",
      "│   ├── head: str\n",
      "│   ├── push_id: int\n",
      "│   ├── ref: str\n",
      "│   ├── repo: str\n",
      "│   ├── shas: list\n",
      "│   └── size: int\n",
      "├── public: bool\n",
      "├── repo: dict\n",
      "│   ├── id: int\n",
      "│   ├── name: str\n",
      "│   └── url: str\n",
      "└── type: str\n",
      "\n"
     ]
    }
   ],
   "source": [
    "dict_to_tree(rows[0]).show(data_property=\"desc\")"
   ]
  },
  {
   "cell_type": "code",
   "execution_count": null,
   "metadata": {},
   "outputs": [],
   "source": []
  }
 ],
 "metadata": {
  "kernelspec": {
   "display_name": "Python 3",
   "language": "python",
   "name": "python3"
  },
  "language_info": {
   "codemirror_mode": {
    "name": "ipython",
    "version": 3
   },
   "file_extension": ".py",
   "mimetype": "text/x-python",
   "name": "python",
   "nbconvert_exporter": "python",
   "pygments_lexer": "ipython3",
   "version": "3.6.9"
  }
 },
 "nbformat": 4,
 "nbformat_minor": 4
}
