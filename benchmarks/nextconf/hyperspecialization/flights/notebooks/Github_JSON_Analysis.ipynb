{
 "cells": [
  {
   "cell_type": "code",
   "execution_count": 188,
   "metadata": {},
   "outputs": [],
   "source": [
    "import pandas as pd\n",
    "import json\n",
    "import zipfile\n",
    "import gzip\n",
    "import glob\n",
    "import os\n",
    "\n",
    "import logging"
   ]
  },
  {
   "cell_type": "code",
   "execution_count": 7,
   "metadata": {},
   "outputs": [
    {
     "name": "stdout",
     "output_type": "stream",
     "text": [
      "2011-02-12-0.json.gz\n",
      "2011-02-12-10.json.gz\n",
      "2011-02-12-11.json.gz\n",
      "2011-02-12-12.json.gz\n",
      "2011-02-12-13.json.gz\n",
      "2011-02-12-14.json.gz\n",
      "2011-02-12-15.json.gz\n",
      "2011-02-12-16.json.gz\n",
      "2011-02-12-17.json.gz\n",
      "2011-02-12-18.json.gz\n",
      "ls: write error: Broken pipe\n"
     ]
    }
   ],
   "source": [
    "!ls /disk/download/data/ | head"
   ]
  },
  {
   "cell_type": "code",
   "execution_count": 17,
   "metadata": {},
   "outputs": [],
   "source": [
    "path = '/disk/download/data/2011-02-12-0.json.gz'\n",
    "\n",
    "with gzip.open(path, 'rb') as f:\n",
    "    file_content = f.read().decode()\n",
    "    \n",
    "    rows = [json.loads(line) for line in file_content.split('\\n') if len(line) > 0]"
   ]
  },
  {
   "cell_type": "code",
   "execution_count": 19,
   "metadata": {},
   "outputs": [
    {
     "data": {
      "text/plain": [
       "{'repo': {'id': 355634,\n",
       "  'url': 'https://api.github.dev/repos/projectblacklight/blacklight',\n",
       "  'name': 'projectblacklight/blacklight'},\n",
       " 'type': 'PushEvent',\n",
       " 'org': {'gravatar_id': '6cb76a4a521c36d96a0583e7c45eaf95',\n",
       "  'id': 120516,\n",
       "  'url': 'https://api.github.dev/orgs/projectblacklight',\n",
       "  'avatar_url': 'https://secure.gravatar.com/avatar/6cb76a4a521c36d96a0583e7c45eaf95?d=http://github.dev%2Fimages%2Fgravatars%2Fgravatar-org-420.png',\n",
       "  'login': 'projectblacklight'},\n",
       " 'public': True,\n",
       " 'created_at': '2011-02-12T00:00:00Z',\n",
       " 'payload': {'shas': [['d3da39ab96a2caecae5d526596a04820c6f848a6',\n",
       "    'b31a437f57bdf70558bed8ac28790a53e8174b87@stanford.edu',\n",
       "    \"We have to stay with cucumber < 0.10 and rspec < 2, otherwise our tests break. I updated the gem requirements to reflect this, so people won't accidentally upgrade to a gem version that's too new when they run rake gems:install\",\n",
       "    'Bess Sadler'],\n",
       "   ['898150b7830102cdc171cbd4304b6a783101c3e3',\n",
       "    'b31a437f57bdf70558bed8ac28790a53e8174b87@stanford.edu',\n",
       "    \"Removing unused cruise control tasks. Also, we shouldn't remove the coverage.data file, so we can look at the coverage data over time.\",\n",
       "    'Bess Sadler']],\n",
       "  'repo': 'projectblacklight/blacklight',\n",
       "  'actor': 'bess',\n",
       "  'ref': 'refs/heads/master',\n",
       "  'size': 2,\n",
       "  'head': '898150b7830102cdc171cbd4304b6a783101c3e3',\n",
       "  'actor_gravatar': '887fa2fcd0cf1cbdc6dc43e5524f33f6',\n",
       "  'push_id': 24643024},\n",
       " 'actor': {'gravatar_id': '887fa2fcd0cf1cbdc6dc43e5524f33f6',\n",
       "  'id': 65608,\n",
       "  'url': 'https://api.github.dev/users/bess',\n",
       "  'avatar_url': 'https://secure.gravatar.com/avatar/887fa2fcd0cf1cbdc6dc43e5524f33f6?d=http://github.dev%2Fimages%2Fgravatars%2Fgravatar-user-420.png',\n",
       "  'login': 'bess'},\n",
       " 'id': '1127195475'}"
      ]
     },
     "execution_count": 19,
     "metadata": {},
     "output_type": "execute_result"
    }
   ],
   "source": [
    "rows[0]"
   ]
  },
  {
   "cell_type": "code",
   "execution_count": 20,
   "metadata": {},
   "outputs": [
    {
     "data": {
      "text/plain": [
       "dict_keys(['repo', 'type', 'org', 'public', 'created_at', 'payload', 'actor', 'id'])"
      ]
     },
     "execution_count": 20,
     "metadata": {},
     "output_type": "execute_result"
    }
   ],
   "source": [
    "rows[0].keys()"
   ]
  },
  {
   "cell_type": "code",
   "execution_count": 22,
   "metadata": {},
   "outputs": [
    {
     "name": "stdout",
     "output_type": "stream",
     "text": [
      "Collecting treelib\n",
      "  Downloading https://files.pythonhosted.org/packages/04/b0/2269c328abffbb63979f7143351a24a066776b87526d79956aea5018b80a/treelib-1.6.1.tar.gz\n",
      "Collecting future (from treelib)\n",
      "  Downloading https://files.pythonhosted.org/packages/45/0b/38b06fd9b92dc2b68d58b75f900e97884c45bedd2ff83203d933cf5851c9/future-0.18.2.tar.gz (829kB)\n",
      "\u001b[K    100% |████████████████████████████████| 829kB 1.1MB/s eta 0:00:01\n",
      "\u001b[?25hBuilding wheels for collected packages: treelib, future\n",
      "  Running setup.py bdist_wheel for treelib ... \u001b[?25ldone\n",
      "\u001b[?25h  Stored in directory: /home/lspiegel/.cache/pip/wheels/68/1d/92/c50ec52951ccebafb40f3b8f0beb28fbaf745431c14a17c497\n",
      "  Running setup.py bdist_wheel for future ... \u001b[?25ldone\n",
      "\u001b[?25h  Stored in directory: /home/lspiegel/.cache/pip/wheels/8b/99/a0/81daf51dcd359a9377b110a8a886b3895921802d2fc1b2397e\n",
      "Successfully built treelib future\n",
      "Installing collected packages: future, treelib\n",
      "Successfully installed future-0.18.2 treelib-1.6.1\n"
     ]
    }
   ],
   "source": [
    "!pip3 install treelib"
   ]
  },
  {
   "cell_type": "code",
   "execution_count": 23,
   "metadata": {},
   "outputs": [],
   "source": [
    "import treelib"
   ]
  },
  {
   "cell_type": "code",
   "execution_count": null,
   "metadata": {},
   "outputs": [],
   "source": [
    "# build tree based on keys/attributes\n"
   ]
  },
  {
   "cell_type": "code",
   "execution_count": 26,
   "metadata": {},
   "outputs": [],
   "source": [
    "tree = treelib.Tree()\n",
    "\n",
    "n = tree.create_node(\"test\", 0)"
   ]
  },
  {
   "cell_type": "code",
   "execution_count": 28,
   "metadata": {},
   "outputs": [
    {
     "data": {
      "text/plain": [
       "0"
      ]
     },
     "execution_count": 28,
     "metadata": {},
     "output_type": "execute_result"
    }
   ],
   "source": [
    "n.identifier"
   ]
  },
  {
   "cell_type": "code",
   "execution_count": 147,
   "metadata": {},
   "outputs": [],
   "source": [
    "\n",
    "def detect_type(value):\n",
    "    if value is None:\n",
    "        return 'None'\n",
    "    elif value == dict:\n",
    "        return 'dict'\n",
    "   \n",
    "    if isinstance(value, dict):\n",
    "        return 'dict'\n",
    "    if isinstance(value, list):\n",
    "        \n",
    "        if len(value) == 0:\n",
    "            return 'List[]'\n",
    "        # check if it's a homogenous list! -> if not type as list[any]\n",
    "        el_types = {detect_type(el) for el in value}\n",
    "        if len(el_types) == 1:\n",
    "            return 'List[{}]'.format(list(el_types)[0])\n",
    "        \n",
    "        return 'List[Any]'\n",
    "    if isinstance(value, str):\n",
    "        return 'str'\n",
    "    if isinstance(value, bool):\n",
    "        return 'bool'\n",
    "    if isinstance(value, int):\n",
    "        return 'int'\n",
    "    if isinstance(value, float):\n",
    "        return 'float'\n",
    "\n",
    "    return ''\n",
    "\n",
    "class TreeData:\n",
    "    def __init__(self, name, type=None):\n",
    "        self.name = name\n",
    "        self.type = type\n",
    "        self.count = 1\n",
    "    \n",
    "    @property\n",
    "    def desc(self):\n",
    "        return '{}: {}'.format(self.name, self.type)\n",
    "    \n",
    "    def toJSON(self):\n",
    "        return json.dumps({'type':self.type}, sort_keys=True)\n",
    "    \n",
    "def dict_to_tree(d):\n",
    "    tree = treelib.Tree()\n",
    "    node = tree.create_node(tag=\"root\", identifier=0, data=TreeData(\"root\", 'dict'))\n",
    "    \n",
    "    \n",
    "    def recursive_helper(tree, parent, d):\n",
    "        for key, value in d.items():\n",
    "            node = tree.create_node(key, parent=parent.identifier, data=TreeData(key, detect_type(value)))\n",
    "\n",
    "            if isinstance(value, dict):\n",
    "                # recurse!\n",
    "                recursive_helper(tree, node, value)\n",
    "            elif isinstance(value, list):\n",
    "                # recurse!\n",
    "                # only take first element??\n",
    "                if len(value) > 0 and isinstance(value[0], dict):\n",
    "                    recursive_helper(tree, node, value[0])\n",
    "            else:\n",
    "                pass\n",
    "            \n",
    "    recursive_helper(tree, node, d)\n",
    "   \n",
    "    return tree\n",
    "\n",
    "class ComplexEncoder(json.JSONEncoder):\n",
    "    def default(self, z):\n",
    "        if isinstance(z, TreeData):\n",
    "            return z.toJSON()\n",
    "        else:\n",
    "            return super().default(z)"
   ]
  },
  {
   "cell_type": "code",
   "execution_count": 149,
   "metadata": {},
   "outputs": [],
   "source": [
    "t1 = dict_to_tree(rows[0])\n",
    "key = json.dumps(t1.to_dict(with_data=True), cls=ComplexEncoder, sort_keys=True)"
   ]
  },
  {
   "cell_type": "code",
   "execution_count": 139,
   "metadata": {},
   "outputs": [
    {
     "name": "stdout",
     "output_type": "stream",
     "text": [
      "Help on method to_json in module treelib.tree:\n",
      "\n",
      "to_json(with_data=False, sort=True, reverse=False) method of treelib.tree.Tree instance\n",
      "    To format the tree in JSON format.\n",
      "\n"
     ]
    }
   ],
   "source": [
    "help(t1.to_json)"
   ]
  },
  {
   "cell_type": "code",
   "execution_count": 86,
   "metadata": {},
   "outputs": [
    {
     "name": "stdout",
     "output_type": "stream",
     "text": [
      "root: dict\n",
      "├── actor: dict\n",
      "│   ├── avatar_url: str\n",
      "│   ├── gravatar_id: str\n",
      "│   ├── id: int\n",
      "│   ├── login: str\n",
      "│   └── url: str\n",
      "├── created_at: str\n",
      "├── id: str\n",
      "├── org: dict\n",
      "│   ├── avatar_url: str\n",
      "│   ├── gravatar_id: str\n",
      "│   ├── id: int\n",
      "│   ├── login: str\n",
      "│   └── url: str\n",
      "├── payload: dict\n",
      "│   ├── actor: str\n",
      "│   ├── actor_gravatar: str\n",
      "│   ├── head: str\n",
      "│   ├── push_id: int\n",
      "│   ├── ref: str\n",
      "│   ├── repo: str\n",
      "│   ├── shas: List[List[str]]\n",
      "│   └── size: int\n",
      "├── public: bool\n",
      "├── repo: dict\n",
      "│   ├── id: int\n",
      "│   ├── name: str\n",
      "│   └── url: str\n",
      "└── type: str\n",
      "\n"
     ]
    }
   ],
   "source": [
    "dict_to_tree(rows[0]).show(data_property=\"desc\")"
   ]
  },
  {
   "cell_type": "code",
   "execution_count": 87,
   "metadata": {},
   "outputs": [
    {
     "name": "stdout",
     "output_type": "stream",
     "text": [
      "root: dict\n",
      "├── actor: dict\n",
      "│   ├── avatar_url: str\n",
      "│   ├── gravatar_id: str\n",
      "│   ├── id: int\n",
      "│   ├── login: str\n",
      "│   └── url: str\n",
      "├── created_at: str\n",
      "├── id: str\n",
      "├── payload: dict\n",
      "│   ├── action: str\n",
      "│   ├── actor: str\n",
      "│   ├── actor_gravatar: str\n",
      "│   └── repo: str\n",
      "├── public: bool\n",
      "├── repo: dict\n",
      "│   ├── id: int\n",
      "│   ├── name: str\n",
      "│   └── url: str\n",
      "└── type: str\n",
      "\n"
     ]
    }
   ],
   "source": [
    "dict_to_tree(rows[1]).show(data_property=\"desc\")"
   ]
  },
  {
   "cell_type": "code",
   "execution_count": 88,
   "metadata": {},
   "outputs": [],
   "source": [
    "t = dict_to_tree(rows[0])"
   ]
  },
  {
   "cell_type": "code",
   "execution_count": 89,
   "metadata": {},
   "outputs": [],
   "source": [
    "counts = {}\n",
    "\n",
    "counts[t] = 1"
   ]
  },
  {
   "cell_type": "code",
   "execution_count": 91,
   "metadata": {},
   "outputs": [],
   "source": [
    "# count different trees and how often they occur!"
   ]
  },
  {
   "cell_type": "code",
   "execution_count": 122,
   "metadata": {},
   "outputs": [],
   "source": [
    "def compare_trees(t1, t2):\n",
    "    \n",
    "    def compare_nodes(tree1, tree2, node1, node2): \n",
    "      # reimplement this comparison based on your needs: use data,...\n",
    "      if(node1.data != node2.data):\n",
    "        return False\n",
    "      else:\n",
    "        # access global trees\n",
    "        children1 = tree1.children(node1.identifier)\n",
    "        children2 = tree2.children(node2.identifier)\n",
    "\n",
    "        if len(children1) != len(children2):\n",
    "            return False\n",
    "        elif len(children1) > 0:\n",
    "            # recusivly compare children\n",
    "            return all([compare_nodes(tree1, tree2, c1i, c2i) for c1i, c2i in zip(children1, children2)])\n",
    "        else:\n",
    "            return True\n",
    "    \n",
    "    return compare_nodes(t1, t2, t1.get_node(t1.root), t2.get_node(t2.root))"
   ]
  },
  {
   "cell_type": "code",
   "execution_count": 150,
   "metadata": {},
   "outputs": [],
   "source": [
    "from tqdm import tqdm"
   ]
  },
  {
   "cell_type": "code",
   "execution_count": 155,
   "metadata": {},
   "outputs": [
    {
     "name": "stderr",
     "output_type": "stream",
     "text": [
      "100%|██████████| 1552/1552 [00:02<00:00, 621.52it/s]\n"
     ]
    }
   ],
   "source": [
    "counts = {}\n",
    "\n",
    "for row in tqdm(rows):\n",
    "    t = dict_to_tree(row)\n",
    "    \n",
    "    key = json.dumps(t.to_dict(with_data=True), cls=ComplexEncoder, sort_keys=True)\n",
    "    \n",
    "    if key not in counts.keys():\n",
    "        counts[key] = (t, 1)\n",
    "    else:\n",
    "        t, c = counts[key]\n",
    "        counts[key] = (t, c + 1)"
   ]
  },
  {
   "cell_type": "code",
   "execution_count": 165,
   "metadata": {},
   "outputs": [],
   "source": [
    "res = sorted(list(counts.items()), key=lambda x: -x[1][1]) "
   ]
  },
  {
   "cell_type": "code",
   "execution_count": null,
   "metadata": {},
   "outputs": [],
   "source": []
  },
  {
   "cell_type": "code",
   "execution_count": null,
   "metadata": {},
   "outputs": [],
   "source": []
  },
  {
   "cell_type": "code",
   "execution_count": 124,
   "metadata": {},
   "outputs": [],
   "source": [
    "t1 = dict_to_tree(rows[0])\n",
    "t2 = dict_to_tree(rows[1])"
   ]
  },
  {
   "cell_type": "code",
   "execution_count": 171,
   "metadata": {},
   "outputs": [
    {
     "name": "stdout",
     "output_type": "stream",
     "text": [
      "root: dict\n",
      "├── actor: dict\n",
      "│   ├── avatar_url: str\n",
      "│   ├── gravatar_id: str\n",
      "│   ├── id: int\n",
      "│   ├── login: str\n",
      "│   └── url: str\n",
      "├── created_at: str\n",
      "├── id: str\n",
      "├── org: dict\n",
      "│   ├── avatar_url: str\n",
      "│   ├── gravatar_id: str\n",
      "│   ├── id: int\n",
      "│   ├── login: str\n",
      "│   └── url: str\n",
      "├── payload: dict\n",
      "│   ├── actor: str\n",
      "│   ├── actor_gravatar: str\n",
      "│   ├── head: str\n",
      "│   ├── push_id: int\n",
      "│   ├── ref: str\n",
      "│   ├── repo: str\n",
      "│   ├── shas: List[List[str]]\n",
      "│   └── size: int\n",
      "├── public: bool\n",
      "├── repo: dict\n",
      "│   ├── id: int\n",
      "│   ├── name: str\n",
      "│   └── url: str\n",
      "└── type: str\n",
      "\n"
     ]
    }
   ],
   "source": [
    "s = t1.show(data_property=\"desc\")"
   ]
  },
  {
   "cell_type": "code",
   "execution_count": 175,
   "metadata": {},
   "outputs": [],
   "source": [
    "t1.save2file('test.txt', data_property=\"desc\")"
   ]
  },
  {
   "cell_type": "code",
   "execution_count": 178,
   "metadata": {},
   "outputs": [],
   "source": [
    "import io"
   ]
  },
  {
   "cell_type": "code",
   "execution_count": 207,
   "metadata": {},
   "outputs": [],
   "source": [
    "import tempfile\n",
    "\n",
    "def tree_to_string(tree):\n",
    "    tf = tempfile.NamedTemporaryFile(delete=False)\n",
    "    \n",
    "    temp_name = tf.name\n",
    "    if os.path.exists(temp_name):\n",
    "        os.remove(temp_name)\n",
    "    tree.save2file(temp_name, data_property=\"desc\")\n",
    "    with open(temp_name, 'r') as fp:\n",
    "        s_tree = fp.read()\n",
    "    os.remove(temp_name)\n",
    "    return s_tree"
   ]
  },
  {
   "cell_type": "code",
   "execution_count": 203,
   "metadata": {},
   "outputs": [],
   "source": [
    "import tempfile"
   ]
  },
  {
   "cell_type": "code",
   "execution_count": 206,
   "metadata": {},
   "outputs": [
    {
     "data": {
      "text/plain": [
       "'/tmp/tmp9bwbnqj_'"
      ]
     },
     "execution_count": 206,
     "metadata": {},
     "output_type": "execute_result"
    }
   ],
   "source": [
    "tf = tempfile.NamedTemporaryFile(delete=False)\n",
    "\n",
    "tf.name"
   ]
  },
  {
   "cell_type": "code",
   "execution_count": 208,
   "metadata": {},
   "outputs": [],
   "source": [
    "s_tree = tree_to_string(t1)"
   ]
  },
  {
   "cell_type": "code",
   "execution_count": 209,
   "metadata": {},
   "outputs": [
    {
     "data": {
      "text/plain": [
       "'root: dict\\n├── actor: dict\\n│   ├── avatar_url: str\\n│   ├── gravatar_id: str\\n│   ├── id: int\\n│   ├── login: str\\n│   └── url: str\\n├── created_at: str\\n├── id: str\\n├── org: dict\\n│   ├── avatar_url: str\\n│   ├── gravatar_id: str\\n│   ├── id: int\\n│   ├── login: str\\n│   └── url: str\\n├── payload: dict\\n│   ├── actor: str\\n│   ├── actor_gravatar: str\\n│   ├── head: str\\n│   ├── push_id: int\\n│   ├── ref: str\\n│   ├── repo: str\\n│   ├── shas: List[List[str]]\\n│   └── size: int\\n├── public: bool\\n├── repo: dict\\n│   ├── id: int\\n│   ├── name: str\\n│   └── url: str\\n└── type: str\\n'"
      ]
     },
     "execution_count": 209,
     "metadata": {},
     "output_type": "execute_result"
    }
   ],
   "source": [
    "s_tree"
   ]
  },
  {
   "cell_type": "code",
   "execution_count": 190,
   "metadata": {},
   "outputs": [
    {
     "data": {
      "text/plain": [
       "{'{\"root\": {\"children\": [{\"actor\": {\"children\": [{\"avatar_url\": {\"data\": \"{\\\\\"type\\\\\": \\\\\"str\\\\\"}\"}}, {\"gravatar_id\": {\"data\": \"{\\\\\"type\\\\\": \\\\\"str\\\\\"}\"}}, {\"id\": {\"data\": \"{\\\\\"type\\\\\": \\\\\"int\\\\\"}\"}}, {\"login\": {\"data\": \"{\\\\\"type\\\\\": \\\\\"str\\\\\"}\"}}, {\"url\": {\"data\": \"{\\\\\"type\\\\\": \\\\\"str\\\\\"}\"}}], \"data\": \"{\\\\\"type\\\\\": \\\\\"dict\\\\\"}\"}}, {\"created_at\": {\"data\": \"{\\\\\"type\\\\\": \\\\\"str\\\\\"}\"}}, {\"id\": {\"data\": \"{\\\\\"type\\\\\": \\\\\"str\\\\\"}\"}}, {\"org\": {\"children\": [{\"avatar_url\": {\"data\": \"{\\\\\"type\\\\\": \\\\\"str\\\\\"}\"}}, {\"gravatar_id\": {\"data\": \"{\\\\\"type\\\\\": \\\\\"str\\\\\"}\"}}, {\"id\": {\"data\": \"{\\\\\"type\\\\\": \\\\\"int\\\\\"}\"}}, {\"login\": {\"data\": \"{\\\\\"type\\\\\": \\\\\"str\\\\\"}\"}}, {\"url\": {\"data\": \"{\\\\\"type\\\\\": \\\\\"str\\\\\"}\"}}], \"data\": \"{\\\\\"type\\\\\": \\\\\"dict\\\\\"}\"}}, {\"payload\": {\"children\": [{\"actor\": {\"data\": \"{\\\\\"type\\\\\": \\\\\"str\\\\\"}\"}}, {\"actor_gravatar\": {\"data\": \"{\\\\\"type\\\\\": \\\\\"str\\\\\"}\"}}, {\"head\": {\"data\": \"{\\\\\"type\\\\\": \\\\\"str\\\\\"}\"}}, {\"push_id\": {\"data\": \"{\\\\\"type\\\\\": \\\\\"int\\\\\"}\"}}, {\"ref\": {\"data\": \"{\\\\\"type\\\\\": \\\\\"str\\\\\"}\"}}, {\"repo\": {\"data\": \"{\\\\\"type\\\\\": \\\\\"str\\\\\"}\"}}, {\"shas\": {\"data\": \"{\\\\\"type\\\\\": \\\\\"List[List[str]]\\\\\"}\"}}, {\"size\": {\"data\": \"{\\\\\"type\\\\\": \\\\\"int\\\\\"}\"}}], \"data\": \"{\\\\\"type\\\\\": \\\\\"dict\\\\\"}\"}}, {\"public\": {\"data\": \"{\\\\\"type\\\\\": \\\\\"bool\\\\\"}\"}}, {\"repo\": {\"children\": [{\"id\": {\"data\": \"{\\\\\"type\\\\\": \\\\\"int\\\\\"}\"}}, {\"name\": {\"data\": \"{\\\\\"type\\\\\": \\\\\"str\\\\\"}\"}}, {\"url\": {\"data\": \"{\\\\\"type\\\\\": \\\\\"str\\\\\"}\"}}], \"data\": \"{\\\\\"type\\\\\": \\\\\"dict\\\\\"}\"}}, {\"type\": {\"data\": \"{\\\\\"type\\\\\": \\\\\"str\\\\\"}\"}}], \"data\": \"{\\\\\"type\\\\\": \\\\\"dict\\\\\"}\"}}': (<treelib.tree.Tree at 0x7f98d7342710>,\n",
       "  134),\n",
       " '{\"root\": {\"children\": [{\"actor\": {\"children\": [{\"avatar_url\": {\"data\": \"{\\\\\"type\\\\\": \\\\\"str\\\\\"}\"}}, {\"gravatar_id\": {\"data\": \"{\\\\\"type\\\\\": \\\\\"str\\\\\"}\"}}, {\"id\": {\"data\": \"{\\\\\"type\\\\\": \\\\\"int\\\\\"}\"}}, {\"login\": {\"data\": \"{\\\\\"type\\\\\": \\\\\"str\\\\\"}\"}}, {\"url\": {\"data\": \"{\\\\\"type\\\\\": \\\\\"str\\\\\"}\"}}], \"data\": \"{\\\\\"type\\\\\": \\\\\"dict\\\\\"}\"}}, {\"created_at\": {\"data\": \"{\\\\\"type\\\\\": \\\\\"str\\\\\"}\"}}, {\"id\": {\"data\": \"{\\\\\"type\\\\\": \\\\\"str\\\\\"}\"}}, {\"payload\": {\"children\": [{\"action\": {\"data\": \"{\\\\\"type\\\\\": \\\\\"str\\\\\"}\"}}, {\"actor\": {\"data\": \"{\\\\\"type\\\\\": \\\\\"str\\\\\"}\"}}, {\"actor_gravatar\": {\"data\": \"{\\\\\"type\\\\\": \\\\\"str\\\\\"}\"}}, {\"repo\": {\"data\": \"{\\\\\"type\\\\\": \\\\\"str\\\\\"}\"}}], \"data\": \"{\\\\\"type\\\\\": \\\\\"dict\\\\\"}\"}}, {\"public\": {\"data\": \"{\\\\\"type\\\\\": \\\\\"bool\\\\\"}\"}}, {\"repo\": {\"children\": [{\"id\": {\"data\": \"{\\\\\"type\\\\\": \\\\\"int\\\\\"}\"}}, {\"name\": {\"data\": \"{\\\\\"type\\\\\": \\\\\"str\\\\\"}\"}}, {\"url\": {\"data\": \"{\\\\\"type\\\\\": \\\\\"str\\\\\"}\"}}], \"data\": \"{\\\\\"type\\\\\": \\\\\"dict\\\\\"}\"}}, {\"type\": {\"data\": \"{\\\\\"type\\\\\": \\\\\"str\\\\\"}\"}}], \"data\": \"{\\\\\"type\\\\\": \\\\\"dict\\\\\"}\"}}': (<treelib.tree.Tree at 0x7f98d79d1978>,\n",
       "  155),\n",
       " '{\"root\": {\"children\": [{\"actor\": {\"children\": [{\"avatar_url\": {\"data\": \"{\\\\\"type\\\\\": \\\\\"str\\\\\"}\"}}, {\"gravatar_id\": {\"data\": \"{\\\\\"type\\\\\": \\\\\"str\\\\\"}\"}}, {\"id\": {\"data\": \"{\\\\\"type\\\\\": \\\\\"int\\\\\"}\"}}, {\"login\": {\"data\": \"{\\\\\"type\\\\\": \\\\\"str\\\\\"}\"}}, {\"url\": {\"data\": \"{\\\\\"type\\\\\": \\\\\"str\\\\\"}\"}}], \"data\": \"{\\\\\"type\\\\\": \\\\\"dict\\\\\"}\"}}, {\"created_at\": {\"data\": \"{\\\\\"type\\\\\": \\\\\"str\\\\\"}\"}}, {\"id\": {\"data\": \"{\\\\\"type\\\\\": \\\\\"str\\\\\"}\"}}, {\"payload\": {\"children\": [{\"actor\": {\"data\": \"{\\\\\"type\\\\\": \\\\\"str\\\\\"}\"}}, {\"actor_gravatar\": {\"data\": \"{\\\\\"type\\\\\": \\\\\"str\\\\\"}\"}}, {\"head\": {\"data\": \"{\\\\\"type\\\\\": \\\\\"str\\\\\"}\"}}, {\"push_id\": {\"data\": \"{\\\\\"type\\\\\": \\\\\"int\\\\\"}\"}}, {\"ref\": {\"data\": \"{\\\\\"type\\\\\": \\\\\"str\\\\\"}\"}}, {\"repo\": {\"data\": \"{\\\\\"type\\\\\": \\\\\"str\\\\\"}\"}}, {\"shas\": {\"data\": \"{\\\\\"type\\\\\": \\\\\"List[List[str]]\\\\\"}\"}}, {\"size\": {\"data\": \"{\\\\\"type\\\\\": \\\\\"int\\\\\"}\"}}], \"data\": \"{\\\\\"type\\\\\": \\\\\"dict\\\\\"}\"}}, {\"public\": {\"data\": \"{\\\\\"type\\\\\": \\\\\"bool\\\\\"}\"}}, {\"repo\": {\"children\": [{\"name\": {\"data\": \"{\\\\\"type\\\\\": \\\\\"str\\\\\"}\"}}, {\"url\": {\"data\": \"{\\\\\"type\\\\\": \\\\\"str\\\\\"}\"}}], \"data\": \"{\\\\\"type\\\\\": \\\\\"dict\\\\\"}\"}}, {\"type\": {\"data\": \"{\\\\\"type\\\\\": \\\\\"str\\\\\"}\"}}], \"data\": \"{\\\\\"type\\\\\": \\\\\"dict\\\\\"}\"}}': (<treelib.tree.Tree at 0x7f98d7342048>,\n",
       "  46),\n",
       " '{\"root\": {\"children\": [{\"actor\": {\"children\": [{\"avatar_url\": {\"data\": \"{\\\\\"type\\\\\": \\\\\"str\\\\\"}\"}}, {\"gravatar_id\": {\"data\": \"{\\\\\"type\\\\\": \\\\\"str\\\\\"}\"}}, {\"id\": {\"data\": \"{\\\\\"type\\\\\": \\\\\"int\\\\\"}\"}}, {\"login\": {\"data\": \"{\\\\\"type\\\\\": \\\\\"str\\\\\"}\"}}, {\"url\": {\"data\": \"{\\\\\"type\\\\\": \\\\\"str\\\\\"}\"}}], \"data\": \"{\\\\\"type\\\\\": \\\\\"dict\\\\\"}\"}}, {\"created_at\": {\"data\": \"{\\\\\"type\\\\\": \\\\\"str\\\\\"}\"}}, {\"id\": {\"data\": \"{\\\\\"type\\\\\": \\\\\"str\\\\\"}\"}}, {\"payload\": {\"children\": [{\"actor\": {\"data\": \"{\\\\\"type\\\\\": \\\\\"str\\\\\"}\"}}, {\"actor_gravatar\": {\"data\": \"{\\\\\"type\\\\\": \\\\\"str\\\\\"}\"}}, {\"head\": {\"data\": \"{\\\\\"type\\\\\": \\\\\"str\\\\\"}\"}}, {\"push_id\": {\"data\": \"{\\\\\"type\\\\\": \\\\\"int\\\\\"}\"}}, {\"ref\": {\"data\": \"{\\\\\"type\\\\\": \\\\\"str\\\\\"}\"}}, {\"repo\": {\"data\": \"{\\\\\"type\\\\\": \\\\\"str\\\\\"}\"}}, {\"shas\": {\"data\": \"{\\\\\"type\\\\\": \\\\\"List[List[str]]\\\\\"}\"}}, {\"size\": {\"data\": \"{\\\\\"type\\\\\": \\\\\"int\\\\\"}\"}}], \"data\": \"{\\\\\"type\\\\\": \\\\\"dict\\\\\"}\"}}, {\"public\": {\"data\": \"{\\\\\"type\\\\\": \\\\\"bool\\\\\"}\"}}, {\"repo\": {\"children\": [{\"id\": {\"data\": \"{\\\\\"type\\\\\": \\\\\"int\\\\\"}\"}}, {\"name\": {\"data\": \"{\\\\\"type\\\\\": \\\\\"str\\\\\"}\"}}, {\"url\": {\"data\": \"{\\\\\"type\\\\\": \\\\\"str\\\\\"}\"}}], \"data\": \"{\\\\\"type\\\\\": \\\\\"dict\\\\\"}\"}}, {\"type\": {\"data\": \"{\\\\\"type\\\\\": \\\\\"str\\\\\"}\"}}], \"data\": \"{\\\\\"type\\\\\": \\\\\"dict\\\\\"}\"}}': (<treelib.tree.Tree at 0x7f98d79d8cf8>,\n",
       "  594),\n",
       " '{\"root\": {\"children\": [{\"actor\": {\"children\": [{\"avatar_url\": {\"data\": \"{\\\\\"type\\\\\": \\\\\"str\\\\\"}\"}}, {\"gravatar_id\": {\"data\": \"{\\\\\"type\\\\\": \\\\\"str\\\\\"}\"}}, {\"id\": {\"data\": \"{\\\\\"type\\\\\": \\\\\"int\\\\\"}\"}}, {\"login\": {\"data\": \"{\\\\\"type\\\\\": \\\\\"str\\\\\"}\"}}, {\"url\": {\"data\": \"{\\\\\"type\\\\\": \\\\\"str\\\\\"}\"}}], \"data\": \"{\\\\\"type\\\\\": \\\\\"dict\\\\\"}\"}}, {\"created_at\": {\"data\": \"{\\\\\"type\\\\\": \\\\\"str\\\\\"}\"}}, {\"id\": {\"data\": \"{\\\\\"type\\\\\": \\\\\"str\\\\\"}\"}}, {\"payload\": {\"children\": [{\"action\": {\"data\": \"{\\\\\"type\\\\\": \\\\\"str\\\\\"}\"}}, {\"actor\": {\"data\": \"{\\\\\"type\\\\\": \\\\\"str\\\\\"}\"}}, {\"actor_gravatar\": {\"data\": \"{\\\\\"type\\\\\": \\\\\"str\\\\\"}\"}}, {\"issue\": {\"data\": \"{\\\\\"type\\\\\": \\\\\"int\\\\\"}\"}}, {\"number\": {\"data\": \"{\\\\\"type\\\\\": \\\\\"int\\\\\"}\"}}, {\"repo\": {\"data\": \"{\\\\\"type\\\\\": \\\\\"str\\\\\"}\"}}], \"data\": \"{\\\\\"type\\\\\": \\\\\"dict\\\\\"}\"}}, {\"public\": {\"data\": \"{\\\\\"type\\\\\": \\\\\"bool\\\\\"}\"}}, {\"repo\": {\"children\": [{\"id\": {\"data\": \"{\\\\\"type\\\\\": \\\\\"int\\\\\"}\"}}, {\"name\": {\"data\": \"{\\\\\"type\\\\\": \\\\\"str\\\\\"}\"}}, {\"url\": {\"data\": \"{\\\\\"type\\\\\": \\\\\"str\\\\\"}\"}}], \"data\": \"{\\\\\"type\\\\\": \\\\\"dict\\\\\"}\"}}, {\"type\": {\"data\": \"{\\\\\"type\\\\\": \\\\\"str\\\\\"}\"}}], \"data\": \"{\\\\\"type\\\\\": \\\\\"dict\\\\\"}\"}}': (<treelib.tree.Tree at 0x7f98d79e37f0>,\n",
       "  29),\n",
       " '{\"root\": {\"children\": [{\"actor\": {\"children\": [{\"avatar_url\": {\"data\": \"{\\\\\"type\\\\\": \\\\\"str\\\\\"}\"}}, {\"gravatar_id\": {\"data\": \"{\\\\\"type\\\\\": \\\\\"str\\\\\"}\"}}, {\"id\": {\"data\": \"{\\\\\"type\\\\\": \\\\\"int\\\\\"}\"}}, {\"login\": {\"data\": \"{\\\\\"type\\\\\": \\\\\"str\\\\\"}\"}}, {\"url\": {\"data\": \"{\\\\\"type\\\\\": \\\\\"str\\\\\"}\"}}], \"data\": \"{\\\\\"type\\\\\": \\\\\"dict\\\\\"}\"}}, {\"created_at\": {\"data\": \"{\\\\\"type\\\\\": \\\\\"str\\\\\"}\"}}, {\"id\": {\"data\": \"{\\\\\"type\\\\\": \\\\\"str\\\\\"}\"}}, {\"payload\": {\"children\": [{\"action\": {\"data\": \"{\\\\\"type\\\\\": \\\\\"str\\\\\"}\"}}, {\"actor\": {\"data\": \"{\\\\\"type\\\\\": \\\\\"str\\\\\"}\"}}, {\"actor_gravatar\": {\"data\": \"{\\\\\"type\\\\\": \\\\\"str\\\\\"}\"}}, {\"number\": {\"data\": \"{\\\\\"type\\\\\": \\\\\"int\\\\\"}\"}}, {\"pull_request\": {\"children\": [{\"additions\": {\"data\": \"{\\\\\"type\\\\\": \\\\\"int\\\\\"}\"}}, {\"commits\": {\"data\": \"{\\\\\"type\\\\\": \\\\\"int\\\\\"}\"}}, {\"deletions\": {\"data\": \"{\\\\\"type\\\\\": \\\\\"int\\\\\"}\"}}, {\"id\": {\"data\": \"{\\\\\"type\\\\\": \\\\\"int\\\\\"}\"}}, {\"issue_id\": {\"data\": \"{\\\\\"type\\\\\": \\\\\"int\\\\\"}\"}}, {\"number\": {\"data\": \"{\\\\\"type\\\\\": \\\\\"int\\\\\"}\"}}, {\"title\": {\"data\": \"{\\\\\"type\\\\\": \\\\\"str\\\\\"}\"}}], \"data\": \"{\\\\\"type\\\\\": \\\\\"dict\\\\\"}\"}}, {\"repo\": {\"data\": \"{\\\\\"type\\\\\": \\\\\"str\\\\\"}\"}}], \"data\": \"{\\\\\"type\\\\\": \\\\\"dict\\\\\"}\"}}, {\"public\": {\"data\": \"{\\\\\"type\\\\\": \\\\\"bool\\\\\"}\"}}, {\"repo\": {\"children\": [{\"id\": {\"data\": \"{\\\\\"type\\\\\": \\\\\"int\\\\\"}\"}}, {\"name\": {\"data\": \"{\\\\\"type\\\\\": \\\\\"str\\\\\"}\"}}, {\"url\": {\"data\": \"{\\\\\"type\\\\\": \\\\\"str\\\\\"}\"}}], \"data\": \"{\\\\\"type\\\\\": \\\\\"dict\\\\\"}\"}}, {\"type\": {\"data\": \"{\\\\\"type\\\\\": \\\\\"str\\\\\"}\"}}], \"data\": \"{\\\\\"type\\\\\": \\\\\"dict\\\\\"}\"}}': (<treelib.tree.Tree at 0x7f98d79d82e8>,\n",
       "  19),\n",
       " '{\"root\": {\"children\": [{\"actor\": {\"children\": [{\"avatar_url\": {\"data\": \"{\\\\\"type\\\\\": \\\\\"str\\\\\"}\"}}, {\"gravatar_id\": {\"data\": \"{\\\\\"type\\\\\": \\\\\"str\\\\\"}\"}}, {\"id\": {\"data\": \"{\\\\\"type\\\\\": \\\\\"int\\\\\"}\"}}, {\"login\": {\"data\": \"{\\\\\"type\\\\\": \\\\\"str\\\\\"}\"}}, {\"url\": {\"data\": \"{\\\\\"type\\\\\": \\\\\"str\\\\\"}\"}}], \"data\": \"{\\\\\"type\\\\\": \\\\\"dict\\\\\"}\"}}, {\"created_at\": {\"data\": \"{\\\\\"type\\\\\": \\\\\"str\\\\\"}\"}}, {\"id\": {\"data\": \"{\\\\\"type\\\\\": \\\\\"str\\\\\"}\"}}, {\"payload\": {\"children\": [{\"actor\": {\"data\": \"{\\\\\"type\\\\\": \\\\\"str\\\\\"}\"}}, {\"actor_gravatar\": {\"data\": \"{\\\\\"type\\\\\": \\\\\"str\\\\\"}\"}}, {\"target\": {\"children\": [{\"followers\": {\"data\": \"{\\\\\"type\\\\\": \\\\\"int\\\\\"}\"}}, {\"gravatar_id\": {\"data\": \"{\\\\\"type\\\\\": \\\\\"str\\\\\"}\"}}, {\"login\": {\"data\": \"{\\\\\"type\\\\\": \\\\\"str\\\\\"}\"}}, {\"repos\": {\"data\": \"{\\\\\"type\\\\\": \\\\\"int\\\\\"}\"}}], \"data\": \"{\\\\\"type\\\\\": \\\\\"dict\\\\\"}\"}}], \"data\": \"{\\\\\"type\\\\\": \\\\\"dict\\\\\"}\"}}, {\"public\": {\"data\": \"{\\\\\"type\\\\\": \\\\\"bool\\\\\"}\"}}, {\"repo\": {\"children\": [{\"name\": {\"data\": \"{\\\\\"type\\\\\": \\\\\"str\\\\\"}\"}}, {\"url\": {\"data\": \"{\\\\\"type\\\\\": \\\\\"str\\\\\"}\"}}], \"data\": \"{\\\\\"type\\\\\": \\\\\"dict\\\\\"}\"}}, {\"type\": {\"data\": \"{\\\\\"type\\\\\": \\\\\"str\\\\\"}\"}}], \"data\": \"{\\\\\"type\\\\\": \\\\\"dict\\\\\"}\"}}': (<treelib.tree.Tree at 0x7f98d79eba90>,\n",
       "  60),\n",
       " '{\"root\": {\"children\": [{\"actor\": {\"children\": [{\"avatar_url\": {\"data\": \"{\\\\\"type\\\\\": \\\\\"str\\\\\"}\"}}, {\"gravatar_id\": {\"data\": \"{\\\\\"type\\\\\": \\\\\"str\\\\\"}\"}}, {\"id\": {\"data\": \"{\\\\\"type\\\\\": \\\\\"int\\\\\"}\"}}, {\"login\": {\"data\": \"{\\\\\"type\\\\\": \\\\\"str\\\\\"}\"}}, {\"url\": {\"data\": \"{\\\\\"type\\\\\": \\\\\"str\\\\\"}\"}}], \"data\": \"{\\\\\"type\\\\\": \\\\\"dict\\\\\"}\"}}, {\"created_at\": {\"data\": \"{\\\\\"type\\\\\": \\\\\"str\\\\\"}\"}}, {\"id\": {\"data\": \"{\\\\\"type\\\\\": \\\\\"str\\\\\"}\"}}, {\"org\": {\"children\": [{\"avatar_url\": {\"data\": \"{\\\\\"type\\\\\": \\\\\"str\\\\\"}\"}}, {\"gravatar_id\": {\"data\": \"{\\\\\"type\\\\\": \\\\\"str\\\\\"}\"}}, {\"id\": {\"data\": \"{\\\\\"type\\\\\": \\\\\"int\\\\\"}\"}}, {\"login\": {\"data\": \"{\\\\\"type\\\\\": \\\\\"str\\\\\"}\"}}, {\"url\": {\"data\": \"{\\\\\"type\\\\\": \\\\\"str\\\\\"}\"}}], \"data\": \"{\\\\\"type\\\\\": \\\\\"dict\\\\\"}\"}}, {\"payload\": {\"children\": [{\"action\": {\"data\": \"{\\\\\"type\\\\\": \\\\\"str\\\\\"}\"}}, {\"actor\": {\"data\": \"{\\\\\"type\\\\\": \\\\\"str\\\\\"}\"}}, {\"actor_gravatar\": {\"data\": \"{\\\\\"type\\\\\": \\\\\"str\\\\\"}\"}}, {\"issue\": {\"data\": \"{\\\\\"type\\\\\": \\\\\"int\\\\\"}\"}}, {\"number\": {\"data\": \"{\\\\\"type\\\\\": \\\\\"int\\\\\"}\"}}, {\"repo\": {\"data\": \"{\\\\\"type\\\\\": \\\\\"str\\\\\"}\"}}], \"data\": \"{\\\\\"type\\\\\": \\\\\"dict\\\\\"}\"}}, {\"public\": {\"data\": \"{\\\\\"type\\\\\": \\\\\"bool\\\\\"}\"}}, {\"repo\": {\"children\": [{\"id\": {\"data\": \"{\\\\\"type\\\\\": \\\\\"int\\\\\"}\"}}, {\"name\": {\"data\": \"{\\\\\"type\\\\\": \\\\\"str\\\\\"}\"}}, {\"url\": {\"data\": \"{\\\\\"type\\\\\": \\\\\"str\\\\\"}\"}}], \"data\": \"{\\\\\"type\\\\\": \\\\\"dict\\\\\"}\"}}, {\"type\": {\"data\": \"{\\\\\"type\\\\\": \\\\\"str\\\\\"}\"}}], \"data\": \"{\\\\\"type\\\\\": \\\\\"dict\\\\\"}\"}}': (<treelib.tree.Tree at 0x7f98d79f69e8>,\n",
       "  6),\n",
       " '{\"root\": {\"children\": [{\"actor\": {\"children\": [{\"avatar_url\": {\"data\": \"{\\\\\"type\\\\\": \\\\\"str\\\\\"}\"}}, {\"gravatar_id\": {\"data\": \"{\\\\\"type\\\\\": \\\\\"str\\\\\"}\"}}, {\"id\": {\"data\": \"{\\\\\"type\\\\\": \\\\\"int\\\\\"}\"}}, {\"login\": {\"data\": \"{\\\\\"type\\\\\": \\\\\"str\\\\\"}\"}}, {\"url\": {\"data\": \"{\\\\\"type\\\\\": \\\\\"str\\\\\"}\"}}], \"data\": \"{\\\\\"type\\\\\": \\\\\"dict\\\\\"}\"}}, {\"created_at\": {\"data\": \"{\\\\\"type\\\\\": \\\\\"str\\\\\"}\"}}, {\"id\": {\"data\": \"{\\\\\"type\\\\\": \\\\\"str\\\\\"}\"}}, {\"payload\": {\"children\": [{\"action\": {\"data\": \"{\\\\\"type\\\\\": \\\\\"str\\\\\"}\"}}, {\"actor\": {\"data\": \"{\\\\\"type\\\\\": \\\\\"str\\\\\"}\"}}, {\"actor_gravatar\": {\"data\": \"{\\\\\"type\\\\\": \\\\\"str\\\\\"}\"}}, {\"desc\": {\"data\": \"{\\\\\"type\\\\\": \\\\\"None\\\\\"}\"}}, {\"name\": {\"data\": \"{\\\\\"type\\\\\": \\\\\"str\\\\\"}\"}}, {\"snippet\": {\"data\": \"{\\\\\"type\\\\\": \\\\\"str\\\\\"}\"}}, {\"url\": {\"data\": \"{\\\\\"type\\\\\": \\\\\"str\\\\\"}\"}}], \"data\": \"{\\\\\"type\\\\\": \\\\\"dict\\\\\"}\"}}, {\"public\": {\"data\": \"{\\\\\"type\\\\\": \\\\\"bool\\\\\"}\"}}, {\"repo\": {\"children\": [{\"name\": {\"data\": \"{\\\\\"type\\\\\": \\\\\"str\\\\\"}\"}}, {\"url\": {\"data\": \"{\\\\\"type\\\\\": \\\\\"str\\\\\"}\"}}], \"data\": \"{\\\\\"type\\\\\": \\\\\"dict\\\\\"}\"}}, {\"type\": {\"data\": \"{\\\\\"type\\\\\": \\\\\"str\\\\\"}\"}}], \"data\": \"{\\\\\"type\\\\\": \\\\\"dict\\\\\"}\"}}': (<treelib.tree.Tree at 0x7f98d79eb208>,\n",
       "  23),\n",
       " '{\"root\": {\"children\": [{\"actor\": {\"children\": [{\"avatar_url\": {\"data\": \"{\\\\\"type\\\\\": \\\\\"str\\\\\"}\"}}, {\"gravatar_id\": {\"data\": \"{\\\\\"type\\\\\": \\\\\"str\\\\\"}\"}}, {\"id\": {\"data\": \"{\\\\\"type\\\\\": \\\\\"int\\\\\"}\"}}, {\"login\": {\"data\": \"{\\\\\"type\\\\\": \\\\\"str\\\\\"}\"}}, {\"url\": {\"data\": \"{\\\\\"type\\\\\": \\\\\"str\\\\\"}\"}}], \"data\": \"{\\\\\"type\\\\\": \\\\\"dict\\\\\"}\"}}, {\"created_at\": {\"data\": \"{\\\\\"type\\\\\": \\\\\"str\\\\\"}\"}}, {\"id\": {\"data\": \"{\\\\\"type\\\\\": \\\\\"str\\\\\"}\"}}, {\"org\": {\"children\": [{\"avatar_url\": {\"data\": \"{\\\\\"type\\\\\": \\\\\"str\\\\\"}\"}}, {\"gravatar_id\": {\"data\": \"{\\\\\"type\\\\\": \\\\\"str\\\\\"}\"}}, {\"id\": {\"data\": \"{\\\\\"type\\\\\": \\\\\"int\\\\\"}\"}}, {\"login\": {\"data\": \"{\\\\\"type\\\\\": \\\\\"str\\\\\"}\"}}, {\"url\": {\"data\": \"{\\\\\"type\\\\\": \\\\\"str\\\\\"}\"}}], \"data\": \"{\\\\\"type\\\\\": \\\\\"dict\\\\\"}\"}}, {\"payload\": {\"children\": [{\"action\": {\"data\": \"{\\\\\"type\\\\\": \\\\\"str\\\\\"}\"}}, {\"actor\": {\"data\": \"{\\\\\"type\\\\\": \\\\\"str\\\\\"}\"}}, {\"actor_gravatar\": {\"data\": \"{\\\\\"type\\\\\": \\\\\"str\\\\\"}\"}}, {\"page_name\": {\"data\": \"{\\\\\"type\\\\\": \\\\\"str\\\\\"}\"}}, {\"repo\": {\"data\": \"{\\\\\"type\\\\\": \\\\\"str\\\\\"}\"}}, {\"sha\": {\"data\": \"{\\\\\"type\\\\\": \\\\\"str\\\\\"}\"}}, {\"summary\": {\"data\": \"{\\\\\"type\\\\\": \\\\\"None\\\\\"}\"}}, {\"title\": {\"data\": \"{\\\\\"type\\\\\": \\\\\"str\\\\\"}\"}}], \"data\": \"{\\\\\"type\\\\\": \\\\\"dict\\\\\"}\"}}, {\"public\": {\"data\": \"{\\\\\"type\\\\\": \\\\\"bool\\\\\"}\"}}, {\"repo\": {\"children\": [{\"id\": {\"data\": \"{\\\\\"type\\\\\": \\\\\"int\\\\\"}\"}}, {\"name\": {\"data\": \"{\\\\\"type\\\\\": \\\\\"str\\\\\"}\"}}, {\"url\": {\"data\": \"{\\\\\"type\\\\\": \\\\\"str\\\\\"}\"}}], \"data\": \"{\\\\\"type\\\\\": \\\\\"dict\\\\\"}\"}}, {\"type\": {\"data\": \"{\\\\\"type\\\\\": \\\\\"str\\\\\"}\"}}], \"data\": \"{\\\\\"type\\\\\": \\\\\"dict\\\\\"}\"}}': (<treelib.tree.Tree at 0x7f98d797df60>,\n",
       "  23),\n",
       " '{\"root\": {\"children\": [{\"actor\": {\"children\": [{\"avatar_url\": {\"data\": \"{\\\\\"type\\\\\": \\\\\"str\\\\\"}\"}}, {\"gravatar_id\": {\"data\": \"{\\\\\"type\\\\\": \\\\\"str\\\\\"}\"}}, {\"id\": {\"data\": \"{\\\\\"type\\\\\": \\\\\"int\\\\\"}\"}}, {\"login\": {\"data\": \"{\\\\\"type\\\\\": \\\\\"str\\\\\"}\"}}, {\"url\": {\"data\": \"{\\\\\"type\\\\\": \\\\\"str\\\\\"}\"}}], \"data\": \"{\\\\\"type\\\\\": \\\\\"dict\\\\\"}\"}}, {\"created_at\": {\"data\": \"{\\\\\"type\\\\\": \\\\\"str\\\\\"}\"}}, {\"id\": {\"data\": \"{\\\\\"type\\\\\": \\\\\"str\\\\\"}\"}}, {\"payload\": {\"children\": [{\"name\": {\"data\": \"{\\\\\"type\\\\\": \\\\\"str\\\\\"}\"}}, {\"object\": {\"data\": \"{\\\\\"type\\\\\": \\\\\"str\\\\\"}\"}}, {\"object_name\": {\"data\": \"{\\\\\"type\\\\\": \\\\\"None\\\\\"}\"}}], \"data\": \"{\\\\\"type\\\\\": \\\\\"dict\\\\\"}\"}}, {\"public\": {\"data\": \"{\\\\\"type\\\\\": \\\\\"bool\\\\\"}\"}}, {\"repo\": {\"children\": [{\"id\": {\"data\": \"{\\\\\"type\\\\\": \\\\\"int\\\\\"}\"}}, {\"name\": {\"data\": \"{\\\\\"type\\\\\": \\\\\"str\\\\\"}\"}}, {\"url\": {\"data\": \"{\\\\\"type\\\\\": \\\\\"str\\\\\"}\"}}], \"data\": \"{\\\\\"type\\\\\": \\\\\"dict\\\\\"}\"}}, {\"type\": {\"data\": \"{\\\\\"type\\\\\": \\\\\"str\\\\\"}\"}}], \"data\": \"{\\\\\"type\\\\\": \\\\\"dict\\\\\"}\"}}': (<treelib.tree.Tree at 0x7f98d7988d30>,\n",
       "  45),\n",
       " '{\"root\": {\"children\": [{\"actor\": {\"children\": [{\"avatar_url\": {\"data\": \"{\\\\\"type\\\\\": \\\\\"str\\\\\"}\"}}, {\"gravatar_id\": {\"data\": \"{\\\\\"type\\\\\": \\\\\"str\\\\\"}\"}}, {\"id\": {\"data\": \"{\\\\\"type\\\\\": \\\\\"int\\\\\"}\"}}, {\"login\": {\"data\": \"{\\\\\"type\\\\\": \\\\\"str\\\\\"}\"}}, {\"url\": {\"data\": \"{\\\\\"type\\\\\": \\\\\"str\\\\\"}\"}}], \"data\": \"{\\\\\"type\\\\\": \\\\\"dict\\\\\"}\"}}, {\"created_at\": {\"data\": \"{\\\\\"type\\\\\": \\\\\"str\\\\\"}\"}}, {\"id\": {\"data\": \"{\\\\\"type\\\\\": \\\\\"str\\\\\"}\"}}, {\"payload\": {\"children\": [{\"name\": {\"data\": \"{\\\\\"type\\\\\": \\\\\"str\\\\\"}\"}}, {\"object\": {\"data\": \"{\\\\\"type\\\\\": \\\\\"str\\\\\"}\"}}, {\"object_name\": {\"data\": \"{\\\\\"type\\\\\": \\\\\"str\\\\\"}\"}}], \"data\": \"{\\\\\"type\\\\\": \\\\\"dict\\\\\"}\"}}, {\"public\": {\"data\": \"{\\\\\"type\\\\\": \\\\\"bool\\\\\"}\"}}, {\"repo\": {\"children\": [{\"id\": {\"data\": \"{\\\\\"type\\\\\": \\\\\"int\\\\\"}\"}}, {\"name\": {\"data\": \"{\\\\\"type\\\\\": \\\\\"str\\\\\"}\"}}, {\"url\": {\"data\": \"{\\\\\"type\\\\\": \\\\\"str\\\\\"}\"}}], \"data\": \"{\\\\\"type\\\\\": \\\\\"dict\\\\\"}\"}}, {\"type\": {\"data\": \"{\\\\\"type\\\\\": \\\\\"str\\\\\"}\"}}], \"data\": \"{\\\\\"type\\\\\": \\\\\"dict\\\\\"}\"}}': (<treelib.tree.Tree at 0x7f98d798e5f8>,\n",
       "  77),\n",
       " '{\"root\": {\"children\": [{\"actor\": {\"children\": [{\"avatar_url\": {\"data\": \"{\\\\\"type\\\\\": \\\\\"str\\\\\"}\"}}, {\"gravatar_id\": {\"data\": \"{\\\\\"type\\\\\": \\\\\"str\\\\\"}\"}}, {\"id\": {\"data\": \"{\\\\\"type\\\\\": \\\\\"int\\\\\"}\"}}, {\"login\": {\"data\": \"{\\\\\"type\\\\\": \\\\\"str\\\\\"}\"}}, {\"url\": {\"data\": \"{\\\\\"type\\\\\": \\\\\"str\\\\\"}\"}}], \"data\": \"{\\\\\"type\\\\\": \\\\\"dict\\\\\"}\"}}, {\"created_at\": {\"data\": \"{\\\\\"type\\\\\": \\\\\"str\\\\\"}\"}}, {\"id\": {\"data\": \"{\\\\\"type\\\\\": \\\\\"str\\\\\"}\"}}, {\"payload\": {\"children\": [{\"action\": {\"data\": \"{\\\\\"type\\\\\": \\\\\"str\\\\\"}\"}}, {\"actor\": {\"data\": \"{\\\\\"type\\\\\": \\\\\"str\\\\\"}\"}}, {\"actor_gravatar\": {\"data\": \"{\\\\\"type\\\\\": \\\\\"str\\\\\"}\"}}, {\"desc\": {\"data\": \"{\\\\\"type\\\\\": \\\\\"str\\\\\"}\"}}, {\"name\": {\"data\": \"{\\\\\"type\\\\\": \\\\\"str\\\\\"}\"}}, {\"snippet\": {\"data\": \"{\\\\\"type\\\\\": \\\\\"str\\\\\"}\"}}, {\"url\": {\"data\": \"{\\\\\"type\\\\\": \\\\\"str\\\\\"}\"}}], \"data\": \"{\\\\\"type\\\\\": \\\\\"dict\\\\\"}\"}}, {\"public\": {\"data\": \"{\\\\\"type\\\\\": \\\\\"bool\\\\\"}\"}}, {\"repo\": {\"children\": [{\"name\": {\"data\": \"{\\\\\"type\\\\\": \\\\\"str\\\\\"}\"}}, {\"url\": {\"data\": \"{\\\\\"type\\\\\": \\\\\"str\\\\\"}\"}}], \"data\": \"{\\\\\"type\\\\\": \\\\\"dict\\\\\"}\"}}, {\"type\": {\"data\": \"{\\\\\"type\\\\\": \\\\\"str\\\\\"}\"}}], \"data\": \"{\\\\\"type\\\\\": \\\\\"dict\\\\\"}\"}}': (<treelib.tree.Tree at 0x7f98d797d5c0>,\n",
       "  30),\n",
       " '{\"root\": {\"children\": [{\"actor\": {\"children\": [{\"avatar_url\": {\"data\": \"{\\\\\"type\\\\\": \\\\\"str\\\\\"}\"}}, {\"gravatar_id\": {\"data\": \"{\\\\\"type\\\\\": \\\\\"str\\\\\"}\"}}, {\"id\": {\"data\": \"{\\\\\"type\\\\\": \\\\\"int\\\\\"}\"}}, {\"login\": {\"data\": \"{\\\\\"type\\\\\": \\\\\"str\\\\\"}\"}}, {\"url\": {\"data\": \"{\\\\\"type\\\\\": \\\\\"str\\\\\"}\"}}], \"data\": \"{\\\\\"type\\\\\": \\\\\"dict\\\\\"}\"}}, {\"created_at\": {\"data\": \"{\\\\\"type\\\\\": \\\\\"str\\\\\"}\"}}, {\"id\": {\"data\": \"{\\\\\"type\\\\\": \\\\\"str\\\\\"}\"}}, {\"payload\": {\"children\": [{\"actor\": {\"data\": \"{\\\\\"type\\\\\": \\\\\"str\\\\\"}\"}}, {\"actor_gravatar\": {\"data\": \"{\\\\\"type\\\\\": \\\\\"str\\\\\"}\"}}, {\"comment_id\": {\"data\": \"{\\\\\"type\\\\\": \\\\\"int\\\\\"}\"}}, {\"commit\": {\"data\": \"{\\\\\"type\\\\\": \\\\\"str\\\\\"}\"}}, {\"repo\": {\"data\": \"{\\\\\"type\\\\\": \\\\\"str\\\\\"}\"}}], \"data\": \"{\\\\\"type\\\\\": \\\\\"dict\\\\\"}\"}}, {\"public\": {\"data\": \"{\\\\\"type\\\\\": \\\\\"bool\\\\\"}\"}}, {\"repo\": {\"children\": [{\"id\": {\"data\": \"{\\\\\"type\\\\\": \\\\\"int\\\\\"}\"}}, {\"name\": {\"data\": \"{\\\\\"type\\\\\": \\\\\"str\\\\\"}\"}}, {\"url\": {\"data\": \"{\\\\\"type\\\\\": \\\\\"str\\\\\"}\"}}], \"data\": \"{\\\\\"type\\\\\": \\\\\"dict\\\\\"}\"}}, {\"type\": {\"data\": \"{\\\\\"type\\\\\": \\\\\"str\\\\\"}\"}}], \"data\": \"{\\\\\"type\\\\\": \\\\\"dict\\\\\"}\"}}': (<treelib.tree.Tree at 0x7f98d799a710>,\n",
       "  15),\n",
       " '{\"root\": {\"children\": [{\"actor\": {\"children\": [{\"avatar_url\": {\"data\": \"{\\\\\"type\\\\\": \\\\\"str\\\\\"}\"}}, {\"gravatar_id\": {\"data\": \"{\\\\\"type\\\\\": \\\\\"str\\\\\"}\"}}, {\"id\": {\"data\": \"{\\\\\"type\\\\\": \\\\\"int\\\\\"}\"}}, {\"login\": {\"data\": \"{\\\\\"type\\\\\": \\\\\"str\\\\\"}\"}}, {\"url\": {\"data\": \"{\\\\\"type\\\\\": \\\\\"str\\\\\"}\"}}], \"data\": \"{\\\\\"type\\\\\": \\\\\"dict\\\\\"}\"}}, {\"created_at\": {\"data\": \"{\\\\\"type\\\\\": \\\\\"str\\\\\"}\"}}, {\"id\": {\"data\": \"{\\\\\"type\\\\\": \\\\\"str\\\\\"}\"}}, {\"org\": {\"children\": [{\"avatar_url\": {\"data\": \"{\\\\\"type\\\\\": \\\\\"str\\\\\"}\"}}, {\"gravatar_id\": {\"data\": \"{\\\\\"type\\\\\": \\\\\"str\\\\\"}\"}}, {\"id\": {\"data\": \"{\\\\\"type\\\\\": \\\\\"int\\\\\"}\"}}, {\"login\": {\"data\": \"{\\\\\"type\\\\\": \\\\\"str\\\\\"}\"}}, {\"url\": {\"data\": \"{\\\\\"type\\\\\": \\\\\"str\\\\\"}\"}}], \"data\": \"{\\\\\"type\\\\\": \\\\\"dict\\\\\"}\"}}, {\"payload\": {\"children\": [{\"action\": {\"data\": \"{\\\\\"type\\\\\": \\\\\"str\\\\\"}\"}}, {\"actor\": {\"data\": \"{\\\\\"type\\\\\": \\\\\"str\\\\\"}\"}}, {\"actor_gravatar\": {\"data\": \"{\\\\\"type\\\\\": \\\\\"str\\\\\"}\"}}, {\"repo\": {\"data\": \"{\\\\\"type\\\\\": \\\\\"str\\\\\"}\"}}], \"data\": \"{\\\\\"type\\\\\": \\\\\"dict\\\\\"}\"}}, {\"public\": {\"data\": \"{\\\\\"type\\\\\": \\\\\"bool\\\\\"}\"}}, {\"repo\": {\"children\": [{\"id\": {\"data\": \"{\\\\\"type\\\\\": \\\\\"int\\\\\"}\"}}, {\"name\": {\"data\": \"{\\\\\"type\\\\\": \\\\\"str\\\\\"}\"}}, {\"url\": {\"data\": \"{\\\\\"type\\\\\": \\\\\"str\\\\\"}\"}}], \"data\": \"{\\\\\"type\\\\\": \\\\\"dict\\\\\"}\"}}, {\"type\": {\"data\": \"{\\\\\"type\\\\\": \\\\\"str\\\\\"}\"}}], \"data\": \"{\\\\\"type\\\\\": \\\\\"dict\\\\\"}\"}}': (<treelib.tree.Tree at 0x7f98d79a1320>,\n",
       "  40),\n",
       " '{\"root\": {\"children\": [{\"actor\": {\"children\": [{\"avatar_url\": {\"data\": \"{\\\\\"type\\\\\": \\\\\"str\\\\\"}\"}}, {\"gravatar_id\": {\"data\": \"{\\\\\"type\\\\\": \\\\\"str\\\\\"}\"}}, {\"id\": {\"data\": \"{\\\\\"type\\\\\": \\\\\"int\\\\\"}\"}}, {\"login\": {\"data\": \"{\\\\\"type\\\\\": \\\\\"str\\\\\"}\"}}, {\"url\": {\"data\": \"{\\\\\"type\\\\\": \\\\\"str\\\\\"}\"}}], \"data\": \"{\\\\\"type\\\\\": \\\\\"dict\\\\\"}\"}}, {\"created_at\": {\"data\": \"{\\\\\"type\\\\\": \\\\\"str\\\\\"}\"}}, {\"id\": {\"data\": \"{\\\\\"type\\\\\": \\\\\"str\\\\\"}\"}}, {\"payload\": {\"children\": [{\"actor\": {\"data\": \"{\\\\\"type\\\\\": \\\\\"str\\\\\"}\"}}, {\"actor_gravatar\": {\"data\": \"{\\\\\"type\\\\\": \\\\\"str\\\\\"}\"}}, {\"forkee\": {\"data\": \"{\\\\\"type\\\\\": \\\\\"int\\\\\"}\"}}, {\"repo\": {\"data\": \"{\\\\\"type\\\\\": \\\\\"str\\\\\"}\"}}], \"data\": \"{\\\\\"type\\\\\": \\\\\"dict\\\\\"}\"}}, {\"public\": {\"data\": \"{\\\\\"type\\\\\": \\\\\"bool\\\\\"}\"}}, {\"repo\": {\"children\": [{\"id\": {\"data\": \"{\\\\\"type\\\\\": \\\\\"int\\\\\"}\"}}, {\"name\": {\"data\": \"{\\\\\"type\\\\\": \\\\\"str\\\\\"}\"}}, {\"url\": {\"data\": \"{\\\\\"type\\\\\": \\\\\"str\\\\\"}\"}}], \"data\": \"{\\\\\"type\\\\\": \\\\\"dict\\\\\"}\"}}, {\"type\": {\"data\": \"{\\\\\"type\\\\\": \\\\\"str\\\\\"}\"}}], \"data\": \"{\\\\\"type\\\\\": \\\\\"dict\\\\\"}\"}}': (<treelib.tree.Tree at 0x7f98d798ef98>,\n",
       "  30),\n",
       " '{\"root\": {\"children\": [{\"actor\": {\"children\": [{\"avatar_url\": {\"data\": \"{\\\\\"type\\\\\": \\\\\"str\\\\\"}\"}}, {\"gravatar_id\": {\"data\": \"{\\\\\"type\\\\\": \\\\\"str\\\\\"}\"}}, {\"id\": {\"data\": \"{\\\\\"type\\\\\": \\\\\"int\\\\\"}\"}}, {\"login\": {\"data\": \"{\\\\\"type\\\\\": \\\\\"str\\\\\"}\"}}, {\"url\": {\"data\": \"{\\\\\"type\\\\\": \\\\\"str\\\\\"}\"}}], \"data\": \"{\\\\\"type\\\\\": \\\\\"dict\\\\\"}\"}}, {\"created_at\": {\"data\": \"{\\\\\"type\\\\\": \\\\\"str\\\\\"}\"}}, {\"id\": {\"data\": \"{\\\\\"type\\\\\": \\\\\"str\\\\\"}\"}}, {\"org\": {\"children\": [{\"avatar_url\": {\"data\": \"{\\\\\"type\\\\\": \\\\\"str\\\\\"}\"}}, {\"gravatar_id\": {\"data\": \"{\\\\\"type\\\\\": \\\\\"str\\\\\"}\"}}, {\"id\": {\"data\": \"{\\\\\"type\\\\\": \\\\\"int\\\\\"}\"}}, {\"login\": {\"data\": \"{\\\\\"type\\\\\": \\\\\"str\\\\\"}\"}}, {\"url\": {\"data\": \"{\\\\\"type\\\\\": \\\\\"str\\\\\"}\"}}], \"data\": \"{\\\\\"type\\\\\": \\\\\"dict\\\\\"}\"}}, {\"payload\": {\"children\": [{\"ref\": {\"data\": \"{\\\\\"type\\\\\": \\\\\"str\\\\\"}\"}}, {\"ref_type\": {\"data\": \"{\\\\\"type\\\\\": \\\\\"str\\\\\"}\"}}], \"data\": \"{\\\\\"type\\\\\": \\\\\"dict\\\\\"}\"}}, {\"public\": {\"data\": \"{\\\\\"type\\\\\": \\\\\"bool\\\\\"}\"}}, {\"repo\": {\"children\": [{\"id\": {\"data\": \"{\\\\\"type\\\\\": \\\\\"int\\\\\"}\"}}, {\"name\": {\"data\": \"{\\\\\"type\\\\\": \\\\\"str\\\\\"}\"}}, {\"url\": {\"data\": \"{\\\\\"type\\\\\": \\\\\"str\\\\\"}\"}}], \"data\": \"{\\\\\"type\\\\\": \\\\\"dict\\\\\"}\"}}, {\"type\": {\"data\": \"{\\\\\"type\\\\\": \\\\\"str\\\\\"}\"}}], \"data\": \"{\\\\\"type\\\\\": \\\\\"dict\\\\\"}\"}}': (<treelib.tree.Tree at 0x7f98d79ae908>,\n",
       "  2),\n",
       " '{\"root\": {\"children\": [{\"actor\": {\"children\": [{\"avatar_url\": {\"data\": \"{\\\\\"type\\\\\": \\\\\"str\\\\\"}\"}}, {\"gravatar_id\": {\"data\": \"{\\\\\"type\\\\\": \\\\\"str\\\\\"}\"}}, {\"id\": {\"data\": \"{\\\\\"type\\\\\": \\\\\"int\\\\\"}\"}}, {\"login\": {\"data\": \"{\\\\\"type\\\\\": \\\\\"str\\\\\"}\"}}, {\"url\": {\"data\": \"{\\\\\"type\\\\\": \\\\\"str\\\\\"}\"}}], \"data\": \"{\\\\\"type\\\\\": \\\\\"dict\\\\\"}\"}}, {\"created_at\": {\"data\": \"{\\\\\"type\\\\\": \\\\\"str\\\\\"}\"}}, {\"id\": {\"data\": \"{\\\\\"type\\\\\": \\\\\"str\\\\\"}\"}}, {\"payload\": {\"children\": [{\"action\": {\"data\": \"{\\\\\"type\\\\\": \\\\\"str\\\\\"}\"}}, {\"actor\": {\"data\": \"{\\\\\"type\\\\\": \\\\\"str\\\\\"}\"}}, {\"actor_gravatar\": {\"data\": \"{\\\\\"type\\\\\": \\\\\"str\\\\\"}\"}}, {\"page_name\": {\"data\": \"{\\\\\"type\\\\\": \\\\\"str\\\\\"}\"}}, {\"repo\": {\"data\": \"{\\\\\"type\\\\\": \\\\\"str\\\\\"}\"}}, {\"sha\": {\"data\": \"{\\\\\"type\\\\\": \\\\\"str\\\\\"}\"}}, {\"summary\": {\"data\": \"{\\\\\"type\\\\\": \\\\\"None\\\\\"}\"}}, {\"title\": {\"data\": \"{\\\\\"type\\\\\": \\\\\"str\\\\\"}\"}}], \"data\": \"{\\\\\"type\\\\\": \\\\\"dict\\\\\"}\"}}, {\"public\": {\"data\": \"{\\\\\"type\\\\\": \\\\\"bool\\\\\"}\"}}, {\"repo\": {\"children\": [{\"id\": {\"data\": \"{\\\\\"type\\\\\": \\\\\"int\\\\\"}\"}}, {\"name\": {\"data\": \"{\\\\\"type\\\\\": \\\\\"str\\\\\"}\"}}, {\"url\": {\"data\": \"{\\\\\"type\\\\\": \\\\\"str\\\\\"}\"}}], \"data\": \"{\\\\\"type\\\\\": \\\\\"dict\\\\\"}\"}}, {\"type\": {\"data\": \"{\\\\\"type\\\\\": \\\\\"str\\\\\"}\"}}], \"data\": \"{\\\\\"type\\\\\": \\\\\"dict\\\\\"}\"}}': (<treelib.tree.Tree at 0x7f98d79a16a0>,\n",
       "  26),\n",
       " '{\"root\": {\"children\": [{\"actor\": {\"children\": [{\"avatar_url\": {\"data\": \"{\\\\\"type\\\\\": \\\\\"str\\\\\"}\"}}, {\"gravatar_id\": {\"data\": \"{\\\\\"type\\\\\": \\\\\"str\\\\\"}\"}}, {\"id\": {\"data\": \"{\\\\\"type\\\\\": \\\\\"int\\\\\"}\"}}, {\"login\": {\"data\": \"{\\\\\"type\\\\\": \\\\\"str\\\\\"}\"}}, {\"url\": {\"data\": \"{\\\\\"type\\\\\": \\\\\"str\\\\\"}\"}}], \"data\": \"{\\\\\"type\\\\\": \\\\\"dict\\\\\"}\"}}, {\"created_at\": {\"data\": \"{\\\\\"type\\\\\": \\\\\"str\\\\\"}\"}}, {\"id\": {\"data\": \"{\\\\\"type\\\\\": \\\\\"str\\\\\"}\"}}, {\"org\": {\"children\": [{\"avatar_url\": {\"data\": \"{\\\\\"type\\\\\": \\\\\"str\\\\\"}\"}}, {\"gravatar_id\": {\"data\": \"{\\\\\"type\\\\\": \\\\\"str\\\\\"}\"}}, {\"id\": {\"data\": \"{\\\\\"type\\\\\": \\\\\"int\\\\\"}\"}}, {\"login\": {\"data\": \"{\\\\\"type\\\\\": \\\\\"str\\\\\"}\"}}, {\"url\": {\"data\": \"{\\\\\"type\\\\\": \\\\\"str\\\\\"}\"}}], \"data\": \"{\\\\\"type\\\\\": \\\\\"dict\\\\\"}\"}}, {\"payload\": {\"children\": [{\"actor\": {\"data\": \"{\\\\\"type\\\\\": \\\\\"str\\\\\"}\"}}, {\"actor_gravatar\": {\"data\": \"{\\\\\"type\\\\\": \\\\\"str\\\\\"}\"}}, {\"forkee\": {\"data\": \"{\\\\\"type\\\\\": \\\\\"int\\\\\"}\"}}, {\"repo\": {\"data\": \"{\\\\\"type\\\\\": \\\\\"str\\\\\"}\"}}], \"data\": \"{\\\\\"type\\\\\": \\\\\"dict\\\\\"}\"}}, {\"public\": {\"data\": \"{\\\\\"type\\\\\": \\\\\"bool\\\\\"}\"}}, {\"repo\": {\"children\": [{\"id\": {\"data\": \"{\\\\\"type\\\\\": \\\\\"int\\\\\"}\"}}, {\"name\": {\"data\": \"{\\\\\"type\\\\\": \\\\\"str\\\\\"}\"}}, {\"url\": {\"data\": \"{\\\\\"type\\\\\": \\\\\"str\\\\\"}\"}}], \"data\": \"{\\\\\"type\\\\\": \\\\\"dict\\\\\"}\"}}, {\"type\": {\"data\": \"{\\\\\"type\\\\\": \\\\\"str\\\\\"}\"}}], \"data\": \"{\\\\\"type\\\\\": \\\\\"dict\\\\\"}\"}}': (<treelib.tree.Tree at 0x7f98d79ae518>,\n",
       "  8),\n",
       " '{\"root\": {\"children\": [{\"actor\": {\"children\": [{\"avatar_url\": {\"data\": \"{\\\\\"type\\\\\": \\\\\"str\\\\\"}\"}}, {\"gravatar_id\": {\"data\": \"{\\\\\"type\\\\\": \\\\\"str\\\\\"}\"}}, {\"id\": {\"data\": \"{\\\\\"type\\\\\": \\\\\"int\\\\\"}\"}}, {\"login\": {\"data\": \"{\\\\\"type\\\\\": \\\\\"str\\\\\"}\"}}, {\"url\": {\"data\": \"{\\\\\"type\\\\\": \\\\\"str\\\\\"}\"}}], \"data\": \"{\\\\\"type\\\\\": \\\\\"dict\\\\\"}\"}}, {\"created_at\": {\"data\": \"{\\\\\"type\\\\\": \\\\\"str\\\\\"}\"}}, {\"id\": {\"data\": \"{\\\\\"type\\\\\": \\\\\"str\\\\\"}\"}}, {\"payload\": {\"children\": [{\"name\": {\"data\": \"{\\\\\"type\\\\\": \\\\\"str\\\\\"}\"}}, {\"object\": {\"data\": \"{\\\\\"type\\\\\": \\\\\"str\\\\\"}\"}}, {\"object_name\": {\"data\": \"{\\\\\"type\\\\\": \\\\\"str\\\\\"}\"}}], \"data\": \"{\\\\\"type\\\\\": \\\\\"dict\\\\\"}\"}}, {\"public\": {\"data\": \"{\\\\\"type\\\\\": \\\\\"bool\\\\\"}\"}}, {\"repo\": {\"children\": [{\"name\": {\"data\": \"{\\\\\"type\\\\\": \\\\\"str\\\\\"}\"}}, {\"url\": {\"data\": \"{\\\\\"type\\\\\": \\\\\"str\\\\\"}\"}}], \"data\": \"{\\\\\"type\\\\\": \\\\\"dict\\\\\"}\"}}, {\"type\": {\"data\": \"{\\\\\"type\\\\\": \\\\\"str\\\\\"}\"}}], \"data\": \"{\\\\\"type\\\\\": \\\\\"dict\\\\\"}\"}}': (<treelib.tree.Tree at 0x7f98d793cdd8>,\n",
       "  80),\n",
       " '{\"root\": {\"children\": [{\"actor\": {\"children\": [{\"avatar_url\": {\"data\": \"{\\\\\"type\\\\\": \\\\\"str\\\\\"}\"}}, {\"gravatar_id\": {\"data\": \"{\\\\\"type\\\\\": \\\\\"str\\\\\"}\"}}, {\"id\": {\"data\": \"{\\\\\"type\\\\\": \\\\\"int\\\\\"}\"}}, {\"login\": {\"data\": \"{\\\\\"type\\\\\": \\\\\"str\\\\\"}\"}}, {\"url\": {\"data\": \"{\\\\\"type\\\\\": \\\\\"str\\\\\"}\"}}], \"data\": \"{\\\\\"type\\\\\": \\\\\"dict\\\\\"}\"}}, {\"created_at\": {\"data\": \"{\\\\\"type\\\\\": \\\\\"str\\\\\"}\"}}, {\"id\": {\"data\": \"{\\\\\"type\\\\\": \\\\\"str\\\\\"}\"}}, {\"org\": {\"children\": [{\"avatar_url\": {\"data\": \"{\\\\\"type\\\\\": \\\\\"str\\\\\"}\"}}, {\"gravatar_id\": {\"data\": \"{\\\\\"type\\\\\": \\\\\"str\\\\\"}\"}}, {\"id\": {\"data\": \"{\\\\\"type\\\\\": \\\\\"int\\\\\"}\"}}, {\"login\": {\"data\": \"{\\\\\"type\\\\\": \\\\\"str\\\\\"}\"}}, {\"url\": {\"data\": \"{\\\\\"type\\\\\": \\\\\"str\\\\\"}\"}}], \"data\": \"{\\\\\"type\\\\\": \\\\\"dict\\\\\"}\"}}, {\"payload\": {\"children\": [{\"name\": {\"data\": \"{\\\\\"type\\\\\": \\\\\"str\\\\\"}\"}}, {\"object\": {\"data\": \"{\\\\\"type\\\\\": \\\\\"str\\\\\"}\"}}, {\"object_name\": {\"data\": \"{\\\\\"type\\\\\": \\\\\"str\\\\\"}\"}}], \"data\": \"{\\\\\"type\\\\\": \\\\\"dict\\\\\"}\"}}, {\"public\": {\"data\": \"{\\\\\"type\\\\\": \\\\\"bool\\\\\"}\"}}, {\"repo\": {\"children\": [{\"id\": {\"data\": \"{\\\\\"type\\\\\": \\\\\"int\\\\\"}\"}}, {\"name\": {\"data\": \"{\\\\\"type\\\\\": \\\\\"str\\\\\"}\"}}, {\"url\": {\"data\": \"{\\\\\"type\\\\\": \\\\\"str\\\\\"}\"}}], \"data\": \"{\\\\\"type\\\\\": \\\\\"dict\\\\\"}\"}}, {\"type\": {\"data\": \"{\\\\\"type\\\\\": \\\\\"str\\\\\"}\"}}], \"data\": \"{\\\\\"type\\\\\": \\\\\"dict\\\\\"}\"}}': (<treelib.tree.Tree at 0x7f98d794b160>,\n",
       "  11),\n",
       " '{\"root\": {\"children\": [{\"actor\": {\"children\": [{\"avatar_url\": {\"data\": \"{\\\\\"type\\\\\": \\\\\"str\\\\\"}\"}}, {\"gravatar_id\": {\"data\": \"{\\\\\"type\\\\\": \\\\\"str\\\\\"}\"}}, {\"id\": {\"data\": \"{\\\\\"type\\\\\": \\\\\"int\\\\\"}\"}}, {\"login\": {\"data\": \"{\\\\\"type\\\\\": \\\\\"str\\\\\"}\"}}, {\"url\": {\"data\": \"{\\\\\"type\\\\\": \\\\\"str\\\\\"}\"}}], \"data\": \"{\\\\\"type\\\\\": \\\\\"dict\\\\\"}\"}}, {\"created_at\": {\"data\": \"{\\\\\"type\\\\\": \\\\\"str\\\\\"}\"}}, {\"id\": {\"data\": \"{\\\\\"type\\\\\": \\\\\"str\\\\\"}\"}}, {\"payload\": {\"children\": [{\"name\": {\"data\": \"{\\\\\"type\\\\\": \\\\\"str\\\\\"}\"}}, {\"object\": {\"data\": \"{\\\\\"type\\\\\": \\\\\"str\\\\\"}\"}}, {\"object_name\": {\"data\": \"{\\\\\"type\\\\\": \\\\\"None\\\\\"}\"}}], \"data\": \"{\\\\\"type\\\\\": \\\\\"dict\\\\\"}\"}}, {\"public\": {\"data\": \"{\\\\\"type\\\\\": \\\\\"bool\\\\\"}\"}}, {\"repo\": {\"children\": [{\"name\": {\"data\": \"{\\\\\"type\\\\\": \\\\\"str\\\\\"}\"}}, {\"url\": {\"data\": \"{\\\\\"type\\\\\": \\\\\"str\\\\\"}\"}}], \"data\": \"{\\\\\"type\\\\\": \\\\\"dict\\\\\"}\"}}, {\"type\": {\"data\": \"{\\\\\"type\\\\\": \\\\\"str\\\\\"}\"}}], \"data\": \"{\\\\\"type\\\\\": \\\\\"dict\\\\\"}\"}}': (<treelib.tree.Tree at 0x7f98d793c710>,\n",
       "  15),\n",
       " '{\"root\": {\"children\": [{\"actor\": {\"children\": [{\"avatar_url\": {\"data\": \"{\\\\\"type\\\\\": \\\\\"str\\\\\"}\"}}, {\"gravatar_id\": {\"data\": \"{\\\\\"type\\\\\": \\\\\"str\\\\\"}\"}}, {\"id\": {\"data\": \"{\\\\\"type\\\\\": \\\\\"int\\\\\"}\"}}, {\"login\": {\"data\": \"{\\\\\"type\\\\\": \\\\\"str\\\\\"}\"}}, {\"url\": {\"data\": \"{\\\\\"type\\\\\": \\\\\"str\\\\\"}\"}}], \"data\": \"{\\\\\"type\\\\\": \\\\\"dict\\\\\"}\"}}, {\"created_at\": {\"data\": \"{\\\\\"type\\\\\": \\\\\"str\\\\\"}\"}}, {\"id\": {\"data\": \"{\\\\\"type\\\\\": \\\\\"str\\\\\"}\"}}, {\"payload\": {\"children\": [{\"actor\": {\"data\": \"{\\\\\"type\\\\\": \\\\\"str\\\\\"}\"}}, {\"actor_gravatar\": {\"data\": \"{\\\\\"type\\\\\": \\\\\"str\\\\\"}\"}}, {\"forkee\": {\"data\": \"{\\\\\"type\\\\\": \\\\\"int\\\\\"}\"}}, {\"repo\": {\"data\": \"{\\\\\"type\\\\\": \\\\\"str\\\\\"}\"}}], \"data\": \"{\\\\\"type\\\\\": \\\\\"dict\\\\\"}\"}}, {\"public\": {\"data\": \"{\\\\\"type\\\\\": \\\\\"bool\\\\\"}\"}}, {\"repo\": {\"children\": [{\"name\": {\"data\": \"{\\\\\"type\\\\\": \\\\\"str\\\\\"}\"}}, {\"url\": {\"data\": \"{\\\\\"type\\\\\": \\\\\"str\\\\\"}\"}}], \"data\": \"{\\\\\"type\\\\\": \\\\\"dict\\\\\"}\"}}, {\"type\": {\"data\": \"{\\\\\"type\\\\\": \\\\\"str\\\\\"}\"}}], \"data\": \"{\\\\\"type\\\\\": \\\\\"dict\\\\\"}\"}}': (<treelib.tree.Tree at 0x7f98d793d208>,\n",
       "  3),\n",
       " '{\"root\": {\"children\": [{\"actor\": {\"children\": [{\"avatar_url\": {\"data\": \"{\\\\\"type\\\\\": \\\\\"str\\\\\"}\"}}, {\"gravatar_id\": {\"data\": \"{\\\\\"type\\\\\": \\\\\"str\\\\\"}\"}}, {\"id\": {\"data\": \"{\\\\\"type\\\\\": \\\\\"int\\\\\"}\"}}, {\"login\": {\"data\": \"{\\\\\"type\\\\\": \\\\\"str\\\\\"}\"}}, {\"url\": {\"data\": \"{\\\\\"type\\\\\": \\\\\"str\\\\\"}\"}}], \"data\": \"{\\\\\"type\\\\\": \\\\\"dict\\\\\"}\"}}, {\"created_at\": {\"data\": \"{\\\\\"type\\\\\": \\\\\"str\\\\\"}\"}}, {\"id\": {\"data\": \"{\\\\\"type\\\\\": \\\\\"str\\\\\"}\"}}, {\"payload\": {\"children\": [{\"action\": {\"data\": \"{\\\\\"type\\\\\": \\\\\"str\\\\\"}\"}}, {\"actor\": {\"data\": \"{\\\\\"type\\\\\": \\\\\"str\\\\\"}\"}}, {\"actor_gravatar\": {\"data\": \"{\\\\\"type\\\\\": \\\\\"str\\\\\"}\"}}, {\"member\": {\"data\": \"{\\\\\"type\\\\\": \\\\\"str\\\\\"}\"}}, {\"repo\": {\"data\": \"{\\\\\"type\\\\\": \\\\\"str\\\\\"}\"}}], \"data\": \"{\\\\\"type\\\\\": \\\\\"dict\\\\\"}\"}}, {\"public\": {\"data\": \"{\\\\\"type\\\\\": \\\\\"bool\\\\\"}\"}}, {\"repo\": {\"children\": [{\"id\": {\"data\": \"{\\\\\"type\\\\\": \\\\\"int\\\\\"}\"}}, {\"name\": {\"data\": \"{\\\\\"type\\\\\": \\\\\"str\\\\\"}\"}}, {\"url\": {\"data\": \"{\\\\\"type\\\\\": \\\\\"str\\\\\"}\"}}], \"data\": \"{\\\\\"type\\\\\": \\\\\"dict\\\\\"}\"}}, {\"type\": {\"data\": \"{\\\\\"type\\\\\": \\\\\"str\\\\\"}\"}}], \"data\": \"{\\\\\"type\\\\\": \\\\\"dict\\\\\"}\"}}': (<treelib.tree.Tree at 0x7f98d79574a8>,\n",
       "  8),\n",
       " '{\"root\": {\"children\": [{\"actor\": {\"children\": [{\"avatar_url\": {\"data\": \"{\\\\\"type\\\\\": \\\\\"str\\\\\"}\"}}, {\"gravatar_id\": {\"data\": \"{\\\\\"type\\\\\": \\\\\"str\\\\\"}\"}}, {\"id\": {\"data\": \"{\\\\\"type\\\\\": \\\\\"int\\\\\"}\"}}, {\"login\": {\"data\": \"{\\\\\"type\\\\\": \\\\\"str\\\\\"}\"}}, {\"url\": {\"data\": \"{\\\\\"type\\\\\": \\\\\"str\\\\\"}\"}}], \"data\": \"{\\\\\"type\\\\\": \\\\\"dict\\\\\"}\"}}, {\"created_at\": {\"data\": \"{\\\\\"type\\\\\": \\\\\"str\\\\\"}\"}}, {\"id\": {\"data\": \"{\\\\\"type\\\\\": \\\\\"str\\\\\"}\"}}, {\"org\": {\"children\": [{\"avatar_url\": {\"data\": \"{\\\\\"type\\\\\": \\\\\"str\\\\\"}\"}}, {\"gravatar_id\": {\"data\": \"{\\\\\"type\\\\\": \\\\\"str\\\\\"}\"}}, {\"id\": {\"data\": \"{\\\\\"type\\\\\": \\\\\"int\\\\\"}\"}}, {\"login\": {\"data\": \"{\\\\\"type\\\\\": \\\\\"str\\\\\"}\"}}, {\"url\": {\"data\": \"{\\\\\"type\\\\\": \\\\\"str\\\\\"}\"}}], \"data\": \"{\\\\\"type\\\\\": \\\\\"dict\\\\\"}\"}}, {\"payload\": {\"children\": [{\"actor\": {\"data\": \"{\\\\\"type\\\\\": \\\\\"str\\\\\"}\"}}, {\"actor_gravatar\": {\"data\": \"{\\\\\"type\\\\\": \\\\\"str\\\\\"}\"}}, {\"comment_id\": {\"data\": \"{\\\\\"type\\\\\": \\\\\"int\\\\\"}\"}}, {\"commit\": {\"data\": \"{\\\\\"type\\\\\": \\\\\"str\\\\\"}\"}}, {\"repo\": {\"data\": \"{\\\\\"type\\\\\": \\\\\"str\\\\\"}\"}}], \"data\": \"{\\\\\"type\\\\\": \\\\\"dict\\\\\"}\"}}, {\"public\": {\"data\": \"{\\\\\"type\\\\\": \\\\\"bool\\\\\"}\"}}, {\"repo\": {\"children\": [{\"id\": {\"data\": \"{\\\\\"type\\\\\": \\\\\"int\\\\\"}\"}}, {\"name\": {\"data\": \"{\\\\\"type\\\\\": \\\\\"str\\\\\"}\"}}, {\"url\": {\"data\": \"{\\\\\"type\\\\\": \\\\\"str\\\\\"}\"}}], \"data\": \"{\\\\\"type\\\\\": \\\\\"dict\\\\\"}\"}}, {\"type\": {\"data\": \"{\\\\\"type\\\\\": \\\\\"str\\\\\"}\"}}], \"data\": \"{\\\\\"type\\\\\": \\\\\"dict\\\\\"}\"}}': (<treelib.tree.Tree at 0x7f98d793d4a8>,\n",
       "  7),\n",
       " '{\"root\": {\"children\": [{\"actor\": {\"children\": [{\"avatar_url\": {\"data\": \"{\\\\\"type\\\\\": \\\\\"str\\\\\"}\"}}, {\"gravatar_id\": {\"data\": \"{\\\\\"type\\\\\": \\\\\"str\\\\\"}\"}}, {\"id\": {\"data\": \"{\\\\\"type\\\\\": \\\\\"int\\\\\"}\"}}, {\"login\": {\"data\": \"{\\\\\"type\\\\\": \\\\\"str\\\\\"}\"}}, {\"url\": {\"data\": \"{\\\\\"type\\\\\": \\\\\"str\\\\\"}\"}}], \"data\": \"{\\\\\"type\\\\\": \\\\\"dict\\\\\"}\"}}, {\"created_at\": {\"data\": \"{\\\\\"type\\\\\": \\\\\"str\\\\\"}\"}}, {\"id\": {\"data\": \"{\\\\\"type\\\\\": \\\\\"str\\\\\"}\"}}, {\"payload\": {\"children\": [{\"ref\": {\"data\": \"{\\\\\"type\\\\\": \\\\\"str\\\\\"}\"}}, {\"ref_type\": {\"data\": \"{\\\\\"type\\\\\": \\\\\"str\\\\\"}\"}}], \"data\": \"{\\\\\"type\\\\\": \\\\\"dict\\\\\"}\"}}, {\"public\": {\"data\": \"{\\\\\"type\\\\\": \\\\\"bool\\\\\"}\"}}, {\"repo\": {\"children\": [{\"id\": {\"data\": \"{\\\\\"type\\\\\": \\\\\"int\\\\\"}\"}}, {\"name\": {\"data\": \"{\\\\\"type\\\\\": \\\\\"str\\\\\"}\"}}, {\"url\": {\"data\": \"{\\\\\"type\\\\\": \\\\\"str\\\\\"}\"}}], \"data\": \"{\\\\\"type\\\\\": \\\\\"dict\\\\\"}\"}}, {\"type\": {\"data\": \"{\\\\\"type\\\\\": \\\\\"str\\\\\"}\"}}], \"data\": \"{\\\\\"type\\\\\": \\\\\"dict\\\\\"}\"}}': (<treelib.tree.Tree at 0x7f98d7968208>,\n",
       "  8),\n",
       " '{\"root\": {\"children\": [{\"actor\": {\"children\": [{\"avatar_url\": {\"data\": \"{\\\\\"type\\\\\": \\\\\"str\\\\\"}\"}}, {\"url\": {\"data\": \"{\\\\\"type\\\\\": \\\\\"str\\\\\"}\"}}], \"data\": \"{\\\\\"type\\\\\": \\\\\"dict\\\\\"}\"}}, {\"created_at\": {\"data\": \"{\\\\\"type\\\\\": \\\\\"str\\\\\"}\"}}, {\"id\": {\"data\": \"{\\\\\"type\\\\\": \\\\\"str\\\\\"}\"}}, {\"payload\": {\"children\": [{\"actor\": {\"data\": \"{\\\\\"type\\\\\": \\\\\"str\\\\\"}\"}}, {\"actor_gravatar\": {\"data\": \"{\\\\\"type\\\\\": \\\\\"str\\\\\"}\"}}, {\"head\": {\"data\": \"{\\\\\"type\\\\\": \\\\\"str\\\\\"}\"}}, {\"push_id\": {\"data\": \"{\\\\\"type\\\\\": \\\\\"int\\\\\"}\"}}, {\"ref\": {\"data\": \"{\\\\\"type\\\\\": \\\\\"str\\\\\"}\"}}, {\"repo\": {\"data\": \"{\\\\\"type\\\\\": \\\\\"str\\\\\"}\"}}, {\"shas\": {\"data\": \"{\\\\\"type\\\\\": \\\\\"List[List[str]]\\\\\"}\"}}, {\"size\": {\"data\": \"{\\\\\"type\\\\\": \\\\\"int\\\\\"}\"}}], \"data\": \"{\\\\\"type\\\\\": \\\\\"dict\\\\\"}\"}}, {\"public\": {\"data\": \"{\\\\\"type\\\\\": \\\\\"bool\\\\\"}\"}}, {\"repo\": {\"children\": [{\"name\": {\"data\": \"{\\\\\"type\\\\\": \\\\\"str\\\\\"}\"}}, {\"url\": {\"data\": \"{\\\\\"type\\\\\": \\\\\"str\\\\\"}\"}}], \"data\": \"{\\\\\"type\\\\\": \\\\\"dict\\\\\"}\"}}, {\"type\": {\"data\": \"{\\\\\"type\\\\\": \\\\\"str\\\\\"}\"}}], \"data\": \"{\\\\\"type\\\\\": \\\\\"dict\\\\\"}\"}}': (<treelib.tree.Tree at 0x7f98d7968cf8>,\n",
       "  4),\n",
       " '{\"root\": {\"children\": [{\"actor\": {\"children\": [{\"avatar_url\": {\"data\": \"{\\\\\"type\\\\\": \\\\\"str\\\\\"}\"}}, {\"gravatar_id\": {\"data\": \"{\\\\\"type\\\\\": \\\\\"str\\\\\"}\"}}, {\"id\": {\"data\": \"{\\\\\"type\\\\\": \\\\\"int\\\\\"}\"}}, {\"login\": {\"data\": \"{\\\\\"type\\\\\": \\\\\"str\\\\\"}\"}}, {\"url\": {\"data\": \"{\\\\\"type\\\\\": \\\\\"str\\\\\"}\"}}], \"data\": \"{\\\\\"type\\\\\": \\\\\"dict\\\\\"}\"}}, {\"created_at\": {\"data\": \"{\\\\\"type\\\\\": \\\\\"str\\\\\"}\"}}, {\"id\": {\"data\": \"{\\\\\"type\\\\\": \\\\\"str\\\\\"}\"}}, {\"org\": {\"children\": [{\"avatar_url\": {\"data\": \"{\\\\\"type\\\\\": \\\\\"str\\\\\"}\"}}, {\"gravatar_id\": {\"data\": \"{\\\\\"type\\\\\": \\\\\"str\\\\\"}\"}}, {\"id\": {\"data\": \"{\\\\\"type\\\\\": \\\\\"int\\\\\"}\"}}, {\"login\": {\"data\": \"{\\\\\"type\\\\\": \\\\\"str\\\\\"}\"}}, {\"url\": {\"data\": \"{\\\\\"type\\\\\": \\\\\"str\\\\\"}\"}}], \"data\": \"{\\\\\"type\\\\\": \\\\\"dict\\\\\"}\"}}, {\"payload\": {\"children\": [{\"action\": {\"data\": \"{\\\\\"type\\\\\": \\\\\"str\\\\\"}\"}}, {\"actor\": {\"data\": \"{\\\\\"type\\\\\": \\\\\"str\\\\\"}\"}}, {\"actor_gravatar\": {\"data\": \"{\\\\\"type\\\\\": \\\\\"str\\\\\"}\"}}, {\"number\": {\"data\": \"{\\\\\"type\\\\\": \\\\\"int\\\\\"}\"}}, {\"pull_request\": {\"children\": [{\"additions\": {\"data\": \"{\\\\\"type\\\\\": \\\\\"int\\\\\"}\"}}, {\"commits\": {\"data\": \"{\\\\\"type\\\\\": \\\\\"int\\\\\"}\"}}, {\"deletions\": {\"data\": \"{\\\\\"type\\\\\": \\\\\"int\\\\\"}\"}}, {\"id\": {\"data\": \"{\\\\\"type\\\\\": \\\\\"int\\\\\"}\"}}, {\"issue_id\": {\"data\": \"{\\\\\"type\\\\\": \\\\\"int\\\\\"}\"}}, {\"number\": {\"data\": \"{\\\\\"type\\\\\": \\\\\"int\\\\\"}\"}}, {\"title\": {\"data\": \"{\\\\\"type\\\\\": \\\\\"str\\\\\"}\"}}], \"data\": \"{\\\\\"type\\\\\": \\\\\"dict\\\\\"}\"}}, {\"repo\": {\"data\": \"{\\\\\"type\\\\\": \\\\\"str\\\\\"}\"}}], \"data\": \"{\\\\\"type\\\\\": \\\\\"dict\\\\\"}\"}}, {\"public\": {\"data\": \"{\\\\\"type\\\\\": \\\\\"bool\\\\\"}\"}}, {\"repo\": {\"children\": [{\"id\": {\"data\": \"{\\\\\"type\\\\\": \\\\\"int\\\\\"}\"}}, {\"name\": {\"data\": \"{\\\\\"type\\\\\": \\\\\"str\\\\\"}\"}}, {\"url\": {\"data\": \"{\\\\\"type\\\\\": \\\\\"str\\\\\"}\"}}], \"data\": \"{\\\\\"type\\\\\": \\\\\"dict\\\\\"}\"}}, {\"type\": {\"data\": \"{\\\\\"type\\\\\": \\\\\"str\\\\\"}\"}}], \"data\": \"{\\\\\"type\\\\\": \\\\\"dict\\\\\"}\"}}': (<treelib.tree.Tree at 0x7f98d7971860>,\n",
       "  18),\n",
       " '{\"root\": {\"children\": [{\"actor\": {\"children\": [{\"avatar_url\": {\"data\": \"{\\\\\"type\\\\\": \\\\\"str\\\\\"}\"}}, {\"gravatar_id\": {\"data\": \"{\\\\\"type\\\\\": \\\\\"str\\\\\"}\"}}, {\"id\": {\"data\": \"{\\\\\"type\\\\\": \\\\\"int\\\\\"}\"}}, {\"login\": {\"data\": \"{\\\\\"type\\\\\": \\\\\"str\\\\\"}\"}}, {\"url\": {\"data\": \"{\\\\\"type\\\\\": \\\\\"str\\\\\"}\"}}], \"data\": \"{\\\\\"type\\\\\": \\\\\"dict\\\\\"}\"}}, {\"created_at\": {\"data\": \"{\\\\\"type\\\\\": \\\\\"str\\\\\"}\"}}, {\"id\": {\"data\": \"{\\\\\"type\\\\\": \\\\\"str\\\\\"}\"}}, {\"payload\": {\"children\": [{\"actor\": {\"data\": \"{\\\\\"type\\\\\": \\\\\"str\\\\\"}\"}}, {\"actor_gravatar\": {\"data\": \"{\\\\\"type\\\\\": \\\\\"str\\\\\"}\"}}, {\"head\": {\"data\": \"{\\\\\"type\\\\\": \\\\\"str\\\\\"}\"}}, {\"push_id\": {\"data\": \"{\\\\\"type\\\\\": \\\\\"int\\\\\"}\"}}, {\"ref\": {\"data\": \"{\\\\\"type\\\\\": \\\\\"str\\\\\"}\"}}, {\"repo\": {\"data\": \"{\\\\\"type\\\\\": \\\\\"str\\\\\"}\"}}, {\"shas\": {\"data\": \"{\\\\\"type\\\\\": \\\\\"List[]\\\\\"}\"}}, {\"size\": {\"data\": \"{\\\\\"type\\\\\": \\\\\"int\\\\\"}\"}}], \"data\": \"{\\\\\"type\\\\\": \\\\\"dict\\\\\"}\"}}, {\"public\": {\"data\": \"{\\\\\"type\\\\\": \\\\\"bool\\\\\"}\"}}, {\"repo\": {\"children\": [{\"id\": {\"data\": \"{\\\\\"type\\\\\": \\\\\"int\\\\\"}\"}}, {\"name\": {\"data\": \"{\\\\\"type\\\\\": \\\\\"str\\\\\"}\"}}, {\"url\": {\"data\": \"{\\\\\"type\\\\\": \\\\\"str\\\\\"}\"}}], \"data\": \"{\\\\\"type\\\\\": \\\\\"dict\\\\\"}\"}}, {\"type\": {\"data\": \"{\\\\\"type\\\\\": \\\\\"str\\\\\"}\"}}], \"data\": \"{\\\\\"type\\\\\": \\\\\"dict\\\\\"}\"}}': (<treelib.tree.Tree at 0x7f98d796ca90>,\n",
       "  6),\n",
       " '{\"root\": {\"children\": [{\"actor\": {\"children\": [{\"avatar_url\": {\"data\": \"{\\\\\"type\\\\\": \\\\\"str\\\\\"}\"}}, {\"gravatar_id\": {\"data\": \"{\\\\\"type\\\\\": \\\\\"str\\\\\"}\"}}, {\"id\": {\"data\": \"{\\\\\"type\\\\\": \\\\\"int\\\\\"}\"}}, {\"login\": {\"data\": \"{\\\\\"type\\\\\": \\\\\"str\\\\\"}\"}}, {\"url\": {\"data\": \"{\\\\\"type\\\\\": \\\\\"str\\\\\"}\"}}], \"data\": \"{\\\\\"type\\\\\": \\\\\"dict\\\\\"}\"}}, {\"created_at\": {\"data\": \"{\\\\\"type\\\\\": \\\\\"str\\\\\"}\"}}, {\"id\": {\"data\": \"{\\\\\"type\\\\\": \\\\\"str\\\\\"}\"}}, {\"payload\": {\"children\": [{\"id\": {\"data\": \"{\\\\\"type\\\\\": \\\\\"int\\\\\"}\"}}, {\"url\": {\"data\": \"{\\\\\"type\\\\\": \\\\\"str\\\\\"}\"}}], \"data\": \"{\\\\\"type\\\\\": \\\\\"dict\\\\\"}\"}}, {\"public\": {\"data\": \"{\\\\\"type\\\\\": \\\\\"bool\\\\\"}\"}}, {\"repo\": {\"children\": [{\"name\": {\"data\": \"{\\\\\"type\\\\\": \\\\\"str\\\\\"}\"}}, {\"url\": {\"data\": \"{\\\\\"type\\\\\": \\\\\"str\\\\\"}\"}}], \"data\": \"{\\\\\"type\\\\\": \\\\\"dict\\\\\"}\"}}, {\"type\": {\"data\": \"{\\\\\"type\\\\\": \\\\\"str\\\\\"}\"}}], \"data\": \"{\\\\\"type\\\\\": \\\\\"dict\\\\\"}\"}}': (<treelib.tree.Tree at 0x7f98d7972780>,\n",
       "  1),\n",
       " '{\"root\": {\"children\": [{\"actor\": {\"children\": [{\"avatar_url\": {\"data\": \"{\\\\\"type\\\\\": \\\\\"str\\\\\"}\"}}, {\"gravatar_id\": {\"data\": \"{\\\\\"type\\\\\": \\\\\"str\\\\\"}\"}}, {\"id\": {\"data\": \"{\\\\\"type\\\\\": \\\\\"int\\\\\"}\"}}, {\"login\": {\"data\": \"{\\\\\"type\\\\\": \\\\\"str\\\\\"}\"}}, {\"url\": {\"data\": \"{\\\\\"type\\\\\": \\\\\"str\\\\\"}\"}}], \"data\": \"{\\\\\"type\\\\\": \\\\\"dict\\\\\"}\"}}, {\"created_at\": {\"data\": \"{\\\\\"type\\\\\": \\\\\"str\\\\\"}\"}}, {\"id\": {\"data\": \"{\\\\\"type\\\\\": \\\\\"str\\\\\"}\"}}, {\"org\": {\"children\": [{\"avatar_url\": {\"data\": \"{\\\\\"type\\\\\": \\\\\"str\\\\\"}\"}}, {\"gravatar_id\": {\"data\": \"{\\\\\"type\\\\\": \\\\\"str\\\\\"}\"}}, {\"id\": {\"data\": \"{\\\\\"type\\\\\": \\\\\"int\\\\\"}\"}}, {\"login\": {\"data\": \"{\\\\\"type\\\\\": \\\\\"str\\\\\"}\"}}, {\"url\": {\"data\": \"{\\\\\"type\\\\\": \\\\\"str\\\\\"}\"}}], \"data\": \"{\\\\\"type\\\\\": \\\\\"dict\\\\\"}\"}}, {\"payload\": {\"children\": [{\"name\": {\"data\": \"{\\\\\"type\\\\\": \\\\\"str\\\\\"}\"}}, {\"object\": {\"data\": \"{\\\\\"type\\\\\": \\\\\"str\\\\\"}\"}}, {\"object_name\": {\"data\": \"{\\\\\"type\\\\\": \\\\\"None\\\\\"}\"}}], \"data\": \"{\\\\\"type\\\\\": \\\\\"dict\\\\\"}\"}}, {\"public\": {\"data\": \"{\\\\\"type\\\\\": \\\\\"bool\\\\\"}\"}}, {\"repo\": {\"children\": [{\"id\": {\"data\": \"{\\\\\"type\\\\\": \\\\\"int\\\\\"}\"}}, {\"name\": {\"data\": \"{\\\\\"type\\\\\": \\\\\"str\\\\\"}\"}}, {\"url\": {\"data\": \"{\\\\\"type\\\\\": \\\\\"str\\\\\"}\"}}], \"data\": \"{\\\\\"type\\\\\": \\\\\"dict\\\\\"}\"}}, {\"type\": {\"data\": \"{\\\\\"type\\\\\": \\\\\"str\\\\\"}\"}}], \"data\": \"{\\\\\"type\\\\\": \\\\\"dict\\\\\"}\"}}': (<treelib.tree.Tree at 0x7f98d7972438>,\n",
       "  3),\n",
       " '{\"root\": {\"children\": [{\"actor\": {\"children\": [{\"avatar_url\": {\"data\": \"{\\\\\"type\\\\\": \\\\\"str\\\\\"}\"}}, {\"gravatar_id\": {\"data\": \"{\\\\\"type\\\\\": \\\\\"str\\\\\"}\"}}, {\"id\": {\"data\": \"{\\\\\"type\\\\\": \\\\\"int\\\\\"}\"}}, {\"login\": {\"data\": \"{\\\\\"type\\\\\": \\\\\"str\\\\\"}\"}}, {\"url\": {\"data\": \"{\\\\\"type\\\\\": \\\\\"str\\\\\"}\"}}], \"data\": \"{\\\\\"type\\\\\": \\\\\"dict\\\\\"}\"}}, {\"created_at\": {\"data\": \"{\\\\\"type\\\\\": \\\\\"str\\\\\"}\"}}, {\"id\": {\"data\": \"{\\\\\"type\\\\\": \\\\\"str\\\\\"}\"}}, {\"org\": {\"children\": [{\"avatar_url\": {\"data\": \"{\\\\\"type\\\\\": \\\\\"str\\\\\"}\"}}, {\"gravatar_id\": {\"data\": \"{\\\\\"type\\\\\": \\\\\"str\\\\\"}\"}}, {\"id\": {\"data\": \"{\\\\\"type\\\\\": \\\\\"int\\\\\"}\"}}, {\"login\": {\"data\": \"{\\\\\"type\\\\\": \\\\\"str\\\\\"}\"}}, {\"url\": {\"data\": \"{\\\\\"type\\\\\": \\\\\"str\\\\\"}\"}}], \"data\": \"{\\\\\"type\\\\\": \\\\\"dict\\\\\"}\"}}, {\"payload\": {\"children\": [{\"action\": {\"data\": \"{\\\\\"type\\\\\": \\\\\"str\\\\\"}\"}}, {\"actor\": {\"data\": \"{\\\\\"type\\\\\": \\\\\"str\\\\\"}\"}}, {\"actor_gravatar\": {\"data\": \"{\\\\\"type\\\\\": \\\\\"str\\\\\"}\"}}, {\"page_name\": {\"data\": \"{\\\\\"type\\\\\": \\\\\"str\\\\\"}\"}}, {\"repo\": {\"data\": \"{\\\\\"type\\\\\": \\\\\"str\\\\\"}\"}}, {\"sha\": {\"data\": \"{\\\\\"type\\\\\": \\\\\"str\\\\\"}\"}}, {\"summary\": {\"data\": \"{\\\\\"type\\\\\": \\\\\"str\\\\\"}\"}}, {\"title\": {\"data\": \"{\\\\\"type\\\\\": \\\\\"str\\\\\"}\"}}], \"data\": \"{\\\\\"type\\\\\": \\\\\"dict\\\\\"}\"}}, {\"public\": {\"data\": \"{\\\\\"type\\\\\": \\\\\"bool\\\\\"}\"}}, {\"repo\": {\"children\": [{\"id\": {\"data\": \"{\\\\\"type\\\\\": \\\\\"int\\\\\"}\"}}, {\"name\": {\"data\": \"{\\\\\"type\\\\\": \\\\\"str\\\\\"}\"}}, {\"url\": {\"data\": \"{\\\\\"type\\\\\": \\\\\"str\\\\\"}\"}}], \"data\": \"{\\\\\"type\\\\\": \\\\\"dict\\\\\"}\"}}, {\"type\": {\"data\": \"{\\\\\"type\\\\\": \\\\\"str\\\\\"}\"}}], \"data\": \"{\\\\\"type\\\\\": \\\\\"dict\\\\\"}\"}}': (<treelib.tree.Tree at 0x7f98d7972ef0>,\n",
       "  2),\n",
       " '{\"root\": {\"children\": [{\"actor\": {\"children\": [{\"avatar_url\": {\"data\": \"{\\\\\"type\\\\\": \\\\\"str\\\\\"}\"}}, {\"url\": {\"data\": \"{\\\\\"type\\\\\": \\\\\"str\\\\\"}\"}}], \"data\": \"{\\\\\"type\\\\\": \\\\\"dict\\\\\"}\"}}, {\"created_at\": {\"data\": \"{\\\\\"type\\\\\": \\\\\"str\\\\\"}\"}}, {\"id\": {\"data\": \"{\\\\\"type\\\\\": \\\\\"str\\\\\"}\"}}, {\"payload\": {\"children\": [{\"action\": {\"data\": \"{\\\\\"type\\\\\": \\\\\"str\\\\\"}\"}}, {\"page_name\": {\"data\": \"{\\\\\"type\\\\\": \\\\\"str\\\\\"}\"}}, {\"repo\": {\"data\": \"{\\\\\"type\\\\\": \\\\\"str\\\\\"}\"}}, {\"sha\": {\"data\": \"{\\\\\"type\\\\\": \\\\\"str\\\\\"}\"}}, {\"summary\": {\"data\": \"{\\\\\"type\\\\\": \\\\\"None\\\\\"}\"}}, {\"title\": {\"data\": \"{\\\\\"type\\\\\": \\\\\"str\\\\\"}\"}}], \"data\": \"{\\\\\"type\\\\\": \\\\\"dict\\\\\"}\"}}, {\"public\": {\"data\": \"{\\\\\"type\\\\\": \\\\\"bool\\\\\"}\"}}, {\"repo\": {\"children\": [{\"id\": {\"data\": \"{\\\\\"type\\\\\": \\\\\"int\\\\\"}\"}}, {\"name\": {\"data\": \"{\\\\\"type\\\\\": \\\\\"str\\\\\"}\"}}, {\"url\": {\"data\": \"{\\\\\"type\\\\\": \\\\\"str\\\\\"}\"}}], \"data\": \"{\\\\\"type\\\\\": \\\\\"dict\\\\\"}\"}}, {\"type\": {\"data\": \"{\\\\\"type\\\\\": \\\\\"str\\\\\"}\"}}], \"data\": \"{\\\\\"type\\\\\": \\\\\"dict\\\\\"}\"}}': (<treelib.tree.Tree at 0x7f98d790d978>,\n",
       "  1),\n",
       " '{\"root\": {\"children\": [{\"actor\": {\"children\": [{\"avatar_url\": {\"data\": \"{\\\\\"type\\\\\": \\\\\"str\\\\\"}\"}}, {\"gravatar_id\": {\"data\": \"{\\\\\"type\\\\\": \\\\\"str\\\\\"}\"}}, {\"id\": {\"data\": \"{\\\\\"type\\\\\": \\\\\"int\\\\\"}\"}}, {\"login\": {\"data\": \"{\\\\\"type\\\\\": \\\\\"str\\\\\"}\"}}, {\"url\": {\"data\": \"{\\\\\"type\\\\\": \\\\\"str\\\\\"}\"}}], \"data\": \"{\\\\\"type\\\\\": \\\\\"dict\\\\\"}\"}}, {\"created_at\": {\"data\": \"{\\\\\"type\\\\\": \\\\\"str\\\\\"}\"}}, {\"id\": {\"data\": \"{\\\\\"type\\\\\": \\\\\"str\\\\\"}\"}}, {\"payload\": {\"children\": [{\"action\": {\"data\": \"{\\\\\"type\\\\\": \\\\\"str\\\\\"}\"}}, {\"actor\": {\"data\": \"{\\\\\"type\\\\\": \\\\\"str\\\\\"}\"}}, {\"actor_gravatar\": {\"data\": \"{\\\\\"type\\\\\": \\\\\"str\\\\\"}\"}}, {\"page_name\": {\"data\": \"{\\\\\"type\\\\\": \\\\\"str\\\\\"}\"}}, {\"repo\": {\"data\": \"{\\\\\"type\\\\\": \\\\\"str\\\\\"}\"}}, {\"sha\": {\"data\": \"{\\\\\"type\\\\\": \\\\\"str\\\\\"}\"}}, {\"summary\": {\"data\": \"{\\\\\"type\\\\\": \\\\\"None\\\\\"}\"}}, {\"title\": {\"data\": \"{\\\\\"type\\\\\": \\\\\"str\\\\\"}\"}}], \"data\": \"{\\\\\"type\\\\\": \\\\\"dict\\\\\"}\"}}, {\"public\": {\"data\": \"{\\\\\"type\\\\\": \\\\\"bool\\\\\"}\"}}, {\"repo\": {\"children\": [{\"name\": {\"data\": \"{\\\\\"type\\\\\": \\\\\"str\\\\\"}\"}}, {\"url\": {\"data\": \"{\\\\\"type\\\\\": \\\\\"str\\\\\"}\"}}], \"data\": \"{\\\\\"type\\\\\": \\\\\"dict\\\\\"}\"}}, {\"type\": {\"data\": \"{\\\\\"type\\\\\": \\\\\"str\\\\\"}\"}}], \"data\": \"{\\\\\"type\\\\\": \\\\\"dict\\\\\"}\"}}': (<treelib.tree.Tree at 0x7f98d790def0>,\n",
       "  1),\n",
       " '{\"root\": {\"children\": [{\"actor\": {\"children\": [{\"avatar_url\": {\"data\": \"{\\\\\"type\\\\\": \\\\\"str\\\\\"}\"}}, {\"url\": {\"data\": \"{\\\\\"type\\\\\": \\\\\"str\\\\\"}\"}}], \"data\": \"{\\\\\"type\\\\\": \\\\\"dict\\\\\"}\"}}, {\"created_at\": {\"data\": \"{\\\\\"type\\\\\": \\\\\"str\\\\\"}\"}}, {\"id\": {\"data\": \"{\\\\\"type\\\\\": \\\\\"str\\\\\"}\"}}, {\"payload\": {\"children\": [{\"action\": {\"data\": \"{\\\\\"type\\\\\": \\\\\"str\\\\\"}\"}}, {\"page_name\": {\"data\": \"{\\\\\"type\\\\\": \\\\\"str\\\\\"}\"}}, {\"repo\": {\"data\": \"{\\\\\"type\\\\\": \\\\\"str\\\\\"}\"}}, {\"sha\": {\"data\": \"{\\\\\"type\\\\\": \\\\\"str\\\\\"}\"}}, {\"summary\": {\"data\": \"{\\\\\"type\\\\\": \\\\\"None\\\\\"}\"}}, {\"title\": {\"data\": \"{\\\\\"type\\\\\": \\\\\"str\\\\\"}\"}}], \"data\": \"{\\\\\"type\\\\\": \\\\\"dict\\\\\"}\"}}, {\"public\": {\"data\": \"{\\\\\"type\\\\\": \\\\\"bool\\\\\"}\"}}, {\"repo\": {\"children\": [{\"name\": {\"data\": \"{\\\\\"type\\\\\": \\\\\"str\\\\\"}\"}}, {\"url\": {\"data\": \"{\\\\\"type\\\\\": \\\\\"str\\\\\"}\"}}], \"data\": \"{\\\\\"type\\\\\": \\\\\"dict\\\\\"}\"}}, {\"type\": {\"data\": \"{\\\\\"type\\\\\": \\\\\"str\\\\\"}\"}}], \"data\": \"{\\\\\"type\\\\\": \\\\\"dict\\\\\"}\"}}': (<treelib.tree.Tree at 0x7f98d7914cf8>,\n",
       "  1),\n",
       " '{\"root\": {\"children\": [{\"actor\": {\"children\": [{\"avatar_url\": {\"data\": \"{\\\\\"type\\\\\": \\\\\"str\\\\\"}\"}}, {\"gravatar_id\": {\"data\": \"{\\\\\"type\\\\\": \\\\\"str\\\\\"}\"}}, {\"id\": {\"data\": \"{\\\\\"type\\\\\": \\\\\"int\\\\\"}\"}}, {\"login\": {\"data\": \"{\\\\\"type\\\\\": \\\\\"str\\\\\"}\"}}, {\"url\": {\"data\": \"{\\\\\"type\\\\\": \\\\\"str\\\\\"}\"}}], \"data\": \"{\\\\\"type\\\\\": \\\\\"dict\\\\\"}\"}}, {\"created_at\": {\"data\": \"{\\\\\"type\\\\\": \\\\\"str\\\\\"}\"}}, {\"id\": {\"data\": \"{\\\\\"type\\\\\": \\\\\"str\\\\\"}\"}}, {\"payload\": {\"children\": [{\"action\": {\"data\": \"{\\\\\"type\\\\\": \\\\\"str\\\\\"}\"}}, {\"actor\": {\"data\": \"{\\\\\"type\\\\\": \\\\\"str\\\\\"}\"}}, {\"actor_gravatar\": {\"data\": \"{\\\\\"type\\\\\": \\\\\"str\\\\\"}\"}}, {\"repo\": {\"data\": \"{\\\\\"type\\\\\": \\\\\"str\\\\\"}\"}}], \"data\": \"{\\\\\"type\\\\\": \\\\\"dict\\\\\"}\"}}, {\"public\": {\"data\": \"{\\\\\"type\\\\\": \\\\\"bool\\\\\"}\"}}, {\"repo\": {\"children\": [{\"name\": {\"data\": \"{\\\\\"type\\\\\": \\\\\"str\\\\\"}\"}}, {\"url\": {\"data\": \"{\\\\\"type\\\\\": \\\\\"str\\\\\"}\"}}], \"data\": \"{\\\\\"type\\\\\": \\\\\"dict\\\\\"}\"}}, {\"type\": {\"data\": \"{\\\\\"type\\\\\": \\\\\"str\\\\\"}\"}}], \"data\": \"{\\\\\"type\\\\\": \\\\\"dict\\\\\"}\"}}': (<treelib.tree.Tree at 0x7f98d791c278>,\n",
       "  3),\n",
       " '{\"root\": {\"children\": [{\"actor\": {\"children\": [{\"avatar_url\": {\"data\": \"{\\\\\"type\\\\\": \\\\\"str\\\\\"}\"}}, {\"gravatar_id\": {\"data\": \"{\\\\\"type\\\\\": \\\\\"str\\\\\"}\"}}, {\"id\": {\"data\": \"{\\\\\"type\\\\\": \\\\\"int\\\\\"}\"}}, {\"login\": {\"data\": \"{\\\\\"type\\\\\": \\\\\"str\\\\\"}\"}}, {\"url\": {\"data\": \"{\\\\\"type\\\\\": \\\\\"str\\\\\"}\"}}], \"data\": \"{\\\\\"type\\\\\": \\\\\"dict\\\\\"}\"}}, {\"created_at\": {\"data\": \"{\\\\\"type\\\\\": \\\\\"str\\\\\"}\"}}, {\"id\": {\"data\": \"{\\\\\"type\\\\\": \\\\\"str\\\\\"}\"}}, {\"payload\": {\"children\": [{\"id\": {\"data\": \"{\\\\\"type\\\\\": \\\\\"int\\\\\"}\"}}, {\"url\": {\"data\": \"{\\\\\"type\\\\\": \\\\\"str\\\\\"}\"}}], \"data\": \"{\\\\\"type\\\\\": \\\\\"dict\\\\\"}\"}}, {\"public\": {\"data\": \"{\\\\\"type\\\\\": \\\\\"bool\\\\\"}\"}}, {\"repo\": {\"children\": [{\"id\": {\"data\": \"{\\\\\"type\\\\\": \\\\\"int\\\\\"}\"}}, {\"name\": {\"data\": \"{\\\\\"type\\\\\": \\\\\"str\\\\\"}\"}}, {\"url\": {\"data\": \"{\\\\\"type\\\\\": \\\\\"str\\\\\"}\"}}], \"data\": \"{\\\\\"type\\\\\": \\\\\"dict\\\\\"}\"}}, {\"type\": {\"data\": \"{\\\\\"type\\\\\": \\\\\"str\\\\\"}\"}}], \"data\": \"{\\\\\"type\\\\\": \\\\\"dict\\\\\"}\"}}': (<treelib.tree.Tree at 0x7f98d7914908>,\n",
       "  3),\n",
       " '{\"root\": {\"children\": [{\"actor\": {\"children\": [{\"avatar_url\": {\"data\": \"{\\\\\"type\\\\\": \\\\\"str\\\\\"}\"}}, {\"url\": {\"data\": \"{\\\\\"type\\\\\": \\\\\"str\\\\\"}\"}}], \"data\": \"{\\\\\"type\\\\\": \\\\\"dict\\\\\"}\"}}, {\"created_at\": {\"data\": \"{\\\\\"type\\\\\": \\\\\"str\\\\\"}\"}}, {\"id\": {\"data\": \"{\\\\\"type\\\\\": \\\\\"str\\\\\"}\"}}, {\"payload\": {\"children\": [{\"action\": {\"data\": \"{\\\\\"type\\\\\": \\\\\"str\\\\\"}\"}}, {\"actor\": {\"data\": \"{\\\\\"type\\\\\": \\\\\"str\\\\\"}\"}}, {\"actor_gravatar\": {\"data\": \"{\\\\\"type\\\\\": \\\\\"str\\\\\"}\"}}, {\"repo\": {\"data\": \"{\\\\\"type\\\\\": \\\\\"str\\\\\"}\"}}], \"data\": \"{\\\\\"type\\\\\": \\\\\"dict\\\\\"}\"}}, {\"public\": {\"data\": \"{\\\\\"type\\\\\": \\\\\"bool\\\\\"}\"}}, {\"repo\": {\"children\": [{\"id\": {\"data\": \"{\\\\\"type\\\\\": \\\\\"int\\\\\"}\"}}, {\"name\": {\"data\": \"{\\\\\"type\\\\\": \\\\\"str\\\\\"}\"}}, {\"url\": {\"data\": \"{\\\\\"type\\\\\": \\\\\"str\\\\\"}\"}}], \"data\": \"{\\\\\"type\\\\\": \\\\\"dict\\\\\"}\"}}, {\"type\": {\"data\": \"{\\\\\"type\\\\\": \\\\\"str\\\\\"}\"}}], \"data\": \"{\\\\\"type\\\\\": \\\\\"dict\\\\\"}\"}}': (<treelib.tree.Tree at 0x7f98d791afd0>,\n",
       "  1),\n",
       " '{\"root\": {\"children\": [{\"actor\": {\"children\": [{\"avatar_url\": {\"data\": \"{\\\\\"type\\\\\": \\\\\"str\\\\\"}\"}}, {\"gravatar_id\": {\"data\": \"{\\\\\"type\\\\\": \\\\\"str\\\\\"}\"}}, {\"id\": {\"data\": \"{\\\\\"type\\\\\": \\\\\"int\\\\\"}\"}}, {\"login\": {\"data\": \"{\\\\\"type\\\\\": \\\\\"str\\\\\"}\"}}, {\"url\": {\"data\": \"{\\\\\"type\\\\\": \\\\\"str\\\\\"}\"}}], \"data\": \"{\\\\\"type\\\\\": \\\\\"dict\\\\\"}\"}}, {\"created_at\": {\"data\": \"{\\\\\"type\\\\\": \\\\\"str\\\\\"}\"}}, {\"id\": {\"data\": \"{\\\\\"type\\\\\": \\\\\"str\\\\\"}\"}}, {\"org\": {\"children\": [{\"avatar_url\": {\"data\": \"{\\\\\"type\\\\\": \\\\\"str\\\\\"}\"}}, {\"gravatar_id\": {\"data\": \"{\\\\\"type\\\\\": \\\\\"str\\\\\"}\"}}, {\"id\": {\"data\": \"{\\\\\"type\\\\\": \\\\\"int\\\\\"}\"}}, {\"login\": {\"data\": \"{\\\\\"type\\\\\": \\\\\"str\\\\\"}\"}}, {\"url\": {\"data\": \"{\\\\\"type\\\\\": \\\\\"str\\\\\"}\"}}], \"data\": \"{\\\\\"type\\\\\": \\\\\"dict\\\\\"}\"}}, {\"payload\": {\"children\": [{\"id\": {\"data\": \"{\\\\\"type\\\\\": \\\\\"int\\\\\"}\"}}, {\"url\": {\"data\": \"{\\\\\"type\\\\\": \\\\\"str\\\\\"}\"}}], \"data\": \"{\\\\\"type\\\\\": \\\\\"dict\\\\\"}\"}}, {\"public\": {\"data\": \"{\\\\\"type\\\\\": \\\\\"bool\\\\\"}\"}}, {\"repo\": {\"children\": [{\"id\": {\"data\": \"{\\\\\"type\\\\\": \\\\\"int\\\\\"}\"}}, {\"name\": {\"data\": \"{\\\\\"type\\\\\": \\\\\"str\\\\\"}\"}}, {\"url\": {\"data\": \"{\\\\\"type\\\\\": \\\\\"str\\\\\"}\"}}], \"data\": \"{\\\\\"type\\\\\": \\\\\"dict\\\\\"}\"}}, {\"type\": {\"data\": \"{\\\\\"type\\\\\": \\\\\"str\\\\\"}\"}}], \"data\": \"{\\\\\"type\\\\\": \\\\\"dict\\\\\"}\"}}': (<treelib.tree.Tree at 0x7f98d791aa90>,\n",
       "  1),\n",
       " '{\"root\": {\"children\": [{\"actor\": {\"children\": [{\"avatar_url\": {\"data\": \"{\\\\\"type\\\\\": \\\\\"str\\\\\"}\"}}, {\"gravatar_id\": {\"data\": \"{\\\\\"type\\\\\": \\\\\"str\\\\\"}\"}}, {\"id\": {\"data\": \"{\\\\\"type\\\\\": \\\\\"int\\\\\"}\"}}, {\"login\": {\"data\": \"{\\\\\"type\\\\\": \\\\\"str\\\\\"}\"}}, {\"url\": {\"data\": \"{\\\\\"type\\\\\": \\\\\"str\\\\\"}\"}}], \"data\": \"{\\\\\"type\\\\\": \\\\\"dict\\\\\"}\"}}, {\"created_at\": {\"data\": \"{\\\\\"type\\\\\": \\\\\"str\\\\\"}\"}}, {\"id\": {\"data\": \"{\\\\\"type\\\\\": \\\\\"str\\\\\"}\"}}, {\"payload\": {\"children\": [{\"action\": {\"data\": \"{\\\\\"type\\\\\": \\\\\"str\\\\\"}\"}}, {\"actor\": {\"data\": \"{\\\\\"type\\\\\": \\\\\"str\\\\\"}\"}}, {\"actor_gravatar\": {\"data\": \"{\\\\\"type\\\\\": \\\\\"str\\\\\"}\"}}, {\"page_name\": {\"data\": \"{\\\\\"type\\\\\": \\\\\"str\\\\\"}\"}}, {\"repo\": {\"data\": \"{\\\\\"type\\\\\": \\\\\"str\\\\\"}\"}}, {\"sha\": {\"data\": \"{\\\\\"type\\\\\": \\\\\"str\\\\\"}\"}}, {\"summary\": {\"data\": \"{\\\\\"type\\\\\": \\\\\"str\\\\\"}\"}}, {\"title\": {\"data\": \"{\\\\\"type\\\\\": \\\\\"str\\\\\"}\"}}], \"data\": \"{\\\\\"type\\\\\": \\\\\"dict\\\\\"}\"}}, {\"public\": {\"data\": \"{\\\\\"type\\\\\": \\\\\"bool\\\\\"}\"}}, {\"repo\": {\"children\": [{\"id\": {\"data\": \"{\\\\\"type\\\\\": \\\\\"int\\\\\"}\"}}, {\"name\": {\"data\": \"{\\\\\"type\\\\\": \\\\\"str\\\\\"}\"}}, {\"url\": {\"data\": \"{\\\\\"type\\\\\": \\\\\"str\\\\\"}\"}}], \"data\": \"{\\\\\"type\\\\\": \\\\\"dict\\\\\"}\"}}, {\"type\": {\"data\": \"{\\\\\"type\\\\\": \\\\\"str\\\\\"}\"}}], \"data\": \"{\\\\\"type\\\\\": \\\\\"dict\\\\\"}\"}}': (<treelib.tree.Tree at 0x7f98d7932eb8>,\n",
       "  4),\n",
       " '{\"root\": {\"children\": [{\"actor\": {\"children\": [{\"avatar_url\": {\"data\": \"{\\\\\"type\\\\\": \\\\\"str\\\\\"}\"}}, {\"gravatar_id\": {\"data\": \"{\\\\\"type\\\\\": \\\\\"str\\\\\"}\"}}, {\"id\": {\"data\": \"{\\\\\"type\\\\\": \\\\\"int\\\\\"}\"}}, {\"login\": {\"data\": \"{\\\\\"type\\\\\": \\\\\"str\\\\\"}\"}}, {\"url\": {\"data\": \"{\\\\\"type\\\\\": \\\\\"str\\\\\"}\"}}], \"data\": \"{\\\\\"type\\\\\": \\\\\"dict\\\\\"}\"}}, {\"created_at\": {\"data\": \"{\\\\\"type\\\\\": \\\\\"str\\\\\"}\"}}, {\"id\": {\"data\": \"{\\\\\"type\\\\\": \\\\\"str\\\\\"}\"}}, {\"org\": {\"children\": [{\"avatar_url\": {\"data\": \"{\\\\\"type\\\\\": \\\\\"str\\\\\"}\"}}, {\"gravatar_id\": {\"data\": \"{\\\\\"type\\\\\": \\\\\"str\\\\\"}\"}}, {\"id\": {\"data\": \"{\\\\\"type\\\\\": \\\\\"int\\\\\"}\"}}, {\"login\": {\"data\": \"{\\\\\"type\\\\\": \\\\\"str\\\\\"}\"}}, {\"url\": {\"data\": \"{\\\\\"type\\\\\": \\\\\"str\\\\\"}\"}}], \"data\": \"{\\\\\"type\\\\\": \\\\\"dict\\\\\"}\"}}, {\"payload\": {\"children\": [{\"actor\": {\"data\": \"{\\\\\"type\\\\\": \\\\\"str\\\\\"}\"}}, {\"actor_gravatar\": {\"data\": \"{\\\\\"type\\\\\": \\\\\"str\\\\\"}\"}}, {\"repo\": {\"data\": \"{\\\\\"type\\\\\": \\\\\"str\\\\\"}\"}}], \"data\": \"{\\\\\"type\\\\\": \\\\\"dict\\\\\"}\"}}, {\"public\": {\"data\": \"{\\\\\"type\\\\\": \\\\\"bool\\\\\"}\"}}, {\"repo\": {\"children\": [{\"id\": {\"data\": \"{\\\\\"type\\\\\": \\\\\"int\\\\\"}\"}}, {\"name\": {\"data\": \"{\\\\\"type\\\\\": \\\\\"str\\\\\"}\"}}, {\"url\": {\"data\": \"{\\\\\"type\\\\\": \\\\\"str\\\\\"}\"}}], \"data\": \"{\\\\\"type\\\\\": \\\\\"dict\\\\\"}\"}}, {\"type\": {\"data\": \"{\\\\\"type\\\\\": \\\\\"str\\\\\"}\"}}], \"data\": \"{\\\\\"type\\\\\": \\\\\"dict\\\\\"}\"}}': (<treelib.tree.Tree at 0x7f98d78bbeb8>,\n",
       "  2),\n",
       " '{\"root\": {\"children\": [{\"actor\": {\"children\": [{\"avatar_url\": {\"data\": \"{\\\\\"type\\\\\": \\\\\"str\\\\\"}\"}}, {\"gravatar_id\": {\"data\": \"{\\\\\"type\\\\\": \\\\\"str\\\\\"}\"}}, {\"id\": {\"data\": \"{\\\\\"type\\\\\": \\\\\"int\\\\\"}\"}}, {\"login\": {\"data\": \"{\\\\\"type\\\\\": \\\\\"str\\\\\"}\"}}, {\"url\": {\"data\": \"{\\\\\"type\\\\\": \\\\\"str\\\\\"}\"}}], \"data\": \"{\\\\\"type\\\\\": \\\\\"dict\\\\\"}\"}}, {\"created_at\": {\"data\": \"{\\\\\"type\\\\\": \\\\\"str\\\\\"}\"}}, {\"id\": {\"data\": \"{\\\\\"type\\\\\": \\\\\"str\\\\\"}\"}}, {\"payload\": {\"children\": [{\"action\": {\"data\": \"{\\\\\"type\\\\\": \\\\\"str\\\\\"}\"}}, {\"actor\": {\"data\": \"{\\\\\"type\\\\\": \\\\\"str\\\\\"}\"}}, {\"actor_gravatar\": {\"data\": \"{\\\\\"type\\\\\": \\\\\"str\\\\\"}\"}}, {\"number\": {\"data\": \"{\\\\\"type\\\\\": \\\\\"int\\\\\"}\"}}, {\"pull_request\": {\"children\": [{\"additions\": {\"data\": \"{\\\\\"type\\\\\": \\\\\"int\\\\\"}\"}}, {\"commits\": {\"data\": \"{\\\\\"type\\\\\": \\\\\"int\\\\\"}\"}}, {\"deletions\": {\"data\": \"{\\\\\"type\\\\\": \\\\\"int\\\\\"}\"}}, {\"id\": {\"data\": \"{\\\\\"type\\\\\": \\\\\"int\\\\\"}\"}}, {\"issue_id\": {\"data\": \"{\\\\\"type\\\\\": \\\\\"int\\\\\"}\"}}, {\"number\": {\"data\": \"{\\\\\"type\\\\\": \\\\\"int\\\\\"}\"}}, {\"title\": {\"data\": \"{\\\\\"type\\\\\": \\\\\"str\\\\\"}\"}}], \"data\": \"{\\\\\"type\\\\\": \\\\\"dict\\\\\"}\"}}, {\"repo\": {\"data\": \"{\\\\\"type\\\\\": \\\\\"str\\\\\"}\"}}], \"data\": \"{\\\\\"type\\\\\": \\\\\"dict\\\\\"}\"}}, {\"public\": {\"data\": \"{\\\\\"type\\\\\": \\\\\"bool\\\\\"}\"}}, {\"repo\": {\"children\": [{\"name\": {\"data\": \"{\\\\\"type\\\\\": \\\\\"str\\\\\"}\"}}, {\"url\": {\"data\": \"{\\\\\"type\\\\\": \\\\\"str\\\\\"}\"}}], \"data\": \"{\\\\\"type\\\\\": \\\\\"dict\\\\\"}\"}}, {\"type\": {\"data\": \"{\\\\\"type\\\\\": \\\\\"str\\\\\"}\"}}], \"data\": \"{\\\\\"type\\\\\": \\\\\"dict\\\\\"}\"}}': (<treelib.tree.Tree at 0x7f98d78bbf28>,\n",
       "  1),\n",
       " '{\"root\": {\"children\": [{\"actor\": {\"children\": [{\"avatar_url\": {\"data\": \"{\\\\\"type\\\\\": \\\\\"str\\\\\"}\"}}, {\"url\": {\"data\": \"{\\\\\"type\\\\\": \\\\\"str\\\\\"}\"}}], \"data\": \"{\\\\\"type\\\\\": \\\\\"dict\\\\\"}\"}}, {\"created_at\": {\"data\": \"{\\\\\"type\\\\\": \\\\\"str\\\\\"}\"}}, {\"id\": {\"data\": \"{\\\\\"type\\\\\": \\\\\"str\\\\\"}\"}}, {\"payload\": {\"children\": [{\"name\": {\"data\": \"{\\\\\"type\\\\\": \\\\\"str\\\\\"}\"}}, {\"object\": {\"data\": \"{\\\\\"type\\\\\": \\\\\"str\\\\\"}\"}}, {\"object_name\": {\"data\": \"{\\\\\"type\\\\\": \\\\\"None\\\\\"}\"}}], \"data\": \"{\\\\\"type\\\\\": \\\\\"dict\\\\\"}\"}}, {\"public\": {\"data\": \"{\\\\\"type\\\\\": \\\\\"bool\\\\\"}\"}}, {\"repo\": {\"children\": [{\"name\": {\"data\": \"{\\\\\"type\\\\\": \\\\\"str\\\\\"}\"}}, {\"url\": {\"data\": \"{\\\\\"type\\\\\": \\\\\"str\\\\\"}\"}}], \"data\": \"{\\\\\"type\\\\\": \\\\\"dict\\\\\"}\"}}, {\"type\": {\"data\": \"{\\\\\"type\\\\\": \\\\\"str\\\\\"}\"}}], \"data\": \"{\\\\\"type\\\\\": \\\\\"dict\\\\\"}\"}}': (<treelib.tree.Tree at 0x7f98d7939240>,\n",
       "  5),\n",
       " '{\"root\": {\"children\": [{\"actor\": {\"children\": [{\"avatar_url\": {\"data\": \"{\\\\\"type\\\\\": \\\\\"str\\\\\"}\"}}, {\"url\": {\"data\": \"{\\\\\"type\\\\\": \\\\\"str\\\\\"}\"}}], \"data\": \"{\\\\\"type\\\\\": \\\\\"dict\\\\\"}\"}}, {\"created_at\": {\"data\": \"{\\\\\"type\\\\\": \\\\\"str\\\\\"}\"}}, {\"id\": {\"data\": \"{\\\\\"type\\\\\": \\\\\"str\\\\\"}\"}}, {\"payload\": {\"children\": [{\"actor\": {\"data\": \"{\\\\\"type\\\\\": \\\\\"str\\\\\"}\"}}, {\"actor_gravatar\": {\"data\": \"{\\\\\"type\\\\\": \\\\\"str\\\\\"}\"}}, {\"forkee\": {\"data\": \"{\\\\\"type\\\\\": \\\\\"int\\\\\"}\"}}, {\"repo\": {\"data\": \"{\\\\\"type\\\\\": \\\\\"str\\\\\"}\"}}], \"data\": \"{\\\\\"type\\\\\": \\\\\"dict\\\\\"}\"}}, {\"public\": {\"data\": \"{\\\\\"type\\\\\": \\\\\"bool\\\\\"}\"}}, {\"repo\": {\"children\": [{\"id\": {\"data\": \"{\\\\\"type\\\\\": \\\\\"int\\\\\"}\"}}, {\"name\": {\"data\": \"{\\\\\"type\\\\\": \\\\\"str\\\\\"}\"}}, {\"url\": {\"data\": \"{\\\\\"type\\\\\": \\\\\"str\\\\\"}\"}}], \"data\": \"{\\\\\"type\\\\\": \\\\\"dict\\\\\"}\"}}, {\"type\": {\"data\": \"{\\\\\"type\\\\\": \\\\\"str\\\\\"}\"}}], \"data\": \"{\\\\\"type\\\\\": \\\\\"dict\\\\\"}\"}}': (<treelib.tree.Tree at 0x7f98d78ccd68>,\n",
       "  1)}"
      ]
     },
     "execution_count": 190,
     "metadata": {},
     "output_type": "execute_result"
    }
   ],
   "source": [
    "counts"
   ]
  },
  {
   "cell_type": "code",
   "execution_count": 210,
   "metadata": {},
   "outputs": [],
   "source": [
    "# the big transform function to analyze a single json.gz file\n",
    "\n",
    "def analyze_github_file(path, output_name, max_examples=5):\n",
    "    \n",
    "    logging.info('Analyzing {}'.format(path))\n",
    "    \n",
    "    logging.info('Loading data')\n",
    "    \n",
    "    with gzip.open(path, 'rb') as f:\n",
    "        file_content = f.read().decode()\n",
    "        rows = [json.loads(line) for line in file_content.split('\\n') if len(line) > 0]\n",
    "    \n",
    "    logging.info('Found {} rows'.format(len(rows)))\n",
    "    logging.info('Counting how often each structure exists')\n",
    "    counts = {}\n",
    "    for row in tqdm(rows):\n",
    "        t = dict_to_tree(row)\n",
    "\n",
    "        key = json.dumps(t.to_dict(with_data=True), cls=ComplexEncoder, sort_keys=True)\n",
    "\n",
    "        if key not in counts.keys():\n",
    "            counts[key] = (t, 1, [row])\n",
    "        else:\n",
    "            t, c, examples = counts[key]\n",
    "            if len(examples) < max_examples:\n",
    "                examples.append(row)\n",
    "            counts[key] = (t, c + 1, examples)\n",
    "    logging.info('Found {} different trees'.format(len(counts)))\n",
    "    logging.info('Converting to JSON')\n",
    "    \n",
    "    ret = []\n",
    "    for k, v in counts.items():\n",
    "        ret.append({'path' : path,\n",
    "                    'count' : v[1],\n",
    "                    'tree' : k,\n",
    "                    'formatted_tree': tree_to_string(v[0]),\n",
    "                    'examples' : v[2]})\n",
    "    logging.info(\"Writing result to {}\".format(output_name))\n",
    "    ret = sorted(ret, key=lambda x: -x['count'])\n",
    "    with open(output_name, 'w') as fp:\n",
    "        for r in ret:\n",
    "            fp.write(json.dumps(r) + '\\n')\n",
    "        \n",
    "    logging.info('Done.')"
   ]
  },
  {
   "cell_type": "code",
   "execution_count": 213,
   "metadata": {},
   "outputs": [
    {
     "name": "stderr",
     "output_type": "stream",
     "text": [
      "INFO:root:Analyzing /disk/download/data/2011-02-12-0.json.gz\n",
      "INFO:root:Loading data\n",
      "INFO:root:Found 1552 rows\n",
      "INFO:root:Counting how often each structure exists\n",
      "100%|██████████| 1552/1552 [00:02<00:00, 616.31it/s]\n",
      "INFO:root:Found 44 different trees\n",
      "INFO:root:Converting to JSON\n",
      "INFO:root:Writing result to 2011-02-12-0.json.gz.stats.json\n",
      "INFO:root:Done.\n"
     ]
    }
   ],
   "source": [
    "analyze_github_file(path, os.path.basename(path) + \".stats.json\")"
   ]
  },
  {
   "cell_type": "code",
   "execution_count": 201,
   "metadata": {},
   "outputs": [
    {
     "name": "stdout",
     "output_type": "stream",
     "text": [
      "root: dict\n",
      "├── actor: dict\n",
      "│   ├── avatar_url: str\n",
      "│   ├── gravatar_id: str\n",
      "│   ├── id: int\n",
      "│   ├── login: str\n",
      "│   └── url: str\n",
      "├── created_at: str\n",
      "├── id: str\n",
      "├── payload: dict\n",
      "│   ├── action: str\n",
      "│   ├── actor: str\n",
      "│   ├── actor_gravatar: str\n",
      "│   └── repo: str\n",
      "├── public: bool\n",
      "├── repo: dict\n",
      "│   ├── id: int\n",
      "│   ├── name: str\n",
      "│   └── url: str\n",
      "└── type: str\n",
      "\"\n"
     ]
    }
   ],
   "source": [
    "s = 'root: dict\\n\\u251c\\u2500\\u2500 actor: dict\\n\\u2502   \\u251c\\u2500\\u2500 avatar_url: str\\n\\u2502   \\u251c\\u2500\\u2500 gravatar_id: str\\n\\u2502   \\u251c\\u2500\\u2500 id: int\\n\\u2502   \\u251c\\u2500\\u2500 login: str\\n\\u2502   \\u2514\\u2500\\u2500 url: str\\n\\u251c\\u2500\\u2500 created_at: str\\n\\u251c\\u2500\\u2500 id: str\\n\\u251c\\u2500\\u2500 payload: dict\\n\\u2502   \\u251c\\u2500\\u2500 action: str\\n\\u2502   \\u251c\\u2500\\u2500 actor: str\\n\\u2502   \\u251c\\u2500\\u2500 actor_gravatar: str\\n\\u2502   \\u2514\\u2500\\u2500 repo: str\\n\\u251c\\u2500\\u2500 public: bool\\n\\u251c\\u2500\\u2500 repo: dict\\n\\u2502   \\u251c\\u2500\\u2500 id: int\\n\\u2502   \\u251c\\u2500\\u2500 name: str\\n\\u2502   \\u2514\\u2500\\u2500 url: str\\n\\u2514\\u2500\\u2500 type: str\\n\"'\n",
    "print(s)"
   ]
  },
  {
   "cell_type": "code",
   "execution_count": 192,
   "metadata": {},
   "outputs": [
    {
     "name": "stderr",
     "output_type": "stream",
     "text": [
      "DEBUG:root:test\n"
     ]
    }
   ],
   "source": [
    "import logging\n",
    "logger = logging.getLogger()\n",
    "logger.setLevel(logging.DEBUG)\n",
    "logging.debug(\"test\")"
   ]
  },
  {
   "cell_type": "code",
   "execution_count": null,
   "metadata": {},
   "outputs": [],
   "source": []
  }
 ],
 "metadata": {
  "kernelspec": {
   "display_name": "Python 3",
   "language": "python",
   "name": "python3"
  },
  "language_info": {
   "codemirror_mode": {
    "name": "ipython",
    "version": 3
   },
   "file_extension": ".py",
   "mimetype": "text/x-python",
   "name": "python",
   "nbconvert_exporter": "python",
   "pygments_lexer": "ipython3",
   "version": "3.6.9"
  }
 },
 "nbformat": 4,
 "nbformat_minor": 4
}
