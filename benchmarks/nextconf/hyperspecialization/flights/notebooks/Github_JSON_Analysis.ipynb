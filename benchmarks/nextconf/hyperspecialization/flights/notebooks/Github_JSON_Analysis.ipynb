{
 "cells": [
  {
   "cell_type": "code",
   "execution_count": 2,
   "metadata": {},
   "outputs": [],
   "source": [
    "import pandas as pd\n",
    "import json\n",
    "import zipfile\n",
    "import gzip\n",
    "import glob\n",
    "import os"
   ]
  },
  {
   "cell_type": "code",
   "execution_count": 7,
   "metadata": {},
   "outputs": [
    {
     "name": "stdout",
     "output_type": "stream",
     "text": [
      "2011-02-12-0.json.gz\n",
      "2011-02-12-10.json.gz\n",
      "2011-02-12-11.json.gz\n",
      "2011-02-12-12.json.gz\n",
      "2011-02-12-13.json.gz\n",
      "2011-02-12-14.json.gz\n",
      "2011-02-12-15.json.gz\n",
      "2011-02-12-16.json.gz\n",
      "2011-02-12-17.json.gz\n",
      "2011-02-12-18.json.gz\n",
      "ls: write error: Broken pipe\n"
     ]
    }
   ],
   "source": [
    "!ls /disk/download/data/ | head"
   ]
  },
  {
   "cell_type": "code",
   "execution_count": 17,
   "metadata": {},
   "outputs": [],
   "source": [
    "path = '/disk/download/data/2011-02-12-0.json.gz'\n",
    "\n",
    "with gzip.open(path, 'rb') as f:\n",
    "    file_content = f.read().decode()\n",
    "    \n",
    "    rows = [json.loads(line) for line in file_content.split('\\n') if len(line) > 0]"
   ]
  },
  {
   "cell_type": "code",
   "execution_count": 19,
   "metadata": {},
   "outputs": [
    {
     "data": {
      "text/plain": [
       "{'repo': {'id': 355634,\n",
       "  'url': 'https://api.github.dev/repos/projectblacklight/blacklight',\n",
       "  'name': 'projectblacklight/blacklight'},\n",
       " 'type': 'PushEvent',\n",
       " 'org': {'gravatar_id': '6cb76a4a521c36d96a0583e7c45eaf95',\n",
       "  'id': 120516,\n",
       "  'url': 'https://api.github.dev/orgs/projectblacklight',\n",
       "  'avatar_url': 'https://secure.gravatar.com/avatar/6cb76a4a521c36d96a0583e7c45eaf95?d=http://github.dev%2Fimages%2Fgravatars%2Fgravatar-org-420.png',\n",
       "  'login': 'projectblacklight'},\n",
       " 'public': True,\n",
       " 'created_at': '2011-02-12T00:00:00Z',\n",
       " 'payload': {'shas': [['d3da39ab96a2caecae5d526596a04820c6f848a6',\n",
       "    'b31a437f57bdf70558bed8ac28790a53e8174b87@stanford.edu',\n",
       "    \"We have to stay with cucumber < 0.10 and rspec < 2, otherwise our tests break. I updated the gem requirements to reflect this, so people won't accidentally upgrade to a gem version that's too new when they run rake gems:install\",\n",
       "    'Bess Sadler'],\n",
       "   ['898150b7830102cdc171cbd4304b6a783101c3e3',\n",
       "    'b31a437f57bdf70558bed8ac28790a53e8174b87@stanford.edu',\n",
       "    \"Removing unused cruise control tasks. Also, we shouldn't remove the coverage.data file, so we can look at the coverage data over time.\",\n",
       "    'Bess Sadler']],\n",
       "  'repo': 'projectblacklight/blacklight',\n",
       "  'actor': 'bess',\n",
       "  'ref': 'refs/heads/master',\n",
       "  'size': 2,\n",
       "  'head': '898150b7830102cdc171cbd4304b6a783101c3e3',\n",
       "  'actor_gravatar': '887fa2fcd0cf1cbdc6dc43e5524f33f6',\n",
       "  'push_id': 24643024},\n",
       " 'actor': {'gravatar_id': '887fa2fcd0cf1cbdc6dc43e5524f33f6',\n",
       "  'id': 65608,\n",
       "  'url': 'https://api.github.dev/users/bess',\n",
       "  'avatar_url': 'https://secure.gravatar.com/avatar/887fa2fcd0cf1cbdc6dc43e5524f33f6?d=http://github.dev%2Fimages%2Fgravatars%2Fgravatar-user-420.png',\n",
       "  'login': 'bess'},\n",
       " 'id': '1127195475'}"
      ]
     },
     "execution_count": 19,
     "metadata": {},
     "output_type": "execute_result"
    }
   ],
   "source": [
    "rows[0]"
   ]
  },
  {
   "cell_type": "code",
   "execution_count": 20,
   "metadata": {},
   "outputs": [
    {
     "data": {
      "text/plain": [
       "dict_keys(['repo', 'type', 'org', 'public', 'created_at', 'payload', 'actor', 'id'])"
      ]
     },
     "execution_count": 20,
     "metadata": {},
     "output_type": "execute_result"
    }
   ],
   "source": [
    "rows[0].keys()"
   ]
  },
  {
   "cell_type": "code",
   "execution_count": 22,
   "metadata": {},
   "outputs": [
    {
     "name": "stdout",
     "output_type": "stream",
     "text": [
      "Collecting treelib\n",
      "  Downloading https://files.pythonhosted.org/packages/04/b0/2269c328abffbb63979f7143351a24a066776b87526d79956aea5018b80a/treelib-1.6.1.tar.gz\n",
      "Collecting future (from treelib)\n",
      "  Downloading https://files.pythonhosted.org/packages/45/0b/38b06fd9b92dc2b68d58b75f900e97884c45bedd2ff83203d933cf5851c9/future-0.18.2.tar.gz (829kB)\n",
      "\u001b[K    100% |████████████████████████████████| 829kB 1.1MB/s eta 0:00:01\n",
      "\u001b[?25hBuilding wheels for collected packages: treelib, future\n",
      "  Running setup.py bdist_wheel for treelib ... \u001b[?25ldone\n",
      "\u001b[?25h  Stored in directory: /home/lspiegel/.cache/pip/wheels/68/1d/92/c50ec52951ccebafb40f3b8f0beb28fbaf745431c14a17c497\n",
      "  Running setup.py bdist_wheel for future ... \u001b[?25ldone\n",
      "\u001b[?25h  Stored in directory: /home/lspiegel/.cache/pip/wheels/8b/99/a0/81daf51dcd359a9377b110a8a886b3895921802d2fc1b2397e\n",
      "Successfully built treelib future\n",
      "Installing collected packages: future, treelib\n",
      "Successfully installed future-0.18.2 treelib-1.6.1\n"
     ]
    }
   ],
   "source": [
    "!pip3 install treelib"
   ]
  },
  {
   "cell_type": "code",
   "execution_count": 23,
   "metadata": {},
   "outputs": [],
   "source": [
    "import treelib"
   ]
  },
  {
   "cell_type": "code",
   "execution_count": null,
   "metadata": {},
   "outputs": [],
   "source": [
    "# build tree based on keys/attributes\n"
   ]
  },
  {
   "cell_type": "code",
   "execution_count": 26,
   "metadata": {},
   "outputs": [],
   "source": [
    "tree = treelib.Tree()\n",
    "\n",
    "n = tree.create_node(\"test\", 0)"
   ]
  },
  {
   "cell_type": "code",
   "execution_count": 28,
   "metadata": {},
   "outputs": [
    {
     "data": {
      "text/plain": [
       "0"
      ]
     },
     "execution_count": 28,
     "metadata": {},
     "output_type": "execute_result"
    }
   ],
   "source": [
    "n.identifier"
   ]
  },
  {
   "cell_type": "code",
   "execution_count": 147,
   "metadata": {},
   "outputs": [],
   "source": [
    "\n",
    "def detect_type(value):\n",
    "    if value is None:\n",
    "        return 'None'\n",
    "    elif value == dict:\n",
    "        return 'dict'\n",
    "   \n",
    "    if isinstance(value, dict):\n",
    "        return 'dict'\n",
    "    if isinstance(value, list):\n",
    "        \n",
    "        if len(value) == 0:\n",
    "            return 'List[]'\n",
    "        # check if it's a homogenous list! -> if not type as list[any]\n",
    "        el_types = {detect_type(el) for el in value}\n",
    "        if len(el_types) == 1:\n",
    "            return 'List[{}]'.format(list(el_types)[0])\n",
    "        \n",
    "        return 'List[Any]'\n",
    "    if isinstance(value, str):\n",
    "        return 'str'\n",
    "    if isinstance(value, bool):\n",
    "        return 'bool'\n",
    "    if isinstance(value, int):\n",
    "        return 'int'\n",
    "    if isinstance(value, float):\n",
    "        return 'float'\n",
    "\n",
    "    return ''\n",
    "\n",
    "class TreeData:\n",
    "    def __init__(self, name, type=None):\n",
    "        self.name = name\n",
    "        self.type = type\n",
    "        self.count = 1\n",
    "    \n",
    "    @property\n",
    "    def desc(self):\n",
    "        return '{}: {}'.format(self.name, self.type)\n",
    "    \n",
    "    def toJSON(self):\n",
    "        return json.dumps({'type':self.type}, sort_keys=True)\n",
    "    \n",
    "def dict_to_tree(d):\n",
    "    tree = treelib.Tree()\n",
    "    node = tree.create_node(tag=\"root\", identifier=0, data=TreeData(\"root\", 'dict'))\n",
    "    \n",
    "    \n",
    "    def recursive_helper(tree, parent, d):\n",
    "        for key, value in d.items():\n",
    "            node = tree.create_node(key, parent=parent.identifier, data=TreeData(key, detect_type(value)))\n",
    "\n",
    "            if isinstance(value, dict):\n",
    "                # recurse!\n",
    "                recursive_helper(tree, node, value)\n",
    "            elif isinstance(value, list):\n",
    "                # recurse!\n",
    "                # only take first element??\n",
    "                if len(value) > 0 and isinstance(value[0], dict):\n",
    "                    recursive_helper(tree, node, value[0])\n",
    "            else:\n",
    "                pass\n",
    "            \n",
    "    recursive_helper(tree, node, d)\n",
    "   \n",
    "    return tree\n",
    "\n",
    "class ComplexEncoder(json.JSONEncoder):\n",
    "    def default(self, z):\n",
    "        if isinstance(z, TreeData):\n",
    "            return z.toJSON()\n",
    "        else:\n",
    "            return super().default(z)"
   ]
  },
  {
   "cell_type": "code",
   "execution_count": 149,
   "metadata": {},
   "outputs": [],
   "source": [
    "t1 = dict_to_tree(rows[0])\n",
    "key = json.dumps(t1.to_dict(with_data=True), cls=ComplexEncoder, sort_keys=True)"
   ]
  },
  {
   "cell_type": "code",
   "execution_count": 139,
   "metadata": {},
   "outputs": [
    {
     "name": "stdout",
     "output_type": "stream",
     "text": [
      "Help on method to_json in module treelib.tree:\n",
      "\n",
      "to_json(with_data=False, sort=True, reverse=False) method of treelib.tree.Tree instance\n",
      "    To format the tree in JSON format.\n",
      "\n"
     ]
    }
   ],
   "source": [
    "help(t1.to_json)"
   ]
  },
  {
   "cell_type": "code",
   "execution_count": 86,
   "metadata": {},
   "outputs": [
    {
     "name": "stdout",
     "output_type": "stream",
     "text": [
      "root: dict\n",
      "├── actor: dict\n",
      "│   ├── avatar_url: str\n",
      "│   ├── gravatar_id: str\n",
      "│   ├── id: int\n",
      "│   ├── login: str\n",
      "│   └── url: str\n",
      "├── created_at: str\n",
      "├── id: str\n",
      "├── org: dict\n",
      "│   ├── avatar_url: str\n",
      "│   ├── gravatar_id: str\n",
      "│   ├── id: int\n",
      "│   ├── login: str\n",
      "│   └── url: str\n",
      "├── payload: dict\n",
      "│   ├── actor: str\n",
      "│   ├── actor_gravatar: str\n",
      "│   ├── head: str\n",
      "│   ├── push_id: int\n",
      "│   ├── ref: str\n",
      "│   ├── repo: str\n",
      "│   ├── shas: List[List[str]]\n",
      "│   └── size: int\n",
      "├── public: bool\n",
      "├── repo: dict\n",
      "│   ├── id: int\n",
      "│   ├── name: str\n",
      "│   └── url: str\n",
      "└── type: str\n",
      "\n"
     ]
    }
   ],
   "source": [
    "dict_to_tree(rows[0]).show(data_property=\"desc\")"
   ]
  },
  {
   "cell_type": "code",
   "execution_count": 87,
   "metadata": {},
   "outputs": [
    {
     "name": "stdout",
     "output_type": "stream",
     "text": [
      "root: dict\n",
      "├── actor: dict\n",
      "│   ├── avatar_url: str\n",
      "│   ├── gravatar_id: str\n",
      "│   ├── id: int\n",
      "│   ├── login: str\n",
      "│   └── url: str\n",
      "├── created_at: str\n",
      "├── id: str\n",
      "├── payload: dict\n",
      "│   ├── action: str\n",
      "│   ├── actor: str\n",
      "│   ├── actor_gravatar: str\n",
      "│   └── repo: str\n",
      "├── public: bool\n",
      "├── repo: dict\n",
      "│   ├── id: int\n",
      "│   ├── name: str\n",
      "│   └── url: str\n",
      "└── type: str\n",
      "\n"
     ]
    }
   ],
   "source": [
    "dict_to_tree(rows[1]).show(data_property=\"desc\")"
   ]
  },
  {
   "cell_type": "code",
   "execution_count": 88,
   "metadata": {},
   "outputs": [],
   "source": [
    "t = dict_to_tree(rows[0])"
   ]
  },
  {
   "cell_type": "code",
   "execution_count": 89,
   "metadata": {},
   "outputs": [],
   "source": [
    "counts = {}\n",
    "\n",
    "counts[t] = 1"
   ]
  },
  {
   "cell_type": "code",
   "execution_count": 91,
   "metadata": {},
   "outputs": [],
   "source": [
    "# count different trees and how often they occur!"
   ]
  },
  {
   "cell_type": "code",
   "execution_count": 122,
   "metadata": {},
   "outputs": [],
   "source": [
    "def compare_trees(t1, t2):\n",
    "    \n",
    "    def compare_nodes(tree1, tree2, node1, node2): \n",
    "      # reimplement this comparison based on your needs: use data,...\n",
    "      if(node1.data != node2.data):\n",
    "        return False\n",
    "      else:\n",
    "        # access global trees\n",
    "        children1 = tree1.children(node1.identifier)\n",
    "        children2 = tree2.children(node2.identifier)\n",
    "\n",
    "        if len(children1) != len(children2):\n",
    "            return False\n",
    "        elif len(children1) > 0:\n",
    "            # recusivly compare children\n",
    "            return all([compare_nodes(tree1, tree2, c1i, c2i) for c1i, c2i in zip(children1, children2)])\n",
    "        else:\n",
    "            return True\n",
    "    \n",
    "    return compare_nodes(t1, t2, t1.get_node(t1.root), t2.get_node(t2.root))"
   ]
  },
  {
   "cell_type": "code",
   "execution_count": 150,
   "metadata": {},
   "outputs": [],
   "source": [
    "from tqdm import tqdm"
   ]
  },
  {
   "cell_type": "code",
   "execution_count": 155,
   "metadata": {},
   "outputs": [
    {
     "name": "stderr",
     "output_type": "stream",
     "text": [
      "100%|██████████| 1552/1552 [00:02<00:00, 621.52it/s]\n"
     ]
    }
   ],
   "source": [
    "counts = {}\n",
    "\n",
    "for row in tqdm(rows):\n",
    "    t = dict_to_tree(row)\n",
    "    \n",
    "    key = json.dumps(t.to_dict(with_data=True), cls=ComplexEncoder, sort_keys=True)\n",
    "    \n",
    "    if key not in counts.keys():\n",
    "        counts[key] = (t, 1)\n",
    "    else:\n",
    "        t, c = counts[key]\n",
    "        counts[key] = (t, c + 1)"
   ]
  },
  {
   "cell_type": "code",
   "execution_count": 165,
   "metadata": {},
   "outputs": [],
   "source": [
    "res = sorted(list(counts.items()), key=lambda x: -x[1][1]) "
   ]
  },
  {
   "cell_type": "code",
   "execution_count": null,
   "metadata": {},
   "outputs": [],
   "source": []
  },
  {
   "cell_type": "code",
   "execution_count": null,
   "metadata": {},
   "outputs": [],
   "source": []
  },
  {
   "cell_type": "code",
   "execution_count": 124,
   "metadata": {},
   "outputs": [],
   "source": [
    "t1 = dict_to_tree(rows[0])\n",
    "t2 = dict_to_tree(rows[1])"
   ]
  },
  {
   "cell_type": "code",
   "execution_count": null,
   "metadata": {},
   "outputs": [],
   "source": []
  },
  {
   "cell_type": "code",
   "execution_count": null,
   "metadata": {},
   "outputs": [],
   "source": []
  },
  {
   "cell_type": "code",
   "execution_count": 125,
   "metadata": {},
   "outputs": [
    {
     "data": {
      "text/plain": [
       "False"
      ]
     },
     "execution_count": 125,
     "metadata": {},
     "output_type": "execute_result"
    }
   ],
   "source": [
    "compare_trees(t1, t2)"
   ]
  },
  {
   "cell_type": "code",
   "execution_count": 105,
   "metadata": {},
   "outputs": [
    {
     "data": {
      "text/plain": [
       "0"
      ]
     },
     "execution_count": 105,
     "metadata": {},
     "output_type": "execute_result"
    }
   ],
   "source": [
    "t1.root"
   ]
  },
  {
   "cell_type": "code",
   "execution_count": 128,
   "metadata": {},
   "outputs": [
    {
     "ename": "TypeError",
     "evalue": "Object of type 'TreeData' is not JSON serializable",
     "output_type": "error",
     "traceback": [
      "\u001b[0;31m---------------------------------------------------------------------------\u001b[0m",
      "\u001b[0;31mTypeError\u001b[0m                                 Traceback (most recent call last)",
      "\u001b[0;32m<ipython-input-128-192ecc5e4b1e>\u001b[0m in \u001b[0;36m<module>\u001b[0;34m\u001b[0m\n\u001b[0;32m----> 1\u001b[0;31m \u001b[0mt1\u001b[0m\u001b[0;34m.\u001b[0m\u001b[0mto_json\u001b[0m\u001b[0;34m(\u001b[0m\u001b[0mwith_data\u001b[0m\u001b[0;34m=\u001b[0m\u001b[0;32mTrue\u001b[0m\u001b[0;34m)\u001b[0m\u001b[0;34m\u001b[0m\u001b[0;34m\u001b[0m\u001b[0m\n\u001b[0m",
      "\u001b[0;32m~/.local/lib/python3.6/site-packages/treelib/tree.py\u001b[0m in \u001b[0;36mto_json\u001b[0;34m(self, with_data, sort, reverse)\u001b[0m\n\u001b[1;32m    982\u001b[0m     \u001b[0;32mdef\u001b[0m \u001b[0mto_json\u001b[0m\u001b[0;34m(\u001b[0m\u001b[0mself\u001b[0m\u001b[0;34m,\u001b[0m \u001b[0mwith_data\u001b[0m\u001b[0;34m=\u001b[0m\u001b[0;32mFalse\u001b[0m\u001b[0;34m,\u001b[0m \u001b[0msort\u001b[0m\u001b[0;34m=\u001b[0m\u001b[0;32mTrue\u001b[0m\u001b[0;34m,\u001b[0m \u001b[0mreverse\u001b[0m\u001b[0;34m=\u001b[0m\u001b[0;32mFalse\u001b[0m\u001b[0;34m)\u001b[0m\u001b[0;34m:\u001b[0m\u001b[0;34m\u001b[0m\u001b[0;34m\u001b[0m\u001b[0m\n\u001b[1;32m    983\u001b[0m         \u001b[0;34m\"\"\"To format the tree in JSON format.\"\"\"\u001b[0m\u001b[0;34m\u001b[0m\u001b[0;34m\u001b[0m\u001b[0m\n\u001b[0;32m--> 984\u001b[0;31m         \u001b[0;32mreturn\u001b[0m \u001b[0mjson\u001b[0m\u001b[0;34m.\u001b[0m\u001b[0mdumps\u001b[0m\u001b[0;34m(\u001b[0m\u001b[0mself\u001b[0m\u001b[0;34m.\u001b[0m\u001b[0mto_dict\u001b[0m\u001b[0;34m(\u001b[0m\u001b[0mwith_data\u001b[0m\u001b[0;34m=\u001b[0m\u001b[0mwith_data\u001b[0m\u001b[0;34m,\u001b[0m \u001b[0msort\u001b[0m\u001b[0;34m=\u001b[0m\u001b[0msort\u001b[0m\u001b[0;34m,\u001b[0m \u001b[0mreverse\u001b[0m\u001b[0;34m=\u001b[0m\u001b[0mreverse\u001b[0m\u001b[0;34m)\u001b[0m\u001b[0;34m)\u001b[0m\u001b[0;34m\u001b[0m\u001b[0;34m\u001b[0m\u001b[0m\n\u001b[0m\u001b[1;32m    985\u001b[0m \u001b[0;34m\u001b[0m\u001b[0m\n\u001b[1;32m    986\u001b[0m     \u001b[0;32mdef\u001b[0m \u001b[0mto_graphviz\u001b[0m\u001b[0;34m(\u001b[0m\u001b[0mself\u001b[0m\u001b[0;34m,\u001b[0m \u001b[0mfilename\u001b[0m\u001b[0;34m=\u001b[0m\u001b[0;32mNone\u001b[0m\u001b[0;34m,\u001b[0m \u001b[0mshape\u001b[0m\u001b[0;34m=\u001b[0m\u001b[0;34m'circle'\u001b[0m\u001b[0;34m,\u001b[0m \u001b[0mgraph\u001b[0m\u001b[0;34m=\u001b[0m\u001b[0;34m'digraph'\u001b[0m\u001b[0;34m)\u001b[0m\u001b[0;34m:\u001b[0m\u001b[0;34m\u001b[0m\u001b[0;34m\u001b[0m\u001b[0m\n",
      "\u001b[0;32m/usr/lib/python3.6/json/__init__.py\u001b[0m in \u001b[0;36mdumps\u001b[0;34m(obj, skipkeys, ensure_ascii, check_circular, allow_nan, cls, indent, separators, default, sort_keys, **kw)\u001b[0m\n\u001b[1;32m    229\u001b[0m         \u001b[0mcls\u001b[0m \u001b[0;32mis\u001b[0m \u001b[0;32mNone\u001b[0m \u001b[0;32mand\u001b[0m \u001b[0mindent\u001b[0m \u001b[0;32mis\u001b[0m \u001b[0;32mNone\u001b[0m \u001b[0;32mand\u001b[0m \u001b[0mseparators\u001b[0m \u001b[0;32mis\u001b[0m \u001b[0;32mNone\u001b[0m \u001b[0;32mand\u001b[0m\u001b[0;34m\u001b[0m\u001b[0;34m\u001b[0m\u001b[0m\n\u001b[1;32m    230\u001b[0m         default is None and not sort_keys and not kw):\n\u001b[0;32m--> 231\u001b[0;31m         \u001b[0;32mreturn\u001b[0m \u001b[0m_default_encoder\u001b[0m\u001b[0;34m.\u001b[0m\u001b[0mencode\u001b[0m\u001b[0;34m(\u001b[0m\u001b[0mobj\u001b[0m\u001b[0;34m)\u001b[0m\u001b[0;34m\u001b[0m\u001b[0;34m\u001b[0m\u001b[0m\n\u001b[0m\u001b[1;32m    232\u001b[0m     \u001b[0;32mif\u001b[0m \u001b[0mcls\u001b[0m \u001b[0;32mis\u001b[0m \u001b[0;32mNone\u001b[0m\u001b[0;34m:\u001b[0m\u001b[0;34m\u001b[0m\u001b[0;34m\u001b[0m\u001b[0m\n\u001b[1;32m    233\u001b[0m         \u001b[0mcls\u001b[0m \u001b[0;34m=\u001b[0m \u001b[0mJSONEncoder\u001b[0m\u001b[0;34m\u001b[0m\u001b[0;34m\u001b[0m\u001b[0m\n",
      "\u001b[0;32m/usr/lib/python3.6/json/encoder.py\u001b[0m in \u001b[0;36mencode\u001b[0;34m(self, o)\u001b[0m\n\u001b[1;32m    197\u001b[0m         \u001b[0;31m# exceptions aren't as detailed.  The list call should be roughly\u001b[0m\u001b[0;34m\u001b[0m\u001b[0;34m\u001b[0m\u001b[0;34m\u001b[0m\u001b[0m\n\u001b[1;32m    198\u001b[0m         \u001b[0;31m# equivalent to the PySequence_Fast that ''.join() would do.\u001b[0m\u001b[0;34m\u001b[0m\u001b[0;34m\u001b[0m\u001b[0;34m\u001b[0m\u001b[0m\n\u001b[0;32m--> 199\u001b[0;31m         \u001b[0mchunks\u001b[0m \u001b[0;34m=\u001b[0m \u001b[0mself\u001b[0m\u001b[0;34m.\u001b[0m\u001b[0miterencode\u001b[0m\u001b[0;34m(\u001b[0m\u001b[0mo\u001b[0m\u001b[0;34m,\u001b[0m \u001b[0m_one_shot\u001b[0m\u001b[0;34m=\u001b[0m\u001b[0;32mTrue\u001b[0m\u001b[0;34m)\u001b[0m\u001b[0;34m\u001b[0m\u001b[0;34m\u001b[0m\u001b[0m\n\u001b[0m\u001b[1;32m    200\u001b[0m         \u001b[0;32mif\u001b[0m \u001b[0;32mnot\u001b[0m \u001b[0misinstance\u001b[0m\u001b[0;34m(\u001b[0m\u001b[0mchunks\u001b[0m\u001b[0;34m,\u001b[0m \u001b[0;34m(\u001b[0m\u001b[0mlist\u001b[0m\u001b[0;34m,\u001b[0m \u001b[0mtuple\u001b[0m\u001b[0;34m)\u001b[0m\u001b[0;34m)\u001b[0m\u001b[0;34m:\u001b[0m\u001b[0;34m\u001b[0m\u001b[0;34m\u001b[0m\u001b[0m\n\u001b[1;32m    201\u001b[0m             \u001b[0mchunks\u001b[0m \u001b[0;34m=\u001b[0m \u001b[0mlist\u001b[0m\u001b[0;34m(\u001b[0m\u001b[0mchunks\u001b[0m\u001b[0;34m)\u001b[0m\u001b[0;34m\u001b[0m\u001b[0;34m\u001b[0m\u001b[0m\n",
      "\u001b[0;32m/usr/lib/python3.6/json/encoder.py\u001b[0m in \u001b[0;36miterencode\u001b[0;34m(self, o, _one_shot)\u001b[0m\n\u001b[1;32m    255\u001b[0m                 \u001b[0mself\u001b[0m\u001b[0;34m.\u001b[0m\u001b[0mkey_separator\u001b[0m\u001b[0;34m,\u001b[0m \u001b[0mself\u001b[0m\u001b[0;34m.\u001b[0m\u001b[0mitem_separator\u001b[0m\u001b[0;34m,\u001b[0m \u001b[0mself\u001b[0m\u001b[0;34m.\u001b[0m\u001b[0msort_keys\u001b[0m\u001b[0;34m,\u001b[0m\u001b[0;34m\u001b[0m\u001b[0;34m\u001b[0m\u001b[0m\n\u001b[1;32m    256\u001b[0m                 self.skipkeys, _one_shot)\n\u001b[0;32m--> 257\u001b[0;31m         \u001b[0;32mreturn\u001b[0m \u001b[0m_iterencode\u001b[0m\u001b[0;34m(\u001b[0m\u001b[0mo\u001b[0m\u001b[0;34m,\u001b[0m \u001b[0;36m0\u001b[0m\u001b[0;34m)\u001b[0m\u001b[0;34m\u001b[0m\u001b[0;34m\u001b[0m\u001b[0m\n\u001b[0m\u001b[1;32m    258\u001b[0m \u001b[0;34m\u001b[0m\u001b[0m\n\u001b[1;32m    259\u001b[0m def _make_iterencode(markers, _default, _encoder, _indent, _floatstr,\n",
      "\u001b[0;32m/usr/lib/python3.6/json/encoder.py\u001b[0m in \u001b[0;36mdefault\u001b[0;34m(self, o)\u001b[0m\n\u001b[1;32m    178\u001b[0m         \"\"\"\n\u001b[1;32m    179\u001b[0m         raise TypeError(\"Object of type '%s' is not JSON serializable\" %\n\u001b[0;32m--> 180\u001b[0;31m                         o.__class__.__name__)\n\u001b[0m\u001b[1;32m    181\u001b[0m \u001b[0;34m\u001b[0m\u001b[0m\n\u001b[1;32m    182\u001b[0m     \u001b[0;32mdef\u001b[0m \u001b[0mencode\u001b[0m\u001b[0;34m(\u001b[0m\u001b[0mself\u001b[0m\u001b[0;34m,\u001b[0m \u001b[0mo\u001b[0m\u001b[0;34m)\u001b[0m\u001b[0;34m:\u001b[0m\u001b[0;34m\u001b[0m\u001b[0;34m\u001b[0m\u001b[0m\n",
      "\u001b[0;31mTypeError\u001b[0m: Object of type 'TreeData' is not JSON serializable"
     ]
    }
   ],
   "source": [
    "t1.to_json(with_data=True)"
   ]
  },
  {
   "cell_type": "code",
   "execution_count": null,
   "metadata": {},
   "outputs": [],
   "source": []
  }
 ],
 "metadata": {
  "kernelspec": {
   "display_name": "Python 3",
   "language": "python",
   "name": "python3"
  },
  "language_info": {
   "codemirror_mode": {
    "name": "ipython",
    "version": 3
   },
   "file_extension": ".py",
   "mimetype": "text/x-python",
   "name": "python",
   "nbconvert_exporter": "python",
   "pygments_lexer": "ipython3",
   "version": "3.6.9"
  }
 },
 "nbformat": 4,
 "nbformat_minor": 4
}
