{
 "cells": [
  {
   "cell_type": "markdown",
   "metadata": {},
   "source": [
    "## XGB model\n",
    "This notebooks trains the XGBoost model required for the experiment"
   ]
  },
  {
   "cell_type": "code",
   "execution_count": 1,
   "metadata": {},
   "outputs": [],
   "source": [
    "import os\n",
    "import pandas as pd\n",
    "import glob"
   ]
  },
  {
   "cell_type": "code",
   "execution_count": 2,
   "metadata": {},
   "outputs": [],
   "source": [
    "# first, prep data"
   ]
  },
  {
   "cell_type": "code",
   "execution_count": 3,
   "metadata": {},
   "outputs": [],
   "source": [
    "scratch_dir = '/hot/scratch/xgb_flights/'\n",
    "flights_root = '/hot/data/flights_all/'"
   ]
  },
  {
   "cell_type": "code",
   "execution_count": 4,
   "metadata": {},
   "outputs": [],
   "source": [
    "paths = glob.glob(os.path.join(flights_root, 'flights_on_time*.csv'))"
   ]
  },
  {
   "cell_type": "code",
   "execution_count": 5,
   "metadata": {},
   "outputs": [],
   "source": [
    "target_vars = ['ARR_DELAY', 'DEP_DELAY', 'CARRIER_DELAY',\n",
    "               'WEATHER_DELAY', 'NAS_DELAY', 'SECURITY_DELAY',\n",
    "               'LATE_AIRCRAFT_DELAY']"
   ]
  },
  {
   "cell_type": "code",
   "execution_count": 6,
   "metadata": {},
   "outputs": [],
   "source": [
    "decision_vars = ['QUARTER', 'MONTH', 'DAY_OF_MONTH', 'DAY_OF_WEEK',\n",
    "                 'OP_UNIQUE_CARRIER', 'ORIGIN_AIRPORT_ID', 'DEST_AIRPORT_ID',\n",
    "                 'DISTANCE', 'CRS_ARR_TIME', 'CRS_DEP_TIME', 'OP_CARRIER_FL_NUM']"
   ]
  },
  {
   "cell_type": "code",
   "execution_count": 7,
   "metadata": {},
   "outputs": [],
   "source": [
    "# use years with data! 2003 and june!"
   ]
  },
  {
   "cell_type": "code",
   "execution_count": 8,
   "metadata": {},
   "outputs": [],
   "source": [
    "path = paths[0]\n",
    "def has_data(path):\n",
    "    year, month = int(path[path.find('mance_')+6:-7]), int(path[path.find('mance_')+11:-4])\n",
    "    if year > 2003:\n",
    "        return True\n",
    "    return year == 2003 and month >= 6"
   ]
  },
  {
   "cell_type": "code",
   "execution_count": 9,
   "metadata": {},
   "outputs": [],
   "source": [
    "paths_with_data = sorted(list(filter(has_data, paths)))"
   ]
  },
  {
   "cell_type": "code",
   "execution_count": 10,
   "metadata": {},
   "outputs": [],
   "source": [
    "path = paths_with_data[0]"
   ]
  },
  {
   "cell_type": "code",
   "execution_count": 11,
   "metadata": {},
   "outputs": [],
   "source": [
    "df = pd.read_csv(path)"
   ]
  },
  {
   "cell_type": "code",
   "execution_count": 12,
   "metadata": {},
   "outputs": [
    {
     "data": {
      "text/plain": [
       "536496"
      ]
     },
     "execution_count": 12,
     "metadata": {},
     "output_type": "execute_result"
    }
   ],
   "source": [
    "len(df)"
   ]
  },
  {
   "cell_type": "code",
   "execution_count": 13,
   "metadata": {},
   "outputs": [],
   "source": [
    "valid_idx = df[target_vars].dropna().index"
   ]
  },
  {
   "cell_type": "code",
   "execution_count": 14,
   "metadata": {},
   "outputs": [
    {
     "data": {
      "text/plain": [
       "89441"
      ]
     },
     "execution_count": 14,
     "metadata": {},
     "output_type": "execute_result"
    }
   ],
   "source": [
    "df = df.loc[valid_idx]\n",
    "len(df)"
   ]
  },
  {
   "cell_type": "code",
   "execution_count": 15,
   "metadata": {},
   "outputs": [
    {
     "data": {
      "text/plain": [
       "89441"
      ]
     },
     "execution_count": 15,
     "metadata": {},
     "output_type": "execute_result"
    }
   ],
   "source": [
    "# remove diverted and cancelled flights. => they get special treatment.\n",
    "len(df[(df['DIVERTED'] != 1.0) & (df['CANCELLED'] != 1.0)])"
   ]
  },
  {
   "cell_type": "code",
   "execution_count": 16,
   "metadata": {},
   "outputs": [],
   "source": [
    "# filter out to what is only needed\n",
    "dest_preprocess_dir = os.path.join(scratch_dir, 'prefiltered')\n",
    "os.makedirs(dest_preprocess_dir, exist_ok=True)"
   ]
  },
  {
   "cell_type": "code",
   "execution_count": 17,
   "metadata": {},
   "outputs": [],
   "source": [
    "from tqdm import tqdm"
   ]
  },
  {
   "cell_type": "code",
   "execution_count": 104,
   "metadata": {},
   "outputs": [
    {
     "name": "stderr",
     "output_type": "stream",
     "text": [
      "100%|██████████| 2/2 [00:09<00:00,  4.86s/it]\n"
     ]
    }
   ],
   "source": [
    "# preprocess csv files and write out!\n",
    "for path in tqdm(paths_with_data[:2]):\n",
    "    df = pd.read_csv(path, usecols=target_vars + decision_vars)\n",
    "    \n",
    "    valid_idx = df[target_vars].dropna().index\n",
    "    df = df.loc[valid_idx]\n",
    "    df.to_csv(os.path.join(dest_preprocess_dir, os.path.basename(path)), index=None)"
   ]
  },
  {
   "cell_type": "code",
   "execution_count": 18,
   "metadata": {},
   "outputs": [],
   "source": [
    "# load a single file and make an XGB boost out of it!\n",
    "paths = sorted(glob.glob(os.path.join(dest_preprocess_dir, 'flights_on_*.csv')))\n",
    "\n",
    "path = paths[0]"
   ]
  },
  {
   "cell_type": "code",
   "execution_count": 75,
   "metadata": {},
   "outputs": [],
   "source": [
    "df = pd.read_csv(path)"
   ]
  },
  {
   "cell_type": "code",
   "execution_count": 76,
   "metadata": {},
   "outputs": [],
   "source": [
    "categorical_vars = ['OP_UNIQUE_CARRIER', 'ORIGIN_AIRPORT_ID', 'DEST_AIRPORT_ID', 'OP_CARRIER_FL_NUM']"
   ]
  },
  {
   "cell_type": "code",
   "execution_count": 82,
   "metadata": {},
   "outputs": [
    {
     "data": {
      "text/html": [
       "<div>\n",
       "<style scoped>\n",
       "    .dataframe tbody tr th:only-of-type {\n",
       "        vertical-align: middle;\n",
       "    }\n",
       "\n",
       "    .dataframe tbody tr th {\n",
       "        vertical-align: top;\n",
       "    }\n",
       "\n",
       "    .dataframe thead th {\n",
       "        text-align: right;\n",
       "    }\n",
       "</style>\n",
       "<table border=\"1\" class=\"dataframe\">\n",
       "  <thead>\n",
       "    <tr style=\"text-align: right;\">\n",
       "      <th></th>\n",
       "      <th>QUARTER</th>\n",
       "      <th>MONTH</th>\n",
       "      <th>DAY_OF_MONTH</th>\n",
       "      <th>DAY_OF_WEEK</th>\n",
       "      <th>OP_UNIQUE_CARRIER</th>\n",
       "      <th>OP_CARRIER_FL_NUM</th>\n",
       "      <th>ORIGIN_AIRPORT_ID</th>\n",
       "      <th>DEST_AIRPORT_ID</th>\n",
       "      <th>CRS_DEP_TIME</th>\n",
       "      <th>DEP_DELAY</th>\n",
       "      <th>CRS_ARR_TIME</th>\n",
       "      <th>ARR_DELAY</th>\n",
       "      <th>DISTANCE</th>\n",
       "      <th>CARRIER_DELAY</th>\n",
       "      <th>WEATHER_DELAY</th>\n",
       "      <th>NAS_DELAY</th>\n",
       "      <th>SECURITY_DELAY</th>\n",
       "      <th>LATE_AIRCRAFT_DELAY</th>\n",
       "    </tr>\n",
       "  </thead>\n",
       "  <tbody>\n",
       "    <tr>\n",
       "      <th>0</th>\n",
       "      <td>2</td>\n",
       "      <td>6</td>\n",
       "      <td>5</td>\n",
       "      <td>4</td>\n",
       "      <td>XE</td>\n",
       "      <td>2279</td>\n",
       "      <td>11049</td>\n",
       "      <td>12266</td>\n",
       "      <td>1655</td>\n",
       "      <td>42.0</td>\n",
       "      <td>1736</td>\n",
       "      <td>55.0</td>\n",
       "      <td>74.0</td>\n",
       "      <td>0.0</td>\n",
       "      <td>0.0</td>\n",
       "      <td>13.0</td>\n",
       "      <td>0.0</td>\n",
       "      <td>42.0</td>\n",
       "    </tr>\n",
       "    <tr>\n",
       "      <th>1</th>\n",
       "      <td>2</td>\n",
       "      <td>6</td>\n",
       "      <td>12</td>\n",
       "      <td>4</td>\n",
       "      <td>XE</td>\n",
       "      <td>2379</td>\n",
       "      <td>11049</td>\n",
       "      <td>12266</td>\n",
       "      <td>1655</td>\n",
       "      <td>26.0</td>\n",
       "      <td>1736</td>\n",
       "      <td>18.0</td>\n",
       "      <td>74.0</td>\n",
       "      <td>0.0</td>\n",
       "      <td>0.0</td>\n",
       "      <td>0.0</td>\n",
       "      <td>0.0</td>\n",
       "      <td>18.0</td>\n",
       "    </tr>\n",
       "    <tr>\n",
       "      <th>2</th>\n",
       "      <td>2</td>\n",
       "      <td>6</td>\n",
       "      <td>16</td>\n",
       "      <td>1</td>\n",
       "      <td>XE</td>\n",
       "      <td>2379</td>\n",
       "      <td>11049</td>\n",
       "      <td>12266</td>\n",
       "      <td>1655</td>\n",
       "      <td>118.0</td>\n",
       "      <td>1736</td>\n",
       "      <td>112.0</td>\n",
       "      <td>74.0</td>\n",
       "      <td>0.0</td>\n",
       "      <td>0.0</td>\n",
       "      <td>0.0</td>\n",
       "      <td>0.0</td>\n",
       "      <td>112.0</td>\n",
       "    </tr>\n",
       "    <tr>\n",
       "      <th>3</th>\n",
       "      <td>2</td>\n",
       "      <td>6</td>\n",
       "      <td>18</td>\n",
       "      <td>3</td>\n",
       "      <td>XE</td>\n",
       "      <td>2379</td>\n",
       "      <td>11049</td>\n",
       "      <td>12266</td>\n",
       "      <td>1655</td>\n",
       "      <td>-9.0</td>\n",
       "      <td>1736</td>\n",
       "      <td>17.0</td>\n",
       "      <td>74.0</td>\n",
       "      <td>0.0</td>\n",
       "      <td>0.0</td>\n",
       "      <td>17.0</td>\n",
       "      <td>0.0</td>\n",
       "      <td>0.0</td>\n",
       "    </tr>\n",
       "    <tr>\n",
       "      <th>4</th>\n",
       "      <td>2</td>\n",
       "      <td>6</td>\n",
       "      <td>23</td>\n",
       "      <td>1</td>\n",
       "      <td>XE</td>\n",
       "      <td>2379</td>\n",
       "      <td>11049</td>\n",
       "      <td>12266</td>\n",
       "      <td>1655</td>\n",
       "      <td>44.0</td>\n",
       "      <td>1736</td>\n",
       "      <td>39.0</td>\n",
       "      <td>74.0</td>\n",
       "      <td>0.0</td>\n",
       "      <td>39.0</td>\n",
       "      <td>0.0</td>\n",
       "      <td>0.0</td>\n",
       "      <td>0.0</td>\n",
       "    </tr>\n",
       "    <tr>\n",
       "      <th>...</th>\n",
       "      <td>...</td>\n",
       "      <td>...</td>\n",
       "      <td>...</td>\n",
       "      <td>...</td>\n",
       "      <td>...</td>\n",
       "      <td>...</td>\n",
       "      <td>...</td>\n",
       "      <td>...</td>\n",
       "      <td>...</td>\n",
       "      <td>...</td>\n",
       "      <td>...</td>\n",
       "      <td>...</td>\n",
       "      <td>...</td>\n",
       "      <td>...</td>\n",
       "      <td>...</td>\n",
       "      <td>...</td>\n",
       "      <td>...</td>\n",
       "      <td>...</td>\n",
       "    </tr>\n",
       "    <tr>\n",
       "      <th>89436</th>\n",
       "      <td>2</td>\n",
       "      <td>6</td>\n",
       "      <td>8</td>\n",
       "      <td>7</td>\n",
       "      <td>OO</td>\n",
       "      <td>6965</td>\n",
       "      <td>12892</td>\n",
       "      <td>14893</td>\n",
       "      <td>1300</td>\n",
       "      <td>20.0</td>\n",
       "      <td>1425</td>\n",
       "      <td>18.0</td>\n",
       "      <td>373.0</td>\n",
       "      <td>18.0</td>\n",
       "      <td>0.0</td>\n",
       "      <td>0.0</td>\n",
       "      <td>0.0</td>\n",
       "      <td>0.0</td>\n",
       "    </tr>\n",
       "    <tr>\n",
       "      <th>89437</th>\n",
       "      <td>2</td>\n",
       "      <td>6</td>\n",
       "      <td>9</td>\n",
       "      <td>1</td>\n",
       "      <td>OO</td>\n",
       "      <td>3601</td>\n",
       "      <td>14869</td>\n",
       "      <td>14113</td>\n",
       "      <td>1855</td>\n",
       "      <td>13.0</td>\n",
       "      <td>1947</td>\n",
       "      <td>30.0</td>\n",
       "      <td>150.0</td>\n",
       "      <td>30.0</td>\n",
       "      <td>0.0</td>\n",
       "      <td>0.0</td>\n",
       "      <td>0.0</td>\n",
       "      <td>0.0</td>\n",
       "    </tr>\n",
       "    <tr>\n",
       "      <th>89438</th>\n",
       "      <td>2</td>\n",
       "      <td>6</td>\n",
       "      <td>9</td>\n",
       "      <td>1</td>\n",
       "      <td>OO</td>\n",
       "      <td>3601</td>\n",
       "      <td>14113</td>\n",
       "      <td>14869</td>\n",
       "      <td>2015</td>\n",
       "      <td>19.0</td>\n",
       "      <td>2103</td>\n",
       "      <td>22.0</td>\n",
       "      <td>150.0</td>\n",
       "      <td>22.0</td>\n",
       "      <td>0.0</td>\n",
       "      <td>0.0</td>\n",
       "      <td>0.0</td>\n",
       "      <td>0.0</td>\n",
       "    </tr>\n",
       "    <tr>\n",
       "      <th>89439</th>\n",
       "      <td>2</td>\n",
       "      <td>6</td>\n",
       "      <td>9</td>\n",
       "      <td>1</td>\n",
       "      <td>OO</td>\n",
       "      <td>3613</td>\n",
       "      <td>14869</td>\n",
       "      <td>15389</td>\n",
       "      <td>1845</td>\n",
       "      <td>9.0</td>\n",
       "      <td>1941</td>\n",
       "      <td>21.0</td>\n",
       "      <td>175.0</td>\n",
       "      <td>21.0</td>\n",
       "      <td>0.0</td>\n",
       "      <td>0.0</td>\n",
       "      <td>0.0</td>\n",
       "      <td>0.0</td>\n",
       "    </tr>\n",
       "    <tr>\n",
       "      <th>89440</th>\n",
       "      <td>2</td>\n",
       "      <td>6</td>\n",
       "      <td>9</td>\n",
       "      <td>1</td>\n",
       "      <td>OO</td>\n",
       "      <td>3617</td>\n",
       "      <td>14869</td>\n",
       "      <td>15041</td>\n",
       "      <td>2010</td>\n",
       "      <td>20.0</td>\n",
       "      <td>2113</td>\n",
       "      <td>31.0</td>\n",
       "      <td>223.0</td>\n",
       "      <td>31.0</td>\n",
       "      <td>0.0</td>\n",
       "      <td>0.0</td>\n",
       "      <td>0.0</td>\n",
       "      <td>0.0</td>\n",
       "    </tr>\n",
       "  </tbody>\n",
       "</table>\n",
       "<p>89441 rows × 18 columns</p>\n",
       "</div>"
      ],
      "text/plain": [
       "       QUARTER  MONTH  DAY_OF_MONTH  DAY_OF_WEEK OP_UNIQUE_CARRIER  \\\n",
       "0            2      6             5            4                XE   \n",
       "1            2      6            12            4                XE   \n",
       "2            2      6            16            1                XE   \n",
       "3            2      6            18            3                XE   \n",
       "4            2      6            23            1                XE   \n",
       "...        ...    ...           ...          ...               ...   \n",
       "89436        2      6             8            7                OO   \n",
       "89437        2      6             9            1                OO   \n",
       "89438        2      6             9            1                OO   \n",
       "89439        2      6             9            1                OO   \n",
       "89440        2      6             9            1                OO   \n",
       "\n",
       "       OP_CARRIER_FL_NUM  ORIGIN_AIRPORT_ID  DEST_AIRPORT_ID  CRS_DEP_TIME  \\\n",
       "0                   2279              11049            12266          1655   \n",
       "1                   2379              11049            12266          1655   \n",
       "2                   2379              11049            12266          1655   \n",
       "3                   2379              11049            12266          1655   \n",
       "4                   2379              11049            12266          1655   \n",
       "...                  ...                ...              ...           ...   \n",
       "89436               6965              12892            14893          1300   \n",
       "89437               3601              14869            14113          1855   \n",
       "89438               3601              14113            14869          2015   \n",
       "89439               3613              14869            15389          1845   \n",
       "89440               3617              14869            15041          2010   \n",
       "\n",
       "       DEP_DELAY  CRS_ARR_TIME  ARR_DELAY  DISTANCE  CARRIER_DELAY  \\\n",
       "0           42.0          1736       55.0      74.0            0.0   \n",
       "1           26.0          1736       18.0      74.0            0.0   \n",
       "2          118.0          1736      112.0      74.0            0.0   \n",
       "3           -9.0          1736       17.0      74.0            0.0   \n",
       "4           44.0          1736       39.0      74.0            0.0   \n",
       "...          ...           ...        ...       ...            ...   \n",
       "89436       20.0          1425       18.0     373.0           18.0   \n",
       "89437       13.0          1947       30.0     150.0           30.0   \n",
       "89438       19.0          2103       22.0     150.0           22.0   \n",
       "89439        9.0          1941       21.0     175.0           21.0   \n",
       "89440       20.0          2113       31.0     223.0           31.0   \n",
       "\n",
       "       WEATHER_DELAY  NAS_DELAY  SECURITY_DELAY  LATE_AIRCRAFT_DELAY  \n",
       "0                0.0       13.0             0.0                 42.0  \n",
       "1                0.0        0.0             0.0                 18.0  \n",
       "2                0.0        0.0             0.0                112.0  \n",
       "3                0.0       17.0             0.0                  0.0  \n",
       "4               39.0        0.0             0.0                  0.0  \n",
       "...              ...        ...             ...                  ...  \n",
       "89436            0.0        0.0             0.0                  0.0  \n",
       "89437            0.0        0.0             0.0                  0.0  \n",
       "89438            0.0        0.0             0.0                  0.0  \n",
       "89439            0.0        0.0             0.0                  0.0  \n",
       "89440            0.0        0.0             0.0                  0.0  \n",
       "\n",
       "[89441 rows x 18 columns]"
      ]
     },
     "execution_count": 82,
     "metadata": {},
     "output_type": "execute_result"
    }
   ],
   "source": [
    "df[df['ARR_DELAY'] > 0.0]"
   ]
  },
  {
   "cell_type": "code",
   "execution_count": null,
   "metadata": {},
   "outputs": [],
   "source": []
  },
  {
   "cell_type": "code",
   "execution_count": 21,
   "metadata": {},
   "outputs": [],
   "source": [
    "df_encoded = pd.get_dummies(df, columns=categorical_vars, sparse=True)"
   ]
  },
  {
   "cell_type": "code",
   "execution_count": 22,
   "metadata": {},
   "outputs": [
    {
     "data": {
      "text/plain": [
       "Index(['QUARTER', 'MONTH', 'DAY_OF_MONTH', 'DAY_OF_WEEK', 'CRS_DEP_TIME',\n",
       "       'DEP_DELAY', 'CRS_ARR_TIME', 'ARR_DELAY', 'DISTANCE', 'CARRIER_DELAY',\n",
       "       ...\n",
       "       'OP_CARRIER_FL_NUM_7984', 'OP_CARRIER_FL_NUM_7985',\n",
       "       'OP_CARRIER_FL_NUM_7986', 'OP_CARRIER_FL_NUM_7987',\n",
       "       'OP_CARRIER_FL_NUM_7988', 'OP_CARRIER_FL_NUM_7989',\n",
       "       'OP_CARRIER_FL_NUM_7993', 'OP_CARRIER_FL_NUM_7996',\n",
       "       'OP_CARRIER_FL_NUM_7997', 'OP_CARRIER_FL_NUM_7999'],\n",
       "      dtype='object', length=6221)"
      ]
     },
     "execution_count": 22,
     "metadata": {},
     "output_type": "execute_result"
    }
   ],
   "source": [
    "df_encoded.columns"
   ]
  },
  {
   "cell_type": "code",
   "execution_count": 23,
   "metadata": {},
   "outputs": [],
   "source": [
    "y = df_encoded[sorted(target_vars)].values"
   ]
  },
  {
   "cell_type": "code",
   "execution_count": 24,
   "metadata": {},
   "outputs": [],
   "source": [
    "X = df_encoded[sorted(list(set(df_encoded.columns) - set(target_vars)))].values"
   ]
  },
  {
   "cell_type": "code",
   "execution_count": 25,
   "metadata": {},
   "outputs": [
    {
     "data": {
      "text/plain": [
       "(89441, 6214)"
      ]
     },
     "execution_count": 25,
     "metadata": {},
     "output_type": "execute_result"
    }
   ],
   "source": [
    "X.shape"
   ]
  },
  {
   "cell_type": "code",
   "execution_count": 59,
   "metadata": {},
   "outputs": [],
   "source": [
    "import xgboost as xgb\n",
    "from sklearn.model_selection import train_test_split\n",
    "\n",
    "X_train, X_test, Y_train, Y_test = train_test_split(X, y, test_size=0.2, random_state = 42)"
   ]
  },
  {
   "cell_type": "code",
   "execution_count": 88,
   "metadata": {},
   "outputs": [],
   "source": [
    "from sklearn import preprocessing\n",
    "from sklearn.linear_model import LinearRegression\n",
    "from sklearn.linear_model import SGDRegressor, Ridge"
   ]
  },
  {
   "cell_type": "code",
   "execution_count": 61,
   "metadata": {},
   "outputs": [],
   "source": [
    "#scaler = preprocessing.StandardScaler().fit(X_train)\n",
    "scaler = preprocessing.MinMaxScaler().fit(X_train)"
   ]
  },
  {
   "cell_type": "code",
   "execution_count": 62,
   "metadata": {},
   "outputs": [],
   "source": [
    "X_scaled = scaler.transform(X_train)"
   ]
  },
  {
   "cell_type": "code",
   "execution_count": 63,
   "metadata": {},
   "outputs": [
    {
     "data": {
      "text/plain": [
       "array([[0.6836302 , 0.6393373 , 0.93103448, ..., 0.        , 0.        ,\n",
       "        0.        ],\n",
       "       [0.80873622, 0.72854715, 0.34482759, ..., 0.        , 0.        ,\n",
       "        0.        ],\n",
       "       [0.60687023, 0.52676296, 0.37931034, ..., 0.        , 0.        ,\n",
       "        0.        ],\n",
       "       ...,\n",
       "       [0.93681086, 0.89804588, 0.62068966, ..., 0.        , 0.        ,\n",
       "        0.        ],\n",
       "       [0.38804071, 0.30586236, 0.10344828, ..., 0.        , 0.        ,\n",
       "        0.        ],\n",
       "       [0.89312977, 0.80926083, 0.96551724, ..., 0.        , 0.        ,\n",
       "        0.        ]])"
      ]
     },
     "execution_count": 63,
     "metadata": {},
     "output_type": "execute_result"
    }
   ],
   "source": [
    "X_scaled"
   ]
  },
  {
   "cell_type": "code",
   "execution_count": 64,
   "metadata": {},
   "outputs": [],
   "source": [
    "# reg = LinearRegression().fit(X_scaled, y=Y_train)"
   ]
  },
  {
   "cell_type": "code",
   "execution_count": 107,
   "metadata": {},
   "outputs": [],
   "source": [
    "reg = Ridge(alpha=1.7).fit(X_scaled, y=Y_train)"
   ]
  },
  {
   "cell_type": "code",
   "execution_count": 108,
   "metadata": {},
   "outputs": [
    {
     "data": {
      "text/plain": [
       "0.156991367549764"
      ]
     },
     "execution_count": 108,
     "metadata": {},
     "output_type": "execute_result"
    }
   ],
   "source": [
    "reg.score(X_scaled, Y_train)"
   ]
  },
  {
   "cell_type": "code",
   "execution_count": 109,
   "metadata": {},
   "outputs": [],
   "source": [
    "X_test_scaled = scaler.transform(X_test)"
   ]
  },
  {
   "cell_type": "code",
   "execution_count": 110,
   "metadata": {},
   "outputs": [
    {
     "data": {
      "text/plain": [
       "-0.010687477674678068"
      ]
     },
     "execution_count": 110,
     "metadata": {},
     "output_type": "execute_result"
    }
   ],
   "source": [
    "reg.score(X_test_scaled, Y_test)"
   ]
  },
  {
   "cell_type": "code",
   "execution_count": 111,
   "metadata": {},
   "outputs": [],
   "source": [
    "Y_predicted = reg.predict(X_test_scaled)"
   ]
  },
  {
   "cell_type": "code",
   "execution_count": 112,
   "metadata": {},
   "outputs": [
    {
     "data": {
      "text/plain": [
       "array([[ 6.07181804e+01,  3.15988755e+01,  5.88679918e+01, ...,\n",
       "         1.07871885e+01,  3.02501340e-01,  4.34243728e+00],\n",
       "       [ 3.89157000e+01,  1.42485682e+01,  3.10930842e+01, ...,\n",
       "         1.01853118e+01,  1.17588148e-01,  1.42038222e+00],\n",
       "       [ 6.52723931e+01,  8.12365172e-01,  3.86327255e+01, ...,\n",
       "         3.03129215e+01, -1.12833680e-01,  2.20552917e+01],\n",
       "       ...,\n",
       "       [ 3.56716257e+01,  1.24365268e+01,  2.96180133e+01, ...,\n",
       "         8.55545848e+00,  3.56267913e+00,  4.16232816e-01],\n",
       "       [ 6.02485080e+01,  3.80774444e+00,  5.96593728e+01, ...,\n",
       "         9.02129556e+00,  3.60564431e+00,  1.75512534e+01],\n",
       "       [ 5.54802245e+01,  1.62977599e+01,  5.44975685e+01, ...,\n",
       "         1.67497742e+01,  7.76261958e-02,  5.49098253e-02]])"
      ]
     },
     "execution_count": 112,
     "metadata": {},
     "output_type": "execute_result"
    }
   ],
   "source": [
    "Y_predicted"
   ]
  },
  {
   "cell_type": "code",
   "execution_count": 113,
   "metadata": {},
   "outputs": [
    {
     "data": {
      "text/plain": [
       "array([[ 6.12102217, 15.26873904, -1.88204671, ..., -4.49704184,\n",
       "        -2.17346662,  0.        ],\n",
       "       [-8.88124159, -7.64755863,  1.73145289, ..., -7.19481358,\n",
       "         8.21272971,  0.        ],\n",
       "       [ 0.87327443, 29.65477749,  0.24368729, ..., -8.18742599,\n",
       "        -2.10669382,  0.        ],\n",
       "       ...,\n",
       "       [ 7.85595849, -8.93940076, -3.00390619, ..., 11.42187269,\n",
       "        -3.02683106,  0.        ],\n",
       "       [-0.03798717,  0.05805815,  0.49969238, ...,  0.27979919,\n",
       "         2.28530955,  0.        ],\n",
       "       [ 0.8980447 ,  3.47820828, -2.26311448, ..., -3.42283431,\n",
       "        -1.56959438,  0.        ]])"
      ]
     },
     "execution_count": 113,
     "metadata": {},
     "output_type": "execute_result"
    }
   ],
   "source": [
    "reg.coef_"
   ]
  },
  {
   "cell_type": "code",
   "execution_count": 114,
   "metadata": {},
   "outputs": [
    {
     "name": "stdout",
     "output_type": "stream",
     "text": [
      "Collecting mc2gen\n",
      "\u001b[31mException:\n",
      "Traceback (most recent call last):\n",
      "  File \"/usr/lib/python3/dist-packages/pip/basecommand.py\", line 215, in main\n",
      "    status = self.run(options, args)\n",
      "  File \"/usr/lib/python3/dist-packages/pip/commands/install.py\", line 353, in run\n",
      "    wb.build(autobuilding=True)\n",
      "  File \"/usr/lib/python3/dist-packages/pip/wheel.py\", line 749, in build\n",
      "    self.requirement_set.prepare_files(self.finder)\n",
      "  File \"/usr/lib/python3/dist-packages/pip/req/req_set.py\", line 380, in prepare_files\n",
      "    ignore_dependencies=self.ignore_dependencies))\n",
      "  File \"/usr/lib/python3/dist-packages/pip/req/req_set.py\", line 554, in _prepare_file\n",
      "    require_hashes\n",
      "  File \"/usr/lib/python3/dist-packages/pip/req/req_install.py\", line 278, in populate_link\n",
      "    self.link = finder.find_requirement(self, upgrade)\n",
      "  File \"/usr/lib/python3/dist-packages/pip/index.py\", line 465, in find_requirement\n",
      "    all_candidates = self.find_all_candidates(req.name)\n",
      "  File \"/usr/lib/python3/dist-packages/pip/index.py\", line 423, in find_all_candidates\n",
      "    for page in self._get_pages(url_locations, project_name):\n",
      "  File \"/usr/lib/python3/dist-packages/pip/index.py\", line 568, in _get_pages\n",
      "    page = self._get_page(location)\n",
      "  File \"/usr/lib/python3/dist-packages/pip/index.py\", line 683, in _get_page\n",
      "    return HTMLPage.get_page(link, session=self.session)\n",
      "  File \"/usr/lib/python3/dist-packages/pip/index.py\", line 795, in get_page\n",
      "    resp.raise_for_status()\n",
      "  File \"/usr/share/python-wheels/requests-2.18.4-py2.py3-none-any.whl/requests/models.py\", line 935, in raise_for_status\n",
      "    raise HTTPError(http_error_msg, response=self)\n",
      "requests.exceptions.HTTPError: 404 Client Error: Not Found for url: https://pypi.org/simple/mc2gen/\u001b[0m\n"
     ]
    }
   ],
   "source": [
    "!pip3 install mc2gen"
   ]
  },
  {
   "cell_type": "code",
   "execution_count": 116,
   "metadata": {},
   "outputs": [],
   "source": [
    "# This requires python >= 3.7."
   ]
  },
  {
   "cell_type": "code",
   "execution_count": null,
   "metadata": {},
   "outputs": [],
   "source": []
  },
  {
   "cell_type": "code",
   "execution_count": 72,
   "metadata": {},
   "outputs": [],
   "source": [
    "from sklearn.metrics import mean_absolute_error"
   ]
  },
  {
   "cell_type": "code",
   "execution_count": null,
   "metadata": {},
   "outputs": [],
   "source": []
  },
  {
   "cell_type": "code",
   "execution_count": 74,
   "metadata": {},
   "outputs": [
    {
     "data": {
      "text/plain": [
       "array([4.15907741e+10, 3.04502128e+10, 2.71152544e+10, 1.29126493e+10,\n",
       "       1.55619486e+10, 1.09396865e+10, 5.39630281e+09])"
      ]
     },
     "execution_count": 74,
     "metadata": {},
     "output_type": "execute_result"
    }
   ],
   "source": [
    "mean_absolute_error(Y_test, Y_predicted, multioutput='raw_values')"
   ]
  },
  {
   "cell_type": "code",
   "execution_count": null,
   "metadata": {},
   "outputs": [],
   "source": []
  },
  {
   "cell_type": "code",
   "execution_count": 55,
   "metadata": {},
   "outputs": [
    {
     "data": {
      "text/plain": [
       "array([[28.,  0., -4., ..., 28.,  0.,  0.],\n",
       "       [53.,  3., 54., ...,  0.,  0.,  0.],\n",
       "       [43.,  0., 16., ..., 27.,  0.,  0.],\n",
       "       ...,\n",
       "       [53.,  0., 35., ..., 18.,  0.,  4.],\n",
       "       [65.,  0., 40., ..., 25.,  0., 31.],\n",
       "       [42.,  0., 49., ...,  0.,  0.,  0.]])"
      ]
     },
     "execution_count": 55,
     "metadata": {},
     "output_type": "execute_result"
    }
   ],
   "source": [
    "Y_train"
   ]
  },
  {
   "cell_type": "code",
   "execution_count": 27,
   "metadata": {},
   "outputs": [
    {
     "data": {
      "text/plain": [
       "(71552, 6214)"
      ]
     },
     "execution_count": 27,
     "metadata": {},
     "output_type": "execute_result"
    }
   ],
   "source": [
    "X_train.shape"
   ]
  },
  {
   "cell_type": "code",
   "execution_count": 28,
   "metadata": {},
   "outputs": [
    {
     "data": {
      "text/plain": [
       "(71552, 7)"
      ]
     },
     "execution_count": 28,
     "metadata": {},
     "output_type": "execute_result"
    }
   ],
   "source": [
    "Y_train.shape"
   ]
  },
  {
   "cell_type": "code",
   "execution_count": 29,
   "metadata": {},
   "outputs": [],
   "source": [
    "# following only works for newer XGBoost (> 1.6.0)"
   ]
  },
  {
   "cell_type": "code",
   "execution_count": 46,
   "metadata": {},
   "outputs": [],
   "source": [
    "reg = xgb.XGBRegressor(verbosity=2,\n",
    "                       eval_metric='mean_absolute_error',\n",
    "                       num_target=Y_train.shape[1])"
   ]
  },
  {
   "cell_type": "code",
   "execution_count": 31,
   "metadata": {},
   "outputs": [],
   "source": [
    "# older xgboost: train separate regressors...\n",
    "#https://stackoverflow.com/questions/39540123/muti-output-regression-in-xgboost"
   ]
  },
  {
   "cell_type": "code",
   "execution_count": 32,
   "metadata": {},
   "outputs": [],
   "source": [
    "from sklearn.multioutput import MultiOutputRegressor"
   ]
  },
  {
   "cell_type": "code",
   "execution_count": 35,
   "metadata": {},
   "outputs": [
    {
     "ename": "KeyboardInterrupt",
     "evalue": "",
     "output_type": "error",
     "traceback": [
      "\u001b[0;31m---------------------------------------------------------------------------\u001b[0m",
      "\u001b[0;31mKeyboardInterrupt\u001b[0m                         Traceback (most recent call last)",
      "\u001b[0;32m<ipython-input-35-05472774d399>\u001b[0m in \u001b[0;36m<module>\u001b[0;34m\u001b[0m\n\u001b[0;32m----> 1\u001b[0;31m \u001b[0mmultioutputregressor\u001b[0m \u001b[0;34m=\u001b[0m \u001b[0mMultiOutputRegressor\u001b[0m\u001b[0;34m(\u001b[0m\u001b[0mxgb\u001b[0m\u001b[0;34m.\u001b[0m\u001b[0mXGBRegressor\u001b[0m\u001b[0;34m(\u001b[0m\u001b[0mobjective\u001b[0m\u001b[0;34m=\u001b[0m\u001b[0;34m'reg:squarederror'\u001b[0m\u001b[0;34m)\u001b[0m\u001b[0;34m)\u001b[0m\u001b[0;34m.\u001b[0m\u001b[0mfit\u001b[0m\u001b[0;34m(\u001b[0m\u001b[0mX_train\u001b[0m\u001b[0;34m,\u001b[0m \u001b[0mY_train\u001b[0m\u001b[0;34m)\u001b[0m\u001b[0;34m\u001b[0m\u001b[0;34m\u001b[0m\u001b[0m\n\u001b[0m",
      "\u001b[0;32m~/.local/lib/python3.6/site-packages/sklearn/multioutput.py\u001b[0m in \u001b[0;36mfit\u001b[0;34m(self, X, y, sample_weight, **fit_params)\u001b[0m\n\u001b[1;32m    180\u001b[0m                 \u001b[0mself\u001b[0m\u001b[0;34m.\u001b[0m\u001b[0mestimator\u001b[0m\u001b[0;34m,\u001b[0m \u001b[0mX\u001b[0m\u001b[0;34m,\u001b[0m \u001b[0my\u001b[0m\u001b[0;34m[\u001b[0m\u001b[0;34m:\u001b[0m\u001b[0;34m,\u001b[0m \u001b[0mi\u001b[0m\u001b[0;34m]\u001b[0m\u001b[0;34m,\u001b[0m \u001b[0msample_weight\u001b[0m\u001b[0;34m,\u001b[0m\u001b[0;34m\u001b[0m\u001b[0;34m\u001b[0m\u001b[0m\n\u001b[1;32m    181\u001b[0m                 **fit_params_validated)\n\u001b[0;32m--> 182\u001b[0;31m             for i in range(y.shape[1]))\n\u001b[0m\u001b[1;32m    183\u001b[0m         \u001b[0;32mreturn\u001b[0m \u001b[0mself\u001b[0m\u001b[0;34m\u001b[0m\u001b[0;34m\u001b[0m\u001b[0m\n\u001b[1;32m    184\u001b[0m \u001b[0;34m\u001b[0m\u001b[0m\n",
      "\u001b[0;32m~/.local/lib/python3.6/site-packages/joblib/parallel.py\u001b[0m in \u001b[0;36m__call__\u001b[0;34m(self, iterable)\u001b[0m\n\u001b[1;32m   1044\u001b[0m                 \u001b[0mself\u001b[0m\u001b[0;34m.\u001b[0m\u001b[0m_iterating\u001b[0m \u001b[0;34m=\u001b[0m \u001b[0mself\u001b[0m\u001b[0;34m.\u001b[0m\u001b[0m_original_iterator\u001b[0m \u001b[0;32mis\u001b[0m \u001b[0;32mnot\u001b[0m \u001b[0;32mNone\u001b[0m\u001b[0;34m\u001b[0m\u001b[0;34m\u001b[0m\u001b[0m\n\u001b[1;32m   1045\u001b[0m \u001b[0;34m\u001b[0m\u001b[0m\n\u001b[0;32m-> 1046\u001b[0;31m             \u001b[0;32mwhile\u001b[0m \u001b[0mself\u001b[0m\u001b[0;34m.\u001b[0m\u001b[0mdispatch_one_batch\u001b[0m\u001b[0;34m(\u001b[0m\u001b[0miterator\u001b[0m\u001b[0;34m)\u001b[0m\u001b[0;34m:\u001b[0m\u001b[0;34m\u001b[0m\u001b[0;34m\u001b[0m\u001b[0m\n\u001b[0m\u001b[1;32m   1047\u001b[0m                 \u001b[0;32mpass\u001b[0m\u001b[0;34m\u001b[0m\u001b[0;34m\u001b[0m\u001b[0m\n\u001b[1;32m   1048\u001b[0m \u001b[0;34m\u001b[0m\u001b[0m\n",
      "\u001b[0;32m~/.local/lib/python3.6/site-packages/joblib/parallel.py\u001b[0m in \u001b[0;36mdispatch_one_batch\u001b[0;34m(self, iterator)\u001b[0m\n\u001b[1;32m    859\u001b[0m                 \u001b[0;32mreturn\u001b[0m \u001b[0;32mFalse\u001b[0m\u001b[0;34m\u001b[0m\u001b[0;34m\u001b[0m\u001b[0m\n\u001b[1;32m    860\u001b[0m             \u001b[0;32melse\u001b[0m\u001b[0;34m:\u001b[0m\u001b[0;34m\u001b[0m\u001b[0;34m\u001b[0m\u001b[0m\n\u001b[0;32m--> 861\u001b[0;31m                 \u001b[0mself\u001b[0m\u001b[0;34m.\u001b[0m\u001b[0m_dispatch\u001b[0m\u001b[0;34m(\u001b[0m\u001b[0mtasks\u001b[0m\u001b[0;34m)\u001b[0m\u001b[0;34m\u001b[0m\u001b[0;34m\u001b[0m\u001b[0m\n\u001b[0m\u001b[1;32m    862\u001b[0m                 \u001b[0;32mreturn\u001b[0m \u001b[0;32mTrue\u001b[0m\u001b[0;34m\u001b[0m\u001b[0;34m\u001b[0m\u001b[0m\n\u001b[1;32m    863\u001b[0m \u001b[0;34m\u001b[0m\u001b[0m\n",
      "\u001b[0;32m~/.local/lib/python3.6/site-packages/joblib/parallel.py\u001b[0m in \u001b[0;36m_dispatch\u001b[0;34m(self, batch)\u001b[0m\n\u001b[1;32m    777\u001b[0m         \u001b[0;32mwith\u001b[0m \u001b[0mself\u001b[0m\u001b[0;34m.\u001b[0m\u001b[0m_lock\u001b[0m\u001b[0;34m:\u001b[0m\u001b[0;34m\u001b[0m\u001b[0;34m\u001b[0m\u001b[0m\n\u001b[1;32m    778\u001b[0m             \u001b[0mjob_idx\u001b[0m \u001b[0;34m=\u001b[0m \u001b[0mlen\u001b[0m\u001b[0;34m(\u001b[0m\u001b[0mself\u001b[0m\u001b[0;34m.\u001b[0m\u001b[0m_jobs\u001b[0m\u001b[0;34m)\u001b[0m\u001b[0;34m\u001b[0m\u001b[0;34m\u001b[0m\u001b[0m\n\u001b[0;32m--> 779\u001b[0;31m             \u001b[0mjob\u001b[0m \u001b[0;34m=\u001b[0m \u001b[0mself\u001b[0m\u001b[0;34m.\u001b[0m\u001b[0m_backend\u001b[0m\u001b[0;34m.\u001b[0m\u001b[0mapply_async\u001b[0m\u001b[0;34m(\u001b[0m\u001b[0mbatch\u001b[0m\u001b[0;34m,\u001b[0m \u001b[0mcallback\u001b[0m\u001b[0;34m=\u001b[0m\u001b[0mcb\u001b[0m\u001b[0;34m)\u001b[0m\u001b[0;34m\u001b[0m\u001b[0;34m\u001b[0m\u001b[0m\n\u001b[0m\u001b[1;32m    780\u001b[0m             \u001b[0;31m# A job can complete so quickly than its callback is\u001b[0m\u001b[0;34m\u001b[0m\u001b[0;34m\u001b[0m\u001b[0;34m\u001b[0m\u001b[0m\n\u001b[1;32m    781\u001b[0m             \u001b[0;31m# called before we get here, causing self._jobs to\u001b[0m\u001b[0;34m\u001b[0m\u001b[0;34m\u001b[0m\u001b[0;34m\u001b[0m\u001b[0m\n",
      "\u001b[0;32m~/.local/lib/python3.6/site-packages/joblib/_parallel_backends.py\u001b[0m in \u001b[0;36mapply_async\u001b[0;34m(self, func, callback)\u001b[0m\n\u001b[1;32m    206\u001b[0m     \u001b[0;32mdef\u001b[0m \u001b[0mapply_async\u001b[0m\u001b[0;34m(\u001b[0m\u001b[0mself\u001b[0m\u001b[0;34m,\u001b[0m \u001b[0mfunc\u001b[0m\u001b[0;34m,\u001b[0m \u001b[0mcallback\u001b[0m\u001b[0;34m=\u001b[0m\u001b[0;32mNone\u001b[0m\u001b[0;34m)\u001b[0m\u001b[0;34m:\u001b[0m\u001b[0;34m\u001b[0m\u001b[0;34m\u001b[0m\u001b[0m\n\u001b[1;32m    207\u001b[0m         \u001b[0;34m\"\"\"Schedule a func to be run\"\"\"\u001b[0m\u001b[0;34m\u001b[0m\u001b[0;34m\u001b[0m\u001b[0m\n\u001b[0;32m--> 208\u001b[0;31m         \u001b[0mresult\u001b[0m \u001b[0;34m=\u001b[0m \u001b[0mImmediateResult\u001b[0m\u001b[0;34m(\u001b[0m\u001b[0mfunc\u001b[0m\u001b[0;34m)\u001b[0m\u001b[0;34m\u001b[0m\u001b[0;34m\u001b[0m\u001b[0m\n\u001b[0m\u001b[1;32m    209\u001b[0m         \u001b[0;32mif\u001b[0m \u001b[0mcallback\u001b[0m\u001b[0;34m:\u001b[0m\u001b[0;34m\u001b[0m\u001b[0;34m\u001b[0m\u001b[0m\n\u001b[1;32m    210\u001b[0m             \u001b[0mcallback\u001b[0m\u001b[0;34m(\u001b[0m\u001b[0mresult\u001b[0m\u001b[0;34m)\u001b[0m\u001b[0;34m\u001b[0m\u001b[0;34m\u001b[0m\u001b[0m\n",
      "\u001b[0;32m~/.local/lib/python3.6/site-packages/joblib/_parallel_backends.py\u001b[0m in \u001b[0;36m__init__\u001b[0;34m(self, batch)\u001b[0m\n\u001b[1;32m    570\u001b[0m         \u001b[0;31m# Don't delay the application, to avoid keeping the input\u001b[0m\u001b[0;34m\u001b[0m\u001b[0;34m\u001b[0m\u001b[0;34m\u001b[0m\u001b[0m\n\u001b[1;32m    571\u001b[0m         \u001b[0;31m# arguments in memory\u001b[0m\u001b[0;34m\u001b[0m\u001b[0;34m\u001b[0m\u001b[0;34m\u001b[0m\u001b[0m\n\u001b[0;32m--> 572\u001b[0;31m         \u001b[0mself\u001b[0m\u001b[0;34m.\u001b[0m\u001b[0mresults\u001b[0m \u001b[0;34m=\u001b[0m \u001b[0mbatch\u001b[0m\u001b[0;34m(\u001b[0m\u001b[0;34m)\u001b[0m\u001b[0;34m\u001b[0m\u001b[0;34m\u001b[0m\u001b[0m\n\u001b[0m\u001b[1;32m    573\u001b[0m \u001b[0;34m\u001b[0m\u001b[0m\n\u001b[1;32m    574\u001b[0m     \u001b[0;32mdef\u001b[0m \u001b[0mget\u001b[0m\u001b[0;34m(\u001b[0m\u001b[0mself\u001b[0m\u001b[0;34m)\u001b[0m\u001b[0;34m:\u001b[0m\u001b[0;34m\u001b[0m\u001b[0;34m\u001b[0m\u001b[0m\n",
      "\u001b[0;32m~/.local/lib/python3.6/site-packages/joblib/parallel.py\u001b[0m in \u001b[0;36m__call__\u001b[0;34m(self)\u001b[0m\n\u001b[1;32m    261\u001b[0m         \u001b[0;32mwith\u001b[0m \u001b[0mparallel_backend\u001b[0m\u001b[0;34m(\u001b[0m\u001b[0mself\u001b[0m\u001b[0;34m.\u001b[0m\u001b[0m_backend\u001b[0m\u001b[0;34m,\u001b[0m \u001b[0mn_jobs\u001b[0m\u001b[0;34m=\u001b[0m\u001b[0mself\u001b[0m\u001b[0;34m.\u001b[0m\u001b[0m_n_jobs\u001b[0m\u001b[0;34m)\u001b[0m\u001b[0;34m:\u001b[0m\u001b[0;34m\u001b[0m\u001b[0;34m\u001b[0m\u001b[0m\n\u001b[1;32m    262\u001b[0m             return [func(*args, **kwargs)\n\u001b[0;32m--> 263\u001b[0;31m                     for func, args, kwargs in self.items]\n\u001b[0m\u001b[1;32m    264\u001b[0m \u001b[0;34m\u001b[0m\u001b[0m\n\u001b[1;32m    265\u001b[0m     \u001b[0;32mdef\u001b[0m \u001b[0m__reduce__\u001b[0m\u001b[0;34m(\u001b[0m\u001b[0mself\u001b[0m\u001b[0;34m)\u001b[0m\u001b[0;34m:\u001b[0m\u001b[0;34m\u001b[0m\u001b[0;34m\u001b[0m\u001b[0m\n",
      "\u001b[0;32m~/.local/lib/python3.6/site-packages/joblib/parallel.py\u001b[0m in \u001b[0;36m<listcomp>\u001b[0;34m(.0)\u001b[0m\n\u001b[1;32m    261\u001b[0m         \u001b[0;32mwith\u001b[0m \u001b[0mparallel_backend\u001b[0m\u001b[0;34m(\u001b[0m\u001b[0mself\u001b[0m\u001b[0;34m.\u001b[0m\u001b[0m_backend\u001b[0m\u001b[0;34m,\u001b[0m \u001b[0mn_jobs\u001b[0m\u001b[0;34m=\u001b[0m\u001b[0mself\u001b[0m\u001b[0;34m.\u001b[0m\u001b[0m_n_jobs\u001b[0m\u001b[0;34m)\u001b[0m\u001b[0;34m:\u001b[0m\u001b[0;34m\u001b[0m\u001b[0;34m\u001b[0m\u001b[0m\n\u001b[1;32m    262\u001b[0m             return [func(*args, **kwargs)\n\u001b[0;32m--> 263\u001b[0;31m                     for func, args, kwargs in self.items]\n\u001b[0m\u001b[1;32m    264\u001b[0m \u001b[0;34m\u001b[0m\u001b[0m\n\u001b[1;32m    265\u001b[0m     \u001b[0;32mdef\u001b[0m \u001b[0m__reduce__\u001b[0m\u001b[0;34m(\u001b[0m\u001b[0mself\u001b[0m\u001b[0;34m)\u001b[0m\u001b[0;34m:\u001b[0m\u001b[0;34m\u001b[0m\u001b[0;34m\u001b[0m\u001b[0m\n",
      "\u001b[0;32m~/.local/lib/python3.6/site-packages/sklearn/utils/fixes.py\u001b[0m in \u001b[0;36m__call__\u001b[0;34m(self, *args, **kwargs)\u001b[0m\n\u001b[1;32m    220\u001b[0m     \u001b[0;32mdef\u001b[0m \u001b[0m__call__\u001b[0m\u001b[0;34m(\u001b[0m\u001b[0mself\u001b[0m\u001b[0;34m,\u001b[0m \u001b[0;34m*\u001b[0m\u001b[0margs\u001b[0m\u001b[0;34m,\u001b[0m \u001b[0;34m**\u001b[0m\u001b[0mkwargs\u001b[0m\u001b[0;34m)\u001b[0m\u001b[0;34m:\u001b[0m\u001b[0;34m\u001b[0m\u001b[0;34m\u001b[0m\u001b[0m\n\u001b[1;32m    221\u001b[0m         \u001b[0;32mwith\u001b[0m \u001b[0mconfig_context\u001b[0m\u001b[0;34m(\u001b[0m\u001b[0;34m**\u001b[0m\u001b[0mself\u001b[0m\u001b[0;34m.\u001b[0m\u001b[0mconfig\u001b[0m\u001b[0;34m)\u001b[0m\u001b[0;34m:\u001b[0m\u001b[0;34m\u001b[0m\u001b[0;34m\u001b[0m\u001b[0m\n\u001b[0;32m--> 222\u001b[0;31m             \u001b[0;32mreturn\u001b[0m \u001b[0mself\u001b[0m\u001b[0;34m.\u001b[0m\u001b[0mfunction\u001b[0m\u001b[0;34m(\u001b[0m\u001b[0;34m*\u001b[0m\u001b[0margs\u001b[0m\u001b[0;34m,\u001b[0m \u001b[0;34m**\u001b[0m\u001b[0mkwargs\u001b[0m\u001b[0;34m)\u001b[0m\u001b[0;34m\u001b[0m\u001b[0;34m\u001b[0m\u001b[0m\n\u001b[0m",
      "\u001b[0;32m~/.local/lib/python3.6/site-packages/sklearn/multioutput.py\u001b[0m in \u001b[0;36m_fit_estimator\u001b[0;34m(estimator, X, y, sample_weight, **fit_params)\u001b[0m\n\u001b[1;32m     39\u001b[0m         \u001b[0mestimator\u001b[0m\u001b[0;34m.\u001b[0m\u001b[0mfit\u001b[0m\u001b[0;34m(\u001b[0m\u001b[0mX\u001b[0m\u001b[0;34m,\u001b[0m \u001b[0my\u001b[0m\u001b[0;34m,\u001b[0m \u001b[0msample_weight\u001b[0m\u001b[0;34m=\u001b[0m\u001b[0msample_weight\u001b[0m\u001b[0;34m,\u001b[0m \u001b[0;34m**\u001b[0m\u001b[0mfit_params\u001b[0m\u001b[0;34m)\u001b[0m\u001b[0;34m\u001b[0m\u001b[0;34m\u001b[0m\u001b[0m\n\u001b[1;32m     40\u001b[0m     \u001b[0;32melse\u001b[0m\u001b[0;34m:\u001b[0m\u001b[0;34m\u001b[0m\u001b[0;34m\u001b[0m\u001b[0m\n\u001b[0;32m---> 41\u001b[0;31m         \u001b[0mestimator\u001b[0m\u001b[0;34m.\u001b[0m\u001b[0mfit\u001b[0m\u001b[0;34m(\u001b[0m\u001b[0mX\u001b[0m\u001b[0;34m,\u001b[0m \u001b[0my\u001b[0m\u001b[0;34m,\u001b[0m \u001b[0;34m**\u001b[0m\u001b[0mfit_params\u001b[0m\u001b[0;34m)\u001b[0m\u001b[0;34m\u001b[0m\u001b[0;34m\u001b[0m\u001b[0m\n\u001b[0m\u001b[1;32m     42\u001b[0m     \u001b[0;32mreturn\u001b[0m \u001b[0mestimator\u001b[0m\u001b[0;34m\u001b[0m\u001b[0;34m\u001b[0m\u001b[0m\n\u001b[1;32m     43\u001b[0m \u001b[0;34m\u001b[0m\u001b[0m\n",
      "\u001b[0;32m~/.local/lib/python3.6/site-packages/xgboost/core.py\u001b[0m in \u001b[0;36minner_f\u001b[0;34m(*args, **kwargs)\u001b[0m\n\u001b[1;32m    504\u001b[0m         \u001b[0;32mfor\u001b[0m \u001b[0mk\u001b[0m\u001b[0;34m,\u001b[0m \u001b[0marg\u001b[0m \u001b[0;32min\u001b[0m \u001b[0mzip\u001b[0m\u001b[0;34m(\u001b[0m\u001b[0msig\u001b[0m\u001b[0;34m.\u001b[0m\u001b[0mparameters\u001b[0m\u001b[0;34m,\u001b[0m \u001b[0margs\u001b[0m\u001b[0;34m)\u001b[0m\u001b[0;34m:\u001b[0m\u001b[0;34m\u001b[0m\u001b[0;34m\u001b[0m\u001b[0m\n\u001b[1;32m    505\u001b[0m             \u001b[0mkwargs\u001b[0m\u001b[0;34m[\u001b[0m\u001b[0mk\u001b[0m\u001b[0;34m]\u001b[0m \u001b[0;34m=\u001b[0m \u001b[0marg\u001b[0m\u001b[0;34m\u001b[0m\u001b[0;34m\u001b[0m\u001b[0m\n\u001b[0;32m--> 506\u001b[0;31m         \u001b[0;32mreturn\u001b[0m \u001b[0mf\u001b[0m\u001b[0;34m(\u001b[0m\u001b[0;34m**\u001b[0m\u001b[0mkwargs\u001b[0m\u001b[0;34m)\u001b[0m\u001b[0;34m\u001b[0m\u001b[0;34m\u001b[0m\u001b[0m\n\u001b[0m\u001b[1;32m    507\u001b[0m \u001b[0;34m\u001b[0m\u001b[0m\n\u001b[1;32m    508\u001b[0m     \u001b[0;32mreturn\u001b[0m \u001b[0minner_f\u001b[0m\u001b[0;34m\u001b[0m\u001b[0;34m\u001b[0m\u001b[0m\n",
      "\u001b[0;32m~/.local/lib/python3.6/site-packages/xgboost/sklearn.py\u001b[0m in \u001b[0;36mfit\u001b[0;34m(self, X, y, sample_weight, base_margin, eval_set, eval_metric, early_stopping_rounds, verbose, xgb_model, sample_weight_eval_set, base_margin_eval_set, feature_weights, callbacks)\u001b[0m\n\u001b[1;32m    798\u001b[0m             \u001b[0mverbose_eval\u001b[0m\u001b[0;34m=\u001b[0m\u001b[0mverbose\u001b[0m\u001b[0;34m,\u001b[0m\u001b[0;34m\u001b[0m\u001b[0;34m\u001b[0m\u001b[0m\n\u001b[1;32m    799\u001b[0m             \u001b[0mxgb_model\u001b[0m\u001b[0;34m=\u001b[0m\u001b[0mmodel\u001b[0m\u001b[0;34m,\u001b[0m\u001b[0;34m\u001b[0m\u001b[0;34m\u001b[0m\u001b[0m\n\u001b[0;32m--> 800\u001b[0;31m             \u001b[0mcallbacks\u001b[0m\u001b[0;34m=\u001b[0m\u001b[0mcallbacks\u001b[0m\u001b[0;34m,\u001b[0m\u001b[0;34m\u001b[0m\u001b[0;34m\u001b[0m\u001b[0m\n\u001b[0m\u001b[1;32m    801\u001b[0m         )\n\u001b[1;32m    802\u001b[0m \u001b[0;34m\u001b[0m\u001b[0m\n",
      "\u001b[0;32m~/.local/lib/python3.6/site-packages/xgboost/training.py\u001b[0m in \u001b[0;36mtrain\u001b[0;34m(params, dtrain, num_boost_round, evals, obj, feval, maximize, early_stopping_rounds, evals_result, verbose_eval, xgb_model, callbacks)\u001b[0m\n\u001b[1;32m    194\u001b[0m                           \u001b[0mevals_result\u001b[0m\u001b[0;34m=\u001b[0m\u001b[0mevals_result\u001b[0m\u001b[0;34m,\u001b[0m\u001b[0;34m\u001b[0m\u001b[0;34m\u001b[0m\u001b[0m\n\u001b[1;32m    195\u001b[0m                           \u001b[0mmaximize\u001b[0m\u001b[0;34m=\u001b[0m\u001b[0mmaximize\u001b[0m\u001b[0;34m,\u001b[0m\u001b[0;34m\u001b[0m\u001b[0;34m\u001b[0m\u001b[0m\n\u001b[0;32m--> 196\u001b[0;31m                           early_stopping_rounds=early_stopping_rounds)\n\u001b[0m\u001b[1;32m    197\u001b[0m     \u001b[0;32mreturn\u001b[0m \u001b[0mbst\u001b[0m\u001b[0;34m\u001b[0m\u001b[0;34m\u001b[0m\u001b[0m\n\u001b[1;32m    198\u001b[0m \u001b[0;34m\u001b[0m\u001b[0m\n",
      "\u001b[0;32m~/.local/lib/python3.6/site-packages/xgboost/training.py\u001b[0m in \u001b[0;36m_train_internal\u001b[0;34m(params, dtrain, num_boost_round, evals, obj, feval, xgb_model, callbacks, evals_result, maximize, verbose_eval, early_stopping_rounds)\u001b[0m\n\u001b[1;32m     79\u001b[0m         \u001b[0;32mif\u001b[0m \u001b[0mcallbacks\u001b[0m\u001b[0;34m.\u001b[0m\u001b[0mbefore_iteration\u001b[0m\u001b[0;34m(\u001b[0m\u001b[0mbst\u001b[0m\u001b[0;34m,\u001b[0m \u001b[0mi\u001b[0m\u001b[0;34m,\u001b[0m \u001b[0mdtrain\u001b[0m\u001b[0;34m,\u001b[0m \u001b[0mevals\u001b[0m\u001b[0;34m)\u001b[0m\u001b[0;34m:\u001b[0m\u001b[0;34m\u001b[0m\u001b[0;34m\u001b[0m\u001b[0m\n\u001b[1;32m     80\u001b[0m             \u001b[0;32mbreak\u001b[0m\u001b[0;34m\u001b[0m\u001b[0;34m\u001b[0m\u001b[0m\n\u001b[0;32m---> 81\u001b[0;31m         \u001b[0mbst\u001b[0m\u001b[0;34m.\u001b[0m\u001b[0mupdate\u001b[0m\u001b[0;34m(\u001b[0m\u001b[0mdtrain\u001b[0m\u001b[0;34m,\u001b[0m \u001b[0mi\u001b[0m\u001b[0;34m,\u001b[0m \u001b[0mobj\u001b[0m\u001b[0;34m)\u001b[0m\u001b[0;34m\u001b[0m\u001b[0;34m\u001b[0m\u001b[0m\n\u001b[0m\u001b[1;32m     82\u001b[0m         \u001b[0;32mif\u001b[0m \u001b[0mcallbacks\u001b[0m\u001b[0;34m.\u001b[0m\u001b[0mafter_iteration\u001b[0m\u001b[0;34m(\u001b[0m\u001b[0mbst\u001b[0m\u001b[0;34m,\u001b[0m \u001b[0mi\u001b[0m\u001b[0;34m,\u001b[0m \u001b[0mdtrain\u001b[0m\u001b[0;34m,\u001b[0m \u001b[0mevals\u001b[0m\u001b[0;34m)\u001b[0m\u001b[0;34m:\u001b[0m\u001b[0;34m\u001b[0m\u001b[0;34m\u001b[0m\u001b[0m\n\u001b[1;32m     83\u001b[0m             \u001b[0;32mbreak\u001b[0m\u001b[0;34m\u001b[0m\u001b[0;34m\u001b[0m\u001b[0m\n",
      "\u001b[0;32m~/.local/lib/python3.6/site-packages/xgboost/core.py\u001b[0m in \u001b[0;36mupdate\u001b[0;34m(self, dtrain, iteration, fobj)\u001b[0m\n\u001b[1;32m   1680\u001b[0m             _check_call(_LIB.XGBoosterUpdateOneIter(self.handle,\n\u001b[1;32m   1681\u001b[0m                                                     \u001b[0mctypes\u001b[0m\u001b[0;34m.\u001b[0m\u001b[0mc_int\u001b[0m\u001b[0;34m(\u001b[0m\u001b[0miteration\u001b[0m\u001b[0;34m)\u001b[0m\u001b[0;34m,\u001b[0m\u001b[0;34m\u001b[0m\u001b[0;34m\u001b[0m\u001b[0m\n\u001b[0;32m-> 1682\u001b[0;31m                                                     dtrain.handle))\n\u001b[0m\u001b[1;32m   1683\u001b[0m         \u001b[0;32melse\u001b[0m\u001b[0;34m:\u001b[0m\u001b[0;34m\u001b[0m\u001b[0;34m\u001b[0m\u001b[0m\n\u001b[1;32m   1684\u001b[0m             \u001b[0mpred\u001b[0m \u001b[0;34m=\u001b[0m \u001b[0mself\u001b[0m\u001b[0;34m.\u001b[0m\u001b[0mpredict\u001b[0m\u001b[0;34m(\u001b[0m\u001b[0mdtrain\u001b[0m\u001b[0;34m,\u001b[0m \u001b[0moutput_margin\u001b[0m\u001b[0;34m=\u001b[0m\u001b[0;32mTrue\u001b[0m\u001b[0;34m,\u001b[0m \u001b[0mtraining\u001b[0m\u001b[0;34m=\u001b[0m\u001b[0;32mTrue\u001b[0m\u001b[0;34m)\u001b[0m\u001b[0;34m\u001b[0m\u001b[0;34m\u001b[0m\u001b[0m\n",
      "\u001b[0;31mKeyboardInterrupt\u001b[0m: "
     ]
    }
   ],
   "source": [
    "multioutputregressor = MultiOutputRegressor(xgb.XGBRegressor(objective='reg:squarederror', \n",
    "                                                             verbosity=2,\n",
    "                                                            )).fit(X_train, Y_train)\n"
   ]
  },
  {
   "cell_type": "code",
   "execution_count": null,
   "metadata": {},
   "outputs": [],
   "source": [
    "# squared error\n",
    "print(np.mean((multioutputregressor.predict(X_test) - Y_test)**2, axis=0))"
   ]
  },
  {
   "cell_type": "code",
   "execution_count": null,
   "metadata": {},
   "outputs": [],
   "source": []
  },
  {
   "cell_type": "code",
   "execution_count": null,
   "metadata": {},
   "outputs": [],
   "source": []
  },
  {
   "cell_type": "code",
   "execution_count": null,
   "metadata": {},
   "outputs": [],
   "source": [
    "!pip3 install xgboost>1.6.0"
   ]
  },
  {
   "cell_type": "code",
   "execution_count": 48,
   "metadata": {},
   "outputs": [
    {
     "ename": "ValueError",
     "evalue": "Invalid shape: (71552, 7) for label",
     "output_type": "error",
     "traceback": [
      "\u001b[0;31m---------------------------------------------------------------------------\u001b[0m",
      "\u001b[0;31mValueError\u001b[0m                                Traceback (most recent call last)",
      "\u001b[0;32m<ipython-input-48-3dc6eb5af987>\u001b[0m in \u001b[0;36m<module>\u001b[0;34m\u001b[0m\n\u001b[0;32m----> 1\u001b[0;31m \u001b[0mreg\u001b[0m\u001b[0;34m.\u001b[0m\u001b[0mfit\u001b[0m\u001b[0;34m(\u001b[0m\u001b[0mX_train\u001b[0m\u001b[0;34m,\u001b[0m \u001b[0mY_train\u001b[0m\u001b[0;34m,\u001b[0m \u001b[0meval_set\u001b[0m\u001b[0;34m=\u001b[0m\u001b[0;34m[\u001b[0m\u001b[0;34m(\u001b[0m\u001b[0mX_test\u001b[0m\u001b[0;34m,\u001b[0m \u001b[0mY_test\u001b[0m\u001b[0;34m)\u001b[0m\u001b[0;34m]\u001b[0m\u001b[0;34m)\u001b[0m\u001b[0;34m\u001b[0m\u001b[0;34m\u001b[0m\u001b[0m\n\u001b[0m",
      "\u001b[0;32m~/.local/lib/python3.6/site-packages/xgboost/core.py\u001b[0m in \u001b[0;36minner_f\u001b[0;34m(*args, **kwargs)\u001b[0m\n\u001b[1;32m    504\u001b[0m         \u001b[0;32mfor\u001b[0m \u001b[0mk\u001b[0m\u001b[0;34m,\u001b[0m \u001b[0marg\u001b[0m \u001b[0;32min\u001b[0m \u001b[0mzip\u001b[0m\u001b[0;34m(\u001b[0m\u001b[0msig\u001b[0m\u001b[0;34m.\u001b[0m\u001b[0mparameters\u001b[0m\u001b[0;34m,\u001b[0m \u001b[0margs\u001b[0m\u001b[0;34m)\u001b[0m\u001b[0;34m:\u001b[0m\u001b[0;34m\u001b[0m\u001b[0;34m\u001b[0m\u001b[0m\n\u001b[1;32m    505\u001b[0m             \u001b[0mkwargs\u001b[0m\u001b[0;34m[\u001b[0m\u001b[0mk\u001b[0m\u001b[0;34m]\u001b[0m \u001b[0;34m=\u001b[0m \u001b[0marg\u001b[0m\u001b[0;34m\u001b[0m\u001b[0;34m\u001b[0m\u001b[0m\n\u001b[0;32m--> 506\u001b[0;31m         \u001b[0;32mreturn\u001b[0m \u001b[0mf\u001b[0m\u001b[0;34m(\u001b[0m\u001b[0;34m**\u001b[0m\u001b[0mkwargs\u001b[0m\u001b[0;34m)\u001b[0m\u001b[0;34m\u001b[0m\u001b[0;34m\u001b[0m\u001b[0m\n\u001b[0m\u001b[1;32m    507\u001b[0m \u001b[0;34m\u001b[0m\u001b[0m\n\u001b[1;32m    508\u001b[0m     \u001b[0;32mreturn\u001b[0m \u001b[0minner_f\u001b[0m\u001b[0;34m\u001b[0m\u001b[0;34m\u001b[0m\u001b[0m\n",
      "\u001b[0;32m~/.local/lib/python3.6/site-packages/xgboost/sklearn.py\u001b[0m in \u001b[0;36mfit\u001b[0;34m(self, X, y, sample_weight, base_margin, eval_set, eval_metric, early_stopping_rounds, verbose, xgb_model, sample_weight_eval_set, base_margin_eval_set, feature_weights, callbacks)\u001b[0m\n\u001b[1;32m    774\u001b[0m             \u001b[0meval_qid\u001b[0m\u001b[0;34m=\u001b[0m\u001b[0;32mNone\u001b[0m\u001b[0;34m,\u001b[0m\u001b[0;34m\u001b[0m\u001b[0;34m\u001b[0m\u001b[0m\n\u001b[1;32m    775\u001b[0m             \u001b[0mcreate_dmatrix\u001b[0m\u001b[0;34m=\u001b[0m\u001b[0;32mlambda\u001b[0m \u001b[0;34m**\u001b[0m\u001b[0mkwargs\u001b[0m\u001b[0;34m:\u001b[0m \u001b[0mDMatrix\u001b[0m\u001b[0;34m(\u001b[0m\u001b[0mnthread\u001b[0m\u001b[0;34m=\u001b[0m\u001b[0mself\u001b[0m\u001b[0;34m.\u001b[0m\u001b[0mn_jobs\u001b[0m\u001b[0;34m,\u001b[0m \u001b[0;34m**\u001b[0m\u001b[0mkwargs\u001b[0m\u001b[0;34m)\u001b[0m\u001b[0;34m,\u001b[0m\u001b[0;34m\u001b[0m\u001b[0;34m\u001b[0m\u001b[0m\n\u001b[0;32m--> 776\u001b[0;31m             \u001b[0menable_categorical\u001b[0m\u001b[0;34m=\u001b[0m\u001b[0mself\u001b[0m\u001b[0;34m.\u001b[0m\u001b[0menable_categorical\u001b[0m\u001b[0;34m,\u001b[0m\u001b[0;34m\u001b[0m\u001b[0;34m\u001b[0m\u001b[0m\n\u001b[0m\u001b[1;32m    777\u001b[0m         )\n\u001b[1;32m    778\u001b[0m         \u001b[0mparams\u001b[0m \u001b[0;34m=\u001b[0m \u001b[0mself\u001b[0m\u001b[0;34m.\u001b[0m\u001b[0mget_xgb_params\u001b[0m\u001b[0;34m(\u001b[0m\u001b[0;34m)\u001b[0m\u001b[0;34m\u001b[0m\u001b[0;34m\u001b[0m\u001b[0m\n",
      "\u001b[0;32m~/.local/lib/python3.6/site-packages/xgboost/sklearn.py\u001b[0m in \u001b[0;36m_wrap_evaluation_matrices\u001b[0;34m(missing, X, y, group, qid, sample_weight, base_margin, feature_weights, eval_set, sample_weight_eval_set, base_margin_eval_set, eval_group, eval_qid, create_dmatrix, enable_categorical, label_transform)\u001b[0m\n\u001b[1;32m    293\u001b[0m         \u001b[0mfeature_weights\u001b[0m\u001b[0;34m=\u001b[0m\u001b[0mfeature_weights\u001b[0m\u001b[0;34m,\u001b[0m\u001b[0;34m\u001b[0m\u001b[0;34m\u001b[0m\u001b[0m\n\u001b[1;32m    294\u001b[0m         \u001b[0mmissing\u001b[0m\u001b[0;34m=\u001b[0m\u001b[0mmissing\u001b[0m\u001b[0;34m,\u001b[0m\u001b[0;34m\u001b[0m\u001b[0;34m\u001b[0m\u001b[0m\n\u001b[0;32m--> 295\u001b[0;31m         \u001b[0menable_categorical\u001b[0m\u001b[0;34m=\u001b[0m\u001b[0menable_categorical\u001b[0m\u001b[0;34m,\u001b[0m\u001b[0;34m\u001b[0m\u001b[0;34m\u001b[0m\u001b[0m\n\u001b[0m\u001b[1;32m    296\u001b[0m     )\n\u001b[1;32m    297\u001b[0m \u001b[0;34m\u001b[0m\u001b[0m\n",
      "\u001b[0;32m~/.local/lib/python3.6/site-packages/xgboost/sklearn.py\u001b[0m in \u001b[0;36m<lambda>\u001b[0;34m(**kwargs)\u001b[0m\n\u001b[1;32m    773\u001b[0m             \u001b[0meval_group\u001b[0m\u001b[0;34m=\u001b[0m\u001b[0;32mNone\u001b[0m\u001b[0;34m,\u001b[0m\u001b[0;34m\u001b[0m\u001b[0;34m\u001b[0m\u001b[0m\n\u001b[1;32m    774\u001b[0m             \u001b[0meval_qid\u001b[0m\u001b[0;34m=\u001b[0m\u001b[0;32mNone\u001b[0m\u001b[0;34m,\u001b[0m\u001b[0;34m\u001b[0m\u001b[0;34m\u001b[0m\u001b[0m\n\u001b[0;32m--> 775\u001b[0;31m             \u001b[0mcreate_dmatrix\u001b[0m\u001b[0;34m=\u001b[0m\u001b[0;32mlambda\u001b[0m \u001b[0;34m**\u001b[0m\u001b[0mkwargs\u001b[0m\u001b[0;34m:\u001b[0m \u001b[0mDMatrix\u001b[0m\u001b[0;34m(\u001b[0m\u001b[0mnthread\u001b[0m\u001b[0;34m=\u001b[0m\u001b[0mself\u001b[0m\u001b[0;34m.\u001b[0m\u001b[0mn_jobs\u001b[0m\u001b[0;34m,\u001b[0m \u001b[0;34m**\u001b[0m\u001b[0mkwargs\u001b[0m\u001b[0;34m)\u001b[0m\u001b[0;34m,\u001b[0m\u001b[0;34m\u001b[0m\u001b[0;34m\u001b[0m\u001b[0m\n\u001b[0m\u001b[1;32m    776\u001b[0m             \u001b[0menable_categorical\u001b[0m\u001b[0;34m=\u001b[0m\u001b[0mself\u001b[0m\u001b[0;34m.\u001b[0m\u001b[0menable_categorical\u001b[0m\u001b[0;34m,\u001b[0m\u001b[0;34m\u001b[0m\u001b[0;34m\u001b[0m\u001b[0m\n\u001b[1;32m    777\u001b[0m         )\n",
      "\u001b[0;32m~/.local/lib/python3.6/site-packages/xgboost/core.py\u001b[0m in \u001b[0;36minner_f\u001b[0;34m(*args, **kwargs)\u001b[0m\n\u001b[1;32m    504\u001b[0m         \u001b[0;32mfor\u001b[0m \u001b[0mk\u001b[0m\u001b[0;34m,\u001b[0m \u001b[0marg\u001b[0m \u001b[0;32min\u001b[0m \u001b[0mzip\u001b[0m\u001b[0;34m(\u001b[0m\u001b[0msig\u001b[0m\u001b[0;34m.\u001b[0m\u001b[0mparameters\u001b[0m\u001b[0;34m,\u001b[0m \u001b[0margs\u001b[0m\u001b[0;34m)\u001b[0m\u001b[0;34m:\u001b[0m\u001b[0;34m\u001b[0m\u001b[0;34m\u001b[0m\u001b[0m\n\u001b[1;32m    505\u001b[0m             \u001b[0mkwargs\u001b[0m\u001b[0;34m[\u001b[0m\u001b[0mk\u001b[0m\u001b[0;34m]\u001b[0m \u001b[0;34m=\u001b[0m \u001b[0marg\u001b[0m\u001b[0;34m\u001b[0m\u001b[0;34m\u001b[0m\u001b[0m\n\u001b[0;32m--> 506\u001b[0;31m         \u001b[0;32mreturn\u001b[0m \u001b[0mf\u001b[0m\u001b[0;34m(\u001b[0m\u001b[0;34m**\u001b[0m\u001b[0mkwargs\u001b[0m\u001b[0;34m)\u001b[0m\u001b[0;34m\u001b[0m\u001b[0;34m\u001b[0m\u001b[0m\n\u001b[0m\u001b[1;32m    507\u001b[0m \u001b[0;34m\u001b[0m\u001b[0m\n\u001b[1;32m    508\u001b[0m     \u001b[0;32mreturn\u001b[0m \u001b[0minner_f\u001b[0m\u001b[0;34m\u001b[0m\u001b[0;34m\u001b[0m\u001b[0m\n",
      "\u001b[0;32m~/.local/lib/python3.6/site-packages/xgboost/core.py\u001b[0m in \u001b[0;36m__init__\u001b[0;34m(self, data, label, weight, base_margin, missing, silent, feature_names, feature_types, nthread, group, qid, label_lower_bound, label_upper_bound, feature_weights, enable_categorical)\u001b[0m\n\u001b[1;32m    633\u001b[0m             \u001b[0mlabel_lower_bound\u001b[0m\u001b[0;34m=\u001b[0m\u001b[0mlabel_lower_bound\u001b[0m\u001b[0;34m,\u001b[0m\u001b[0;34m\u001b[0m\u001b[0;34m\u001b[0m\u001b[0m\n\u001b[1;32m    634\u001b[0m             \u001b[0mlabel_upper_bound\u001b[0m\u001b[0;34m=\u001b[0m\u001b[0mlabel_upper_bound\u001b[0m\u001b[0;34m,\u001b[0m\u001b[0;34m\u001b[0m\u001b[0;34m\u001b[0m\u001b[0m\n\u001b[0;32m--> 635\u001b[0;31m             \u001b[0mfeature_weights\u001b[0m\u001b[0;34m=\u001b[0m\u001b[0mfeature_weights\u001b[0m\u001b[0;34m,\u001b[0m\u001b[0;34m\u001b[0m\u001b[0;34m\u001b[0m\u001b[0m\n\u001b[0m\u001b[1;32m    636\u001b[0m         )\n\u001b[1;32m    637\u001b[0m \u001b[0;34m\u001b[0m\u001b[0m\n",
      "\u001b[0;32m~/.local/lib/python3.6/site-packages/xgboost/core.py\u001b[0m in \u001b[0;36minner_f\u001b[0;34m(*args, **kwargs)\u001b[0m\n\u001b[1;32m    504\u001b[0m         \u001b[0;32mfor\u001b[0m \u001b[0mk\u001b[0m\u001b[0;34m,\u001b[0m \u001b[0marg\u001b[0m \u001b[0;32min\u001b[0m \u001b[0mzip\u001b[0m\u001b[0;34m(\u001b[0m\u001b[0msig\u001b[0m\u001b[0;34m.\u001b[0m\u001b[0mparameters\u001b[0m\u001b[0;34m,\u001b[0m \u001b[0margs\u001b[0m\u001b[0;34m)\u001b[0m\u001b[0;34m:\u001b[0m\u001b[0;34m\u001b[0m\u001b[0;34m\u001b[0m\u001b[0m\n\u001b[1;32m    505\u001b[0m             \u001b[0mkwargs\u001b[0m\u001b[0;34m[\u001b[0m\u001b[0mk\u001b[0m\u001b[0;34m]\u001b[0m \u001b[0;34m=\u001b[0m \u001b[0marg\u001b[0m\u001b[0;34m\u001b[0m\u001b[0;34m\u001b[0m\u001b[0m\n\u001b[0;32m--> 506\u001b[0;31m         \u001b[0;32mreturn\u001b[0m \u001b[0mf\u001b[0m\u001b[0;34m(\u001b[0m\u001b[0;34m**\u001b[0m\u001b[0mkwargs\u001b[0m\u001b[0;34m)\u001b[0m\u001b[0;34m\u001b[0m\u001b[0;34m\u001b[0m\u001b[0m\n\u001b[0m\u001b[1;32m    507\u001b[0m \u001b[0;34m\u001b[0m\u001b[0m\n\u001b[1;32m    508\u001b[0m     \u001b[0;32mreturn\u001b[0m \u001b[0minner_f\u001b[0m\u001b[0;34m\u001b[0m\u001b[0;34m\u001b[0m\u001b[0m\n",
      "\u001b[0;32m~/.local/lib/python3.6/site-packages/xgboost/core.py\u001b[0m in \u001b[0;36mset_info\u001b[0;34m(self, label, weight, base_margin, group, qid, label_lower_bound, label_upper_bound, feature_names, feature_types, feature_weights)\u001b[0m\n\u001b[1;32m    692\u001b[0m \u001b[0;34m\u001b[0m\u001b[0m\n\u001b[1;32m    693\u001b[0m         \u001b[0;32mif\u001b[0m \u001b[0mlabel\u001b[0m \u001b[0;32mis\u001b[0m \u001b[0;32mnot\u001b[0m \u001b[0;32mNone\u001b[0m\u001b[0;34m:\u001b[0m\u001b[0;34m\u001b[0m\u001b[0;34m\u001b[0m\u001b[0m\n\u001b[0;32m--> 694\u001b[0;31m             \u001b[0mself\u001b[0m\u001b[0;34m.\u001b[0m\u001b[0mset_label\u001b[0m\u001b[0;34m(\u001b[0m\u001b[0mlabel\u001b[0m\u001b[0;34m)\u001b[0m\u001b[0;34m\u001b[0m\u001b[0;34m\u001b[0m\u001b[0m\n\u001b[0m\u001b[1;32m    695\u001b[0m         \u001b[0;32mif\u001b[0m \u001b[0mweight\u001b[0m \u001b[0;32mis\u001b[0m \u001b[0;32mnot\u001b[0m \u001b[0;32mNone\u001b[0m\u001b[0;34m:\u001b[0m\u001b[0;34m\u001b[0m\u001b[0;34m\u001b[0m\u001b[0m\n\u001b[1;32m    696\u001b[0m             \u001b[0mself\u001b[0m\u001b[0;34m.\u001b[0m\u001b[0mset_weight\u001b[0m\u001b[0;34m(\u001b[0m\u001b[0mweight\u001b[0m\u001b[0;34m)\u001b[0m\u001b[0;34m\u001b[0m\u001b[0;34m\u001b[0m\u001b[0m\n",
      "\u001b[0;32m~/.local/lib/python3.6/site-packages/xgboost/core.py\u001b[0m in \u001b[0;36mset_label\u001b[0;34m(self, label)\u001b[0m\n\u001b[1;32m    823\u001b[0m         \"\"\"\n\u001b[1;32m    824\u001b[0m         \u001b[0;32mfrom\u001b[0m \u001b[0;34m.\u001b[0m\u001b[0mdata\u001b[0m \u001b[0;32mimport\u001b[0m \u001b[0mdispatch_meta_backend\u001b[0m\u001b[0;34m\u001b[0m\u001b[0;34m\u001b[0m\u001b[0m\n\u001b[0;32m--> 825\u001b[0;31m         \u001b[0mdispatch_meta_backend\u001b[0m\u001b[0;34m(\u001b[0m\u001b[0mself\u001b[0m\u001b[0;34m,\u001b[0m \u001b[0mlabel\u001b[0m\u001b[0;34m,\u001b[0m \u001b[0;34m'label'\u001b[0m\u001b[0;34m,\u001b[0m \u001b[0;34m'float'\u001b[0m\u001b[0;34m)\u001b[0m\u001b[0;34m\u001b[0m\u001b[0;34m\u001b[0m\u001b[0m\n\u001b[0m\u001b[1;32m    826\u001b[0m \u001b[0;34m\u001b[0m\u001b[0m\n\u001b[1;32m    827\u001b[0m     \u001b[0;32mdef\u001b[0m \u001b[0mset_weight\u001b[0m\u001b[0;34m(\u001b[0m\u001b[0mself\u001b[0m\u001b[0;34m,\u001b[0m \u001b[0mweight\u001b[0m\u001b[0;34m)\u001b[0m\u001b[0;34m:\u001b[0m\u001b[0;34m\u001b[0m\u001b[0;34m\u001b[0m\u001b[0m\n",
      "\u001b[0;32m~/.local/lib/python3.6/site-packages/xgboost/data.py\u001b[0m in \u001b[0;36mdispatch_meta_backend\u001b[0;34m(matrix, data, name, dtype)\u001b[0m\n\u001b[1;32m    895\u001b[0m     \u001b[0;34m'''Dispatch for meta info.'''\u001b[0m\u001b[0;34m\u001b[0m\u001b[0;34m\u001b[0m\u001b[0m\n\u001b[1;32m    896\u001b[0m     \u001b[0mhandle\u001b[0m \u001b[0;34m=\u001b[0m \u001b[0mmatrix\u001b[0m\u001b[0;34m.\u001b[0m\u001b[0mhandle\u001b[0m\u001b[0;34m\u001b[0m\u001b[0;34m\u001b[0m\u001b[0m\n\u001b[0;32m--> 897\u001b[0;31m     \u001b[0m_validate_meta_shape\u001b[0m\u001b[0;34m(\u001b[0m\u001b[0mdata\u001b[0m\u001b[0;34m,\u001b[0m \u001b[0mname\u001b[0m\u001b[0;34m)\u001b[0m\u001b[0;34m\u001b[0m\u001b[0;34m\u001b[0m\u001b[0m\n\u001b[0m\u001b[1;32m    898\u001b[0m     \u001b[0;32mif\u001b[0m \u001b[0mdata\u001b[0m \u001b[0;32mis\u001b[0m \u001b[0;32mNone\u001b[0m\u001b[0;34m:\u001b[0m\u001b[0;34m\u001b[0m\u001b[0;34m\u001b[0m\u001b[0m\n\u001b[1;32m    899\u001b[0m         \u001b[0;32mreturn\u001b[0m\u001b[0;34m\u001b[0m\u001b[0;34m\u001b[0m\u001b[0m\n",
      "\u001b[0;32m~/.local/lib/python3.6/site-packages/xgboost/data.py\u001b[0m in \u001b[0;36m_validate_meta_shape\u001b[0;34m(data, name)\u001b[0m\n\u001b[1;32m    827\u001b[0m             \u001b[0mlen\u001b[0m\u001b[0;34m(\u001b[0m\u001b[0mdata\u001b[0m\u001b[0;34m.\u001b[0m\u001b[0mshape\u001b[0m\u001b[0;34m)\u001b[0m \u001b[0;34m==\u001b[0m \u001b[0;36m2\u001b[0m \u001b[0;32mand\u001b[0m \u001b[0;34m(\u001b[0m\u001b[0mdata\u001b[0m\u001b[0;34m.\u001b[0m\u001b[0mshape\u001b[0m\u001b[0;34m[\u001b[0m\u001b[0;36m1\u001b[0m\u001b[0;34m]\u001b[0m \u001b[0;34m!=\u001b[0m \u001b[0;36m0\u001b[0m \u001b[0;32mand\u001b[0m \u001b[0mdata\u001b[0m\u001b[0;34m.\u001b[0m\u001b[0mshape\u001b[0m\u001b[0;34m[\u001b[0m\u001b[0;36m1\u001b[0m\u001b[0;34m]\u001b[0m \u001b[0;34m!=\u001b[0m \u001b[0;36m1\u001b[0m\u001b[0;34m)\u001b[0m\u001b[0;34m\u001b[0m\u001b[0;34m\u001b[0m\u001b[0m\n\u001b[1;32m    828\u001b[0m         ):\n\u001b[0;32m--> 829\u001b[0;31m             \u001b[0;32mraise\u001b[0m \u001b[0mValueError\u001b[0m\u001b[0;34m(\u001b[0m\u001b[0;34mf\"Invalid shape: {data.shape} for {name}\"\u001b[0m\u001b[0;34m)\u001b[0m\u001b[0;34m\u001b[0m\u001b[0;34m\u001b[0m\u001b[0m\n\u001b[0m\u001b[1;32m    830\u001b[0m \u001b[0;34m\u001b[0m\u001b[0m\n\u001b[1;32m    831\u001b[0m \u001b[0;34m\u001b[0m\u001b[0m\n",
      "\u001b[0;31mValueError\u001b[0m: Invalid shape: (71552, 7) for label"
     ]
    }
   ],
   "source": [
    "reg.fit(X_train, Y_train, eval_set=[(X_test, Y_test)])"
   ]
  },
  {
   "cell_type": "code",
   "execution_count": null,
   "metadata": {},
   "outputs": [],
   "source": []
  },
  {
   "cell_type": "code",
   "execution_count": 40,
   "metadata": {},
   "outputs": [
    {
     "ename": "ValueError",
     "evalue": "Invalid shape: (71552, 7) for label",
     "output_type": "error",
     "traceback": [
      "\u001b[0;31m---------------------------------------------------------------------------\u001b[0m",
      "\u001b[0;31mValueError\u001b[0m                                Traceback (most recent call last)",
      "\u001b[0;32m<ipython-input-40-b3928caff921>\u001b[0m in \u001b[0;36m<module>\u001b[0;34m\u001b[0m\n\u001b[0;32m----> 1\u001b[0;31m \u001b[0mD_train\u001b[0m \u001b[0;34m=\u001b[0m \u001b[0mxgb\u001b[0m\u001b[0;34m.\u001b[0m\u001b[0mDMatrix\u001b[0m\u001b[0;34m(\u001b[0m\u001b[0mX_train\u001b[0m\u001b[0;34m,\u001b[0m \u001b[0mlabel\u001b[0m\u001b[0;34m=\u001b[0m\u001b[0mY_train\u001b[0m\u001b[0;34m)\u001b[0m\u001b[0;34m\u001b[0m\u001b[0;34m\u001b[0m\u001b[0m\n\u001b[0m\u001b[1;32m      2\u001b[0m \u001b[0mD_test\u001b[0m \u001b[0;34m=\u001b[0m \u001b[0mxgb\u001b[0m\u001b[0;34m.\u001b[0m\u001b[0mDMatrix\u001b[0m\u001b[0;34m(\u001b[0m\u001b[0mX_test\u001b[0m\u001b[0;34m,\u001b[0m \u001b[0mlabel\u001b[0m\u001b[0;34m=\u001b[0m\u001b[0mY_test\u001b[0m\u001b[0;34m)\u001b[0m\u001b[0;34m\u001b[0m\u001b[0;34m\u001b[0m\u001b[0m\n",
      "\u001b[0;32m~/.local/lib/python3.6/site-packages/xgboost/core.py\u001b[0m in \u001b[0;36minner_f\u001b[0;34m(*args, **kwargs)\u001b[0m\n\u001b[1;32m    504\u001b[0m         \u001b[0;32mfor\u001b[0m \u001b[0mk\u001b[0m\u001b[0;34m,\u001b[0m \u001b[0marg\u001b[0m \u001b[0;32min\u001b[0m \u001b[0mzip\u001b[0m\u001b[0;34m(\u001b[0m\u001b[0msig\u001b[0m\u001b[0;34m.\u001b[0m\u001b[0mparameters\u001b[0m\u001b[0;34m,\u001b[0m \u001b[0margs\u001b[0m\u001b[0;34m)\u001b[0m\u001b[0;34m:\u001b[0m\u001b[0;34m\u001b[0m\u001b[0;34m\u001b[0m\u001b[0m\n\u001b[1;32m    505\u001b[0m             \u001b[0mkwargs\u001b[0m\u001b[0;34m[\u001b[0m\u001b[0mk\u001b[0m\u001b[0;34m]\u001b[0m \u001b[0;34m=\u001b[0m \u001b[0marg\u001b[0m\u001b[0;34m\u001b[0m\u001b[0;34m\u001b[0m\u001b[0m\n\u001b[0;32m--> 506\u001b[0;31m         \u001b[0;32mreturn\u001b[0m \u001b[0mf\u001b[0m\u001b[0;34m(\u001b[0m\u001b[0;34m**\u001b[0m\u001b[0mkwargs\u001b[0m\u001b[0;34m)\u001b[0m\u001b[0;34m\u001b[0m\u001b[0;34m\u001b[0m\u001b[0m\n\u001b[0m\u001b[1;32m    507\u001b[0m \u001b[0;34m\u001b[0m\u001b[0m\n\u001b[1;32m    508\u001b[0m     \u001b[0;32mreturn\u001b[0m \u001b[0minner_f\u001b[0m\u001b[0;34m\u001b[0m\u001b[0;34m\u001b[0m\u001b[0m\n",
      "\u001b[0;32m~/.local/lib/python3.6/site-packages/xgboost/core.py\u001b[0m in \u001b[0;36m__init__\u001b[0;34m(self, data, label, weight, base_margin, missing, silent, feature_names, feature_types, nthread, group, qid, label_lower_bound, label_upper_bound, feature_weights, enable_categorical)\u001b[0m\n\u001b[1;32m    633\u001b[0m             \u001b[0mlabel_lower_bound\u001b[0m\u001b[0;34m=\u001b[0m\u001b[0mlabel_lower_bound\u001b[0m\u001b[0;34m,\u001b[0m\u001b[0;34m\u001b[0m\u001b[0;34m\u001b[0m\u001b[0m\n\u001b[1;32m    634\u001b[0m             \u001b[0mlabel_upper_bound\u001b[0m\u001b[0;34m=\u001b[0m\u001b[0mlabel_upper_bound\u001b[0m\u001b[0;34m,\u001b[0m\u001b[0;34m\u001b[0m\u001b[0;34m\u001b[0m\u001b[0m\n\u001b[0;32m--> 635\u001b[0;31m             \u001b[0mfeature_weights\u001b[0m\u001b[0;34m=\u001b[0m\u001b[0mfeature_weights\u001b[0m\u001b[0;34m,\u001b[0m\u001b[0;34m\u001b[0m\u001b[0;34m\u001b[0m\u001b[0m\n\u001b[0m\u001b[1;32m    636\u001b[0m         )\n\u001b[1;32m    637\u001b[0m \u001b[0;34m\u001b[0m\u001b[0m\n",
      "\u001b[0;32m~/.local/lib/python3.6/site-packages/xgboost/core.py\u001b[0m in \u001b[0;36minner_f\u001b[0;34m(*args, **kwargs)\u001b[0m\n\u001b[1;32m    504\u001b[0m         \u001b[0;32mfor\u001b[0m \u001b[0mk\u001b[0m\u001b[0;34m,\u001b[0m \u001b[0marg\u001b[0m \u001b[0;32min\u001b[0m \u001b[0mzip\u001b[0m\u001b[0;34m(\u001b[0m\u001b[0msig\u001b[0m\u001b[0;34m.\u001b[0m\u001b[0mparameters\u001b[0m\u001b[0;34m,\u001b[0m \u001b[0margs\u001b[0m\u001b[0;34m)\u001b[0m\u001b[0;34m:\u001b[0m\u001b[0;34m\u001b[0m\u001b[0;34m\u001b[0m\u001b[0m\n\u001b[1;32m    505\u001b[0m             \u001b[0mkwargs\u001b[0m\u001b[0;34m[\u001b[0m\u001b[0mk\u001b[0m\u001b[0;34m]\u001b[0m \u001b[0;34m=\u001b[0m \u001b[0marg\u001b[0m\u001b[0;34m\u001b[0m\u001b[0;34m\u001b[0m\u001b[0m\n\u001b[0;32m--> 506\u001b[0;31m         \u001b[0;32mreturn\u001b[0m \u001b[0mf\u001b[0m\u001b[0;34m(\u001b[0m\u001b[0;34m**\u001b[0m\u001b[0mkwargs\u001b[0m\u001b[0;34m)\u001b[0m\u001b[0;34m\u001b[0m\u001b[0;34m\u001b[0m\u001b[0m\n\u001b[0m\u001b[1;32m    507\u001b[0m \u001b[0;34m\u001b[0m\u001b[0m\n\u001b[1;32m    508\u001b[0m     \u001b[0;32mreturn\u001b[0m \u001b[0minner_f\u001b[0m\u001b[0;34m\u001b[0m\u001b[0;34m\u001b[0m\u001b[0m\n",
      "\u001b[0;32m~/.local/lib/python3.6/site-packages/xgboost/core.py\u001b[0m in \u001b[0;36mset_info\u001b[0;34m(self, label, weight, base_margin, group, qid, label_lower_bound, label_upper_bound, feature_names, feature_types, feature_weights)\u001b[0m\n\u001b[1;32m    692\u001b[0m \u001b[0;34m\u001b[0m\u001b[0m\n\u001b[1;32m    693\u001b[0m         \u001b[0;32mif\u001b[0m \u001b[0mlabel\u001b[0m \u001b[0;32mis\u001b[0m \u001b[0;32mnot\u001b[0m \u001b[0;32mNone\u001b[0m\u001b[0;34m:\u001b[0m\u001b[0;34m\u001b[0m\u001b[0;34m\u001b[0m\u001b[0m\n\u001b[0;32m--> 694\u001b[0;31m             \u001b[0mself\u001b[0m\u001b[0;34m.\u001b[0m\u001b[0mset_label\u001b[0m\u001b[0;34m(\u001b[0m\u001b[0mlabel\u001b[0m\u001b[0;34m)\u001b[0m\u001b[0;34m\u001b[0m\u001b[0;34m\u001b[0m\u001b[0m\n\u001b[0m\u001b[1;32m    695\u001b[0m         \u001b[0;32mif\u001b[0m \u001b[0mweight\u001b[0m \u001b[0;32mis\u001b[0m \u001b[0;32mnot\u001b[0m \u001b[0;32mNone\u001b[0m\u001b[0;34m:\u001b[0m\u001b[0;34m\u001b[0m\u001b[0;34m\u001b[0m\u001b[0m\n\u001b[1;32m    696\u001b[0m             \u001b[0mself\u001b[0m\u001b[0;34m.\u001b[0m\u001b[0mset_weight\u001b[0m\u001b[0;34m(\u001b[0m\u001b[0mweight\u001b[0m\u001b[0;34m)\u001b[0m\u001b[0;34m\u001b[0m\u001b[0;34m\u001b[0m\u001b[0m\n",
      "\u001b[0;32m~/.local/lib/python3.6/site-packages/xgboost/core.py\u001b[0m in \u001b[0;36mset_label\u001b[0;34m(self, label)\u001b[0m\n\u001b[1;32m    823\u001b[0m         \"\"\"\n\u001b[1;32m    824\u001b[0m         \u001b[0;32mfrom\u001b[0m \u001b[0;34m.\u001b[0m\u001b[0mdata\u001b[0m \u001b[0;32mimport\u001b[0m \u001b[0mdispatch_meta_backend\u001b[0m\u001b[0;34m\u001b[0m\u001b[0;34m\u001b[0m\u001b[0m\n\u001b[0;32m--> 825\u001b[0;31m         \u001b[0mdispatch_meta_backend\u001b[0m\u001b[0;34m(\u001b[0m\u001b[0mself\u001b[0m\u001b[0;34m,\u001b[0m \u001b[0mlabel\u001b[0m\u001b[0;34m,\u001b[0m \u001b[0;34m'label'\u001b[0m\u001b[0;34m,\u001b[0m \u001b[0;34m'float'\u001b[0m\u001b[0;34m)\u001b[0m\u001b[0;34m\u001b[0m\u001b[0;34m\u001b[0m\u001b[0m\n\u001b[0m\u001b[1;32m    826\u001b[0m \u001b[0;34m\u001b[0m\u001b[0m\n\u001b[1;32m    827\u001b[0m     \u001b[0;32mdef\u001b[0m \u001b[0mset_weight\u001b[0m\u001b[0;34m(\u001b[0m\u001b[0mself\u001b[0m\u001b[0;34m,\u001b[0m \u001b[0mweight\u001b[0m\u001b[0;34m)\u001b[0m\u001b[0;34m:\u001b[0m\u001b[0;34m\u001b[0m\u001b[0;34m\u001b[0m\u001b[0m\n",
      "\u001b[0;32m~/.local/lib/python3.6/site-packages/xgboost/data.py\u001b[0m in \u001b[0;36mdispatch_meta_backend\u001b[0;34m(matrix, data, name, dtype)\u001b[0m\n\u001b[1;32m    895\u001b[0m     \u001b[0;34m'''Dispatch for meta info.'''\u001b[0m\u001b[0;34m\u001b[0m\u001b[0;34m\u001b[0m\u001b[0m\n\u001b[1;32m    896\u001b[0m     \u001b[0mhandle\u001b[0m \u001b[0;34m=\u001b[0m \u001b[0mmatrix\u001b[0m\u001b[0;34m.\u001b[0m\u001b[0mhandle\u001b[0m\u001b[0;34m\u001b[0m\u001b[0;34m\u001b[0m\u001b[0m\n\u001b[0;32m--> 897\u001b[0;31m     \u001b[0m_validate_meta_shape\u001b[0m\u001b[0;34m(\u001b[0m\u001b[0mdata\u001b[0m\u001b[0;34m,\u001b[0m \u001b[0mname\u001b[0m\u001b[0;34m)\u001b[0m\u001b[0;34m\u001b[0m\u001b[0;34m\u001b[0m\u001b[0m\n\u001b[0m\u001b[1;32m    898\u001b[0m     \u001b[0;32mif\u001b[0m \u001b[0mdata\u001b[0m \u001b[0;32mis\u001b[0m \u001b[0;32mNone\u001b[0m\u001b[0;34m:\u001b[0m\u001b[0;34m\u001b[0m\u001b[0;34m\u001b[0m\u001b[0m\n\u001b[1;32m    899\u001b[0m         \u001b[0;32mreturn\u001b[0m\u001b[0;34m\u001b[0m\u001b[0;34m\u001b[0m\u001b[0m\n",
      "\u001b[0;32m~/.local/lib/python3.6/site-packages/xgboost/data.py\u001b[0m in \u001b[0;36m_validate_meta_shape\u001b[0;34m(data, name)\u001b[0m\n\u001b[1;32m    827\u001b[0m             \u001b[0mlen\u001b[0m\u001b[0;34m(\u001b[0m\u001b[0mdata\u001b[0m\u001b[0;34m.\u001b[0m\u001b[0mshape\u001b[0m\u001b[0;34m)\u001b[0m \u001b[0;34m==\u001b[0m \u001b[0;36m2\u001b[0m \u001b[0;32mand\u001b[0m \u001b[0;34m(\u001b[0m\u001b[0mdata\u001b[0m\u001b[0;34m.\u001b[0m\u001b[0mshape\u001b[0m\u001b[0;34m[\u001b[0m\u001b[0;36m1\u001b[0m\u001b[0;34m]\u001b[0m \u001b[0;34m!=\u001b[0m \u001b[0;36m0\u001b[0m \u001b[0;32mand\u001b[0m \u001b[0mdata\u001b[0m\u001b[0;34m.\u001b[0m\u001b[0mshape\u001b[0m\u001b[0;34m[\u001b[0m\u001b[0;36m1\u001b[0m\u001b[0;34m]\u001b[0m \u001b[0;34m!=\u001b[0m \u001b[0;36m1\u001b[0m\u001b[0;34m)\u001b[0m\u001b[0;34m\u001b[0m\u001b[0;34m\u001b[0m\u001b[0m\n\u001b[1;32m    828\u001b[0m         ):\n\u001b[0;32m--> 829\u001b[0;31m             \u001b[0;32mraise\u001b[0m \u001b[0mValueError\u001b[0m\u001b[0;34m(\u001b[0m\u001b[0;34mf\"Invalid shape: {data.shape} for {name}\"\u001b[0m\u001b[0;34m)\u001b[0m\u001b[0;34m\u001b[0m\u001b[0;34m\u001b[0m\u001b[0m\n\u001b[0m\u001b[1;32m    830\u001b[0m \u001b[0;34m\u001b[0m\u001b[0m\n\u001b[1;32m    831\u001b[0m \u001b[0;34m\u001b[0m\u001b[0m\n",
      "\u001b[0;31mValueError\u001b[0m: Invalid shape: (71552, 7) for label"
     ]
    }
   ],
   "source": [
    "D_train = xgb.DMatrix(X_train, label=Y_train)\n",
    "D_test = xgb.DMatrix(X_test, label=Y_test)"
   ]
  },
  {
   "cell_type": "code",
   "execution_count": null,
   "metadata": {},
   "outputs": [],
   "source": [
    "param = {\n",
    "    'eta': 0.3, \n",
    "    'booster': 'gblinear',\n",
    "    'verbosity':2\n",
    "    'max_depth': 3,  \n",
    "    'objective': 'multi:softprob',  \n",
    "    'num_class': len(target_vars),\n",
    "    'eval_metric': 'rmse'} \n",
    "\n",
    "steps = 20  # The number of training iterations\n",
    "\n",
    "model = xgb.train(param, D_train, steps)"
   ]
  },
  {
   "cell_type": "code",
   "execution_count": null,
   "metadata": {},
   "outputs": [],
   "source": [
    "import numpy as np\n",
    "from sklearn.metrics import precision_score, recall_score, accuracy_score\n",
    "\n",
    "preds = model.predict(D_test)\n",
    "best_preds = np.asarray([np.argmax(line) for line in preds])\n",
    "\n",
    "print(\"Precision = {}\".format(precision_score(Y_test, best_preds, average='macro')))\n",
    "print(\"Recall = {}\".format(recall_score(Y_test, best_preds, average='macro')))\n",
    "print(\"Accuracy = {}\".format(accuracy_score(Y_test, best_preds)))"
   ]
  },
  {
   "cell_type": "code",
   "execution_count": null,
   "metadata": {},
   "outputs": [],
   "source": []
  },
  {
   "cell_type": "code",
   "execution_count": null,
   "metadata": {},
   "outputs": [],
   "source": []
  },
  {
   "cell_type": "code",
   "execution_count": 109,
   "metadata": {},
   "outputs": [
    {
     "name": "stdout",
     "output_type": "stream",
     "text": [
      "Help on function get_dummies in module pandas.core.reshape.reshape:\n",
      "\n",
      "get_dummies(data, prefix=None, prefix_sep='_', dummy_na=False, columns=None, sparse=False, drop_first=False, dtype=None) -> 'DataFrame'\n",
      "    Convert categorical variable into dummy/indicator variables.\n",
      "    \n",
      "    Parameters\n",
      "    ----------\n",
      "    data : array-like, Series, or DataFrame\n",
      "        Data of which to get dummy indicators.\n",
      "    prefix : str, list of str, or dict of str, default None\n",
      "        String to append DataFrame column names.\n",
      "        Pass a list with length equal to the number of columns\n",
      "        when calling get_dummies on a DataFrame. Alternatively, `prefix`\n",
      "        can be a dictionary mapping column names to prefixes.\n",
      "    prefix_sep : str, default '_'\n",
      "        If appending prefix, separator/delimiter to use. Or pass a\n",
      "        list or dictionary as with `prefix`.\n",
      "    dummy_na : bool, default False\n",
      "        Add a column to indicate NaNs, if False NaNs are ignored.\n",
      "    columns : list-like, default None\n",
      "        Column names in the DataFrame to be encoded.\n",
      "        If `columns` is None then all the columns with\n",
      "        `object` or `category` dtype will be converted.\n",
      "    sparse : bool, default False\n",
      "        Whether the dummy-encoded columns should be backed by\n",
      "        a :class:`SparseArray` (True) or a regular NumPy array (False).\n",
      "    drop_first : bool, default False\n",
      "        Whether to get k-1 dummies out of k categorical levels by removing the\n",
      "        first level.\n",
      "    dtype : dtype, default np.uint8\n",
      "        Data type for new columns. Only a single dtype is allowed.\n",
      "    \n",
      "        .. versionadded:: 0.23.0\n",
      "    \n",
      "    Returns\n",
      "    -------\n",
      "    DataFrame\n",
      "        Dummy-coded data.\n",
      "    \n",
      "    See Also\n",
      "    --------\n",
      "    Series.str.get_dummies : Convert Series to dummy codes.\n",
      "    \n",
      "    Examples\n",
      "    --------\n",
      "    >>> s = pd.Series(list('abca'))\n",
      "    \n",
      "    >>> pd.get_dummies(s)\n",
      "       a  b  c\n",
      "    0  1  0  0\n",
      "    1  0  1  0\n",
      "    2  0  0  1\n",
      "    3  1  0  0\n",
      "    \n",
      "    >>> s1 = ['a', 'b', np.nan]\n",
      "    \n",
      "    >>> pd.get_dummies(s1)\n",
      "       a  b\n",
      "    0  1  0\n",
      "    1  0  1\n",
      "    2  0  0\n",
      "    \n",
      "    >>> pd.get_dummies(s1, dummy_na=True)\n",
      "       a  b  NaN\n",
      "    0  1  0    0\n",
      "    1  0  1    0\n",
      "    2  0  0    1\n",
      "    \n",
      "    >>> df = pd.DataFrame({'A': ['a', 'b', 'a'], 'B': ['b', 'a', 'c'],\n",
      "    ...                    'C': [1, 2, 3]})\n",
      "    \n",
      "    >>> pd.get_dummies(df, prefix=['col1', 'col2'])\n",
      "       C  col1_a  col1_b  col2_a  col2_b  col2_c\n",
      "    0  1       1       0       0       1       0\n",
      "    1  2       0       1       1       0       0\n",
      "    2  3       1       0       0       0       1\n",
      "    \n",
      "    >>> pd.get_dummies(pd.Series(list('abcaa')))\n",
      "       a  b  c\n",
      "    0  1  0  0\n",
      "    1  0  1  0\n",
      "    2  0  0  1\n",
      "    3  1  0  0\n",
      "    4  1  0  0\n",
      "    \n",
      "    >>> pd.get_dummies(pd.Series(list('abcaa')), drop_first=True)\n",
      "       b  c\n",
      "    0  0  0\n",
      "    1  1  0\n",
      "    2  0  1\n",
      "    3  0  0\n",
      "    4  0  0\n",
      "    \n",
      "    >>> pd.get_dummies(pd.Series(list('abc')), dtype=float)\n",
      "         a    b    c\n",
      "    0  1.0  0.0  0.0\n",
      "    1  0.0  1.0  0.0\n",
      "    2  0.0  0.0  1.0\n",
      "\n"
     ]
    }
   ],
   "source": [
    "help(pd.get_dummies)"
   ]
  },
  {
   "cell_type": "code",
   "execution_count": 107,
   "metadata": {},
   "outputs": [
    {
     "data": {
      "text/html": [
       "<div>\n",
       "<style scoped>\n",
       "    .dataframe tbody tr th:only-of-type {\n",
       "        vertical-align: middle;\n",
       "    }\n",
       "\n",
       "    .dataframe tbody tr th {\n",
       "        vertical-align: top;\n",
       "    }\n",
       "\n",
       "    .dataframe thead th {\n",
       "        text-align: right;\n",
       "    }\n",
       "</style>\n",
       "<table border=\"1\" class=\"dataframe\">\n",
       "  <thead>\n",
       "    <tr style=\"text-align: right;\">\n",
       "      <th></th>\n",
       "      <th>QUARTER</th>\n",
       "      <th>MONTH</th>\n",
       "      <th>DAY_OF_MONTH</th>\n",
       "      <th>DAY_OF_WEEK</th>\n",
       "      <th>OP_UNIQUE_CARRIER</th>\n",
       "      <th>OP_CARRIER_FL_NUM</th>\n",
       "      <th>ORIGIN_AIRPORT_ID</th>\n",
       "      <th>DEST_AIRPORT_ID</th>\n",
       "      <th>CRS_DEP_TIME</th>\n",
       "      <th>DEP_DELAY</th>\n",
       "      <th>CRS_ARR_TIME</th>\n",
       "      <th>ARR_DELAY</th>\n",
       "      <th>DISTANCE</th>\n",
       "      <th>CARRIER_DELAY</th>\n",
       "      <th>WEATHER_DELAY</th>\n",
       "      <th>NAS_DELAY</th>\n",
       "      <th>SECURITY_DELAY</th>\n",
       "      <th>LATE_AIRCRAFT_DELAY</th>\n",
       "    </tr>\n",
       "  </thead>\n",
       "  <tbody>\n",
       "    <tr>\n",
       "      <th>0</th>\n",
       "      <td>2</td>\n",
       "      <td>6</td>\n",
       "      <td>5</td>\n",
       "      <td>4</td>\n",
       "      <td>XE</td>\n",
       "      <td>2279</td>\n",
       "      <td>11049</td>\n",
       "      <td>12266</td>\n",
       "      <td>1655</td>\n",
       "      <td>42.0</td>\n",
       "      <td>1736</td>\n",
       "      <td>55.0</td>\n",
       "      <td>74.0</td>\n",
       "      <td>0.0</td>\n",
       "      <td>0.0</td>\n",
       "      <td>13.0</td>\n",
       "      <td>0.0</td>\n",
       "      <td>42.0</td>\n",
       "    </tr>\n",
       "    <tr>\n",
       "      <th>1</th>\n",
       "      <td>2</td>\n",
       "      <td>6</td>\n",
       "      <td>12</td>\n",
       "      <td>4</td>\n",
       "      <td>XE</td>\n",
       "      <td>2379</td>\n",
       "      <td>11049</td>\n",
       "      <td>12266</td>\n",
       "      <td>1655</td>\n",
       "      <td>26.0</td>\n",
       "      <td>1736</td>\n",
       "      <td>18.0</td>\n",
       "      <td>74.0</td>\n",
       "      <td>0.0</td>\n",
       "      <td>0.0</td>\n",
       "      <td>0.0</td>\n",
       "      <td>0.0</td>\n",
       "      <td>18.0</td>\n",
       "    </tr>\n",
       "    <tr>\n",
       "      <th>2</th>\n",
       "      <td>2</td>\n",
       "      <td>6</td>\n",
       "      <td>16</td>\n",
       "      <td>1</td>\n",
       "      <td>XE</td>\n",
       "      <td>2379</td>\n",
       "      <td>11049</td>\n",
       "      <td>12266</td>\n",
       "      <td>1655</td>\n",
       "      <td>118.0</td>\n",
       "      <td>1736</td>\n",
       "      <td>112.0</td>\n",
       "      <td>74.0</td>\n",
       "      <td>0.0</td>\n",
       "      <td>0.0</td>\n",
       "      <td>0.0</td>\n",
       "      <td>0.0</td>\n",
       "      <td>112.0</td>\n",
       "    </tr>\n",
       "    <tr>\n",
       "      <th>3</th>\n",
       "      <td>2</td>\n",
       "      <td>6</td>\n",
       "      <td>18</td>\n",
       "      <td>3</td>\n",
       "      <td>XE</td>\n",
       "      <td>2379</td>\n",
       "      <td>11049</td>\n",
       "      <td>12266</td>\n",
       "      <td>1655</td>\n",
       "      <td>-9.0</td>\n",
       "      <td>1736</td>\n",
       "      <td>17.0</td>\n",
       "      <td>74.0</td>\n",
       "      <td>0.0</td>\n",
       "      <td>0.0</td>\n",
       "      <td>17.0</td>\n",
       "      <td>0.0</td>\n",
       "      <td>0.0</td>\n",
       "    </tr>\n",
       "    <tr>\n",
       "      <th>4</th>\n",
       "      <td>2</td>\n",
       "      <td>6</td>\n",
       "      <td>23</td>\n",
       "      <td>1</td>\n",
       "      <td>XE</td>\n",
       "      <td>2379</td>\n",
       "      <td>11049</td>\n",
       "      <td>12266</td>\n",
       "      <td>1655</td>\n",
       "      <td>44.0</td>\n",
       "      <td>1736</td>\n",
       "      <td>39.0</td>\n",
       "      <td>74.0</td>\n",
       "      <td>0.0</td>\n",
       "      <td>39.0</td>\n",
       "      <td>0.0</td>\n",
       "      <td>0.0</td>\n",
       "      <td>0.0</td>\n",
       "    </tr>\n",
       "    <tr>\n",
       "      <th>...</th>\n",
       "      <td>...</td>\n",
       "      <td>...</td>\n",
       "      <td>...</td>\n",
       "      <td>...</td>\n",
       "      <td>...</td>\n",
       "      <td>...</td>\n",
       "      <td>...</td>\n",
       "      <td>...</td>\n",
       "      <td>...</td>\n",
       "      <td>...</td>\n",
       "      <td>...</td>\n",
       "      <td>...</td>\n",
       "      <td>...</td>\n",
       "      <td>...</td>\n",
       "      <td>...</td>\n",
       "      <td>...</td>\n",
       "      <td>...</td>\n",
       "      <td>...</td>\n",
       "    </tr>\n",
       "    <tr>\n",
       "      <th>89436</th>\n",
       "      <td>2</td>\n",
       "      <td>6</td>\n",
       "      <td>8</td>\n",
       "      <td>7</td>\n",
       "      <td>OO</td>\n",
       "      <td>6965</td>\n",
       "      <td>12892</td>\n",
       "      <td>14893</td>\n",
       "      <td>1300</td>\n",
       "      <td>20.0</td>\n",
       "      <td>1425</td>\n",
       "      <td>18.0</td>\n",
       "      <td>373.0</td>\n",
       "      <td>18.0</td>\n",
       "      <td>0.0</td>\n",
       "      <td>0.0</td>\n",
       "      <td>0.0</td>\n",
       "      <td>0.0</td>\n",
       "    </tr>\n",
       "    <tr>\n",
       "      <th>89437</th>\n",
       "      <td>2</td>\n",
       "      <td>6</td>\n",
       "      <td>9</td>\n",
       "      <td>1</td>\n",
       "      <td>OO</td>\n",
       "      <td>3601</td>\n",
       "      <td>14869</td>\n",
       "      <td>14113</td>\n",
       "      <td>1855</td>\n",
       "      <td>13.0</td>\n",
       "      <td>1947</td>\n",
       "      <td>30.0</td>\n",
       "      <td>150.0</td>\n",
       "      <td>30.0</td>\n",
       "      <td>0.0</td>\n",
       "      <td>0.0</td>\n",
       "      <td>0.0</td>\n",
       "      <td>0.0</td>\n",
       "    </tr>\n",
       "    <tr>\n",
       "      <th>89438</th>\n",
       "      <td>2</td>\n",
       "      <td>6</td>\n",
       "      <td>9</td>\n",
       "      <td>1</td>\n",
       "      <td>OO</td>\n",
       "      <td>3601</td>\n",
       "      <td>14113</td>\n",
       "      <td>14869</td>\n",
       "      <td>2015</td>\n",
       "      <td>19.0</td>\n",
       "      <td>2103</td>\n",
       "      <td>22.0</td>\n",
       "      <td>150.0</td>\n",
       "      <td>22.0</td>\n",
       "      <td>0.0</td>\n",
       "      <td>0.0</td>\n",
       "      <td>0.0</td>\n",
       "      <td>0.0</td>\n",
       "    </tr>\n",
       "    <tr>\n",
       "      <th>89439</th>\n",
       "      <td>2</td>\n",
       "      <td>6</td>\n",
       "      <td>9</td>\n",
       "      <td>1</td>\n",
       "      <td>OO</td>\n",
       "      <td>3613</td>\n",
       "      <td>14869</td>\n",
       "      <td>15389</td>\n",
       "      <td>1845</td>\n",
       "      <td>9.0</td>\n",
       "      <td>1941</td>\n",
       "      <td>21.0</td>\n",
       "      <td>175.0</td>\n",
       "      <td>21.0</td>\n",
       "      <td>0.0</td>\n",
       "      <td>0.0</td>\n",
       "      <td>0.0</td>\n",
       "      <td>0.0</td>\n",
       "    </tr>\n",
       "    <tr>\n",
       "      <th>89440</th>\n",
       "      <td>2</td>\n",
       "      <td>6</td>\n",
       "      <td>9</td>\n",
       "      <td>1</td>\n",
       "      <td>OO</td>\n",
       "      <td>3617</td>\n",
       "      <td>14869</td>\n",
       "      <td>15041</td>\n",
       "      <td>2010</td>\n",
       "      <td>20.0</td>\n",
       "      <td>2113</td>\n",
       "      <td>31.0</td>\n",
       "      <td>223.0</td>\n",
       "      <td>31.0</td>\n",
       "      <td>0.0</td>\n",
       "      <td>0.0</td>\n",
       "      <td>0.0</td>\n",
       "      <td>0.0</td>\n",
       "    </tr>\n",
       "  </tbody>\n",
       "</table>\n",
       "<p>89441 rows × 18 columns</p>\n",
       "</div>"
      ],
      "text/plain": [
       "       QUARTER  MONTH  DAY_OF_MONTH  DAY_OF_WEEK OP_UNIQUE_CARRIER  \\\n",
       "0            2      6             5            4                XE   \n",
       "1            2      6            12            4                XE   \n",
       "2            2      6            16            1                XE   \n",
       "3            2      6            18            3                XE   \n",
       "4            2      6            23            1                XE   \n",
       "...        ...    ...           ...          ...               ...   \n",
       "89436        2      6             8            7                OO   \n",
       "89437        2      6             9            1                OO   \n",
       "89438        2      6             9            1                OO   \n",
       "89439        2      6             9            1                OO   \n",
       "89440        2      6             9            1                OO   \n",
       "\n",
       "       OP_CARRIER_FL_NUM  ORIGIN_AIRPORT_ID  DEST_AIRPORT_ID  CRS_DEP_TIME  \\\n",
       "0                   2279              11049            12266          1655   \n",
       "1                   2379              11049            12266          1655   \n",
       "2                   2379              11049            12266          1655   \n",
       "3                   2379              11049            12266          1655   \n",
       "4                   2379              11049            12266          1655   \n",
       "...                  ...                ...              ...           ...   \n",
       "89436               6965              12892            14893          1300   \n",
       "89437               3601              14869            14113          1855   \n",
       "89438               3601              14113            14869          2015   \n",
       "89439               3613              14869            15389          1845   \n",
       "89440               3617              14869            15041          2010   \n",
       "\n",
       "       DEP_DELAY  CRS_ARR_TIME  ARR_DELAY  DISTANCE  CARRIER_DELAY  \\\n",
       "0           42.0          1736       55.0      74.0            0.0   \n",
       "1           26.0          1736       18.0      74.0            0.0   \n",
       "2          118.0          1736      112.0      74.0            0.0   \n",
       "3           -9.0          1736       17.0      74.0            0.0   \n",
       "4           44.0          1736       39.0      74.0            0.0   \n",
       "...          ...           ...        ...       ...            ...   \n",
       "89436       20.0          1425       18.0     373.0           18.0   \n",
       "89437       13.0          1947       30.0     150.0           30.0   \n",
       "89438       19.0          2103       22.0     150.0           22.0   \n",
       "89439        9.0          1941       21.0     175.0           21.0   \n",
       "89440       20.0          2113       31.0     223.0           31.0   \n",
       "\n",
       "       WEATHER_DELAY  NAS_DELAY  SECURITY_DELAY  LATE_AIRCRAFT_DELAY  \n",
       "0                0.0       13.0             0.0                 42.0  \n",
       "1                0.0        0.0             0.0                 18.0  \n",
       "2                0.0        0.0             0.0                112.0  \n",
       "3                0.0       17.0             0.0                  0.0  \n",
       "4               39.0        0.0             0.0                  0.0  \n",
       "...              ...        ...             ...                  ...  \n",
       "89436            0.0        0.0             0.0                  0.0  \n",
       "89437            0.0        0.0             0.0                  0.0  \n",
       "89438            0.0        0.0             0.0                  0.0  \n",
       "89439            0.0        0.0             0.0                  0.0  \n",
       "89440            0.0        0.0             0.0                  0.0  \n",
       "\n",
       "[89441 rows x 18 columns]"
      ]
     },
     "execution_count": 107,
     "metadata": {},
     "output_type": "execute_result"
    }
   ],
   "source": [
    "df"
   ]
  },
  {
   "cell_type": "code",
   "execution_count": 57,
   "metadata": {
    "scrolled": false
   },
   "outputs": [
    {
     "data": {
      "text/plain": [
       "['ACTUAL_ELAPSED_TIME',\n",
       " 'AIR_TIME',\n",
       " 'ARR_DEL15',\n",
       " 'ARR_DELAY',\n",
       " 'ARR_DELAY_GROUP',\n",
       " 'ARR_DELAY_NEW',\n",
       " 'ARR_TIME',\n",
       " 'ARR_TIME_BLK',\n",
       " 'CANCELLATION_CODE',\n",
       " 'CANCELLED',\n",
       " 'CARRIER_DELAY',\n",
       " 'CRS_ARR_TIME',\n",
       " 'CRS_DEP_TIME',\n",
       " 'CRS_ELAPSED_TIME',\n",
       " 'DAY_OF_MONTH',\n",
       " 'DAY_OF_WEEK',\n",
       " 'DEP_DEL15',\n",
       " 'DEP_DELAY',\n",
       " 'DEP_DELAY_GROUP',\n",
       " 'DEP_DELAY_NEW',\n",
       " 'DEP_TIME',\n",
       " 'DEP_TIME_BLK',\n",
       " 'DEST',\n",
       " 'DEST_AIRPORT_ID',\n",
       " 'DEST_AIRPORT_SEQ_ID',\n",
       " 'DEST_CITY_MARKET_ID',\n",
       " 'DEST_CITY_NAME',\n",
       " 'DEST_STATE_ABR',\n",
       " 'DEST_STATE_FIPS',\n",
       " 'DEST_STATE_NM',\n",
       " 'DEST_WAC',\n",
       " 'DISTANCE',\n",
       " 'DISTANCE_GROUP',\n",
       " 'DIV1_AIRPORT',\n",
       " 'DIV1_AIRPORT_ID',\n",
       " 'DIV1_AIRPORT_SEQ_ID',\n",
       " 'DIV1_LONGEST_GTIME',\n",
       " 'DIV1_TAIL_NUM',\n",
       " 'DIV1_TOTAL_GTIME',\n",
       " 'DIV1_WHEELS_OFF',\n",
       " 'DIV1_WHEELS_ON',\n",
       " 'DIV2_AIRPORT',\n",
       " 'DIV2_AIRPORT_ID',\n",
       " 'DIV2_AIRPORT_SEQ_ID',\n",
       " 'DIV2_LONGEST_GTIME',\n",
       " 'DIV2_TAIL_NUM',\n",
       " 'DIV2_TOTAL_GTIME',\n",
       " 'DIV2_WHEELS_OFF',\n",
       " 'DIV2_WHEELS_ON',\n",
       " 'DIV3_AIRPORT',\n",
       " 'DIV3_AIRPORT_ID',\n",
       " 'DIV3_AIRPORT_SEQ_ID',\n",
       " 'DIV3_LONGEST_GTIME',\n",
       " 'DIV3_TAIL_NUM',\n",
       " 'DIV3_TOTAL_GTIME',\n",
       " 'DIV3_WHEELS_OFF',\n",
       " 'DIV3_WHEELS_ON',\n",
       " 'DIV4_AIRPORT',\n",
       " 'DIV4_AIRPORT_ID',\n",
       " 'DIV4_AIRPORT_SEQ_ID',\n",
       " 'DIV4_LONGEST_GTIME',\n",
       " 'DIV4_TAIL_NUM',\n",
       " 'DIV4_TOTAL_GTIME',\n",
       " 'DIV4_WHEELS_OFF',\n",
       " 'DIV4_WHEELS_ON',\n",
       " 'DIV5_AIRPORT',\n",
       " 'DIV5_AIRPORT_ID',\n",
       " 'DIV5_AIRPORT_SEQ_ID',\n",
       " 'DIV5_LONGEST_GTIME',\n",
       " 'DIV5_TAIL_NUM',\n",
       " 'DIV5_TOTAL_GTIME',\n",
       " 'DIV5_WHEELS_OFF',\n",
       " 'DIV5_WHEELS_ON',\n",
       " 'DIVERTED',\n",
       " 'DIV_ACTUAL_ELAPSED_TIME',\n",
       " 'DIV_AIRPORT_LANDINGS',\n",
       " 'DIV_ARR_DELAY',\n",
       " 'DIV_DISTANCE',\n",
       " 'DIV_REACHED_DEST',\n",
       " 'FIRST_DEP_TIME',\n",
       " 'FLIGHTS',\n",
       " 'FL_DATE',\n",
       " 'LATE_AIRCRAFT_DELAY',\n",
       " 'LONGEST_ADD_GTIME',\n",
       " 'MONTH',\n",
       " 'NAS_DELAY',\n",
       " 'OP_CARRIER',\n",
       " 'OP_CARRIER_AIRLINE_ID',\n",
       " 'OP_CARRIER_FL_NUM',\n",
       " 'OP_UNIQUE_CARRIER',\n",
       " 'ORIGIN',\n",
       " 'ORIGIN_AIRPORT_ID',\n",
       " 'ORIGIN_AIRPORT_SEQ_ID',\n",
       " 'ORIGIN_CITY_MARKET_ID',\n",
       " 'ORIGIN_CITY_NAME',\n",
       " 'ORIGIN_STATE_ABR',\n",
       " 'ORIGIN_STATE_FIPS',\n",
       " 'ORIGIN_STATE_NM',\n",
       " 'ORIGIN_WAC',\n",
       " 'QUARTER',\n",
       " 'SECURITY_DELAY',\n",
       " 'TAIL_NUM',\n",
       " 'TAXI_IN',\n",
       " 'TAXI_OUT',\n",
       " 'TOTAL_ADD_GTIME',\n",
       " 'Unnamed: 109',\n",
       " 'WEATHER_DELAY',\n",
       " 'WHEELS_OFF',\n",
       " 'WHEELS_ON',\n",
       " 'YEAR']"
      ]
     },
     "execution_count": 57,
     "metadata": {},
     "output_type": "execute_result"
    }
   ],
   "source": [
    "sorted(list(df.columns))"
   ]
  },
  {
   "cell_type": "code",
   "execution_count": null,
   "metadata": {},
   "outputs": [],
   "source": []
  },
  {
   "cell_type": "code",
   "execution_count": 1,
   "metadata": {},
   "outputs": [
    {
     "name": "stdout",
     "output_type": "stream",
     "text": [
      "\u001b[33mDEPRECATION: Configuring installation scheme with distutils config files is deprecated and will no longer work in the near future. If you are using a Homebrew or Linuxbrew Python, please see discussion at https://github.com/Homebrew/homebrew-core/issues/76621\u001b[0m\n",
      "Collecting xgboost\n",
      "  Downloading xgboost-1.6.0-py3-none-macosx_10_15_x86_64.macosx_11_0_x86_64.macosx_12_0_x86_64.whl (1.7 MB)\n",
      "     |████████████████████████████████| 1.7 MB 1.6 MB/s            \n",
      "\u001b[?25hRequirement already satisfied: scipy in /usr/local/lib/python3.9/site-packages (from xgboost) (1.5.3)\n",
      "Requirement already satisfied: numpy in /usr/local/lib/python3.9/site-packages (from xgboost) (1.19.4)\n",
      "Installing collected packages: xgboost\n",
      "\u001b[33m  DEPRECATION: Configuring installation scheme with distutils config files is deprecated and will no longer work in the near future. If you are using a Homebrew or Linuxbrew Python, please see discussion at https://github.com/Homebrew/homebrew-core/issues/76621\u001b[0m\n",
      "\u001b[33mDEPRECATION: Configuring installation scheme with distutils config files is deprecated and will no longer work in the near future. If you are using a Homebrew or Linuxbrew Python, please see discussion at https://github.com/Homebrew/homebrew-core/issues/76621\u001b[0m\n",
      "Successfully installed xgboost-1.6.0\n",
      "\u001b[33mWARNING: You are using pip version 21.3.1; however, version 22.0.4 is available.\n",
      "You should consider upgrading via the '/usr/local/opt/python@3.9/bin/python3.9 -m pip install --upgrade pip' command.\u001b[0m\n"
     ]
    }
   ],
   "source": [
    "!pip3 install xgboost"
   ]
  },
  {
   "cell_type": "code",
   "execution_count": 2,
   "metadata": {},
   "outputs": [],
   "source": [
    "from sklearn import datasets\n",
    "import xgboost as xgb"
   ]
  },
  {
   "cell_type": "code",
   "execution_count": 3,
   "metadata": {},
   "outputs": [],
   "source": [
    "iris = datasets.load_iris()\n",
    "X = iris.data\n",
    "y = iris.target"
   ]
  },
  {
   "cell_type": "code",
   "execution_count": 4,
   "metadata": {},
   "outputs": [],
   "source": [
    "from sklearn.model_selection import train_test_split\n",
    "\n",
    "X_train, X_test, Y_train, Y_test = train_test_split(X, y, test_size=0.2)"
   ]
  },
  {
   "cell_type": "code",
   "execution_count": 5,
   "metadata": {},
   "outputs": [],
   "source": [
    "D_train = xgb.DMatrix(X_train, label=Y_train)\n",
    "D_test = xgb.DMatrix(X_test, label=Y_test)"
   ]
  },
  {
   "cell_type": "code",
   "execution_count": 6,
   "metadata": {},
   "outputs": [],
   "source": [
    "param = {\n",
    "    'eta': 0.3, \n",
    "    'max_depth': 3,  \n",
    "    'objective': 'multi:softprob',  \n",
    "    'num_class': 3} \n",
    "\n",
    "steps = 20  # The number of training iterations"
   ]
  },
  {
   "cell_type": "code",
   "execution_count": 7,
   "metadata": {},
   "outputs": [],
   "source": [
    "model = xgb.train(param, D_train, steps)"
   ]
  },
  {
   "cell_type": "code",
   "execution_count": 8,
   "metadata": {},
   "outputs": [
    {
     "name": "stdout",
     "output_type": "stream",
     "text": [
      "Precision = 0.9326923076923078\n",
      "Recall = 0.9326923076923078\n",
      "Accuracy = 0.9333333333333333\n"
     ]
    }
   ],
   "source": [
    "import numpy as np\n",
    "from sklearn.metrics import precision_score, recall_score, accuracy_score\n",
    "\n",
    "preds = model.predict(D_test)\n",
    "best_preds = np.asarray([np.argmax(line) for line in preds])\n",
    "\n",
    "print(\"Precision = {}\".format(precision_score(Y_test, best_preds, average='macro')))\n",
    "print(\"Recall = {}\".format(recall_score(Y_test, best_preds, average='macro')))\n",
    "print(\"Accuracy = {}\".format(accuracy_score(Y_test, best_preds)))"
   ]
  },
  {
   "cell_type": "code",
   "execution_count": 9,
   "metadata": {},
   "outputs": [
    {
     "data": {
      "text/plain": [
       "GridSearchCV(cv=3,\n",
       "             estimator=XGBClassifier(base_score=None, booster=None,\n",
       "                                     callbacks=None, colsample_bylevel=None,\n",
       "                                     colsample_bynode=None,\n",
       "                                     colsample_bytree=None,\n",
       "                                     early_stopping_rounds=None,\n",
       "                                     enable_categorical=False, eval_metric=None,\n",
       "                                     gamma=None, gpu_id=None, grow_policy=None,\n",
       "                                     importance_type=None,\n",
       "                                     interaction_constraints=None,\n",
       "                                     learning_rate=None, max_bin=None,\n",
       "                                     max_ca...\n",
       "                                     missing=nan, monotone_constraints=None,\n",
       "                                     n_estimators=100, n_jobs=None,\n",
       "                                     num_parallel_tree=None, predictor=None,\n",
       "                                     random_state=None, reg_alpha=None,\n",
       "                                     reg_lambda=None, ...),\n",
       "             n_jobs=4,\n",
       "             param_grid={'colsample_bytree': [0.3, 0.4, 0.5, 0.7],\n",
       "                         'eta': [0.05, 0.1, 0.15, 0.2, 0.25, 0.3],\n",
       "                         'gamma': [0.0, 0.1, 0.2, 0.3, 0.4],\n",
       "                         'max_depth': [3, 4, 5, 6, 8, 10, 12, 15],\n",
       "                         'min_child_weight': [1, 3, 5, 7]},\n",
       "             scoring='neg_log_loss')"
      ]
     },
     "execution_count": 9,
     "metadata": {},
     "output_type": "execute_result"
    }
   ],
   "source": [
    "from sklearn.model_selection import GridSearchCV\n",
    "\n",
    "clf = xgb.XGBClassifier()\n",
    "parameters = {\n",
    "     \"eta\"    : [0.05, 0.10, 0.15, 0.20, 0.25, 0.30 ] ,\n",
    "     \"max_depth\"        : [ 3, 4, 5, 6, 8, 10, 12, 15],\n",
    "     \"min_child_weight\" : [ 1, 3, 5, 7 ],\n",
    "     \"gamma\"            : [ 0.0, 0.1, 0.2 , 0.3, 0.4 ],\n",
    "     \"colsample_bytree\" : [ 0.3, 0.4, 0.5 , 0.7 ]\n",
    "     }\n",
    "\n",
    "grid = GridSearchCV(clf,\n",
    "                    parameters, n_jobs=4,\n",
    "                    scoring=\"neg_log_loss\",\n",
    "                    cv=3)\n",
    "\n",
    "grid.fit(X_train, Y_train)"
   ]
  },
  {
   "cell_type": "code",
   "execution_count": 10,
   "metadata": {},
   "outputs": [],
   "source": [
    "model.dump_model('dump.raw.txt')"
   ]
  },
  {
   "cell_type": "code",
   "execution_count": 11,
   "metadata": {},
   "outputs": [
    {
     "name": "stdout",
     "output_type": "stream",
     "text": [
      "booster[0]:\r\n",
      "0:[f2<2.5999999] yes=1,no=2,missing=1\r\n",
      "\t1:leaf=0.426589638\r\n",
      "\t2:leaf=-0.218769252\r\n",
      "booster[1]:\r\n",
      "0:[f2<2.5999999] yes=1,no=2,missing=1\r\n",
      "\t1:leaf=-0.213294834\r\n",
      "\t2:[f2<4.94999981] yes=3,no=4,missing=3\r\n",
      "\t\t3:[f3<1.60000002] yes=5,no=6,missing=5\r\n",
      "\t\t\t5:leaf=0.42281881\r\n",
      "\t\t\t6:leaf=-0.0620689802\r\n",
      "\t\t4:[f2<5.05000019] yes=7,no=8,missing=7\r\n",
      "\t\t\t7:leaf=-0.0360000096\r\n",
      "\t\t\t8:leaf=-0.21140942\r\n",
      "booster[2]:\r\n",
      "0:[f2<4.75] yes=1,no=2,missing=1\r\n",
      "\t1:leaf=-0.209708765\r\n",
      "\t2:[f2<4.94999981] yes=3,no=4,missing=3\r\n",
      "\t\t3:[f0<6.25] yes=5,no=6,missing=5\r\n",
      "\t\t\t5:leaf=0.128571421\r\n",
      "\t\t\t6:leaf=-7.66345476e-09\r\n",
      "\t\t4:leaf=0.409090936\r\n",
      "booster[3]:\r\n",
      "0:[f2<2.5999999] yes=1,no=2,missing=1\r\n",
      "\t1:leaf=0.294131458\r\n",
      "\t2:leaf=-0.195732966\r\n",
      "booster[4]:\r\n",
      "0:[f2<2.5999999] yes=1,no=2,missing=1\r\n",
      "\t1:leaf=-0.189599976\r\n",
      "\t2:[f3<1.54999995] yes=3,no=4,missing=3\r\n",
      "\t\t3:[f2<4.94999981] yes=5,no=6,missing=5\r\n",
      "\t\t\t5:leaf=0.292952508\r\n",
      "\t\t\t6:leaf=-0.1117642\r\n",
      "\t\t4:[f2<5.05000019] yes=7,no=8,missing=7\r\n",
      "\t\t\t7:leaf=-0.0383815542\r\n",
      "\t\t\t8:leaf=-0.187781304\r\n",
      "booster[5]:\r\n",
      "0:[f2<4.75] yes=1,no=2,missing=1\r\n",
      "\t1:[f3<1.45000005] yes=3,no=4,missing=3\r\n",
      "\t\t3:leaf=-0.194364741\r\n",
      "\t\t4:[f0<5.75] yes=7,no=8,missing=7\r\n",
      "\t\t\t7:leaf=0.0226691011\r\n",
      "\t\t\t8:leaf=-0.140897527\r\n",
      "\t2:[f3<1.75] yes=5,no=6,missing=5\r\n",
      "\t\t5:[f2<5.05000019] yes=9,no=10,missing=9\r\n",
      "\t\t\t9:leaf=-0.0550862812\r\n",
      "\t\t\t10:leaf=0.186338037\r\n",
      "\t\t6:leaf=0.28809607\r\n",
      "booster[6]:\r\n",
      "0:[f2<2.5999999] yes=1,no=2,missing=1\r\n",
      "\t1:leaf=0.2354462\r\n",
      "\t2:leaf=-0.180206984\r\n",
      "booster[7]:\r\n",
      "0:[f2<2.5999999] yes=1,no=2,missing=1\r\n",
      "\t1:leaf=-0.173443571\r\n",
      "\t2:[f2<4.94999981] yes=3,no=4,missing=3\r\n",
      "\t\t3:[f3<1.60000002] yes=5,no=6,missing=5\r\n",
      "\t\t\t5:leaf=0.235694245\r\n",
      "\t\t\t6:leaf=-0.0544048809\r\n",
      "\t\t4:[f2<5.05000019] yes=7,no=8,missing=7\r\n",
      "\t\t\t7:leaf=-0.0134436935\r\n",
      "\t\t\t8:leaf=-0.17288965\r\n",
      "booster[8]:\r\n",
      "0:[f2<4.85000038] yes=1,no=2,missing=1\r\n",
      "\t1:[f3<1.60000002] yes=3,no=4,missing=3\r\n",
      "\t\t3:leaf=-0.179690108\r\n",
      "\t\t4:leaf=0.0818646699\r\n",
      "\t2:[f3<1.75] yes=5,no=6,missing=5\r\n",
      "\t\t5:[f2<5.05000019] yes=7,no=8,missing=7\r\n",
      "\t\t\t7:leaf=-0.0514370874\r\n",
      "\t\t\t8:leaf=0.156557664\r\n",
      "\t\t6:leaf=0.240468681\r\n",
      "booster[9]:\r\n",
      "0:[f2<2.5999999] yes=1,no=2,missing=1\r\n",
      "\t1:leaf=0.202801272\r\n",
      "\t2:leaf=-0.16917184\r\n",
      "booster[10]:\r\n",
      "0:[f2<2.5999999] yes=1,no=2,missing=1\r\n",
      "\t1:leaf=-0.161332458\r\n",
      "\t2:[f2<4.94999981] yes=3,no=4,missing=3\r\n",
      "\t\t3:[f3<1.60000002] yes=5,no=6,missing=5\r\n",
      "\t\t\t5:leaf=0.202613011\r\n",
      "\t\t\t6:leaf=-0.0456038192\r\n",
      "\t\t4:[f2<5.05000019] yes=7,no=8,missing=7\r\n",
      "\t\t\t7:leaf=-0.0103915175\r\n",
      "\t\t\t8:leaf=-0.160446838\r\n",
      "booster[11]:\r\n",
      "0:[f2<4.85000038] yes=1,no=2,missing=1\r\n",
      "\t1:[f3<1.60000002] yes=3,no=4,missing=3\r\n",
      "\t\t3:leaf=-0.168029651\r\n",
      "\t\t4:leaf=0.0646380112\r\n",
      "\t2:[f3<1.75] yes=5,no=6,missing=5\r\n",
      "\t\t5:[f2<5.05000019] yes=7,no=8,missing=7\r\n",
      "\t\t\t7:leaf=-0.046350494\r\n",
      "\t\t\t8:leaf=0.133390754\r\n",
      "\t\t6:leaf=0.206691623\r\n",
      "booster[12]:\r\n",
      "0:[f2<2.5999999] yes=1,no=2,missing=1\r\n",
      "\t1:leaf=0.182148188\r\n",
      "\t2:leaf=-0.160760194\r\n",
      "booster[13]:\r\n",
      "0:[f2<2.5999999] yes=1,no=2,missing=1\r\n",
      "\t1:leaf=-0.151535586\r\n",
      "\t2:[f2<4.94999981] yes=3,no=4,missing=3\r\n",
      "\t\t3:[f3<1.60000002] yes=5,no=6,missing=5\r\n",
      "\t\t\t5:leaf=0.181591958\r\n",
      "\t\t\t6:leaf=-0.0373871289\r\n",
      "\t\t4:[f2<5.05000019] yes=7,no=8,missing=7\r\n",
      "\t\t\t7:leaf=-0.00781640131\r\n",
      "\t\t\t8:leaf=-0.150333136\r\n",
      "booster[14]:\r\n",
      "0:[f2<4.85000038] yes=1,no=2,missing=1\r\n",
      "\t1:[f3<1.60000002] yes=3,no=4,missing=3\r\n",
      "\t\t3:leaf=-0.159076601\r\n",
      "\t\t4:leaf=0.0507302247\r\n",
      "\t2:[f3<1.75] yes=5,no=6,missing=5\r\n",
      "\t\t5:[f2<5.05000019] yes=7,no=8,missing=7\r\n",
      "\t\t\t7:leaf=-0.041683808\r\n",
      "\t\t\t8:leaf=0.115726389\r\n",
      "\t\t6:leaf=0.185372099\r\n",
      "booster[15]:\r\n",
      "0:[f2<2.5999999] yes=1,no=2,missing=1\r\n",
      "\t1:leaf=0.167756781\r\n",
      "\t2:leaf=-0.153913319\r\n",
      "booster[16]:\r\n",
      "0:[f2<2.5999999] yes=1,no=2,missing=1\r\n",
      "\t1:leaf=-0.143001869\r\n",
      "\t2:[f2<4.85000038] yes=3,no=4,missing=3\r\n",
      "\t\t3:[f3<1.60000002] yes=5,no=6,missing=5\r\n",
      "\t\t\t5:leaf=0.164666533\r\n",
      "\t\t\t6:leaf=0.0162793044\r\n",
      "\t\t4:[f3<1.75] yes=7,no=8,missing=7\r\n",
      "\t\t\t7:leaf=0.0388363414\r\n",
      "\t\t\t8:leaf=-0.146235913\r\n",
      "booster[17]:\r\n",
      "0:[f2<4.85000038] yes=1,no=2,missing=1\r\n",
      "\t1:[f3<1.60000002] yes=3,no=4,missing=3\r\n",
      "\t\t3:leaf=-0.151693195\r\n",
      "\t\t4:leaf=0.0393578373\r\n",
      "\t2:[f3<1.75] yes=5,no=6,missing=5\r\n",
      "\t\t5:[f0<6.5] yes=7,no=8,missing=7\r\n",
      "\t\t\t7:leaf=0.097066924\r\n",
      "\t\t\t8:leaf=-0.0596875437\r\n",
      "\t\t6:leaf=0.170555279\r\n",
      "booster[18]:\r\n",
      "0:[f2<2.5999999] yes=1,no=2,missing=1\r\n",
      "\t1:leaf=0.156835794\r\n",
      "\t2:leaf=-0.147934392\r\n",
      "booster[19]:\r\n",
      "0:[f2<2.5999999] yes=1,no=2,missing=1\r\n",
      "\t1:leaf=-0.13505891\r\n",
      "\t2:[f2<5.05000019] yes=3,no=4,missing=3\r\n",
      "\t\t3:[f1<2.8499999] yes=5,no=6,missing=5\r\n",
      "\t\t\t5:leaf=0.0483838469\r\n",
      "\t\t\t6:leaf=0.173330039\r\n",
      "\t\t4:leaf=-0.13431406\r\n",
      "booster[20]:\r\n",
      "0:[f2<4.85000038] yes=1,no=2,missing=1\r\n",
      "\t1:[f3<1.60000002] yes=3,no=4,missing=3\r\n",
      "\t\t3:leaf=-0.145156026\r\n",
      "\t\t4:leaf=0.0327661484\r\n",
      "\t2:[f3<1.75] yes=5,no=6,missing=5\r\n",
      "\t\t5:[f0<6.5] yes=7,no=8,missing=7\r\n",
      "\t\t\t7:leaf=0.0878091604\r\n",
      "\t\t\t8:leaf=-0.0567744114\r\n",
      "\t\t6:leaf=0.158497214\r\n",
      "booster[21]:\r\n",
      "0:[f2<2.5999999] yes=1,no=2,missing=1\r\n",
      "\t1:leaf=0.147854552\r\n",
      "\t2:leaf=-0.142598882\r\n",
      "booster[22]:\r\n",
      "0:[f2<2.5999999] yes=1,no=2,missing=1\r\n",
      "\t1:leaf=-0.127288878\r\n",
      "\t2:[f2<4.94999981] yes=3,no=4,missing=3\r\n",
      "\t\t3:[f3<1.60000002] yes=5,no=6,missing=5\r\n",
      "\t\t\t5:leaf=0.148895577\r\n",
      "\t\t\t6:leaf=-0.0278946292\r\n",
      "\t\t4:[f2<5.05000019] yes=7,no=8,missing=7\r\n",
      "\t\t\t7:leaf=-0.00476483116\r\n",
      "\t\t\t8:leaf=-0.126719326\r\n",
      "booster[23]:\r\n",
      "0:[f2<4.85000038] yes=1,no=2,missing=1\r\n",
      "\t1:[f3<1.60000002] yes=3,no=4,missing=3\r\n",
      "\t\t3:leaf=-0.139424711\r\n",
      "\t\t4:leaf=0.0320222005\r\n",
      "\t2:[f3<1.75] yes=5,no=6,missing=5\r\n",
      "\t\t5:[f0<6.5] yes=7,no=8,missing=7\r\n",
      "\t\t\t7:leaf=0.0779690593\r\n",
      "\t\t\t8:leaf=-0.0512657836\r\n",
      "\t\t6:leaf=0.150015801\r\n",
      "booster[24]:\r\n",
      "0:[f2<2.5999999] yes=1,no=2,missing=1\r\n",
      "\t1:leaf=0.139907867\r\n",
      "\t2:leaf=-0.137149557\r\n",
      "booster[25]:\r\n",
      "0:[f2<2.5999999] yes=1,no=2,missing=1\r\n",
      "\t1:leaf=-0.119467281\r\n",
      "\t2:[f2<5.05000019] yes=3,no=4,missing=3\r\n",
      "\t\t3:[f1<2.8499999] yes=5,no=6,missing=5\r\n",
      "\t\t\t5:leaf=0.0216974784\r\n",
      "\t\t\t6:leaf=0.160249054\r\n",
      "\t\t4:leaf=-0.119220048\r\n",
      "booster[26]:\r\n",
      "0:[f2<4.85000038] yes=1,no=2,missing=1\r\n",
      "\t1:[f1<2.8499999] yes=3,no=4,missing=3\r\n",
      "\t\t3:[f3<1.45000005] yes=7,no=8,missing=7\r\n",
      "\t\t\t7:leaf=-0.0895673335\r\n",
      "\t\t\t8:leaf=0.104536429\r\n",
      "\t\t4:leaf=-0.149460718\r\n",
      "\t2:[f3<1.75] yes=5,no=6,missing=5\r\n",
      "\t\t5:[f0<6.5] yes=9,no=10,missing=9\r\n",
      "\t\t\t9:leaf=0.0710357875\r\n",
      "\t\t\t10:leaf=-0.0509030558\r\n",
      "\t\t6:leaf=0.14199999\r\n",
      "booster[27]:\r\n",
      "0:[f2<2.5999999] yes=1,no=2,missing=1\r\n",
      "\t1:leaf=0.132245749\r\n",
      "\t2:leaf=-0.13197805\r\n",
      "booster[28]:\r\n",
      "0:[f2<2.5999999] yes=1,no=2,missing=1\r\n",
      "\t1:leaf=-0.111539267\r\n",
      "\t2:[f2<4.94999981] yes=3,no=4,missing=3\r\n",
      "\t\t3:[f3<1.60000002] yes=5,no=6,missing=5\r\n",
      "\t\t\t5:leaf=0.135587424\r\n",
      "\t\t\t6:leaf=-0.0257772524\r\n",
      "\t\t4:[f2<5.05000019] yes=7,no=8,missing=7\r\n",
      "\t\t\t7:leaf=-0.00565298926\r\n",
      "\t\t\t8:leaf=-0.111782923\r\n",
      "booster[29]:\r\n",
      "0:[f2<4.85000038] yes=1,no=2,missing=1\r\n",
      "\t1:[f1<2.8499999] yes=3,no=4,missing=3\r\n",
      "\t\t3:[f3<1.45000005] yes=7,no=8,missing=7\r\n",
      "\t\t\t7:leaf=-0.0854844376\r\n",
      "\t\t\t8:leaf=0.0958086252\r\n",
      "\t\t4:leaf=-0.142401606\r\n",
      "\t2:[f3<1.75] yes=5,no=6,missing=5\r\n",
      "\t\t5:leaf=0.016028801\r\n",
      "\t\t6:leaf=0.135212794\r\n",
      "booster[30]:\r\n",
      "0:[f2<2.5999999] yes=1,no=2,missing=1\r\n",
      "\t1:leaf=0.124789365\r\n",
      "\t2:leaf=-0.126271814\r\n",
      "booster[31]:\r\n",
      "0:[f2<5.05000019] yes=1,no=2,missing=1\r\n",
      "\t1:[f2<2.5999999] yes=3,no=4,missing=3\r\n",
      "\t\t3:leaf=-0.103536651\r\n",
      "\t\t4:[f1<2.8499999] yes=5,no=6,missing=5\r\n",
      "\t\t\t5:leaf=0.00751773315\r\n",
      "\t\t\t6:leaf=0.143819898\r\n",
      "\t2:leaf=-0.104409359\r\n",
      "booster[32]:\r\n",
      "0:[f2<4.85000038] yes=1,no=2,missing=1\r\n",
      "\t1:[f1<2.8499999] yes=3,no=4,missing=3\r\n",
      "\t\t3:[f0<5.64999962] yes=7,no=8,missing=7\r\n",
      "\t\t\t7:leaf=0.0198461097\r\n",
      "\t\t\t8:leaf=-0.00507151196\r\n",
      "\t\t4:leaf=-0.137451082\r\n",
      "\t2:[f3<1.75] yes=5,no=6,missing=5\r\n",
      "\t\t5:leaf=0.0122809596\r\n",
      "\t\t6:leaf=0.128121346\r\n",
      "booster[33]:\r\n",
      "0:[f2<2.5999999] yes=1,no=2,missing=1\r\n",
      "\t1:leaf=0.117360182\r\n",
      "\t2:leaf=-0.120998584\r\n",
      "booster[34]:\r\n",
      "0:[f2<5.05000019] yes=1,no=2,missing=1\r\n",
      "\t1:[f2<2.5999999] yes=3,no=4,missing=3\r\n",
      "\t\t3:leaf=-0.095589757\r\n",
      "\t\t4:[f1<2.8499999] yes=5,no=6,missing=5\r\n",
      "\t\t\t5:leaf=0.00531396596\r\n",
      "\t\t\t6:leaf=0.131370276\r\n",
      "\t2:leaf=-0.0972202197\r\n",
      "booster[35]:\r\n",
      "0:[f2<4.94999981] yes=1,no=2,missing=1\r\n",
      "\t1:[f3<1.60000002] yes=3,no=4,missing=3\r\n",
      "\t\t3:leaf=-0.121872589\r\n",
      "\t\t4:leaf=0.0507908389\r\n",
      "\t2:[f2<5.05000019] yes=5,no=6,missing=5\r\n",
      "\t\t5:leaf=0.0258511174\r\n",
      "\t\t6:leaf=0.119257465\r\n",
      "booster[36]:\r\n",
      "0:[f2<2.5999999] yes=1,no=2,missing=1\r\n",
      "\t1:leaf=0.110094301\r\n",
      "\t2:leaf=-0.115380071\r\n",
      "booster[37]:\r\n",
      "0:[f2<5.05000019] yes=1,no=2,missing=1\r\n",
      "\t1:[f2<2.5999999] yes=3,no=4,missing=3\r\n",
      "\t\t3:leaf=-0.0878545493\r\n",
      "\t\t4:[f1<2.8499999] yes=5,no=6,missing=5\r\n",
      "\t\t\t5:leaf=-0.00180808769\r\n",
      "\t\t\t6:leaf=0.122378394\r\n",
      "\t2:leaf=-0.0893233046\r\n",
      "booster[38]:\r\n",
      "0:[f2<4.85000038] yes=1,no=2,missing=1\r\n",
      "\t1:[f1<2.8499999] yes=3,no=4,missing=3\r\n",
      "\t\t3:leaf=0.0131161464\r\n",
      "\t\t4:leaf=-0.124218129\r\n",
      "\t2:[f3<1.75] yes=5,no=6,missing=5\r\n",
      "\t\t5:leaf=0.00938783027\r\n",
      "\t\t6:leaf=0.116855428\r\n",
      "booster[39]:\r\n",
      "0:[f2<2.5999999] yes=1,no=2,missing=1\r\n",
      "\t1:leaf=0.102777459\r\n",
      "\t2:leaf=-0.110055663\r\n",
      "booster[40]:\r\n",
      "0:[f2<5.05000019] yes=1,no=2,missing=1\r\n",
      "\t1:[f0<5.44999981] yes=3,no=4,missing=3\r\n",
      "\t\t3:leaf=-0.0647488013\r\n",
      "\t\t4:[f3<1.75] yes=5,no=6,missing=5\r\n",
      "\t\t\t5:leaf=0.0849812999\r\n",
      "\t\t\t6:leaf=-0.0158370156\r\n",
      "\t2:leaf=-0.0826697052\r\n",
      "booster[41]:\r\n",
      "0:[f3<1.3499999] yes=1,no=2,missing=1\r\n",
      "\t1:leaf=-0.0999113768\r\n",
      "\t2:[f1<2.95000005] yes=3,no=4,missing=3\r\n",
      "\t\t3:[f3<1.60000002] yes=5,no=6,missing=5\r\n",
      "\t\t\t5:leaf=0.0309800208\r\n",
      "\t\t\t6:leaf=0.123689003\r\n",
      "\t\t4:[f2<5.05000019] yes=7,no=8,missing=7\r\n",
      "\t\t\t7:leaf=-0.0909745544\r\n",
      "\t\t\t8:leaf=0.0891646743\r\n",
      "booster[42]:\r\n",
      "0:[f2<2.5999999] yes=1,no=2,missing=1\r\n",
      "\t1:leaf=0.0966440663\r\n",
      "\t2:leaf=-0.104386196\r\n",
      "booster[43]:\r\n",
      "0:[f2<4.94999981] yes=1,no=2,missing=1\r\n",
      "\t1:[f0<5.44999981] yes=3,no=4,missing=3\r\n",
      "\t\t3:leaf=-0.0570064448\r\n",
      "\t\t4:[f3<1.64999998] yes=7,no=8,missing=7\r\n",
      "\t\t\t7:leaf=0.0954005346\r\n",
      "\t\t\t8:leaf=0.0021194669\r\n",
      "\t2:[f0<6.44999981] yes=5,no=6,missing=5\r\n",
      "\t\t5:leaf=-0.0965452939\r\n",
      "\t\t6:leaf=0.00787272211\r\n",
      "booster[44]:\r\n",
      "0:[f3<1.3499999] yes=1,no=2,missing=1\r\n",
      "\t1:leaf=-0.093608439\r\n",
      "\t2:[f1<2.95000005] yes=3,no=4,missing=3\r\n",
      "\t\t3:[f3<1.60000002] yes=5,no=6,missing=5\r\n",
      "\t\t\t5:leaf=0.0314242132\r\n",
      "\t\t\t6:leaf=0.115305699\r\n",
      "\t\t4:[f2<5.05000019] yes=7,no=8,missing=7\r\n",
      "\t\t\t7:leaf=-0.0830129161\r\n",
      "\t\t\t8:leaf=0.0820373669\r\n",
      "booster[45]:\r\n",
      "0:[f2<2.5999999] yes=1,no=2,missing=1\r\n",
      "\t1:leaf=0.0909066722\r\n",
      "\t2:leaf=-0.0987535566\r\n",
      "booster[46]:\r\n",
      "0:[f2<4.94999981] yes=1,no=2,missing=1\r\n",
      "\t1:[f0<5.14999962] yes=3,no=4,missing=3\r\n",
      "\t\t3:leaf=-0.0578219555\r\n",
      "\t\t4:[f0<6.05000019] yes=5,no=6,missing=5\r\n",
      "\t\t\t5:leaf=0.0889908448\r\n",
      "\t\t\t6:leaf=0.00644873781\r\n",
      "\t2:leaf=-0.0552890152\r\n",
      "booster[47]:\r\n",
      "0:[f2<4.85000038] yes=1,no=2,missing=1\r\n",
      "\t1:[f1<2.8499999] yes=3,no=4,missing=3\r\n",
      "\t\t3:leaf=0.00953576528\r\n",
      "\t\t4:leaf=-0.105244502\r\n",
      "\t2:[f3<1.75] yes=5,no=6,missing=5\r\n",
      "\t\t5:leaf=0.00970898941\r\n",
      "\t\t6:leaf=0.101875946\r\n",
      "booster[48]:\r\n",
      "0:[f2<2.5999999] yes=1,no=2,missing=1\r\n",
      "\t1:leaf=0.0856359005\r\n",
      "\t2:leaf=-0.0935988873\r\n",
      "booster[49]:\r\n",
      "0:[f2<4.94999981] yes=1,no=2,missing=1\r\n",
      "\t1:[f0<5.14999962] yes=3,no=4,missing=3\r\n",
      "\t\t3:leaf=-0.052289471\r\n",
      "\t\t4:[f3<1.64999998] yes=5,no=6,missing=5\r\n",
      "\t\t\t5:leaf=0.078647092\r\n",
      "\t\t\t6:leaf=-0.00299100555\r\n",
      "\t2:leaf=-0.0480084643\r\n",
      "booster[50]:\r\n",
      "0:[f2<4.44999981] yes=1,no=2,missing=1\r\n",
      "\t1:leaf=-0.0832677856\r\n",
      "\t2:[f1<2.8499999] yes=3,no=4,missing=3\r\n",
      "\t\t3:[f3<1.60000002] yes=5,no=6,missing=5\r\n",
      "\t\t\t5:leaf=0.0252298489\r\n",
      "\t\t\t6:leaf=0.103342347\r\n",
      "\t\t4:[f1<3.04999995] yes=7,no=8,missing=7\r\n",
      "\t\t\t7:leaf=0.00522493059\r\n",
      "\t\t\t8:leaf=-0.0253373794\r\n",
      "booster[51]:\r\n",
      "0:[f2<2.5999999] yes=1,no=2,missing=1\r\n",
      "\t1:leaf=0.0810071528\r\n",
      "\t2:leaf=-0.0889238343\r\n",
      "booster[52]:\r\n",
      "0:[f2<4.85000038] yes=1,no=2,missing=1\r\n",
      "\t1:[f0<5.44999981] yes=3,no=4,missing=3\r\n",
      "\t\t3:leaf=-0.0425462425\r\n",
      "\t\t4:leaf=0.0698314384\r\n",
      "\t2:[f3<1.75] yes=5,no=6,missing=5\r\n",
      "\t\t5:leaf=0.0169396773\r\n",
      "\t\t6:leaf=-0.0806643516\r\n",
      "booster[53]:\r\n",
      "0:[f2<4.85000038] yes=1,no=2,missing=1\r\n",
      "\t1:[f3<1.60000002] yes=3,no=4,missing=3\r\n",
      "\t\t3:leaf=-0.0881888792\r\n",
      "\t\t4:leaf=0.0160020534\r\n",
      "\t2:[f3<1.75] yes=5,no=6,missing=5\r\n",
      "\t\t5:leaf=0.000577421684\r\n",
      "\t\t6:leaf=0.0931419283\r\n",
      "booster[54]:\r\n",
      "0:[f2<2.5999999] yes=1,no=2,missing=1\r\n",
      "\t1:leaf=0.0762049034\r\n",
      "\t2:leaf=-0.0839081183\r\n",
      "booster[55]:\r\n",
      "0:[f2<4.94999981] yes=1,no=2,missing=1\r\n",
      "\t1:[f0<5.44999981] yes=3,no=4,missing=3\r\n",
      "\t\t3:leaf=-0.0396230891\r\n",
      "\t\t4:[f0<6.05000019] yes=5,no=6,missing=5\r\n",
      "\t\t\t5:leaf=0.0802980512\r\n",
      "\t\t\t6:leaf=0.00289521809\r\n",
      "\t2:leaf=-0.0396836847\r\n",
      "booster[56]:\r\n",
      "0:[f2<4.85000038] yes=1,no=2,missing=1\r\n",
      "\t1:[f3<1.60000002] yes=3,no=4,missing=3\r\n",
      "\t\t3:leaf=-0.0829499215\r\n",
      "\t\t4:leaf=0.0167003665\r\n",
      "\t2:[f0<6.5999999] yes=5,no=6,missing=5\r\n",
      "\t\t5:leaf=0.0800748691\r\n",
      "\t\t6:leaf=-0.00911191292\r\n",
      "booster[57]:\r\n",
      "0:[f2<3.54999995] yes=1,no=2,missing=1\r\n",
      "\t1:leaf=0.0601638965\r\n",
      "\t2:leaf=-0.0759263635\r\n",
      "booster[58]:\r\n",
      "0:[f0<6.25] yes=1,no=2,missing=1\r\n",
      "\t1:[f0<5.94999981] yes=3,no=4,missing=3\r\n",
      "\t\t3:[f0<5.44999981] yes=5,no=6,missing=5\r\n",
      "\t\t\t5:leaf=-0.0369908363\r\n",
      "\t\t\t6:leaf=0.0625326335\r\n",
      "\t\t4:leaf=-0.0695222244\r\n",
      "\t2:leaf=0.0352729931\r\n",
      "booster[59]:\r\n",
      "0:[f2<4.94999981] yes=1,no=2,missing=1\r\n",
      "\t1:[f3<1.60000002] yes=3,no=4,missing=3\r\n",
      "\t\t3:leaf=-0.0903499722\r\n",
      "\t\t4:leaf=0.0362531692\r\n",
      "\t2:leaf=0.0545731373\r\n"
     ]
    }
   ],
   "source": [
    "!cat dump.raw.txt.raw.txtp.raw.txt"
   ]
  },
  {
   "cell_type": "code",
   "execution_count": null,
   "metadata": {},
   "outputs": [],
   "source": []
  }
 ],
 "metadata": {
  "kernelspec": {
   "display_name": "Python 3",
   "language": "python",
   "name": "python3"
  },
  "language_info": {
   "codemirror_mode": {
    "name": "ipython",
    "version": 3
   },
   "file_extension": ".py",
   "mimetype": "text/x-python",
   "name": "python",
   "nbconvert_exporter": "python",
   "pygments_lexer": "ipython3",
   "version": "3.6.9"
  }
 },
 "nbformat": 4,
 "nbformat_minor": 5
}
