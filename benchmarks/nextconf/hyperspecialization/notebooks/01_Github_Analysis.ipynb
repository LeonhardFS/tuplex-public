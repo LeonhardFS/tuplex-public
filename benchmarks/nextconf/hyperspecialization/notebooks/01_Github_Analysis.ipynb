{
 "cells": [
  {
   "cell_type": "code",
   "execution_count": 26,
   "id": "9041027f-9a0e-4c2d-8de4-066b57437dde",
   "metadata": {},
   "outputs": [],
   "source": [
    "import pandas as pd\n",
    "import json"
   ]
  },
  {
   "cell_type": "code",
   "execution_count": 27,
   "id": "d269055e-2f74-4229-9a38-614af4ba1c08",
   "metadata": {},
   "outputs": [
    {
     "name": "stdout",
     "output_type": "stream",
     "text": [
      "best\t\t  cjson\t\t     cstruct\t\t  yyjson\n",
      "best_results.csv  cjson_results.csv  cstruct_results.csv  yyjson_results.csv\n"
     ]
    }
   ],
   "source": [
    "!ls /home/leonhards/projects/tuplex-public/benchmarks/nextconf/hyperspecialization/github/local-exp/c++-baseline/github"
   ]
  },
  {
   "cell_type": "code",
   "execution_count": 28,
   "id": "83a6efce-882e-4cc9-9e08-0a21ea93ae6c",
   "metadata": {},
   "outputs": [],
   "source": [
    "df = pd.DataFrame()"
   ]
  },
  {
   "cell_type": "code",
   "execution_count": 29,
   "id": "67283d04-57bf-49d0-8d72-3be65d4325af",
   "metadata": {},
   "outputs": [],
   "source": [
    "import glob"
   ]
  },
  {
   "cell_type": "code",
   "execution_count": 30,
   "id": "5314c8a8-c4c4-4bbe-97fb-b954cbfc654f",
   "metadata": {},
   "outputs": [],
   "source": [
    "rpath = '/home/leonhards/projects/tuplex-public/benchmarks/nextconf/hyperspecialization/github/local-exp/c++-baseline/github'"
   ]
  },
  {
   "cell_type": "code",
   "execution_count": 31,
   "id": "313c808b-ff08-499d-b265-84be412df4b2",
   "metadata": {},
   "outputs": [],
   "source": [
    "for path in glob.glob(rpath + '/*.csv'):\n",
    "    df = pd.concat((df, pd.read_csv(path)))"
   ]
  },
  {
   "cell_type": "code",
   "execution_count": 32,
   "id": "ef2155cd-df1b-49af-baf9-5cb1fb1d506d",
   "metadata": {},
   "outputs": [
    {
     "data": {
      "text/html": [
       "<div>\n",
       "<style scoped>\n",
       "    .dataframe tbody tr th:only-of-type {\n",
       "        vertical-align: middle;\n",
       "    }\n",
       "\n",
       "    .dataframe tbody tr th {\n",
       "        vertical-align: top;\n",
       "    }\n",
       "\n",
       "    .dataframe thead th {\n",
       "        text-align: right;\n",
       "    }\n",
       "</style>\n",
       "<table border=\"1\" class=\"dataframe\">\n",
       "  <thead>\n",
       "    <tr style=\"text-align: right;\">\n",
       "      <th></th>\n",
       "    </tr>\n",
       "    <tr>\n",
       "      <th>mode</th>\n",
       "    </tr>\n",
       "  </thead>\n",
       "  <tbody>\n",
       "    <tr>\n",
       "      <th>best</th>\n",
       "    </tr>\n",
       "    <tr>\n",
       "      <th>cjson</th>\n",
       "    </tr>\n",
       "    <tr>\n",
       "      <th>cstruct</th>\n",
       "    </tr>\n",
       "    <tr>\n",
       "      <th>mode</th>\n",
       "    </tr>\n",
       "    <tr>\n",
       "      <th>yyjson</th>\n",
       "    </tr>\n",
       "  </tbody>\n",
       "</table>\n",
       "</div>"
      ],
      "text/plain": [
       "Empty DataFrame\n",
       "Columns: []\n",
       "Index: [best, cjson, cstruct, mode, yyjson]"
      ]
     },
     "execution_count": 32,
     "metadata": {},
     "output_type": "execute_result"
    }
   ],
   "source": [
    "df.groupby('mode').mean(numeric_only=True)"
   ]
  },
  {
   "cell_type": "code",
   "execution_count": 33,
   "id": "1a627327-6980-4b1b-81c8-977b1e4679b7",
   "metadata": {},
   "outputs": [],
   "source": [
    "df['total_time_in_s'] = pd.to_numeric(df['total_time_in_s'], errors='coerce')"
   ]
  },
  {
   "cell_type": "code",
   "execution_count": 34,
   "id": "e8f9309a-cb5f-4411-bfae-ea280c579dc4",
   "metadata": {},
   "outputs": [
    {
     "name": "stderr",
     "output_type": "stream",
     "text": [
      "/tmp/ipykernel_86324/3359699390.py:1: FutureWarning: The default value of numeric_only in DataFrameGroupBy.mean is deprecated. In a future version, numeric_only will default to False. Either specify numeric_only or select only columns which should be valid for the function.\n",
      "  df.dropna().groupby('mode').mean()\n"
     ]
    },
    {
     "data": {
      "text/html": [
       "<div>\n",
       "<style scoped>\n",
       "    .dataframe tbody tr th:only-of-type {\n",
       "        vertical-align: middle;\n",
       "    }\n",
       "\n",
       "    .dataframe tbody tr th {\n",
       "        vertical-align: top;\n",
       "    }\n",
       "\n",
       "    .dataframe thead th {\n",
       "        text-align: right;\n",
       "    }\n",
       "</style>\n",
       "<table border=\"1\" class=\"dataframe\">\n",
       "  <thead>\n",
       "    <tr style=\"text-align: right;\">\n",
       "      <th></th>\n",
       "      <th>total_time_in_s</th>\n",
       "    </tr>\n",
       "    <tr>\n",
       "      <th>mode</th>\n",
       "      <th></th>\n",
       "    </tr>\n",
       "  </thead>\n",
       "  <tbody>\n",
       "    <tr>\n",
       "      <th>best</th>\n",
       "      <td>22.072186</td>\n",
       "    </tr>\n",
       "    <tr>\n",
       "      <th>cjson</th>\n",
       "      <td>155.714987</td>\n",
       "    </tr>\n",
       "    <tr>\n",
       "      <th>cstruct</th>\n",
       "      <td>25.833117</td>\n",
       "    </tr>\n",
       "    <tr>\n",
       "      <th>yyjson</th>\n",
       "      <td>73.006668</td>\n",
       "    </tr>\n",
       "  </tbody>\n",
       "</table>\n",
       "</div>"
      ],
      "text/plain": [
       "         total_time_in_s\n",
       "mode                    \n",
       "best           22.072186\n",
       "cjson         155.714987\n",
       "cstruct        25.833117\n",
       "yyjson         73.006668"
      ]
     },
     "execution_count": 34,
     "metadata": {},
     "output_type": "execute_result"
    }
   ],
   "source": [
    "df.dropna().groupby('mode').mean()"
   ]
  },
  {
   "cell_type": "code",
   "execution_count": 35,
   "id": "8087c593-4486-439f-8010-26b40e8f2146",
   "metadata": {},
   "outputs": [],
   "source": [
    "def load_tuplex():\n",
    "    paths = [\n",
    "             '/home/leonhards/projects/tuplex-public/benchmarks/nextconf/hyperspecialization/github/local-exp/python-baseline/github/results.ndjson',\n",
    "             '/home/leonhards/projects/tuplex-public/benchmarks/nextconf/hyperspecialization/github/local-exp/tuplex/github/hyper/results.ndjson',\n",
    "             '/home/leonhards/projects/tuplex-public/benchmarks/nextconf/hyperspecialization/github/local-exp/tuplex/github/hyper-noopt/results.ndjson',\n",
    "             '/home/leonhards/projects/tuplex-public/benchmarks/nextconf/hyperspecialization/github/local-exp/tuplex/github/nohyper/results.ndjson',\n",
    "            ]\n",
    "    def extract_per_file_stats_tuplex(job_stats):\n",
    "        n_requests = len(job_stats['responses'])\n",
    "        L =  [job_stats['responses'][i]['stats'] for i in range(n_requests)]\n",
    "        for i in range(n_requests):\n",
    "            req_uri = job_stats['responses'][i]['request'][0]\n",
    "            L[i]['input_path'] = req_uri[:req_uri.rfind(':')]\n",
    "            L[i]['req_uri'] = req_uri\n",
    "            L[i]['duration'] = L[i]['request_total_time']\n",
    "            L[i]['num_input_rows'] = L[i]['input']['total_input_row_count']\n",
    "            L[i]['num_output_rows'] = L[i]['output']['normal']\n",
    "        return L\n",
    "    data = []\n",
    "    \n",
    "    for path in paths:\n",
    "        print(f'>>> processing {path}')\n",
    "        with open(path) as fp:\n",
    "            lines = fp.readlines()\n",
    "            rows = [json.loads(line) for line in lines]\n",
    "    \n",
    "            print(len(lines))\n",
    "            # row = rows[-1]\n",
    "            for row in rows:\n",
    "                if 'python-baseline' not in path:\n",
    "                    ans = {'benchmark': 'github'}\n",
    "                    for k in ['benchmark', 'input_path', 'job_time_in_s', 'metrics', 'mode', 'options', 'output_path', 'scratch_path', 'startup_time_in_s']:\n",
    "                        ans[k] = row.get(k)\n",
    "                    try:\n",
    "                        ans['per_file_stats'] = extract_per_file_stats_tuplex(row['detailed_job_stats'])\n",
    "                    except:\n",
    "                        print('--- ERR: extract failed')\n",
    "                    row = ans\n",
    "                data.append(row)\n",
    "                \n",
    "            del row\n",
    "            del rows\n",
    "            del lines\n",
    "    df = pd.DataFrame(data)        \n",
    "    return df"
   ]
  },
  {
   "cell_type": "code",
   "execution_count": 36,
   "id": "c5fd263c-e6f0-466f-97fc-f011b9694f3c",
   "metadata": {},
   "outputs": [
    {
     "name": "stdout",
     "output_type": "stream",
     "text": [
      ">>> processing /home/leonhards/projects/tuplex-public/benchmarks/nextconf/hyperspecialization/github/local-exp/python-baseline/github/results.ndjson\n",
      "5\n",
      ">>> processing /home/leonhards/projects/tuplex-public/benchmarks/nextconf/hyperspecialization/github/local-exp/tuplex/github/hyper/results.ndjson\n",
      "4\n",
      ">>> processing /home/leonhards/projects/tuplex-public/benchmarks/nextconf/hyperspecialization/github/local-exp/tuplex/github/hyper-noopt/results.ndjson\n",
      "4\n",
      ">>> processing /home/leonhards/projects/tuplex-public/benchmarks/nextconf/hyperspecialization/github/local-exp/tuplex/github/nohyper/results.ndjson\n",
      "4\n"
     ]
    }
   ],
   "source": [
    "df_tplx= load_tuplex()"
   ]
  },
  {
   "cell_type": "code",
   "execution_count": 37,
   "id": "dfd1c279-79c6-4dbc-a5ba-6dcd38c385ad",
   "metadata": {},
   "outputs": [
    {
     "name": "stderr",
     "output_type": "stream",
     "text": [
      "/tmp/ipykernel_86324/556165960.py:1: FutureWarning: The default value of numeric_only in DataFrameGroupBy.mean is deprecated. In a future version, numeric_only will default to False. Either specify numeric_only or select only columns which should be valid for the function.\n",
      "  df_tplx.groupby('output_path').mean()\n"
     ]
    },
    {
     "data": {
      "text/html": [
       "<div>\n",
       "<style scoped>\n",
       "    .dataframe tbody tr th:only-of-type {\n",
       "        vertical-align: middle;\n",
       "    }\n",
       "\n",
       "    .dataframe tbody tr th {\n",
       "        vertical-align: top;\n",
       "    }\n",
       "\n",
       "    .dataframe thead th {\n",
       "        text-align: right;\n",
       "    }\n",
       "</style>\n",
       "<table border=\"1\" class=\"dataframe\">\n",
       "  <thead>\n",
       "    <tr style=\"text-align: right;\">\n",
       "      <th></th>\n",
       "      <th>job_time_in_s</th>\n",
       "      <th>startup_time_in_s</th>\n",
       "      <th>total_input_paths_size_in_bytes</th>\n",
       "      <th>total_input_rows</th>\n",
       "      <th>total_output_rows</th>\n",
       "    </tr>\n",
       "    <tr>\n",
       "      <th>output_path</th>\n",
       "      <th></th>\n",
       "      <th></th>\n",
       "      <th></th>\n",
       "      <th></th>\n",
       "      <th></th>\n",
       "    </tr>\n",
       "  </thead>\n",
       "  <tbody>\n",
       "    <tr>\n",
       "      <th>./local-exp/python-baseline/github/output</th>\n",
       "      <td>138.595526</td>\n",
       "      <td>0.000000</td>\n",
       "      <td>3.807602e+10</td>\n",
       "      <td>11012665.0</td>\n",
       "      <td>294195.0</td>\n",
       "    </tr>\n",
       "    <tr>\n",
       "      <th>./local-exp/tuplex/github/hyper-noopt/output</th>\n",
       "      <td>170.382859</td>\n",
       "      <td>0.020130</td>\n",
       "      <td>NaN</td>\n",
       "      <td>NaN</td>\n",
       "      <td>NaN</td>\n",
       "    </tr>\n",
       "    <tr>\n",
       "      <th>./local-exp/tuplex/github/hyper/output</th>\n",
       "      <td>171.051636</td>\n",
       "      <td>0.020238</td>\n",
       "      <td>NaN</td>\n",
       "      <td>NaN</td>\n",
       "      <td>NaN</td>\n",
       "    </tr>\n",
       "    <tr>\n",
       "      <th>./local-exp/tuplex/github/nohyper/output</th>\n",
       "      <td>182.090354</td>\n",
       "      <td>0.020099</td>\n",
       "      <td>NaN</td>\n",
       "      <td>NaN</td>\n",
       "      <td>NaN</td>\n",
       "    </tr>\n",
       "  </tbody>\n",
       "</table>\n",
       "</div>"
      ],
      "text/plain": [
       "                                              job_time_in_s  \\\n",
       "output_path                                                   \n",
       "./local-exp/python-baseline/github/output        138.595526   \n",
       "./local-exp/tuplex/github/hyper-noopt/output     170.382859   \n",
       "./local-exp/tuplex/github/hyper/output           171.051636   \n",
       "./local-exp/tuplex/github/nohyper/output         182.090354   \n",
       "\n",
       "                                              startup_time_in_s  \\\n",
       "output_path                                                       \n",
       "./local-exp/python-baseline/github/output              0.000000   \n",
       "./local-exp/tuplex/github/hyper-noopt/output           0.020130   \n",
       "./local-exp/tuplex/github/hyper/output                 0.020238   \n",
       "./local-exp/tuplex/github/nohyper/output               0.020099   \n",
       "\n",
       "                                              total_input_paths_size_in_bytes  \\\n",
       "output_path                                                                     \n",
       "./local-exp/python-baseline/github/output                        3.807602e+10   \n",
       "./local-exp/tuplex/github/hyper-noopt/output                              NaN   \n",
       "./local-exp/tuplex/github/hyper/output                                    NaN   \n",
       "./local-exp/tuplex/github/nohyper/output                                  NaN   \n",
       "\n",
       "                                              total_input_rows  \\\n",
       "output_path                                                      \n",
       "./local-exp/python-baseline/github/output           11012665.0   \n",
       "./local-exp/tuplex/github/hyper-noopt/output               NaN   \n",
       "./local-exp/tuplex/github/hyper/output                     NaN   \n",
       "./local-exp/tuplex/github/nohyper/output                   NaN   \n",
       "\n",
       "                                              total_output_rows  \n",
       "output_path                                                      \n",
       "./local-exp/python-baseline/github/output              294195.0  \n",
       "./local-exp/tuplex/github/hyper-noopt/output                NaN  \n",
       "./local-exp/tuplex/github/hyper/output                      NaN  \n",
       "./local-exp/tuplex/github/nohyper/output                    NaN  "
      ]
     },
     "execution_count": 37,
     "metadata": {},
     "output_type": "execute_result"
    }
   ],
   "source": [
    "df_tplx.groupby('output_path').mean()"
   ]
  },
  {
   "cell_type": "code",
   "execution_count": 38,
   "id": "e0ab44cf-ec1a-47c2-8cba-435df08507bc",
   "metadata": {},
   "outputs": [
    {
     "name": "stderr",
     "output_type": "stream",
     "text": [
      "/tmp/ipykernel_86324/3359699390.py:1: FutureWarning: The default value of numeric_only in DataFrameGroupBy.mean is deprecated. In a future version, numeric_only will default to False. Either specify numeric_only or select only columns which should be valid for the function.\n",
      "  df.dropna().groupby('mode').mean()\n"
     ]
    },
    {
     "data": {
      "text/html": [
       "<div>\n",
       "<style scoped>\n",
       "    .dataframe tbody tr th:only-of-type {\n",
       "        vertical-align: middle;\n",
       "    }\n",
       "\n",
       "    .dataframe tbody tr th {\n",
       "        vertical-align: top;\n",
       "    }\n",
       "\n",
       "    .dataframe thead th {\n",
       "        text-align: right;\n",
       "    }\n",
       "</style>\n",
       "<table border=\"1\" class=\"dataframe\">\n",
       "  <thead>\n",
       "    <tr style=\"text-align: right;\">\n",
       "      <th></th>\n",
       "      <th>total_time_in_s</th>\n",
       "    </tr>\n",
       "    <tr>\n",
       "      <th>mode</th>\n",
       "      <th></th>\n",
       "    </tr>\n",
       "  </thead>\n",
       "  <tbody>\n",
       "    <tr>\n",
       "      <th>best</th>\n",
       "      <td>22.072186</td>\n",
       "    </tr>\n",
       "    <tr>\n",
       "      <th>cjson</th>\n",
       "      <td>155.714987</td>\n",
       "    </tr>\n",
       "    <tr>\n",
       "      <th>cstruct</th>\n",
       "      <td>25.833117</td>\n",
       "    </tr>\n",
       "    <tr>\n",
       "      <th>yyjson</th>\n",
       "      <td>73.006668</td>\n",
       "    </tr>\n",
       "  </tbody>\n",
       "</table>\n",
       "</div>"
      ],
      "text/plain": [
       "         total_time_in_s\n",
       "mode                    \n",
       "best           22.072186\n",
       "cjson         155.714987\n",
       "cstruct        25.833117\n",
       "yyjson         73.006668"
      ]
     },
     "execution_count": 38,
     "metadata": {},
     "output_type": "execute_result"
    }
   ],
   "source": [
    "df.dropna().groupby('mode').mean()"
   ]
  },
  {
   "cell_type": "code",
   "execution_count": null,
   "id": "b3757798-65b0-437a-9739-3b7c30708062",
   "metadata": {},
   "outputs": [],
   "source": []
  }
 ],
 "metadata": {
  "kernelspec": {
   "display_name": "Python 3 (ipykernel)",
   "language": "python",
   "name": "python3"
  },
  "language_info": {
   "codemirror_mode": {
    "name": "ipython",
    "version": 3
   },
   "file_extension": ".py",
   "mimetype": "text/x-python",
   "name": "python",
   "nbconvert_exporter": "python",
   "pygments_lexer": "ipython3",
   "version": "3.9.8"
  }
 },
 "nbformat": 4,
 "nbformat_minor": 5
}
