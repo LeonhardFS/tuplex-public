{
 "cells": [
  {
   "cell_type": "code",
   "execution_count": 1,
   "id": "3662c034",
   "metadata": {},
   "outputs": [],
   "source": [
    "%matplotlib inline\n",
    "import pandas as pd\n",
    "import glob\n",
    "import matplotlib.pyplot as plt\n",
    "import numpy as np\n",
    "import matplotlib.patches as mpatches\n",
    "from brokenaxes import brokenaxes\n",
    "from enum import Enum\n",
    "import argparse\n",
    "import os\n",
    "import json\n",
    "\n",
    "import seaborn as sns\n",
    "\n",
    "from paper import *\n",
    "\n",
    "PLAIN_COLOR = \"#4285F4\"\n",
    "INCREMENTAL_COLOR = '#DB4437'\n",
    "COMMIT_COLOR = \"#F4B400\"\n",
    "from enum import IntFlag\n",
    "\n",
    "class Mode(IntFlag):\n",
    "    OUT_OF_ORDER = 0\n",
    "    IN_ORDER = 1\n",
    "    COMMIT = 2\n",
    "    INCREMENTAL = 4"
   ]
  },
  {
   "cell_type": "code",
   "execution_count": 2,
   "id": "43e406ee",
   "metadata": {},
   "outputs": [
    {
     "name": "stderr",
     "output_type": "stream",
     "text": [
      "<ipython-input-2-98e1559fe72f>:8: MatplotlibDeprecationWarning: Support for setting the 'text.latex.preamble' or 'pgf.preamble' rcParam to a list of strings is deprecated since 3.3 and will be removed two minor releases later; set it to a single string instead.\n",
      "  matplotlib.rc('text.latex', preamble=['\\\\usepackage{times,mathptmx}'])\n",
      "/Users/leonhards/projects/tuplex-public/benchmarks/incremental/notebooks/paper.py:36: MatplotlibDeprecationWarning: Support for setting the 'text.latex.preamble' or 'pgf.preamble' rcParam to a list of strings is deprecated since 3.3 and will be removed two minor releases later; set it to a single string instead.\n",
      "  matplotlib.rc('text.latex', preamble=['\\\\usepackage{times,mathptmx}'])\n"
     ]
    }
   ],
   "source": [
    "\n",
    "palette_colors = [[.22, .52, .71], [.53, .80, .81],\n",
    "                  [144 / 255., 12 / 255, 63 / 255.],\n",
    "                  [67 / 255., 135 / 255., 107 / 255.],\n",
    "                  [248 / 255., 194 / 255., 145 / 255.]]\n",
    "sns.set_palette(palette_colors)\n",
    "\n",
    "matplotlib.rc('font', family='serif', size=9)\n",
    "matplotlib.rc('text.latex', preamble=['\\\\usepackage{times,mathptmx}'])\n",
    "matplotlib.rc('text', usetex=True)\n",
    "matplotlib.rc('legend', fontsize=8)\n",
    "matplotlib.rc('figure', figsize=(2.5, 1.4))\n",
    "matplotlib.rc('axes', linewidth=0.5)\n",
    "matplotlib.rc('lines', linewidth=0.5)\n",
    "\n",
    "adjust_settings()"
   ]
  },
  {
   "cell_type": "code",
   "execution_count": 89,
   "id": "1f561130",
   "metadata": {},
   "outputs": [
    {
     "data": {
      "image/png": "[encoded data removed]",
      "text/plain": [
       "<Figure size 720x288 with 1 Axes>"
      ]
     },
     "metadata": {},
     "output_type": "display_data"
    }
   ],
   "source": [
    "# generate from these the plot\n",
    "e_pct = np.array([.2, .1, .08])\n",
    "\n",
    "# calc normal from e_pct\n",
    "n_pct = [0] * len(e_pct)\n",
    "n_pct[0] = 1.0 - e_pct[0]\n",
    "n_last_pct = [0] * len(n_pct)\n",
    "\n",
    "for i in range(1, len(e_pct)):\n",
    "    n_pct[i] = n_pct[i-1] + e_pct[i-1] - e_pct[i]\n",
    "    n_last_pct[i] = n_pct[i - 1]\n",
    "e_pct, n_pct\n",
    "\n",
    "xq = list(range(2 * len(n_pct)))\n",
    "for i in range(0, len(xq), 2):\n",
    "    xq[i] *= 2\n",
    "    xq[i + 1] = xq[i] + 1\n",
    "xq\n",
    "\n",
    "plt.figure(figsize=(10,4))\n",
    "lw= 2\n",
    "plt.bar(np.array(xq[::2])-.5, (np.array(n_pct) - np.array(n_last_pct)) * 10, \n",
    "        bottom = np.array(n_last_pct) * 10,\n",
    "        width=1, ec='none', linewidth=lw)\n",
    "patches = plt.bar(np.array(xq[::2])-.5, np.array(n_last_pct) * 10, width=1, color='none',\n",
    "        ec=sns.color_palette()[0], hatch='//', linewidth=2 * lw)\n",
    "\n",
    "\n",
    "plt.bar(np.array(xq[1::2]) -.5, np.array(e_pct) * 10, width=1, color=sns.color_palette()[1],\n",
    "        ec='none', linewidth=lw)\n",
    "# plt.bar(np.array(xq[::2])-.5, np.array(n_last_pct) * 10, width=1)\n",
    "\n",
    "for bar in patches:\n",
    "    bar.set_clip_path(bar.get_path(), bar.get_transform())\n",
    "\n",
    "# xq = [0, 1, 4, 5]\n",
    "# yq = [10, 4, 12, 3]\n",
    "# plt.bar(xq, yq)\n",
    "\n",
    "# #plt.text(5.25, 0.05, savings_label, ha=\"center\", va=\"center\", size=20, bbox=dict(facecolor='white', alpha=1.0))\n",
    "for i in range(len(n_pct)):\n",
    "    plt.arrow(1.5 + 4 * i - 4, 4.5, 1, 0, length_includes_head=True, width=0.5,\n",
    "              head_width=1.5, head_length=.25, edgecolor='none', facecolor=[0.8]*3)\n",
    "# plt.axis('off')\n",
    "plt.grid(False)\n",
    "sns.despine()"
   ]
  },
  {
   "cell_type": "code",
   "execution_count": null,
   "id": "9ee9f82f",
   "metadata": {},
   "outputs": [],
   "source": []
  },
  {
   "cell_type": "code",
   "execution_count": null,
   "id": "6a4bd0b2",
   "metadata": {},
   "outputs": [],
   "source": []
  },
  {
   "cell_type": "code",
   "execution_count": null,
   "id": "d7f74c02",
   "metadata": {},
   "outputs": [],
   "source": []
  },
  {
   "cell_type": "code",
   "execution_count": 172,
   "id": "5c594993",
   "metadata": {},
   "outputs": [
    {
     "data": {
      "text/plain": [
       "0.0006399999999999999"
      ]
     },
     "execution_count": 172,
     "metadata": {},
     "output_type": "execute_result"
    }
   ],
   "source": [
    "# cost curves (cumulative, r5d.8xlarge)\n",
    "\n",
    "# TODO plot this => how much does a second cost?\n",
    "\n",
    "# $2.304 on-demand, r5d.8xlarge cost per hour\n",
    "cost_per_h = 2.304\n",
    "cost_per_s = cost_per_h / 3600.0\n",
    "\n",
    "cost_per_s"
   ]
  },
  {
   "cell_type": "code",
   "execution_count": 200,
   "id": "fb74c249",
   "metadata": {},
   "outputs": [],
   "source": [
    "gdf = df.groupby(['run', 'order', 'incremental', 'commit'])\n",
    "df_cum = pd.DataFrame()\n",
    "for k in gdf.groups.keys():\n",
    "    subdf = gdf.get_group(k).sort_values(by='step').reset_index(drop=True)\n",
    "    subdf['jobTimeCumulative'] = subdf['jobTime'].cumsum()\n",
    "    subdf['fast_path_time_s_cumulative'] = subdf['fast_path_time_s'].cumsum()\n",
    "    subdf['slow_path_time_s_cumulative'] = subdf['slow_path_time_s'].cumsum()\n",
    "    subdf['write_output_wall_time_s_cumulative'] = subdf['write_output_wall_time_s'].cumsum()\n",
    "    df_cum = pd.concat((df_cum, subdf))"
   ]
  },
  {
   "cell_type": "code",
   "execution_count": 204,
   "id": "ad53c3a4",
   "metadata": {},
   "outputs": [],
   "source": [
    "df_cum_mu = df_cum.groupby(['step', 'order', 'incremental', 'commit']).mean().reset_index()\n",
    "df_cum_std = df_cum.groupby(['step', 'order', 'incremental', 'commit']).std().reset_index()"
   ]
  },
  {
   "cell_type": "code",
   "execution_count": 256,
   "id": "95c44389",
   "metadata": {},
   "outputs": [
    {
     "data": {
      "text/plain": [
       "'$63\\\\mathrm{\\\\%} - 67\\\\mathrm{\\\\%}$'"
      ]
     },
     "execution_count": 256,
     "metadata": {},
     "output_type": "execute_result"
    }
   ],
   "source": [
    "# cost reduction\n",
    "subdf = df_cum_mu[(df_cum_mu['step'] == 6) & ~df_cum_mu['commit']].groupby(['order', 'commit'])['jobTimeCumulative'].agg(['min', 'max']).reset_index()\n",
    "subdf['reduction'] = 1.0 - subdf['min'] / subdf['max']\n",
    "a_min = subdf['reduction'].min() \n",
    "a_max = subdf['reduction'].max()\n",
    "\n",
    "savings_label = '${:.0f}\\\\mathrm{{\\\\%}} - {:.0f}\\\\mathrm{{\\\\%}}$'.format(a_min * 100, a_max * 100)\n",
    "savings_label"
   ]
  },
  {
   "cell_type": "code",
   "execution_count": 257,
   "id": "80ba7882",
   "metadata": {},
   "outputs": [],
   "source": [
    "def sel_df(df, order, incremental):\n",
    "    return df[(df['order'] == order) & (df['incremental'] == incremental) & ~df['commit']].sort_values(by='step').reset_index(drop=True)"
   ]
  },
  {
   "cell_type": "code",
   "execution_count": 258,
   "id": "a9fc6e1e",
   "metadata": {},
   "outputs": [],
   "source": [
    "combos = [('in', False), ('in', True), ('out', False), ('out', True)]"
   ]
  },
  {
   "cell_type": "code",
   "execution_count": 328,
   "id": "526d6762",
   "metadata": {},
   "outputs": [
    {
     "name": "stderr",
     "output_type": "stream",
     "text": [
      "<ipython-input-328-b59f7c08f5b2>:14: UserWarning: Setting the 'color' property will override the edgecolor or facecolor properties.\n",
      "  plt.arrow(6, 0.075, 0, -0.041, length_includes_head=True, width=0.1,\n"
     ]
    },
    {
     "data": {
      "image/png": "[encoded data removed]",
      "text/plain": [
       "<Figure size 720x360 with 1 Axes>"
      ]
     },
     "metadata": {},
     "output_type": "display_data"
    }
   ],
   "source": [
    "plt.figure(figsize=(10, 5))\n",
    "markers = ['^', 'P', '^', 'P']\n",
    "linestyles=['-', '-', '--', '--']\n",
    "for i, combo in enumerate(combos):\n",
    "    order, inc = combo\n",
    "    marker = markers[i]\n",
    "    ls = linestyles[i]\n",
    "    subdf_mu = sel_df(df_cum_mu, order, inc)\n",
    "    subdf_std = sel_df(df_cum_std, order, inc)\n",
    "    plt.plot(subdf_mu['step'], subdf_mu['jobTimeCumulative'] * cost_per_s,\n",
    "             marker=marker, linewidth=3, alpha=.8, linestyle=ls)\n",
    "\n",
    "plt.text(5.25, 0.05, savings_label, ha=\"center\", va=\"center\", size=20, bbox=dict(facecolor='white', alpha=1.0))\n",
    "plt.arrow(6, 0.075, 0, -0.041, length_includes_head=True, width=0.1,\n",
    "          head_width=0.3, head_length=0.005, edgecolor='none', color=[0.8]*3)\n",
    "\n",
    "hlabels=[('Plain (in-order)', sns.color_palette()[0]),\n",
    "         ('Incremental (in-order)', sns.color_palette()[1]),\n",
    "         ('Plain (out-of-order)', sns.color_palette()[2]),\n",
    "         ('Incremental (out-of-order)', sns.color_palette()[3])]\n",
    "handles = []\n",
    "for i, h in enumerate(hlabels):\n",
    "    marker = markers[i]\n",
    "    handles.append(Line2D([0], [0], marker=marker, color='w', label=h[0],\n",
    "                        markerfacecolor=h[1], markersize=20))\n",
    "plt.legend(handles=handles, fontsize=16, handletextpad=0.05, framealpha=1,\n",
    "          bbox_to_anchor=(0, 1), loc='upper left', borderaxespad=0)\n",
    "\n",
    "plt.ylim(0, 0.09)\n",
    "plt.grid(axis='x')\n",
    "sns.despine()\n",
    "plt.ylabel('cost (\\$)')\n",
    "plt.xlabel('exception resolution step')\n",
    "\n",
    "plt.savefig(os.path.join('plots', 'cost-curve.pdf'), transparent=True, dpi=120, bbox_inches = 'tight', pad_inches = 0)"
   ]
  },
  {
   "cell_type": "code",
   "execution_count": null,
   "id": "eda3b333",
   "metadata": {},
   "outputs": [],
   "source": []
  }
 ],
 "metadata": {
  "kernelspec": {
   "display_name": "Python 3",
   "language": "python",
   "name": "python3"
  },
  "language_info": {
   "codemirror_mode": {
    "name": "ipython",
    "version": 3
   },
   "file_extension": ".py",
   "mimetype": "text/x-python",
   "name": "python",
   "nbconvert_exporter": "python",
   "pygments_lexer": "ipython3",
   "version": "3.9.10"
  }
 },
 "nbformat": 4,
 "nbformat_minor": 5
}
