{
 "cells": [
  {
   "cell_type": "code",
   "execution_count": 1,
   "id": "3662c034",
   "metadata": {},
   "outputs": [],
   "source": [
    "%matplotlib inline\n",
    "import pandas as pd\n",
    "import glob\n",
    "import matplotlib.pyplot as plt\n",
    "import numpy as np\n",
    "import matplotlib.patches as mpatches\n",
    "from brokenaxes import brokenaxes\n",
    "from enum import Enum\n",
    "import argparse\n",
    "import os\n",
    "import json\n",
    "\n",
    "import seaborn as sns\n",
    "\n",
    "from paper import *\n",
    "\n",
    "PLAIN_COLOR = \"#4285F4\"\n",
    "INCREMENTAL_COLOR = '#DB4437'\n",
    "COMMIT_COLOR = \"#F4B400\"\n",
    "from enum import IntFlag\n",
    "\n",
    "class Mode(IntFlag):\n",
    "    OUT_OF_ORDER = 0\n",
    "    IN_ORDER = 1\n",
    "    COMMIT = 2\n",
    "    INCREMENTAL = 4"
   ]
  },
  {
   "cell_type": "code",
   "execution_count": 2,
   "id": "8430a5f3",
   "metadata": {},
   "outputs": [
    {
     "name": "stderr",
     "output_type": "stream",
     "text": [
      "<ipython-input-2-98e1559fe72f>:8: MatplotlibDeprecationWarning: Support for setting the 'text.latex.preamble' or 'pgf.preamble' rcParam to a list of strings is deprecated since 3.3 and will be removed two minor releases later; set it to a single string instead.\n",
      "  matplotlib.rc('text.latex', preamble=['\\\\usepackage{times,mathptmx}'])\n",
      "/Users/leonhards/projects/tuplex-public/benchmarks/incremental/notebooks/paper.py:36: MatplotlibDeprecationWarning: Support for setting the 'text.latex.preamble' or 'pgf.preamble' rcParam to a list of strings is deprecated since 3.3 and will be removed two minor releases later; set it to a single string instead.\n",
      "  matplotlib.rc('text.latex', preamble=['\\\\usepackage{times,mathptmx}'])\n"
     ]
    }
   ],
   "source": [
    "\n",
    "palette_colors = [[.22, .52, .71], [.53, .80, .81],\n",
    "                  [144 / 255., 12 / 255, 63 / 255.],\n",
    "                  [67 / 255., 135 / 255., 107 / 255.],\n",
    "                  [248 / 255., 194 / 255., 145 / 255.]]\n",
    "sns.set_palette(palette_colors)\n",
    "\n",
    "matplotlib.rc('font', family='serif', size=9)\n",
    "matplotlib.rc('text.latex', preamble=['\\\\usepackage{times,mathptmx}'])\n",
    "matplotlib.rc('text', usetex=True)\n",
    "matplotlib.rc('legend', fontsize=8)\n",
    "matplotlib.rc('figure', figsize=(2.5, 1.4))\n",
    "matplotlib.rc('axes', linewidth=0.5)\n",
    "matplotlib.rc('lines', linewidth=0.5)\n",
    "\n",
    "adjust_settings()"
   ]
  },
  {
   "cell_type": "code",
   "execution_count": 196,
   "id": "60e5a190",
   "metadata": {},
   "outputs": [
    {
     "data": {
      "image/png": "[encoded data removed]",
      "text/plain": [
       "<Figure size 1080x216 with 1 Axes>"
      ]
     },
     "metadata": {},
     "output_type": "display_data"
    }
   ],
   "source": [
    "# generate from these the plot\n",
    "e_pct = np.array([.2, .1, .08, 0.005])\n",
    "\n",
    "# calc normal from e_pct\n",
    "n_pct = [0] * len(e_pct)\n",
    "n_pct[0] = 1.0 - e_pct[0]\n",
    "n_last_pct = [0] * len(n_pct)\n",
    "\n",
    "for i in range(1, len(e_pct)):\n",
    "    n_pct[i] = n_pct[i-1] + e_pct[i-1] - e_pct[i]\n",
    "    n_last_pct[i] = n_pct[i - 1]\n",
    "e_pct, n_pct\n",
    "\n",
    "xq = list(range(2 * len(n_pct)))\n",
    "for i in range(0, len(xq), 2):\n",
    "    xq[i] *= 2\n",
    "    xq[i + 1] = xq[i] + 1\n",
    "xq\n",
    "\n",
    "plt.figure(figsize=(15,3))\n",
    "lw= 2\n",
    "factor = 9\n",
    "plt.bar(np.array(xq[::2])-.5, (np.array(n_pct) - np.array(n_last_pct)) * factor, \n",
    "        bottom = np.array(n_last_pct) * factor,\n",
    "        width=1, ec='none', linewidth=lw)\n",
    "patches = plt.bar(np.array(xq[::2])-.5, np.array(n_last_pct) * factor, width=1, color='none',\n",
    "        ec=sns.color_palette()[0], hatch='//', linewidth=2 * lw)\n",
    "\n",
    "\n",
    "plt.bar(np.array(xq[1::2]) -.5, np.array(e_pct) * factor, width=1, color=sns.color_palette()[1],\n",
    "        ec='none', linewidth=lw)\n",
    "# plt.bar(np.array(xq[::2])-.5, np.array(n_last_pct) * 10, width=1)\n",
    "\n",
    "for bar in patches:\n",
    "    bar.set_clip_path(bar.get_path(), bar.get_transform())\n",
    "\n",
    "# xq = [0, 1, 4, 5]\n",
    "# yq = [10, 4, 12, 3]\n",
    "# plt.bar(xq, yq)\n",
    "\n",
    "from matplotlib.collections import PatchCollection\n",
    "from matplotlib.patches import Rectangle\n",
    "\n",
    "paths = [Rectangle((-5.5 + 0.4 * i, 3.5 - 0.4 * i), 1.5, 4) for i in range(3)]\n",
    "pc = PatchCollection(paths, facecolor='white', edgecolor=[.3]*3)\n",
    "ax = plt.gca()\n",
    "ax.add_collection(pc)\n",
    "plt.text(-4.25, 1.24, 'input data', ha='center', va='center', size=20)\n",
    "\n",
    "# #plt.text(5.25, 0.05, savings_label, ha=\"center\", va=\"center\", size=20, bbox=dict(facecolor='white', alpha=1.0))\n",
    "for i in range(len(n_pct) + 1):\n",
    "    plt.arrow(1.5 + 4 * i - 4, 4.5, 1, 0, length_includes_head=True, width=0.5,\n",
    "              head_width=1, head_length=.5, edgecolor='none', facecolor=[0.8]*3)\n",
    "    \n",
    "    if i != len(n_pct):\n",
    "        darken_factor=.4\n",
    "        plt.text(i * 4 - .15, -1, 'normal', ha='right', size=16,\n",
    "                 color=np.array(sns.color_palette()[0]))\n",
    "        plt.text(i * 4 + .15, -1, 'except', ha='left', size=16,\n",
    "                 color=np.array(sns.color_palette()[1]) * darken_factor)\n",
    "        \n",
    "paths = [Rectangle((max(xq) + 2 + 0.4 * i, 3.5 - 0.4 * i - .6), 1.5, 4) for i in range(2)]\n",
    "pc = PatchCollection(paths, edgecolor=[.3]*3, facecolor=[.98]*3)\n",
    "ax = plt.gca()\n",
    "ax.add_collection(pc)\n",
    "plt.text(max(xq) + 3 , 1.24, 'output', ha='center', va='center', size=20)\n",
    "        \n",
    "plt.axis('off')\n",
    "plt.grid(False)\n",
    "plt.xlim(-6, max(xq) + 4)\n",
    "sns.despine()\n",
    "plt.savefig(os.path.join('plots', 'design-overview.pdf'),\n",
    "            transparent=True, dpi=120, bbox_inches = 'tight', pad_inches = 0)"
   ]
  },
  {
   "cell_type": "code",
   "execution_count": null,
   "id": "b4a53f72",
   "metadata": {},
   "outputs": [],
   "source": []
  },
  {
   "cell_type": "code",
   "execution_count": null,
   "id": "eda3b333",
   "metadata": {},
   "outputs": [],
   "source": []
  }
 ],
 "metadata": {
  "kernelspec": {
   "display_name": "Python 3",
   "language": "python",
   "name": "python3"
  },
  "language_info": {
   "codemirror_mode": {
    "name": "ipython",
    "version": 3
   },
   "file_extension": ".py",
   "mimetype": "text/x-python",
   "name": "python",
   "nbconvert_exporter": "python",
   "pygments_lexer": "ipython3",
   "version": "3.9.10"
  }
 },
 "nbformat": 4,
 "nbformat_minor": 5
}
