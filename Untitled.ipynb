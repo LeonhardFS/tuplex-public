{
 "cells": [
  {
   "cell_type": "code",
   "execution_count": null,
   "id": "7742dcf3",
   "metadata": {},
   "outputs": [],
   "source": [
    "import tuplex"
   ]
  },
  {
   "cell_type": "code",
   "execution_count": null,
   "id": "14869c6a",
   "metadata": {},
   "outputs": [],
   "source": [
    "c = tuplex.LambdaContext()"
   ]
  },
  {
   "cell_type": "code",
   "execution_count": null,
   "id": "824dc6e0",
   "metadata": {},
   "outputs": [],
   "source": [
    "paths = c.ls(\"s3://tuplex-public/data/github\")"
   ]
  },
  {
   "cell_type": "code",
   "execution_count": null,
   "id": "40599395",
   "metadata": {},
   "outputs": [],
   "source": [
    "c.csv('s3://tuplex-public/data/100GB/zillow_00001.csv').show(5)"
   ]
  },
  {
   "cell_type": "code",
   "execution_count": null,
   "id": "14b9bc87",
   "metadata": {},
   "outputs": [],
   "source": []
  }
 ],
 "metadata": {
  "kernelspec": {
   "display_name": "Python 3",
   "language": "python",
   "name": "python3"
  },
  "language_info": {
   "codemirror_mode": {
    "name": "ipython",
    "version": 3
   },
   "file_extension": ".py",
   "mimetype": "text/x-python",
   "name": "python",
   "nbconvert_exporter": "python",
   "pygments_lexer": "ipython3",
   "version": "3.9.7"
  }
 },
 "nbformat": 4,
 "nbformat_minor": 5
}
