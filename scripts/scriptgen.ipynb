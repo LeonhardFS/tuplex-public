{
 "cells": [
  {
   "cell_type": "code",
   "execution_count": 1,
   "id": "184a1e8f",
   "metadata": {},
   "outputs": [],
   "source": [
    "# this script is intended to help generate install_dependecy scripts for different platforms\n"
   ]
  },
  {
   "cell_type": "code",
   "execution_count": 2,
   "id": "f7e6a6be",
   "metadata": {},
   "outputs": [],
   "source": [
    "import os\n",
    "import glob\n",
    "import json\n",
    "import datetime"
   ]
  },
  {
   "cell_type": "code",
   "execution_count": 70,
   "id": "23e48f13",
   "metadata": {},
   "outputs": [],
   "source": [
    "def bash_header(install_prefix='/opt', workdir='/tmp'):\n",
    "    current_year = datetime.datetime.now().year\n",
    "    current_date = str(datetime.datetime.now())\n",
    "    return '''#!/usr/bin/env bash\n",
    "# (c) Tuplex team 2017-{}\n",
    "# auto-generated on {}\n",
    "# install all dependencies required to compile tuplex + whatever is needed for profiling\n",
    "# everything will be installed to {} by default'''.format(current_year, current_date, install_prefix) + \\\n",
    "'\\n' + '''\n",
    "# need to run this with root privileges\n",
    "if [[ $(id -u) -ne 0 ]]; then\n",
    "  echo \"Please run this script with root privileges\"\n",
    "  exit 1\n",
    "fi\n",
    "\n",
    "export DEBIAN_FRONTEND=noninteractive\n",
    "\n",
    "PREFIX=${{PREFIX:-{}}}\n",
    "WORKDIR=${{WORKDIR:-{}}}\n",
    "\n",
    "echo \">> Installing packages into ${{PREFIX}}\"\n",
    "mkdir -p $PREFIX && chmod 0755 $PREFIX\n",
    "mkdir -p $PREFIX/sbin\n",
    "mkdir -p $PREFIX/bin\n",
    "mkdir -p $PREFIX/share\n",
    "mkdir -p $PREFIX/include\n",
    "mkdir -p $PREFIX/lib\n",
    "\n",
    "echo \">> Files will be downloaded to ${{WORKDIR}}/tuplex-downloads\"\n",
    "WORKDIR=$WORKDIR/tuplex-downloads\n",
    "mkdir -p $WORKDIR\n",
    "\n",
    "PYTHON_EXECUTABLE=${{PYTHON_EXECUTABLE:-python3}}\n",
    "PYTHON_BASENAME=\"$(basename -- $PYTHON_EXECUTABLE)\"\n",
    "PYTHON_VERSION=$(${{PYTHON_EXECUTABLE}} --version)\n",
    "echo \">> Building dependencies for ${{PYTHON_VERSION}}\"\n",
    "\n",
    "'''.format(install_prefix, workdir)"
   ]
  },
  {
   "cell_type": "code",
   "execution_count": 71,
   "id": "4d613c70",
   "metadata": {},
   "outputs": [],
   "source": [
    "with open('test.sh', 'w') as fp:\n",
    "    fp.write(bash_header())"
   ]
  },
  {
   "cell_type": "code",
   "execution_count": 72,
   "id": "57518dff",
   "metadata": {},
   "outputs": [
    {
     "name": "stdout",
     "output_type": "stream",
     "text": [
      "#!/usr/bin/env bash\n",
      "# (c) Tuplex team 2017-2022\n",
      "# auto-generated on 2022-08-12 11:00:30.688359\n",
      "# install all dependencies required to compile tuplex + whatever is needed for profiling\n",
      "# everything will be installed to /opt by default\n",
      "\n",
      "# need to run this with root privileges\n",
      "if [[ $(id -u) -ne 0 ]]; then\n",
      "  echo \"Please run this script with root privileges\"\n",
      "  exit 1\n",
      "fi\n",
      "\n",
      "export DEBIAN_FRONTEND=noninteractive\n",
      "\n",
      "PREFIX=${PREFIX:-/opt}\n",
      "WORKDIR=${WORKDIR:-/tmp}\n",
      "\n",
      "echo \">> Installing packages into ${PREFIX}\"\n",
      "mkdir -p $PREFIX && chmod 0755 $PREFIX\n",
      "mkdir -p $PREFIX/sbin\n",
      "mkdir -p $PREFIX/bin\n",
      "mkdir -p $PREFIX/share\n",
      "mkdir -p $PREFIX/include\n",
      "mkdir -p $PREFIX/lib\n",
      "\n",
      "echo \">> Files will be downloaded to ${WORKDIR}/tuplex-downloads\"\n",
      "WORKDIR=$WORKDIR/tuplex-downloads\n",
      "mkdir -p $WORKDIR\n",
      "\n",
      "PYTHON_EXECUTABLE=${PYTHON_EXECUTABLE:-python3}\n",
      "PYTHON_BASENAME=\"$(basename -- $PYTHON_EXECUTABLE)\"\n",
      "PYTHON_VERSION=$(${PYTHON_EXECUTABLE} --version)\n",
      "echo \">> Building dependencies for ${PYTHON_VERSION}\"\n",
      "\n",
      "\n"
     ]
    }
   ],
   "source": [
    "print(bash_header())"
   ]
  },
  {
   "cell_type": "code",
   "execution_count": 263,
   "id": "27d7c4f1",
   "metadata": {},
   "outputs": [],
   "source": [
    "# configure here which versions to use for each platform\n",
    "\n",
    "CMAKE_VERSION='3.23.2'\n",
    "YAMLCPP_VERSION='0.6.3'\n",
    "CELERO_VERSION='2.6.0'\n",
    "ANTLR_VERSION='4.8'\n",
    "AWSSDK_VERSION='1.9.320'#'1.9.133'\n",
    "AWSLAMBDACPP_VERSION='0.2.6'\n",
    "PCRE2_VERSION='10.39'\n",
    "PROTOBUF_VERSION='3.19.3'\n",
    "CLOUDPICKLE_VERSION='<2.0.0'\n",
    "BOOST_VERSION='1.75.0'\n",
    "GCC_VERSION='10'\n",
    "LLVM_VERSION='9.0.1'\n",
    "\n",
    "WORKDIR='/tmp'\n",
    "PREFIX='/opt'\n",
    "\n",
    "\n",
    "# for ubuntu 22.04 use gcc11\n",
    "GCC_VERSION='11.2'\n",
    "# BOOST_VERSION='1.79.0'\n",
    "\n",
    "# derived vars\n",
    "GCC_VERSION_MAJOR=GCC_VERSION.split('.')[0]\n",
    "CMAKE_VERSION_MAJOR,CMAKE_VERSION_MINOR,CMAKE_VERSION_PATCH=tuple(CMAKE_VERSION.split('.'))"
   ]
  },
  {
   "cell_type": "code",
   "execution_count": null,
   "id": "5a98f582",
   "metadata": {},
   "outputs": [],
   "source": []
  },
  {
   "cell_type": "code",
   "execution_count": 264,
   "id": "b7d34fc3",
   "metadata": {},
   "outputs": [],
   "source": [
    "def apt_dependencies(osname='ubuntu:22.04'):\n",
    "    \n",
    "    packages_dict = {'ubuntu:22.04': '''apt-utils curl libxml2-dev vim build-essential libssl-dev zlib1g-dev libncurses5-dev \\\\\n",
    "    libncursesw5-dev libreadline-dev libsqlite3-dev libgdbm-dev libdb5.3-dev \\\\\n",
    "    libbz2-dev libexpat1-dev liblzma-dev tk-dev libffi-dev wget git''',\n",
    "                     'ubuntu:20.04': '''software-properties-common curl build-essential wget git libedit-dev libz-dev \\\\\n",
    "                   python3-yaml python3-pip pkg-config libssl-dev libcurl4-openssl-dev curl \\\\\n",
    "                   uuid-dev libffi-dev libmagic-dev \\\\\n",
    "                   doxygen doxygen-doc doxygen-latex doxygen-gui graphviz \\\\\n",
    "                   libgflags-dev libncurses-dev \\\\\n",
    "                   openjdk-8-jdk libyaml-dev ninja-build gcc-{} g++-{} autoconf libtool m4\n",
    "                     '''.format(GCC_VERSION_MAJOR, GCC_VERSION_MAJOR),\n",
    "                    'ubuntu:18.04': '''build-essential libxml2-dev\n",
    " autoconf curl automake libtool software-properties-common wget libedit-dev libz-dev \\\\\n",
    "  python3-yaml pkg-config libssl-dev libcurl4-openssl-dev curl \\\\\n",
    "  uuid-dev git python3.7 python3.7-dev python3-pip libffi-dev \\\\\n",
    "  doxygen doxygen-doc doxygen-latex doxygen-gui graphviz \\\\\n",
    "  gcc-{} g++-{} libgflags-dev libncurses-dev \\\\\n",
    "  awscli openjdk-8-jdk libyaml-dev libmagic-dev ninja-build\n",
    "                    '''.format(GCC_VERSION_MAJOR, GCC_VERSION_MAJOR)}\n",
    "    \n",
    "    return 'apt update -y\\n' + \\\n",
    "'''\n",
    "apt-get install -y {}\n",
    "  \n",
    "ldconfig\n",
    "export CC=gcc-{}\n",
    "export CXX=g++-{}\n",
    "'''.format(packages_dict[osname], GCC_VERSION_MAJOR, GCC_VERSION_MAJOR)"
   ]
  },
  {
   "cell_type": "code",
   "execution_count": 265,
   "id": "402e3670",
   "metadata": {},
   "outputs": [
    {
     "name": "stdout",
     "output_type": "stream",
     "text": [
      "apt update -y\n",
      "\n",
      "apt-get install -y apt-utils curl libxml2-dev vim build-essential libssl-dev zlib1g-dev libncurses5-dev \\\n",
      "    libncursesw5-dev libreadline-dev libsqlite3-dev libgdbm-dev libdb5.3-dev \\\n",
      "    libbz2-dev libexpat1-dev liblzma-dev tk-dev libffi-dev wget git\n",
      "  \n",
      "ldconfig\n",
      "export CC=gcc-11\n",
      "export CXX=g++-11\n",
      "\n"
     ]
    }
   ],
   "source": [
    "print(apt_dependencies())"
   ]
  },
  {
   "cell_type": "code",
   "execution_count": 266,
   "id": "1dc3b1bc",
   "metadata": {},
   "outputs": [],
   "source": [
    "def install_cmake():\n",
    "    return '''\n",
    "# fetch recent cmake & install\n",
    "CMAKE_VER_MAJOR={}\n",
    "CMAKE_VER_MINOR={}\n",
    "CMAKE_VER_PATCH={}'''.format(CMAKE_VERSION_MAJOR,CMAKE_VERSION_MINOR,CMAKE_VERSION_PATCH) + '''\n",
    "CMAKE_VER=\"${CMAKE_VER_MAJOR}.${CMAKE_VER_MINOR}\"\n",
    "CMAKE_VERSION=\"${CMAKE_VER}.${CMAKE_VER_PATCH}\"\n",
    "URL=https://github.com/Kitware/CMake/releases/download/v${CMAKE_VERSION}/cmake-${CMAKE_VERSION}-linux-x86_64.tar.gz\n",
    "mkdir -p ${WORKDIR}/cmake && cd ${WORKDIR}/cmake &&\n",
    "  curl -sSL $URL -o cmake-${CMAKE_VERSION}-linux-x86_64.tar.gz &&\n",
    "  tar -v -zxf cmake-${CMAKE_VERSION}-linux-x86_64.tar.gz &&\n",
    "  rm -f cmake-${CMAKE_VERSION}-linux-x86_64.tar.gz &&\n",
    "  cd cmake-${CMAKE_VERSION}-linux-x86_64 &&\n",
    "  cp -rp bin/* ${PREFIX}/bin/ &&\n",
    "  cp -rp share/* ${PREFIX}/share/ &&\n",
    "  cd / && rm -rf ${WORKDIR}/cmake\n",
    "    '''"
   ]
  },
  {
   "cell_type": "code",
   "execution_count": 267,
   "id": "0c5ff06b",
   "metadata": {},
   "outputs": [
    {
     "name": "stdout",
     "output_type": "stream",
     "text": [
      "\n",
      "# fetch recent cmake & install\n",
      "CMAKE_VER_MAJOR=3\n",
      "CMAKE_VER_MINOR=23\n",
      "CMAKE_VER_PATCH=2\n",
      "CMAKE_VER=\"${CMAKE_VER_MAJOR}.${CMAKE_VER_MINOR}\"\n",
      "CMAKE_VERSION=\"${CMAKE_VER}.${CMAKE_VER_PATCH}\"\n",
      "URL=https://github.com/Kitware/CMake/releases/download/v${CMAKE_VERSION}/cmake-${CMAKE_VERSION}-linux-x86_64.tar.gz\n",
      "mkdir -p ${WORKDIR}/cmake && cd ${WORKDIR}/cmake &&\n",
      "  curl -sSL $URL -o cmake-${CMAKE_VERSION}-linux-x86_64.tar.gz &&\n",
      "  tar -v -zxf cmake-${CMAKE_VERSION}-linux-x86_64.tar.gz &&\n",
      "  rm -f cmake-${CMAKE_VERSION}-linux-x86_64.tar.gz &&\n",
      "  cd cmake-${CMAKE_VERSION}-linux-x86_64 &&\n",
      "  cp -rp bin/* ${PREFIX}/bin/ &&\n",
      "  cp -rp share/* ${PREFIX}/share/ &&\n",
      "  cd / && rm -rf ${WORKDIR}/cmake\n",
      "    \n"
     ]
    }
   ],
   "source": [
    "print(install_cmake())"
   ]
  },
  {
   "cell_type": "code",
   "execution_count": 268,
   "id": "45d20f73",
   "metadata": {},
   "outputs": [],
   "source": [
    "def install_boost():\n",
    "    # may need to include the following to work for boost python\n",
    "    # # fix up for boost python a link\n",
    "    # cd /usr/local/include/ && ln -s python3.6m python3.6 && cd - || exit\n",
    "    \n",
    "    boost_reformatted = BOOST_VERSION.replace('.', '_')\n",
    "    \n",
    "    return '''    \n",
    "mkdir -p ${WORKDIR/boost}\n",
    "    \n",
    "# build incl. boost python\n",
    "pushd ${WORKDIR/boost} && ''' + \\\n",
    "'wget https://boostorg.jfrog.io/artifactory/main/release/{}/source/boost_{}.tar.gz && tar xf boost_{}.tar.gz'.format(BOOST_VERSION, boost_reformatted, boost_reformatted, boost_reformatted) + \\\n",
    "' && cd ${{WORKDIR/boost}}/boost_{}'.format(boost_reformatted) + \\\n",
    "''' \\\\\n",
    "&& ./bootstrap.sh --with-python=${PYTHON_EXECUTABLE} --prefix=${PREFIX} --with-libraries=\"thread,iostreams,regex,system,filesystem,python,stacktrace,atomic,chrono,date_time\" \\\\\n",
    " && ./b2 cxxflags=\"-fPIC\" link=static -j \"$(nproc)\" \\\\\n",
    " && ./b2 cxxflags=\"-fPIC\" link=static install'''"
   ]
  },
  {
   "cell_type": "code",
   "execution_count": 269,
   "id": "8ed6428f",
   "metadata": {},
   "outputs": [
    {
     "name": "stdout",
     "output_type": "stream",
     "text": [
      "    \n",
      "mkdir -p ${WORKDIR/boost}\n",
      "    \n",
      "# build incl. boost python\n",
      "pushd ${WORKDIR/boost} && wget https://boostorg.jfrog.io/artifactory/main/release/1.75.0/source/boost_1_75_0.tar.gz && tar xf boost_1_75_0.tar.gz && cd ${WORKDIR/boost}/boost_1_75_0 \\\n",
      "&& ./bootstrap.sh --with-python=${PYTHON_EXECUTABLE} --prefix=${PREFIX} --with-libraries=\"thread,iostreams,regex,system,filesystem,python,stacktrace,atomic,chrono,date_time\" \\\n",
      " && ./b2 cxxflags=\"-fPIC\" link=static -j \"$(nproc)\" \\\n",
      " && ./b2 cxxflags=\"-fPIC\" link=static install\n"
     ]
    }
   ],
   "source": [
    "print(install_boost())"
   ]
  },
  {
   "cell_type": "code",
   "execution_count": 283,
   "id": "aec86c70",
   "metadata": {},
   "outputs": [],
   "source": [
    "def install_llvm():\n",
    "    \n",
    "    LLVM_VERSION_MAJOR=LLVM_VERSION.split('.')[0]\n",
    "    workdir='${WORKDIR}/llvm'\n",
    "    code = 'mkdir -p {} && cd {} && '.format(workdir, workdir)  + \\\n",
    "'''wget https://github.com/llvm/llvm-project/releases/download/llvmorg-{version}/llvm-{version}.src.tar.xz \\\\\n",
    "&& wget https://github.com/llvm/llvm-project/releases/download/llvmorg-{version}/clang-{version}.src.tar.xz \\\\\n",
    "&& tar xf llvm-{version}.src.tar.xz && tar xf clang-{version}.src.tar.xz \\\\'''.format(version=LLVM_VERSION)\n",
    "\n",
    "    code += '''\\n&& mkdir llvm{maj} && mv clang-{version}.src llvm{maj}/clang \\\\\n",
    "&& mv llvm-{version}.src llvm{maj}/llvm-{version}.src \\\\\n",
    "&& cd llvm{maj}'''.format(version=LLVM_VERSION, maj=LLVM_VERSION_MAJOR)\n",
    "\n",
    "    code += ''' && mkdir build && cd build \\\\\n",
    "&& cmake -DLLVM_ENABLE_RTTI=ON -DLLVM_ENABLE_EH=ON \\\\\n",
    "        -DLLVM_ENABLE_PROJECTS=\"clang\" \\\\\n",
    "         -DLLVM_TARGETS_TO_BUILD=\"X86\" -DCMAKE_BUILD_TYPE=Release \\\\\n",
    "         -DCMAKE_INSTALL_PREFIX=/opt/llvm-{version} ../llvm-{version}.src \\\\\n",
    "&& make -j \"$(nproc)\" && make install'''.format(version=LLVM_VERSION)\n",
    "    \n",
    "    return code"
   ]
  },
  {
   "cell_type": "code",
   "execution_count": 284,
   "id": "5d423afc",
   "metadata": {},
   "outputs": [
    {
     "name": "stdout",
     "output_type": "stream",
     "text": [
      "mkdir -p ${WORKDIR}/llvm && cd ${WORKDIR}/llvm && wget https://github.com/llvm/llvm-project/releases/download/llvmorg-9.0.1/llvm-9.0.1.src.tar.xz \\\n",
      "&& wget https://github.com/llvm/llvm-project/releases/download/llvmorg-9.0.1/clang-9.0.1.src.tar.xz \\\n",
      "&& tar xf llvm-9.0.1.src.tar.xz && tar xf clang-9.0.1.src.tar.xz \\\n",
      "&& mkdir llvm9 && mv clang-9.0.1.src llvm9/clang \\\n",
      "&& mv llvm-9.0.1.src llvm9/llvm-9.0.1.src \\\n",
      "&& cd llvm9 && mkdir build && cd build \\\n",
      "&& cmake -DLLVM_ENABLE_RTTI=ON -DLLVM_ENABLE_EH=ON \\\n",
      "        -DLLVM_ENABLE_PROJECTS=\"clang\" \\\n",
      "         -DLLVM_TARGETS_TO_BUILD=\"X86\" -DCMAKE_BUILD_TYPE=Release \\\n",
      "         -DCMAKE_INSTALL_PREFIX=/opt/llvm-9.0.1 ../llvm-9.0.1.src \\\n",
      "&& make -j \"$(nproc)\" && make install\n"
     ]
    }
   ],
   "source": [
    "print(install_llvm())"
   ]
  },
  {
   "cell_type": "code",
   "execution_count": 285,
   "id": "74a1b478",
   "metadata": {},
   "outputs": [
    {
     "name": "stdout",
     "output_type": "stream",
     "text": [
      "mkdir -p ${WORKDIR}/protobuf && cd ${WORKDIR}/protobuf \\\n",
      "&& curl -OL https://github.com/protocolbuffers/protobuf/releases/download/v3.19.3/protobuf-cpp-3.19.3.tar.gz \\\n",
      "&& tar xf protobuf-cpp-3.19.3.tar.gz \\\n",
      "&& cd protobuf-3.19.3 \\\n",
      "&& ./autogen.sh && ./configure \"CFLAGS=-fPIC\" \"CXXFLAGS=-fPIC\" \\\n",
      "&& make -j$(nproc) && make install && ldconfig\n"
     ]
    }
   ],
   "source": [
    "def install_protobuf():\n",
    "    code = 'mkdir -p ${WORKDIR}/protobuf && cd ${WORKDIR}/protobuf \\\\'\n",
    "    \n",
    "    code += '''\\n&& curl -OL https://github.com/protocolbuffers/protobuf/releases/download/v{version}/protobuf-cpp-{version}.tar.gz \\\\\n",
    "&& tar xf protobuf-cpp-{version}.tar.gz \\\\\n",
    "&& cd protobuf-{version} \\\\\n",
    "&& ./autogen.sh && ./configure \"CFLAGS=-fPIC\" \"CXXFLAGS=-fPIC\" \\\\\n",
    "&& make -j$(nproc) && make install && ldconfig'''.format(version=PROTOBUF_VERSION)\n",
    "    \n",
    "    return code\n",
    "\n",
    "\n",
    "\n",
    "print(install_protobuf())"
   ]
  },
  {
   "cell_type": "code",
   "execution_count": 286,
   "id": "f5c7f820",
   "metadata": {},
   "outputs": [
    {
     "name": "stdout",
     "output_type": "stream",
     "text": [
      "mkdir -p ${WORKDIR}/pcre2 && cd ${WORKDIR}/pcre2 \\\n",
      "&& curl -LO https://github.com/PhilipHazel/pcre2/releases/download/pcre2-10.39/pcre2-10.39.zip \\\n",
      "&& unzip pcre2-10.39.zip \\\n",
      "&& rm pcre2-10.39.zip \\\n",
      "&& cd pcre2-10.39 \\\n",
      "&& ./configure --prefix=${PREFIX} --enable-jit=auto --disable-shared CFLAGS=\"-O2 -fPIC\" \\\n",
      "&& make -j$(nproc) && make install\n"
     ]
    }
   ],
   "source": [
    "def install_pcre2():\n",
    "    code = 'mkdir -p ${WORKDIR}/pcre2 && cd ${WORKDIR}/pcre2 \\\\'\n",
    "    \n",
    "    code += '''\\n&& curl -LO https://github.com/PhilipHazel/pcre2/releases/download/pcre2-{version}/pcre2-{version}.zip \\\\\n",
    "&& unzip pcre2-{version}.zip \\\\\n",
    "&& rm pcre2-{version}.zip \\\\\n",
    "&& cd pcre2-{version} \\\\\n",
    "&& ./configure --prefix=${{PREFIX}} --enable-jit=auto --disable-shared CFLAGS=\"-O2 -fPIC\" \\\\\n",
    "&& make -j$(nproc) && make install'''.format(version=PCRE2_VERSION)\n",
    "    \n",
    "    return code\n",
    "\n",
    "\n",
    "print(install_pcre2())"
   ]
  },
  {
   "cell_type": "code",
   "execution_count": 287,
   "id": "5cd3f22e",
   "metadata": {},
   "outputs": [
    {
     "name": "stdout",
     "output_type": "stream",
     "text": [
      "mkdir -p ${WORKDIR}/aws && cd ${WORKDIR}/aws \\\n",
      "&&  git clone --recurse-submodules https://github.com/aws/aws-sdk-cpp.git \\\n",
      "&& cd aws-sdk-cpp && git checkout tags/1.9.320 && mkdir build && cd build \\\n",
      "&& cmake -DCMAKE_BUILD_TYPE=Release -DUSE_OPENSSL=ON -DENABLE_TESTING=OFF -DENABLE_UNITY_BUILD=ON -DCPP_STANDARD=14 -DBUILD_SHARED_LIBS=OFF -DBUILD_ONLY=\"s3;core;lambda;transfer\" -DCMAKE_INSTALL_PREFIX=${PREFIX} .. \\\n",
      "&& make -j$(nproc) \\\n",
      "&& make install\n",
      "\n",
      "#installing AWS Lambda C++ runtime\n",
      "\n",
      "cd ${WORKDIR}/aws \\\n",
      "&& git clone https://github.com/awslabs/aws-lambda-cpp.git \\\n",
      "&& cd aws-lambda-cpp \\\n",
      "&& git fetch && git fetch --tags \\\n",
      "&& git checkout v0.2.6 \\\n",
      "&& mkdir build \\\n",
      "&& cd build \\\n",
      "&& cmake -DCMAKE_BUILD_TYPE=Release -DCMAKE_INSTALL_PREFIX=${PREFIX} .. \\\n",
      "&& make -j$(nproc) && make install\n"
     ]
    }
   ],
   "source": [
    "def install_aws_sdk():\n",
    "    # install BOTH aws sdk and LAMBDA runtime\n",
    "    \n",
    "    code = 'mkdir -p ${WORKDIR}/aws && cd ${WORKDIR}/aws \\\\'\n",
    "    \n",
    "    code += '''\\n&&  git clone --recurse-submodules https://github.com/aws/aws-sdk-cpp.git \\\\\n",
    "&& cd aws-sdk-cpp && git checkout tags/{version} && mkdir build && cd build \\\\\n",
    "&& cmake -DCMAKE_BUILD_TYPE=Release -DUSE_OPENSSL=ON -DENABLE_TESTING=OFF -DENABLE_UNITY_BUILD=ON -DCPP_STANDARD=14 -DBUILD_SHARED_LIBS=OFF -DBUILD_ONLY=\"s3;core;lambda;transfer\" -DCMAKE_INSTALL_PREFIX=${{PREFIX}} .. \\\\\n",
    "&& make -j$(nproc) \\\\\n",
    "&& make install'''.format(version=AWSSDK_VERSION)\n",
    "\n",
    "    code += '\\n\\n#installing AWS Lambda C++ runtime\\n'\n",
    "    code += '\\ncd ${WORKDIR}/aws \\\\\\n'\n",
    "    code += '''&& git clone https://github.com/awslabs/aws-lambda-cpp.git \\\\\n",
    "&& cd aws-lambda-cpp \\\\\n",
    "&& git fetch && git fetch --tags \\\\\n",
    "&& git checkout v{version} \\\\\n",
    "&& mkdir build \\\\\n",
    "&& cd build \\\\\n",
    "&& cmake -DCMAKE_BUILD_TYPE=Release -DCMAKE_INSTALL_PREFIX=${{PREFIX}} .. \\\\\n",
    "&& make -j$(nproc) && make install'''.format(version=AWSLAMBDACPP_VERSION)\n",
    "    \n",
    "    return code\n",
    "\n",
    "\n",
    "print(install_aws_sdk())"
   ]
  },
  {
   "cell_type": "code",
   "execution_count": 288,
   "id": "1fa0dee3",
   "metadata": {},
   "outputs": [
    {
     "name": "stdout",
     "output_type": "stream",
     "text": [
      "mkdir -p ${WORKDIR}/antlr && cd ${WORKDIR}/antlr \\\n",
      "&& curl -O https://www.antlr.org/download/antlr-4.8-complete.jar \\\n",
      "&& cp antlr-4.8-complete.jar ${PREFIX}/lib/ \\\n",
      "&& curl -O https://www.antlr.org/download/antlr4-cpp-runtime-4.8-source.zip \\\n",
      "&& unzip antlr4-cpp-runtime-4.8-source.zip -d antlr4-cpp-runtime \\\n",
      "&& rm antlr4-cpp-runtime-4.8-source.zip \\\n",
      "&& cd antlr4-cpp-runtime \\\n",
      "&& mkdir build && cd build && cmake -DCMAKE_BUILD_TYPE=Release -DCMAKE_INSTALL_PREFIX=${PREFIX} .. \\\n",
      "&& make -j$(nproc) && make install\n"
     ]
    }
   ],
   "source": [
    "def install_antlr():\n",
    "    # install both ANTLR tool and C++ runtime\n",
    "    \n",
    "    ANTLR_MAJMIN = '.'.join(ANTLR_VERSION.split('.')[:2])\n",
    "    \n",
    "    code = 'mkdir -p ${WORKDIR}/antlr && cd ${WORKDIR}/antlr \\\\\\n'\n",
    "    \n",
    "    code += '''&& curl -O https://www.antlr.org/download/antlr-{majmin}-complete.jar \\\\\n",
    "&& cp antlr-{majmin}-complete.jar ${{PREFIX}}/lib/ \\\\\\n'''.format(majmin=ANTLR_MAJMIN)\n",
    "    \n",
    "    # install runtime\n",
    "    code += '''&& curl -O https://www.antlr.org/download/antlr4-cpp-runtime-{majmin}-source.zip \\\\\n",
    "&& unzip antlr4-cpp-runtime-{majmin}-source.zip -d antlr4-cpp-runtime \\\\\n",
    "&& rm antlr4-cpp-runtime-{majmin}-source.zip \\\\\n",
    "&& cd antlr4-cpp-runtime \\\\\n",
    "&& mkdir build && cd build && cmake -DCMAKE_BUILD_TYPE=Release -DCMAKE_INSTALL_PREFIX=${{PREFIX}} .. \\\\\n",
    "&& make -j$(nproc) && make install'''.format(majmin=ANTLR_MAJMIN)\n",
    "    \n",
    "    return code\n",
    "\n",
    "\n",
    "print(install_antlr())"
   ]
  },
  {
   "cell_type": "code",
   "execution_count": 289,
   "id": "5c83d28c",
   "metadata": {},
   "outputs": [
    {
     "name": "stdout",
     "output_type": "stream",
     "text": [
      "mkdir -p ${WORKDIR}/yamlcpp && cd ${WORKDIR}/yamlcpp \\\n",
      "&& git clone https://github.com/jbeder/yaml-cpp.git yaml-cpp \\\n",
      "&& cd yaml-cpp \\\n",
      "&& git checkout tags/yaml-cpp-0.6.3 \\\n",
      "&& mkdir build && cd build \\ \n",
      "&& cmake -DCMAKE_BUILD_TYPE=Release -DCMAKE_INSTALL_PREFIX=${prefix} -DYAML_CPP_BUILD_TESTS=OFF -DBUILD_SHARED_LIBS=OFF -DCMAKE_CXX_FLAGS='-fPIC' .. \\\n",
      "&& make -j$(nproc) && make install\n"
     ]
    }
   ],
   "source": [
    "def install_yaml():\n",
    "    # install yaml cpp\n",
    "    code = 'mkdir -p ${WORKDIR}/yamlcpp && cd ${WORKDIR}/yamlcpp \\\\'\n",
    "    \n",
    "    code += '''\\n&& git clone https://github.com/jbeder/yaml-cpp.git yaml-cpp \\\\\n",
    "&& cd yaml-cpp \\\\\n",
    "&& git checkout tags/yaml-cpp-{version} \\\\\n",
    "&& mkdir build && cd build \\\\ \n",
    "&& cmake -DCMAKE_BUILD_TYPE=Release -DCMAKE_INSTALL_PREFIX=${{prefix}} -DYAML_CPP_BUILD_TESTS=OFF -DBUILD_SHARED_LIBS=OFF -DCMAKE_CXX_FLAGS='-fPIC' .. \\\\\n",
    "&& make -j$(nproc) && make install'''.format(version=YAMLCPP_VERSION)\n",
    "    \n",
    "    return code\n",
    "\n",
    "print(install_yaml())"
   ]
  },
  {
   "cell_type": "code",
   "execution_count": 290,
   "id": "ae65144c",
   "metadata": {},
   "outputs": [
    {
     "name": "stdout",
     "output_type": "stream",
     "text": [
      "mkdir -p ${WORKDIR}/celero && cd ${WORKDIR}/celero \\\n",
      "&&  git clone https://github.com/DigitalInBlue/Celero.git celero && celero \\\n",
      "&& git checkout tags/v2.6.0 \\\n",
      "&& mkdir build && cd build \\\n",
      "&& cmake -DCMAKE_BUILD_TYPE=Release -DCMAKE_INSTALL_PREFIX=${PREFIX} -DBUILD_SHARED_LIBS=OFF -DCMAKE_CXX_FLAGS=\"-fPIC\" .. \\\n",
      "&& make -j$(nproc) && make install\n"
     ]
    }
   ],
   "source": [
    "def install_celero():\n",
    "    # install ycelero\n",
    "    code = 'mkdir -p ${WORKDIR}/celero && cd ${WORKDIR}/celero \\\\'\n",
    "    \n",
    "    code += '''\\n&&  git clone https://github.com/DigitalInBlue/Celero.git celero && celero \\\\\n",
    "&& git checkout tags/v{version} \\\\\n",
    "&& mkdir build && cd build \\\\\n",
    "&& cmake -DCMAKE_BUILD_TYPE=Release -DCMAKE_INSTALL_PREFIX=${{PREFIX}} -DBUILD_SHARED_LIBS=OFF -DCMAKE_CXX_FLAGS=\"-fPIC\" .. \\\\\n",
    "&& make -j$(nproc) && make install'''.format(version=CELERO_VERSION)\n",
    "    \n",
    "    return code\n",
    "\n",
    "print(install_celero())"
   ]
  },
  {
   "cell_type": "code",
   "execution_count": 291,
   "id": "353ed64c",
   "metadata": {},
   "outputs": [],
   "source": [
    "# could print out the following hints for bashrc\n",
    "\n",
    "# # setup bash aliases\n",
    "# echo \"alias antlr='java -jar /opt/lib/antlr-4.8-complete.jar'\" >>\"$HOME/.bashrc\"\n",
    "# echo \"alias grun='java org.antlr.v4.gui.TestRig'\" >>\"$HOME/.bashrc\"\n",
    "\n",
    "# # update include/link paths to /opt\n",
    "# echo \"export CPLUS_INCLUDE_PATH=/opt/include:\\${CPLUS_INCLUDE_PATH}\" >> \"$HOME/.bashrc\"\n",
    "# echo \"export C_INCLUDE_PATH=/opt/include:\\${C_INCLUDE_PATH}\" >> \"$HOME/.bashrc\"\n",
    "# echo \"export LD_LIBRARY_PATH=/opt/lib:\\${LD_LIBRARY_PATH}\" >> \"$HOME/.bashrc\""
   ]
  },
  {
   "cell_type": "code",
   "execution_count": 292,
   "id": "6d4317bd",
   "metadata": {},
   "outputs": [],
   "source": [
    "# create Ubunti 22.04 req file\n",
    "\n",
    "with open('install_dependencies_ubuntu_22_04.sh', 'w') as fp:\n",
    "    fp.write(bash_header().strip())\n",
    "    \n",
    "    fp.write('\\necho \">> Installing apt dependencies\"\\n')\n",
    "    fp.write(apt_dependencies().strip())\n",
    "    \n",
    "    fp.write('\\n\\necho \">> Installing recent cmake\"\\n')\n",
    "    fp.write(install_cmake().strip())\n",
    "    \n",
    "    fp.write('\\n\\necho \">> Installing Boost\"\\n')\n",
    "    fp.write(install_boost().strip())\n",
    "    \n",
    "    fp.write('\\n\\necho \">> Installing LLVM\"\\n')\n",
    "    fp.write(install_llvm().strip())\n",
    "    \n",
    "    fp.write('\\n\\necho \">> Installing PCRE2\"\\n')\n",
    "    fp.write(install_pcre2().strip())\n",
    "    \n",
    "    fp.write('\\n\\necho \">> Installing Celero\"\\n')\n",
    "    fp.write(install_celero().strip())\n",
    "    \n",
    "    fp.write('\\n\\necho \">> Installing YAMLCPP\"\\n')\n",
    "    fp.write(install_yaml().strip())\n",
    "    \n",
    "    fp.write('\\n\\necho \">> Installing ANTLR\"\\n')\n",
    "    fp.write(install_antlr().strip())\n",
    "    \n",
    "    fp.write('\\n\\necho \">> Installing protobuf\"\\n')\n",
    "    fp.write(install_protobuf().strip())\n",
    "    \n",
    "    fp.write('\\n\\necho \">> Installing AWS SDK\"\\n')\n",
    "    fp.write(install_aws_sdk().strip())\n",
    "    \n",
    "    fp.write('\\n\\necho \">> Cleaning/removing workdir {}\"'.format(WORKDIR))\n",
    "    fp.write('\\nrm -rf ${WORKDIR}\\n')\n",
    "    fp.write('\\necho \"-- Done, all Tuplex requirements installed to {} --\"\\n'.format(PREFIX))"
   ]
  },
  {
   "cell_type": "code",
   "execution_count": 293,
   "id": "70e17bad",
   "metadata": {
    "scrolled": false
   },
   "outputs": [
    {
     "name": "stdout",
     "output_type": "stream",
     "text": [
      "#!/usr/bin/env bash\r\n",
      "# (c) Tuplex team 2017-2022\r\n",
      "# auto-generated on 2022-08-12 12:47:51.824358\r\n",
      "# install all dependencies required to compile tuplex + whatever is needed for profiling\r\n",
      "# everything will be installed to /opt by default\r\n",
      "\r\n",
      "# need to run this with root privileges\r\n",
      "if [[ $(id -u) -ne 0 ]]; then\r\n",
      "  echo \"Please run this script with root privileges\"\r\n",
      "  exit 1\r\n",
      "fi\r\n",
      "\r\n",
      "export DEBIAN_FRONTEND=noninteractive\r\n",
      "\r\n",
      "PREFIX=${PREFIX:-/opt}\r\n",
      "WORKDIR=${WORKDIR:-/tmp}\r\n",
      "\r\n",
      "echo \">> Installing packages into ${PREFIX}\"\r\n",
      "mkdir -p $PREFIX && chmod 0755 $PREFIX\r\n",
      "mkdir -p $PREFIX/sbin\r\n",
      "mkdir -p $PREFIX/bin\r\n",
      "mkdir -p $PREFIX/share\r\n",
      "mkdir -p $PREFIX/include\r\n",
      "mkdir -p $PREFIX/lib\r\n",
      "\r\n",
      "echo \">> Files will be downloaded to ${WORKDIR}/tuplex-downloads\"\r\n",
      "WORKDIR=$WORKDIR/tuplex-downloads\r\n",
      "mkdir -p $WORKDIR\r\n",
      "\r\n",
      "PYTHON_EXECUTABLE=${PYTHON_EXECUTABLE:-python3}\r\n",
      "PYTHON_BASENAME=\"$(basename -- $PYTHON_EXECUTABLE)\"\r\n",
      "PYTHON_VERSION=$(${PYTHON_EXECUTABLE} --version)\r\n",
      "echo \">> Building dependencies for ${PYTHON_VERSION}\"\r\n",
      "\r\n",
      "echo \">> Installing LLVM\"\r\n",
      "mkdir -p ${WORKDIR}/llvm && cd ${WORKDIR}/llvm && wget https://github.com/llvm/llvm-project/releases/download/llvmorg-9.0.1/llvm-9.0.1.src.tar.xz \\\r\n",
      "&& wget https://github.com/llvm/llvm-project/releases/download/llvmorg-9.0.1/clang-9.0.1.src.tar.xz \\\r\n",
      "&& tar xf llvm-9.0.1.src.tar.xz && tar xf clang-9.0.1.src.tar.xz \\\r\n",
      "&& mkdir llvm9 && mv clang-9.0.1.src llvm9/clang \\\r\n",
      "&& mv llvm-9.0.1.src llvm9/llvm-9.0.1.src \\\r\n",
      "&& cd llvm9 && mkdir build && cd build \\\r\n",
      "&& cmake -DLLVM_ENABLE_RTTI=ON -DLLVM_ENABLE_EH=ON \\\r\n",
      "        -DLLVM_ENABLE_PROJECTS=\"clang\" \\\r\n",
      "         -DLLVM_TARGETS_TO_BUILD=\"X86\" -DCMAKE_BUILD_TYPE=Release \\\r\n",
      "         -DCMAKE_INSTALL_PREFIX=/opt/llvm-9.0.1 ../llvm-9.0.1.src \\\r\n",
      "&& make -j \"$(nproc)\" && make install"
     ]
    }
   ],
   "source": [
    "!cat install_dependencies_ubuntu_22_04.sh"
   ]
  },
  {
   "cell_type": "code",
   "execution_count": null,
   "id": "3a2454ac",
   "metadata": {},
   "outputs": [],
   "source": []
  },
  {
   "cell_type": "code",
   "execution_count": null,
   "id": "48b1e849",
   "metadata": {},
   "outputs": [],
   "source": []
  },
  {
   "cell_type": "code",
   "execution_count": null,
   "id": "40118862",
   "metadata": {},
   "outputs": [],
   "source": []
  }
 ],
 "metadata": {
  "kernelspec": {
   "display_name": "Python 3 (ipykernel)",
   "language": "python",
   "name": "python3"
  },
  "language_info": {
   "codemirror_mode": {
    "name": "ipython",
    "version": 3
   },
   "file_extension": ".py",
   "mimetype": "text/x-python",
   "name": "python",
   "nbconvert_exporter": "python",
   "pygments_lexer": "ipython3",
   "version": "3.10.4"
  }
 },
 "nbformat": 4,
 "nbformat_minor": 5
}
