{
 "cells": [
  {
   "cell_type": "code",
   "execution_count": 1,
   "id": "184a1e8f",
   "metadata": {
    "pycharm": {
     "name": "#%%\n"
    }
   },
   "outputs": [],
   "source": [
    "# this script is intended to help generate install_dependecy scripts for different platforms\n"
   ]
  },
  {
   "cell_type": "code",
   "execution_count": 2,
   "id": "f7e6a6be",
   "metadata": {
    "pycharm": {
     "name": "#%%\n"
    }
   },
   "outputs": [],
   "source": [
    "import os\n",
    "import glob\n",
    "import json\n",
    "import datetime"
   ]
  },
  {
   "cell_type": "code",
   "execution_count": 3,
   "id": "23e48f13",
   "metadata": {
    "pycharm": {
     "name": "#%%\n"
    }
   },
   "outputs": [],
   "source": [
    "def bash_header(install_prefix='/opt', workdir='/tmp'):\n",
    "    current_year = datetime.datetime.now().year\n",
    "    current_date = str(datetime.datetime.now())\n",
    "    return '''#!/usr/bin/env bash\n",
    "# (c) Tuplex team 2017-{}\n",
    "# auto-generated on {}\n",
    "# install all dependencies required to compile tuplex + whatever is needed for profiling\n",
    "# everything will be installed to {} by default'''.format(current_year, current_date, install_prefix) + \\\n",
    "'\\n' + '''\n",
    "# need to run this with root privileges\n",
    "if [[ $(id -u) -ne 0 ]]; then\n",
    "  echo \"Please run this script with root privileges\"\n",
    "  exit 1\n",
    "fi\n",
    "\n",
    "export DEBIAN_FRONTEND=noninteractive\n",
    "\n",
    "PREFIX=${{PREFIX:-{}}}\n",
    "WORKDIR=${{WORKDIR:-{}}}\n",
    "\n",
    "echo \">> Installing packages into ${{PREFIX}}\"\n",
    "mkdir -p $PREFIX && chmod 0755 $PREFIX\n",
    "mkdir -p $PREFIX/sbin\n",
    "mkdir -p $PREFIX/bin\n",
    "mkdir -p $PREFIX/share\n",
    "mkdir -p $PREFIX/include\n",
    "mkdir -p $PREFIX/lib\n",
    "\n",
    "echo \">> Files will be downloaded to ${{WORKDIR}}/tuplex-downloads\"\n",
    "WORKDIR=$WORKDIR/tuplex-downloads\n",
    "mkdir -p $WORKDIR\n",
    "\n",
    "PYTHON_EXECUTABLE=${{PYTHON_EXECUTABLE:-python3}}\n",
    "PYTHON_BASENAME=\"$(basename -- $PYTHON_EXECUTABLE)\"\n",
    "PYTHON_VERSION=$(${{PYTHON_EXECUTABLE}} --version)\n",
    "echo \">> Building dependencies for ${{PYTHON_VERSION}}\"\n",
    "\n",
    "'''.format(install_prefix, workdir)"
   ]
  },
  {
   "cell_type": "code",
   "execution_count": 4,
   "id": "e6db9c42",
   "metadata": {
    "pycharm": {
     "name": "#%%\n"
    }
   },
   "outputs": [],
   "source": [
    "with open('test.sh', 'w') as fp:\n",
    "    fp.write(bash_header())"
   ]
  },
  {
   "cell_type": "code",
   "execution_count": 5,
   "id": "57518dff",
   "metadata": {
    "pycharm": {
     "name": "#%%\n"
    }
   },
   "outputs": [
    {
     "name": "stdout",
     "output_type": "stream",
     "text": [
      "#!/usr/bin/env bash\n",
      "# (c) Tuplex team 2017-2022\n",
      "# auto-generated on 2022-09-07 00:49:58.162530\n",
      "# install all dependencies required to compile tuplex + whatever is needed for profiling\n",
      "# everything will be installed to /opt by default\n",
      "\n",
      "# need to run this with root privileges\n",
      "if [[ $(id -u) -ne 0 ]]; then\n",
      "  echo \"Please run this script with root privileges\"\n",
      "  exit 1\n",
      "fi\n",
      "\n",
      "export DEBIAN_FRONTEND=noninteractive\n",
      "\n",
      "PREFIX=${PREFIX:-/opt}\n",
      "WORKDIR=${WORKDIR:-/tmp}\n",
      "\n",
      "echo \">> Installing packages into ${PREFIX}\"\n",
      "mkdir -p $PREFIX && chmod 0755 $PREFIX\n",
      "mkdir -p $PREFIX/sbin\n",
      "mkdir -p $PREFIX/bin\n",
      "mkdir -p $PREFIX/share\n",
      "mkdir -p $PREFIX/include\n",
      "mkdir -p $PREFIX/lib\n",
      "\n",
      "echo \">> Files will be downloaded to ${WORKDIR}/tuplex-downloads\"\n",
      "WORKDIR=$WORKDIR/tuplex-downloads\n",
      "mkdir -p $WORKDIR\n",
      "\n",
      "PYTHON_EXECUTABLE=${PYTHON_EXECUTABLE:-python3}\n",
      "PYTHON_BASENAME=\"$(basename -- $PYTHON_EXECUTABLE)\"\n",
      "PYTHON_VERSION=$(${PYTHON_EXECUTABLE} --version)\n",
      "echo \">> Building dependencies for ${PYTHON_VERSION}\"\n",
      "\n",
      "\n"
     ]
    }
   ],
   "source": [
    "print(bash_header())"
   ]
  },
  {
   "cell_type": "code",
   "execution_count": 6,
   "id": "27d7c4f1",
   "metadata": {
    "pycharm": {
     "name": "#%%\n"
    }
   },
   "outputs": [],
   "source": [
    "# configure here which versions to use for each platform\n",
    "VERSIONS = {}\n",
    "    \n",
    "def configure_versions(osname):\n",
    "    global VERSIONS\n",
    "    \n",
    "    VERSIONS['OS'] = osname\n",
    "    \n",
    "    VERSIONS['CMAKE_VERSION'] = '3.23.3'\n",
    "    VERSIONS['YAMLCPP_VERSION']='0.6.3'\n",
    "    VERSIONS['CELERO_VERSION']='2.8.3'\n",
    "    VERSIONS['ANTLR_VERSION']='4.8'\n",
    "    VERSIONS['AWSSDK_VERSION']='1.9.320'#'1.9.133'\n",
    "    VERSIONS['AWSLAMBDACPP_VERSION']='0.2.6'\n",
    "    VERSIONS['PCRE2_VERSION']='10.39'\n",
    "    VERSIONS['PROTOBUF_VERSION']='3.21.5'\n",
    "    VERSIONS['CLOUDPICKLE_VERSION']='<2.0.0'\n",
    "    VERSIONS['BOOST_VERSION']='1.79.0'\n",
    "    VERSIONS['GCC_VERSION']='10'\n",
    "    VERSIONS['LLVM_VERSION']='9.0.1'\n",
    "\n",
    "    VERSIONS['MONGODB_VERSION']='5.0'\n",
    "\n",
    "    VERSIONS['WORKDIR']='/tmp'\n",
    "    VERSIONS['PREFIX']='/opt'\n",
    "\n",
    "    # for ubuntu 18.04 use gcc7\n",
    "    if '18.04' in osname:\n",
    "        VERSIONS['GCC_VERSION']='7'\n",
    "    \n",
    "    # for 20.04 use gcc10\n",
    "    if '20.04' in osname:\n",
    "        VERSIONS['GCC_VERSION']='10'\n",
    "    # for ubuntu 22.04 use gcc11\n",
    "    if '22.04' in osname:\n",
    "        VERSIONS['GCC_VERSION']='11.2'\n",
    "\n",
    "    # derived vars\n",
    "    VERSIONS['GCC_VERSION_MAJOR']=VERSIONS['GCC_VERSION'].split('.')[0]\n",
    "    CMAKE_VERSION=VERSIONS['CMAKE_VERSION']\n",
    "    VERSIONS['CMAKE_VERSION_MAJOR'],VERSIONS['CMAKE_VERSION_MINOR'],VERSIONS['CMAKE_VERSION_PATCH']=tuple(CMAKE_VERSION.split('.'))"
   ]
  },
  {
   "cell_type": "code",
   "execution_count": 7,
   "id": "6f356000",
   "metadata": {
    "pycharm": {
     "name": "#%%\n"
    }
   },
   "outputs": [],
   "source": [
    "configure_versions('ubuntu:18.04')"
   ]
  },
  {
   "cell_type": "code",
   "execution_count": 8,
   "id": "232102d2",
   "metadata": {
    "pycharm": {
     "name": "#%%\n"
    }
   },
   "outputs": [],
   "source": [
    "def install_mongodb(osname='ubuntu:22.04'):\n",
    "    MONGODB_VERSION=VERSIONS['MONGODB_VERSION']\n",
    "    if osname == 'ubuntu:18.04':\n",
    "        return  \"\"\"apt-get update && apt-get install -y curl gnupg \\\\\n",
    "&& curl -fsSL https://www.mongodb.org/static/pgp/server-{version}.asc | apt-key add - \\\\\n",
    "&& echo \"deb [ arch=amd64,arm64 ] https://repo.mongodb.org/apt/ubuntu bionic/mongodb-org/{version} multiverse\" | tee /etc/apt/sources.list.d/mongodb-org-{version}.list \\\\\n",
    "&& apt update \\\\\n",
    "&& apt install -y mongodb-org\"\"\".format(version=MONGODB_VERSION)\n",
    "    else:\n",
    "        raise Exception('unknown os {}'.format(osname))\n",
    "   "
   ]
  },
  {
   "cell_type": "code",
   "execution_count": 9,
   "id": "870c130b",
   "metadata": {
    "pycharm": {
     "name": "#%%\n"
    }
   },
   "outputs": [],
   "source": [
    "def tiny_bash_header():\n",
    "    current_year = datetime.datetime.now().year\n",
    "    current_date = str(datetime.datetime.now())\n",
    "    return '#!/usr/bin/env bash\\n#(c) 2017-{} Tuplex team\\n\\n'.format(current_year)\n",
    "\n",
    "def write_bash_file(path, content, header=tiny_bash_header()):\n",
    "    with open(path, 'w') as fp:\n",
    "        fp.write(header)\n",
    "        fp.write(content)\n",
    "    os.chmod(path, 0o700) # rwx------"
   ]
  },
  {
   "cell_type": "code",
   "execution_count": 10,
   "id": "0851b92a",
   "metadata": {
    "pycharm": {
     "name": "#%%\n"
    }
   },
   "outputs": [
    {
     "name": "stdout",
     "output_type": "stream",
     "text": [
      "Help on built-in function chmod in module posix:\n",
      "\n",
      "chmod(path, mode, *, dir_fd=None, follow_symlinks=True)\n",
      "    Change the access permissions of a file.\n",
      "    \n",
      "      path\n",
      "        Path to be modified.  May always be specified as a str, bytes, or a path-like object.\n",
      "        On some platforms, path may also be specified as an open file descriptor.\n",
      "        If this functionality is unavailable, using it raises an exception.\n",
      "      mode\n",
      "        Operating-system mode bitfield.\n",
      "      dir_fd\n",
      "        If not None, it should be a file descriptor open to a directory,\n",
      "        and path should be relative; path will then be relative to that\n",
      "        directory.\n",
      "      follow_symlinks\n",
      "        If False, and the last element of the path is a symbolic link,\n",
      "        chmod will modify the symbolic link itself instead of the file\n",
      "        the link points to.\n",
      "    \n",
      "    It is an error to use dir_fd or follow_symlinks when specifying path as\n",
      "      an open file descriptor.\n",
      "    dir_fd and follow_symlinks may not be implemented on your platform.\n",
      "      If they are unavailable, using them will raise a NotImplementedError.\n",
      "\n"
     ]
    }
   ],
   "source": [
    "help(os.chmod)"
   ]
  },
  {
   "cell_type": "code",
   "execution_count": 11,
   "id": "f9543d67",
   "metadata": {
    "pycharm": {
     "name": "#%%\n"
    }
   },
   "outputs": [],
   "source": [
    "# write ubuntu 18.04 files\n",
    "osname = 'ubuntu:18.04'\n",
    "\n",
    "root_folder = 'ubuntu1804'\n",
    "os.makedirs(root_folder, exist_ok=True)\n",
    "\n",
    "write_bash_file(os.path.join(root_folder, 'install_mongodb.sh'), install_mongodb(osname))"
   ]
  },
  {
   "cell_type": "code",
   "execution_count": 12,
   "id": "77a87a4c",
   "metadata": {
    "pycharm": {
     "name": "#%%\n"
    }
   },
   "outputs": [
    {
     "name": "stdout",
     "output_type": "stream",
     "text": [
      "Overwriting ubuntu1804/Dockerfile\n"
     ]
    }
   ],
   "source": [
    "%%file ubuntu1804/Dockerfile\n",
    "\n",
    "FROM ubuntu:18.04\n",
    "    \n",
    "# build using docker build -t tuplex/ubuntu:1804 .\n",
    "\n",
    "MAINTAINER Leonhard Spiegelberg \"leonhard@brown.edu\"\n",
    "\n",
    "RUN mkdir -p /opt/sbin\n",
    "\n",
    "ADD install_mongodb.sh /opt/sbin/install_mongodb.sh\n",
    "RUN /opt/sbin/install_mongodb.sh"
   ]
  },
  {
   "cell_type": "code",
   "execution_count": 13,
   "id": "cf5212a7",
   "metadata": {
    "scrolled": true,
    "pycharm": {
     "name": "#%%\n"
    }
   },
   "outputs": [
    {
     "name": "stdout",
     "output_type": "stream",
     "text": [
      "apt-get update && apt-get install -y curl gnupg \\\n",
      "&& curl -fsSL https://www.mongodb.org/static/pgp/server-5.0.asc | apt-key add - \\\n",
      "&& echo \"deb [ arch=amd64,arm64 ] https://repo.mongodb.org/apt/ubuntu bionic/mongodb-org/5.0 multiverse\" | tee /etc/apt/sources.list.d/mongodb-org-5.0.list \\\n",
      "&& apt update \\\n",
      "&& apt install -y mongodb-org\n"
     ]
    }
   ],
   "source": [
    "print(install_mongodb('ubuntu:18.04'))"
   ]
  },
  {
   "cell_type": "code",
   "execution_count": 14,
   "id": "b7d34fc3",
   "metadata": {
    "pycharm": {
     "name": "#%%\n"
    }
   },
   "outputs": [],
   "source": [
    "def apt_dependencies(osname='ubuntu:22.04'):\n",
    "    \n",
    "    GCC_VERSION_MAJOR=VERSIONS['GCC_VERSION_MAJOR']\n",
    "    \n",
    "    packages_dict = {'ubuntu:22.04': '''apt-utils dh-autoreconf libmagic-dev curl libxml2-dev vim build-essential libssl-dev zlib1g-dev libncurses5-dev \\\\\n",
    "    libncursesw5-dev libreadline-dev libsqlite3-dev libgdbm-dev libdb5.3-dev \\\\\n",
    "    libbz2-dev libexpat1-dev liblzma-dev tk-dev libffi-dev wget git libcurl4-openssl-dev python3-dev python3-pip openjdk-8-jre-headless''',\n",
    "                     'ubuntu:20.04': '''software-properties-common dh-autoreconf curl build-essential wget git libedit-dev libz-dev \\\\\n",
    "                   python3-yaml python3-pip pkg-config libssl-dev libcurl4-openssl-dev curl \\\\\n",
    "                   uuid-dev libffi-dev libmagic-dev \\\\\n",
    "                   doxygen doxygen-doc doxygen-latex doxygen-gui graphviz \\\\\n",
    "                   libgflags-dev libncurses-dev \\\\\n",
    "                   openjdk-8-jdk libyaml-dev ninja-build gcc-{} g++-{} autoconf libtool m4\n",
    "                     '''.format(GCC_VERSION_MAJOR, GCC_VERSION_MAJOR),\n",
    "                    'ubuntu:18.04': '''build-essential wget git dh-autoreconf libxml2-dev \\\\\n",
    " autoconf curl automake libtool software-properties-common wget libedit-dev libz-dev \\\\\n",
    "  python3-yaml pkg-config libssl-dev libcurl4-openssl-dev curl \\\\\n",
    "  uuid-dev git python3.7 python3.7-dev python3-pip libffi-dev \\\\\n",
    "  doxygen doxygen-doc doxygen-latex doxygen-gui graphviz \\\\\n",
    "  gcc-{} g++-{} libgflags-dev libncurses-dev \\\\\n",
    "  awscli openjdk-8-jdk libyaml-dev libmagic-dev ninja-build\n",
    "                    '''.format(GCC_VERSION_MAJOR, GCC_VERSION_MAJOR)}\n",
    "    \n",
    "    return 'apt update -y\\n' + \\\n",
    "'''\n",
    "apt-get install -y {}\n",
    "  \n",
    "ldconfig\n",
    "export CC=gcc-{}\n",
    "export CXX=g++-{}\n",
    "'''.format(packages_dict[osname], GCC_VERSION_MAJOR, GCC_VERSION_MAJOR)"
   ]
  },
  {
   "cell_type": "code",
   "execution_count": 15,
   "id": "402e3670",
   "metadata": {
    "pycharm": {
     "name": "#%%\n"
    }
   },
   "outputs": [
    {
     "name": "stdout",
     "output_type": "stream",
     "text": [
      "apt update -y\n",
      "\n",
      "apt-get install -y build-essential wget git dh-autoreconf libxml2-dev \\\n",
      " autoconf curl automake libtool software-properties-common wget libedit-dev libz-dev \\\n",
      "  python3-yaml pkg-config libssl-dev libcurl4-openssl-dev curl \\\n",
      "  uuid-dev git python3.7 python3.7-dev python3-pip libffi-dev \\\n",
      "  doxygen doxygen-doc doxygen-latex doxygen-gui graphviz \\\n",
      "  gcc-7 g++-7 libgflags-dev libncurses-dev \\\n",
      "  awscli openjdk-8-jdk libyaml-dev libmagic-dev ninja-build\n",
      "                    \n",
      "  \n",
      "ldconfig\n",
      "export CC=gcc-7\n",
      "export CXX=g++-7\n",
      "\n"
     ]
    }
   ],
   "source": [
    "print(apt_dependencies('ubuntu:18.04'))"
   ]
  },
  {
   "cell_type": "code",
   "execution_count": 16,
   "id": "1dc3b1bc",
   "metadata": {
    "pycharm": {
     "name": "#%%\n"
    }
   },
   "outputs": [],
   "source": [
    "def install_cmake():\n",
    "    \n",
    "    CMAKE_VERSION_MAJOR = VERSIONS['CMAKE_VERSION_MAJOR']\n",
    "    CMAKE_VERSION_MINOR = VERSIONS['CMAKE_VERSION_MINOR']\n",
    "    CMAKE_VERSION_PATCH = VERSIONS['CMAKE_VERSION_PATCH']\n",
    "    \n",
    "    return '''\n",
    "# fetch recent cmake & install\n",
    "CMAKE_VER_MAJOR={}\n",
    "CMAKE_VER_MINOR={}\n",
    "CMAKE_VER_PATCH={}'''.format(CMAKE_VERSION_MAJOR,CMAKE_VERSION_MINOR,CMAKE_VERSION_PATCH) + '''\n",
    "CMAKE_VER=\"${CMAKE_VER_MAJOR}.${CMAKE_VER_MINOR}\"\n",
    "CMAKE_VERSION=\"${CMAKE_VER}.${CMAKE_VER_PATCH}\"\n",
    "URL=https://github.com/Kitware/CMake/releases/download/v${CMAKE_VERSION}/cmake-${CMAKE_VERSION}-linux-x86_64.tar.gz\n",
    "mkdir -p ${WORKDIR}/cmake && cd ${WORKDIR}/cmake &&\n",
    "  curl -sSL $URL -o cmake-${CMAKE_VERSION}-linux-x86_64.tar.gz &&\n",
    "  tar -v -zxf cmake-${CMAKE_VERSION}-linux-x86_64.tar.gz &&\n",
    "  rm -f cmake-${CMAKE_VERSION}-linux-x86_64.tar.gz &&\n",
    "  cd cmake-${CMAKE_VERSION}-linux-x86_64 &&\n",
    "  cp -rp bin/* ${PREFIX}/bin/ &&\n",
    "  cp -rp share/* ${PREFIX}/share/ &&\n",
    "  cd / && rm -rf ${WORKDIR}/cmake\n",
    "    '''"
   ]
  },
  {
   "cell_type": "code",
   "execution_count": 17,
   "id": "829d8198",
   "metadata": {
    "pycharm": {
     "name": "#%%\n"
    }
   },
   "outputs": [
    {
     "name": "stdout",
     "output_type": "stream",
     "text": [
      "\n",
      "# fetch recent cmake & install\n",
      "CMAKE_VER_MAJOR=3\n",
      "CMAKE_VER_MINOR=23\n",
      "CMAKE_VER_PATCH=3\n",
      "CMAKE_VER=\"${CMAKE_VER_MAJOR}.${CMAKE_VER_MINOR}\"\n",
      "CMAKE_VERSION=\"${CMAKE_VER}.${CMAKE_VER_PATCH}\"\n",
      "URL=https://github.com/Kitware/CMake/releases/download/v${CMAKE_VERSION}/cmake-${CMAKE_VERSION}-linux-x86_64.tar.gz\n",
      "mkdir -p ${WORKDIR}/cmake && cd ${WORKDIR}/cmake &&\n",
      "  curl -sSL $URL -o cmake-${CMAKE_VERSION}-linux-x86_64.tar.gz &&\n",
      "  tar -v -zxf cmake-${CMAKE_VERSION}-linux-x86_64.tar.gz &&\n",
      "  rm -f cmake-${CMAKE_VERSION}-linux-x86_64.tar.gz &&\n",
      "  cd cmake-${CMAKE_VERSION}-linux-x86_64 &&\n",
      "  cp -rp bin/* ${PREFIX}/bin/ &&\n",
      "  cp -rp share/* ${PREFIX}/share/ &&\n",
      "  cd / && rm -rf ${WORKDIR}/cmake\n",
      "    \n"
     ]
    }
   ],
   "source": [
    "print(install_cmake())"
   ]
  },
  {
   "cell_type": "code",
   "execution_count": 18,
   "id": "8e058add",
   "metadata": {
    "pycharm": {
     "name": "#%%\n"
    }
   },
   "outputs": [],
   "source": [
    "def install_boost():\n",
    "    # may need to include the following to work for boost python\n",
    "    # # fix up for boost python a link\n",
    "    # cd /usr/local/include/ && ln -s python3.6m python3.6 && cd - || exit\n",
    "    \n",
    "    BOOST_VERSION=VERSIONS['BOOST_VERSION']\n",
    "    \n",
    "    boost_reformatted = BOOST_VERSION.replace('.', '_')\n",
    "    \n",
    "    # boost has a good amount of issues, following will result in a bug for GCC\n",
    "    # -> this line in $PREFIX/include/boost/thread/pthread/thread_data.hpp\n",
    "    # #if PTHREAD_STACK_MIN > 0\n",
    "    # should be replaced with\n",
    "    # #ifdef PTHREAD_STACK_MIN\n",
    "    \n",
    "    boost_fix = \" && sed -i 's/#if PTHREAD_STACK_MIN > 0/#ifdef PTHREAD_STACK_MIN/g' /opt/include/boost/thread/pthread/thread_data.hpp\"\n",
    "    return '''    \n",
    "mkdir -p ${WORKDIR/boost}\n",
    "    \n",
    "# build incl. boost python\n",
    "pushd ${WORKDIR/boost} && ''' + \\\n",
    "'wget https://boostorg.jfrog.io/artifactory/main/release/{}/source/boost_{}.tar.gz && tar xf boost_{}.tar.gz'.format(BOOST_VERSION, boost_reformatted, boost_reformatted, boost_reformatted) + \\\n",
    "' && cd ${{WORKDIR/boost}}/boost_{}'.format(boost_reformatted) + \\\n",
    "''' \\\\\n",
    "&& ./bootstrap.sh --with-python=${PYTHON_EXECUTABLE} --prefix=${PREFIX} --with-libraries=\"thread,iostreams,regex,system,filesystem,python,stacktrace,atomic,chrono,date_time\" \\\\\n",
    " && ./b2 cxxflags=\"-fPIC\" link=static -j \"$(nproc)\" \\\\\n",
    " && ./b2 cxxflags=\"-fPIC\" link=static install''' + boost_fix"
   ]
  },
  {
   "cell_type": "code",
   "execution_count": 19,
   "id": "272352ca",
   "metadata": {
    "pycharm": {
     "name": "#%%\n"
    }
   },
   "outputs": [
    {
     "name": "stdout",
     "output_type": "stream",
     "text": [
      "    \n",
      "mkdir -p ${WORKDIR/boost}\n",
      "    \n",
      "# build incl. boost python\n",
      "pushd ${WORKDIR/boost} && wget https://boostorg.jfrog.io/artifactory/main/release/1.79.0/source/boost_1_79_0.tar.gz && tar xf boost_1_79_0.tar.gz && cd ${WORKDIR/boost}/boost_1_79_0 \\\n",
      "&& ./bootstrap.sh --with-python=${PYTHON_EXECUTABLE} --prefix=${PREFIX} --with-libraries=\"thread,iostreams,regex,system,filesystem,python,stacktrace,atomic,chrono,date_time\" \\\n",
      " && ./b2 cxxflags=\"-fPIC\" link=static -j \"$(nproc)\" \\\n",
      " && ./b2 cxxflags=\"-fPIC\" link=static install && sed -i 's/#if PTHREAD_STACK_MIN > 0/#ifdef PTHREAD_STACK_MIN/g' /opt/include/boost/thread/pthread/thread_data.hpp\n"
     ]
    }
   ],
   "source": [
    "print(install_boost())"
   ]
  },
  {
   "cell_type": "code",
   "execution_count": 20,
   "id": "0572b789",
   "metadata": {
    "pycharm": {
     "name": "#%%\n"
    }
   },
   "outputs": [
    {
     "name": "stdout",
     "output_type": "stream",
     "text": [
      "mkdir -p ${WORKDIR}/protobuf && cd ${WORKDIR}/protobuf \\\n",
      "&& curl -OL https://github.com/protocolbuffers/protobuf/releases/download/v21.5/protobuf-cpp-3.21.5.tar.gz \\\n",
      "&& tar xf protobuf-cpp-3.21.5.tar.gz \\\n",
      "&& cd protobuf-3.21.5 \\\n",
      "&& ./autogen.sh && ./configure \"CFLAGS=-fPIC\" \"CXXFLAGS=-fPIC\" \\\n",
      "&& make -j$(nproc) && make install && ldconfig\n"
     ]
    }
   ],
   "source": [
    "def install_protobuf():\n",
    "    PROTOBUF_VERSION=VERSIONS['PROTOBUF_VERSION']\n",
    "    \n",
    "    code = 'mkdir -p ${WORKDIR}/protobuf && cd ${WORKDIR}/protobuf \\\\'\n",
    "    \n",
    "    code += '''\\n&& curl -OL https://github.com/protocolbuffers/protobuf/releases/download/v{minversion}/protobuf-cpp-{version}.tar.gz \\\\\n",
    "&& tar xf protobuf-cpp-{version}.tar.gz \\\\\n",
    "&& cd protobuf-{version} \\\\\n",
    "&& ./autogen.sh && ./configure \"CFLAGS=-fPIC\" \"CXXFLAGS=-fPIC\" \\\\\n",
    "&& make -j$(nproc) && make install && ldconfig'''.format(version=PROTOBUF_VERSION, minversion=PROTOBUF_VERSION.replace('3.', ''))\n",
    "    \n",
    "    return code\n",
    "\n",
    "\n",
    "\n",
    "print(install_protobuf())"
   ]
  },
  {
   "cell_type": "code",
   "execution_count": 21,
   "id": "870a4945",
   "metadata": {
    "pycharm": {
     "name": "#%%\n"
    }
   },
   "outputs": [
    {
     "name": "stdout",
     "output_type": "stream",
     "text": [
      "mkdir -p ${WORKDIR}/pcre2 && cd ${WORKDIR}/pcre2 \\\n",
      "&& curl -LO https://github.com/PhilipHazel/pcre2/releases/download/pcre2-10.39/pcre2-10.39.zip \\\n",
      "&& unzip pcre2-10.39.zip \\\n",
      "&& rm pcre2-10.39.zip \\\n",
      "&& cd pcre2-10.39 \\\n",
      "&& ./configure CFLAGS=\"-O2 -fPIC\" --prefix=${PREFIX} --enable-jit=auto --disable-shared \\\n",
      "&& make -j$(nproc) && make install\n"
     ]
    }
   ],
   "source": [
    "def install_pcre2():\n",
    "    PCRE2_VERSION=VERSIONS['PCRE2_VERSION']\n",
    "    \n",
    "    \n",
    "    code = 'mkdir -p ${WORKDIR}/pcre2 && cd ${WORKDIR}/pcre2 \\\\'\n",
    "    \n",
    "    code += '''\\n&& curl -LO https://github.com/PhilipHazel/pcre2/releases/download/pcre2-{version}/pcre2-{version}.zip \\\\\n",
    "&& unzip pcre2-{version}.zip \\\\\n",
    "&& rm pcre2-{version}.zip \\\\\n",
    "&& cd pcre2-{version} \\\\\n",
    "&& ./configure CFLAGS=\"-O2 -fPIC\" --prefix=${{PREFIX}} --enable-jit=auto --disable-shared \\\\\n",
    "&& make -j$(nproc) && make install'''.format(version=PCRE2_VERSION)\n",
    "    \n",
    "    return code\n",
    "\n",
    "\n",
    "print(install_pcre2())"
   ]
  },
  {
   "cell_type": "code",
   "execution_count": 22,
   "id": "e95b94d4",
   "metadata": {
    "pycharm": {
     "name": "#%%\n"
    }
   },
   "outputs": [
    {
     "name": "stdout",
     "output_type": "stream",
     "text": [
      "mkdir -p ${WORKDIR}/aws && cd ${WORKDIR}/aws \\\n",
      "&&  git clone --recurse-submodules https://github.com/aws/aws-sdk-cpp.git \\\n",
      "&& cd aws-sdk-cpp && git checkout tags/1.9.320 && mkdir build && cd build \\\n",
      "&& cmake -DCMAKE_BUILD_TYPE=Release -DUSE_OPENSSL=ON -DENABLE_TESTING=OFF -DENABLE_UNITY_BUILD=ON -DCPP_STANDARD=14 -DBUILD_SHARED_LIBS=OFF -DBUILD_ONLY=\"s3;core;lambda;transfer\" -DCMAKE_INSTALL_PREFIX=${PREFIX} .. \\\n",
      "&& make -j$(nproc) \\\n",
      "&& make install\n",
      "\n",
      "#installing AWS Lambda C++ runtime\n",
      "\n",
      "cd ${WORKDIR}/aws \\\n",
      "&& git clone https://github.com/awslabs/aws-lambda-cpp.git \\\n",
      "&& cd aws-lambda-cpp \\\n",
      "&& git fetch && git fetch --tags \\\n",
      "&& git checkout v0.2.6 \\\n",
      "&& mkdir build \\\n",
      "&& cd build \\\n",
      "&& cmake -DCMAKE_BUILD_TYPE=Release -DCMAKE_INSTALL_PREFIX=${PREFIX} .. \\\n",
      "&& make -j$(nproc) && make install\n"
     ]
    }
   ],
   "source": [
    "def install_aws_sdk():\n",
    "    # install BOTH aws sdk and LAMBDA runtime\n",
    "    \n",
    "    AWSSDK_VERSION=VERSIONS['AWSSDK_VERSION']\n",
    "    AWSLAMBDACPP_VERSION=VERSIONS['AWSLAMBDACPP_VERSION']\n",
    "    \n",
    "    code = 'mkdir -p ${WORKDIR}/aws && cd ${WORKDIR}/aws \\\\'\n",
    "    \n",
    "    code += '''\\n&&  git clone --recurse-submodules https://github.com/aws/aws-sdk-cpp.git \\\\\n",
    "&& cd aws-sdk-cpp && git checkout tags/{version} && mkdir build && cd build \\\\\n",
    "&& cmake -DCMAKE_BUILD_TYPE=Release -DUSE_OPENSSL=ON -DENABLE_TESTING=OFF -DENABLE_UNITY_BUILD=ON -DCPP_STANDARD=14 -DBUILD_SHARED_LIBS=OFF -DBUILD_ONLY=\"s3;core;lambda;transfer\" -DCMAKE_INSTALL_PREFIX=${{PREFIX}} .. \\\\\n",
    "&& make -j$(nproc) \\\\\n",
    "&& make install'''.format(version=AWSSDK_VERSION)\n",
    "\n",
    "    code += '\\n\\n#installing AWS Lambda C++ runtime\\n'\n",
    "    code += '\\ncd ${WORKDIR}/aws \\\\\\n'\n",
    "    code += '''&& git clone https://github.com/awslabs/aws-lambda-cpp.git \\\\\n",
    "&& cd aws-lambda-cpp \\\\\n",
    "&& git fetch && git fetch --tags \\\\\n",
    "&& git checkout v{version} \\\\\n",
    "&& mkdir build \\\\\n",
    "&& cd build \\\\\n",
    "&& cmake -DCMAKE_BUILD_TYPE=Release -DCMAKE_INSTALL_PREFIX=${{PREFIX}} .. \\\\\n",
    "&& make -j$(nproc) && make install'''.format(version=AWSLAMBDACPP_VERSION)\n",
    "    \n",
    "    return code\n",
    "\n",
    "\n",
    "print(install_aws_sdk())"
   ]
  },
  {
   "cell_type": "code",
   "execution_count": 23,
   "id": "9615bc21",
   "metadata": {
    "pycharm": {
     "name": "#%%\n"
    }
   },
   "outputs": [
    {
     "name": "stdout",
     "output_type": "stream",
     "text": [
      "mkdir -p ${WORKDIR}/antlr && cd ${WORKDIR}/antlr \\\n",
      "&& curl -O https://www.antlr.org/download/antlr-4.8-complete.jar \\\n",
      "&& cp antlr-4.8-complete.jar ${PREFIX}/lib/ \\\n",
      "&& curl -O https://www.antlr.org/download/antlr4-cpp-runtime-4.8-source.zip \\\n",
      "&& unzip antlr4-cpp-runtime-4.8-source.zip -d antlr4-cpp-runtime \\\n",
      "&& rm antlr4-cpp-runtime-4.8-source.zip \\\n",
      "&& cd antlr4-cpp-runtime \\\n",
      "&& mkdir build && cd build && cmake -DCMAKE_BUILD_TYPE=Release -DCMAKE_INSTALL_PREFIX=${PREFIX} .. \\\n",
      "&& make -j$(nproc) && make install\n"
     ]
    }
   ],
   "source": [
    "def install_antlr():\n",
    "    # install both ANTLR tool and C++ runtime\n",
    "    ANTLR_VERSION=VERSIONS['ANTLR_VERSION']\n",
    "    \n",
    "    ANTLR_MAJMIN = '.'.join(ANTLR_VERSION.split('.')[:2])\n",
    "    \n",
    "    code = 'mkdir -p ${WORKDIR}/antlr && cd ${WORKDIR}/antlr \\\\\\n'\n",
    "    \n",
    "    code += '''&& curl -O https://www.antlr.org/download/antlr-{majmin}-complete.jar \\\\\n",
    "&& cp antlr-{majmin}-complete.jar ${{PREFIX}}/lib/ \\\\\\n'''.format(majmin=ANTLR_MAJMIN)\n",
    "    \n",
    "    # install runtime\n",
    "    code += '''&& curl -O https://www.antlr.org/download/antlr4-cpp-runtime-{majmin}-source.zip \\\\\n",
    "&& unzip antlr4-cpp-runtime-{majmin}-source.zip -d antlr4-cpp-runtime \\\\\n",
    "&& rm antlr4-cpp-runtime-{majmin}-source.zip \\\\\n",
    "&& cd antlr4-cpp-runtime \\\\\n",
    "&& mkdir build && cd build && cmake -DCMAKE_BUILD_TYPE=Release -DCMAKE_INSTALL_PREFIX=${{PREFIX}} .. \\\\\n",
    "&& make -j$(nproc) && make install'''.format(majmin=ANTLR_MAJMIN)\n",
    "    \n",
    "    return code\n",
    "\n",
    "\n",
    "print(install_antlr())"
   ]
  },
  {
   "cell_type": "code",
   "execution_count": 24,
   "id": "a404820e",
   "metadata": {
    "pycharm": {
     "name": "#%%\n"
    }
   },
   "outputs": [
    {
     "name": "stdout",
     "output_type": "stream",
     "text": [
      "mkdir -p ${WORKDIR}/yamlcpp && cd ${WORKDIR}/yamlcpp \\\n",
      "&& git clone https://github.com/jbeder/yaml-cpp.git yaml-cpp \\\n",
      "&& cd yaml-cpp \\\n",
      "&& git checkout tags/yaml-cpp-0.6.3 \\\n",
      "&& mkdir build && cd build \\\n",
      "&& cmake -DCMAKE_BUILD_TYPE=Release -DCMAKE_INSTALL_PREFIX=${prefix} -DYAML_CPP_BUILD_TESTS=OFF -DBUILD_SHARED_LIBS=OFF -DCMAKE_CXX_FLAGS=\"-fPIC\" .. \\\n",
      "&& make -j$(nproc) && make install\n"
     ]
    }
   ],
   "source": [
    "def install_yaml():\n",
    "    YAMLCPP_VERSION=VERSIONS['YAMLCPP_VERSION']\n",
    "    \n",
    "    # install yaml cpp\n",
    "    code = 'mkdir -p ${WORKDIR}/yamlcpp && cd ${WORKDIR}/yamlcpp \\\\'\n",
    "    \n",
    "    code += '''\\n&& git clone https://github.com/jbeder/yaml-cpp.git yaml-cpp \\\\\n",
    "&& cd yaml-cpp \\\\\n",
    "&& git checkout tags/yaml-cpp-{version} \\\\\n",
    "&& mkdir build && cd build \\\\\n",
    "&& cmake -DCMAKE_BUILD_TYPE=Release -DCMAKE_INSTALL_PREFIX=${{prefix}} -DYAML_CPP_BUILD_TESTS=OFF -DBUILD_SHARED_LIBS=OFF -DCMAKE_CXX_FLAGS=\"-fPIC\" .. \\\\\n",
    "&& make -j$(nproc) && make install'''.format(version=YAMLCPP_VERSION)\n",
    "    \n",
    "    return code\n",
    "\n",
    "print(install_yaml())"
   ]
  },
  {
   "cell_type": "code",
   "execution_count": 25,
   "id": "0ccd0939",
   "metadata": {
    "pycharm": {
     "name": "#%%\n"
    }
   },
   "outputs": [
    {
     "name": "stdout",
     "output_type": "stream",
     "text": [
      "mkdir -p ${WORKDIR}/celero && cd ${WORKDIR}/celero \\\n",
      "&&  git clone https://github.com/DigitalInBlue/Celero.git celero && cd celero \\\n",
      "&& git checkout tags/v2.8.3 \\\n",
      "&& mkdir build && cd build \\\n",
      "&& cmake -DCMAKE_BUILD_TYPE=Release -DCMAKE_INSTALL_PREFIX=${PREFIX} -DBUILD_SHARED_LIBS=OFF -DCMAKE_CXX_FLAGS=\"-fPIC -std=c++11\" .. \\\n",
      "&& make -j$(nproc) && make install\n"
     ]
    }
   ],
   "source": [
    "def install_celero():\n",
    "    CELERO_VERSION=VERSIONS['CELERO_VERSION']\n",
    "    \n",
    "    # install ycelero\n",
    "    code = 'mkdir -p ${WORKDIR}/celero && cd ${WORKDIR}/celero \\\\'\n",
    "    \n",
    "    code += '''\\n&&  git clone https://github.com/DigitalInBlue/Celero.git celero && cd celero \\\\\n",
    "&& git checkout tags/v{version} \\\\\n",
    "&& mkdir build && cd build \\\\\n",
    "&& cmake -DCMAKE_BUILD_TYPE=Release -DCMAKE_INSTALL_PREFIX=${{PREFIX}} -DBUILD_SHARED_LIBS=OFF -DCMAKE_CXX_FLAGS=\"-fPIC -std=c++11\" .. \\\\\n",
    "&& make -j$(nproc) && make install'''.format(version=CELERO_VERSION)\n",
    "    \n",
    "    return code\n",
    "\n",
    "print(install_celero())"
   ]
  },
  {
   "cell_type": "code",
   "execution_count": 26,
   "id": "11487f8b",
   "metadata": {
    "pycharm": {
     "name": "#%%\n"
    }
   },
   "outputs": [
    {
     "name": "stdout",
     "output_type": "stream",
     "text": [
      "echo \"Consider adding the following lines to your ~/.bash_profile, ~/.bashrc or other shell config file:\"\n",
      "\n",
      "\n",
      "alias antlr='java -jar /opt/lib/antlr-4.8-complete.jar'\n",
      "alias grun='java org.antlr.v4.gui.TestRig'\n",
      "\n",
      "export PATH=/opt/bin:$PATH\n",
      "export CPLUS_INCLUDE_PATH=/opt/include:${CPLUS_INCLUDE_PATH}\n",
      "export C_INCLUDE_PATH=/opt/include:${C_INCLUDE_PATH}\n",
      "export LD_LIBRARY_PATH=/opt/lib:${LD_LIBRARY_PATH}\n",
      "    \n"
     ]
    }
   ],
   "source": [
    "def bashrc_helper():\n",
    "    ANTLR_VERSION=VERSIONS['ANTLR_VERSION']\n",
    "    PREFIX=VERSIONS['PREFIX']\n",
    "    \n",
    "    code = 'echo \"Consider adding the following lines to your ~/.bash_profile, ~/.bashrc or other shell config file:\"\\n\\n'\n",
    "    # could print out the following hints for bashrc\n",
    "    \n",
    "    # # setup bash aliases\n",
    "    # echo \"alias antlr='java -jar /opt/lib/antlr-4.8-complete.jar'\" >>\"$HOME/.bashrc\"\n",
    "    # echo \"alias grun='java org.antlr.v4.gui.TestRig'\" >>\"$HOME/.bashrc\"\n",
    "\n",
    "    # # update include/link paths to /opt\n",
    "    # echo \"export CPLUS_INCLUDE_PATH=/opt/include:\\${CPLUS_INCLUDE_PATH}\" >> \"$HOME/.bashrc\"\n",
    "    # echo \"export C_INCLUDE_PATH=/opt/include:\\${C_INCLUDE_PATH}\" >> \"$HOME/.bashrc\"\n",
    "    # echo \"export LD_LIBRARY_PATH=/opt/lib:\\${LD_LIBRARY_PATH}\" >> \"$HOME/.bashrc\"\n",
    "    \n",
    "    ANTLR_MAJMIN = '.'.join(ANTLR_VERSION.split('.')[:2])\n",
    "    ANTLR_MAJ=ANTLR_VERSION.split('.')[0]\n",
    "    \n",
    "    code += \"\"\"\n",
    "alias antlr='java -jar /opt/lib/antlr-{}-complete.jar'\n",
    "alias grun='java org.antlr.v{}.gui.TestRig'\n",
    "\n",
    "export PATH={prefix}/bin:$PATH\n",
    "export CPLUS_INCLUDE_PATH={prefix}/include:${{CPLUS_INCLUDE_PATH}}\n",
    "export C_INCLUDE_PATH={prefix}/include:${{C_INCLUDE_PATH}}\n",
    "export LD_LIBRARY_PATH={prefix}/lib:${{LD_LIBRARY_PATH}}\n",
    "    \"\"\".format(ANTLR_MAJMIN, ANTLR_MAJ, prefix=PREFIX)\n",
    "    return code\n",
    "\n",
    "print(bashrc_helper())"
   ]
  },
  {
   "cell_type": "code",
   "execution_count": 27,
   "id": "4a0ebcab",
   "metadata": {
    "pycharm": {
     "name": "#%%\n"
    }
   },
   "outputs": [],
   "source": [
    "def install_llvm():\n",
    "    \n",
    "    GCC_VERSION_MAJOR=VERSIONS['GCC_VERSION_MAJOR']\n",
    "    LLVM_VERSION=VERSIONS['LLVM_VERSION']\n",
    "    \n",
    "    cxx_flags = '-std=c++11'\n",
    "    \n",
    "    # GCC11+ requires explicit include of limits etc. cf.https://stackoverflow.com/questions/4798936/numeric-limits-was-not-declared-in-this-scope-no-matching-function-for-call-t\n",
    "    if int(GCC_VERSION_MAJOR) >= 11:\n",
    "        cxx_flags += ' -include /usr/include/c++/11/limits'\n",
    "    \n",
    "    \n",
    "    LLVM_VERSION_MAJOR=LLVM_VERSION.split('.')[0]\n",
    "    workdir='${WORKDIR}/llvm'\n",
    "    code = 'mkdir -p {} && cd {} && '.format(workdir, workdir)  + \\\n",
    "'''wget https://github.com/llvm/llvm-project/releases/download/llvmorg-{version}/llvm-{version}.src.tar.xz \\\\\n",
    "&& wget https://github.com/llvm/llvm-project/releases/download/llvmorg-{version}/clang-{version}.src.tar.xz \\\\\n",
    "&& tar xf llvm-{version}.src.tar.xz && tar xf clang-{version}.src.tar.xz \\\\'''.format(version=LLVM_VERSION)\n",
    "\n",
    "    cmake_base_flags = '''-DLLVM_ENABLE_RTTI=ON -DLLVM_ENABLE_EH=ON \\\\\n",
    "        -DLLVM_ENABLE_PROJECTS=\"clang\" \\\\\n",
    "         -DLLVM_TARGETS_TO_BUILD=\"X86\" -DCMAKE_BUILD_TYPE=Release'''\n",
    "    \n",
    "    if int(LLVM_VERSION_MAJOR) < 10:\n",
    "    \n",
    "        # LLVM version < 10\n",
    "        code += '''\\n&& mkdir llvm{maj} && mv clang-{version}.src llvm{maj}/clang \\\\\n",
    "    && mv llvm-{version}.src llvm{maj}/llvm-{version}.src \\\\\n",
    "    && cd llvm{maj}'''.format(version=LLVM_VERSION, maj=LLVM_VERSION_MAJOR)\n",
    "        \n",
    "        cmake_flags = cmake_base_flags\n",
    "        \n",
    "    else:\n",
    "        # LLVM version >= 10\n",
    "        code += '''\\n&& mkdir llvm{maj} && mv clang-{version}.src llvm{maj}/clang && mv cmake llvm{maj}/cmake \\\\\n",
    "    && mv llvm-{version}.src llvm{maj}/llvm-{version}.src \\\\\n",
    "    && cd llvm{maj}'''.format(version=LLVM_VERSION, maj=LLVM_VERSION_MAJOR)\n",
    "\n",
    "        cmake_flags = cmake_base_flags + ' -DLLVM_INCLUDE_BENCHMARKS=OFF'\n",
    "        \n",
    "        \n",
    "    code += ''' && mkdir build && cd build \\\\\n",
    "&& cmake {cmake_flags} -DCMAKE_CXX_FLAGS=\"{cxx_flags}\" \\\\\n",
    "         -DCMAKE_INSTALL_PREFIX=/opt/llvm-{version} ../llvm-{version}.src \\\\\n",
    "&& make -j \"$(nproc)\" && make install'''.format(cmake_flags=cmake_flags, version=LLVM_VERSION, cxx_flags=cxx_flags)\n",
    "    \n",
    "    return code"
   ]
  },
  {
   "cell_type": "code",
   "execution_count": 28,
   "id": "b7853237",
   "metadata": {
    "pycharm": {
     "name": "#%%\n"
    }
   },
   "outputs": [
    {
     "name": "stdout",
     "output_type": "stream",
     "text": [
      "mkdir -p ${WORKDIR}/llvm && cd ${WORKDIR}/llvm && wget https://github.com/llvm/llvm-project/releases/download/llvmorg-9.0.1/llvm-9.0.1.src.tar.xz \\\n",
      "&& wget https://github.com/llvm/llvm-project/releases/download/llvmorg-9.0.1/clang-9.0.1.src.tar.xz \\\n",
      "&& tar xf llvm-9.0.1.src.tar.xz && tar xf clang-9.0.1.src.tar.xz \\\n",
      "&& mkdir llvm9 && mv clang-9.0.1.src llvm9/clang \\\n",
      "    && mv llvm-9.0.1.src llvm9/llvm-9.0.1.src \\\n",
      "    && cd llvm9 && mkdir build && cd build \\\n",
      "&& cmake -DLLVM_ENABLE_RTTI=ON -DLLVM_ENABLE_EH=ON \\\n",
      "        -DLLVM_ENABLE_PROJECTS=\"clang\" \\\n",
      "         -DLLVM_TARGETS_TO_BUILD=\"X86\" -DCMAKE_BUILD_TYPE=Release -DCMAKE_CXX_FLAGS=\"-std=c++11\" \\\n",
      "         -DCMAKE_INSTALL_PREFIX=/opt/llvm-9.0.1 ../llvm-9.0.1.src \\\n",
      "&& make -j \"$(nproc)\" && make install\n"
     ]
    }
   ],
   "source": [
    "print(install_llvm())"
   ]
  },
  {
   "cell_type": "code",
   "execution_count": 29,
   "id": "d1fc04e6",
   "metadata": {
    "pycharm": {
     "name": "#%%\n"
    }
   },
   "outputs": [],
   "source": [
    "def make_ubuntu_1804_req_file(path):\n",
    "    \n",
    "    configure_versions('ubuntu:18.04')\n",
    "    \n",
    "    WORKDIR=VERSIONS['WORKDIR']\n",
    "    PREFIX=VERSIONS['PREFIX']\n",
    "    \n",
    "    # create Ubuntu 1804 req file\n",
    "    with open(path, 'w') as fp:\n",
    "        fp.write(bash_header().strip())\n",
    "        \n",
    "        fp.write('\\necho \">> Installing all build dependencies for Tuplex under Ubuntu 18.04\"\\n')\n",
    "\n",
    "        fp.write('\\necho \">> Installing apt dependencies\"\\n')\n",
    "        fp.write(apt_dependencies('ubuntu:18.04').strip())\n",
    "\n",
    "        fp.write('\\n\\necho \">> Installing recent cmake\"\\n')\n",
    "        fp.write(install_cmake().strip())\n",
    "\n",
    "        # use for following commands, newly installed cmake!\n",
    "        fp.write('\\n\\nexport PATH=$PREFIX/bin:$PATH\\ncmake --version\\n')\n",
    "\n",
    "        fp.write('\\n\\necho \">> Installing Boost\"\\n')\n",
    "        fp.write(install_boost().strip())\n",
    "\n",
    "        fp.write('\\n\\necho \">> Installing LLVM\"\\n')\n",
    "        fp.write(install_llvm().strip())\n",
    "\n",
    "        fp.write('\\n\\necho \">> Installing PCRE2\"\\n')\n",
    "        fp.write(install_pcre2().strip())\n",
    "\n",
    "        fp.write('\\n\\necho \">> Installing Celero\"\\n')\n",
    "        fp.write(install_celero().strip())\n",
    "\n",
    "        fp.write('\\n\\necho \">> Installing YAMLCPP\"\\n')\n",
    "        fp.write(install_yaml().strip())\n",
    "\n",
    "        fp.write('\\n\\necho \">> Installing ANTLR\"\\n')\n",
    "        fp.write(install_antlr().strip())\n",
    "\n",
    "        fp.write('\\n\\necho \">> Installing protobuf\"\\n')\n",
    "        fp.write(install_protobuf().strip())\n",
    "\n",
    "        fp.write('\\n\\necho \">> Installing AWS SDK\"\\n')\n",
    "        fp.write(install_aws_sdk().strip())\n",
    "\n",
    "        fp.write('\\n\\necho \">> Cleaning/removing workdir {}\"'.format(WORKDIR))\n",
    "        fp.write('\\nrm -rf ${WORKDIR}\\n')\n",
    "        fp.write('\\necho \"-- Done, all Tuplex requirements installed to {} --\"\\n'.format(PREFIX))\n",
    "        \n",
    "    os.chmod(path, 0o700)"
   ]
  },
  {
   "cell_type": "code",
   "execution_count": 30,
   "id": "9427487e",
   "metadata": {
    "pycharm": {
     "name": "#%%\n"
    }
   },
   "outputs": [],
   "source": [
    "make_ubuntu_1804_req_file('ubuntu1804/install_requirements.sh')"
   ]
  },
  {
   "cell_type": "code",
   "execution_count": 31,
   "id": "4e63f72b",
   "metadata": {
    "pycharm": {
     "name": "#%%\n"
    }
   },
   "outputs": [],
   "source": [
    "!open ubuntu1804"
   ]
  },
  {
   "cell_type": "code",
   "execution_count": 32,
   "id": "ce15d185",
   "metadata": {
    "pycharm": {
     "name": "#%%\n"
    }
   },
   "outputs": [
    {
     "name": "stdout",
     "output_type": "stream",
     "text": [
      "Overwriting ubuntu1804/Dockerfile\n"
     ]
    }
   ],
   "source": [
    "%%file ubuntu1804/Dockerfile\n",
    "\n",
    "FROM ubuntu:18.04\n",
    "    \n",
    "# build using docker build -t tuplex/ubuntu:1804 .\n",
    "\n",
    "MAINTAINER Leonhard Spiegelberg \"leonhard@brown.edu\"\n",
    "\n",
    "RUN mkdir -p /opt/sbin\n",
    "\n",
    "ADD install_mongodb.sh /opt/sbin/install_mongodb.sh\n",
    "RUN /opt/sbin/install_mongodb.sh\n",
    "\n",
    "ADD install_requirements.sh /opt/sbin/install_requirements.sh\n",
    "RUN /opt/sbin/install_requirements.sh"
   ]
  },
  {
   "cell_type": "code",
   "execution_count": null,
   "id": "5195211a",
   "metadata": {
    "pycharm": {
     "name": "#%%\n"
    }
   },
   "outputs": [],
   "source": []
  },
  {
   "cell_type": "code",
   "execution_count": null,
   "id": "8106dae7",
   "metadata": {
    "pycharm": {
     "name": "#%%\n"
    }
   },
   "outputs": [],
   "source": []
  },
  {
   "cell_type": "code",
   "execution_count": null,
   "id": "42ac6dae",
   "metadata": {
    "pycharm": {
     "name": "#%%\n"
    }
   },
   "outputs": [],
   "source": []
  },
  {
   "cell_type": "code",
   "execution_count": 33,
   "id": "3e5f44a3",
   "metadata": {
    "pycharm": {
     "name": "#%%\n"
    }
   },
   "outputs": [
    {
     "ename": "NameError",
     "evalue": "name 'WORKDIR' is not defined",
     "output_type": "error",
     "traceback": [
      "\u001B[0;31m---------------------------------------------------------------------------\u001B[0m",
      "\u001B[0;31mNameError\u001B[0m                                 Traceback (most recent call last)",
      "Input \u001B[0;32mIn [33]\u001B[0m, in \u001B[0;36m<cell line: 3>\u001B[0;34m()\u001B[0m\n\u001B[1;32m     36\u001B[0m fp\u001B[38;5;241m.\u001B[39mwrite(\u001B[38;5;124m'\u001B[39m\u001B[38;5;130;01m\\n\u001B[39;00m\u001B[38;5;130;01m\\n\u001B[39;00m\u001B[38;5;124mecho \u001B[39m\u001B[38;5;124m\"\u001B[39m\u001B[38;5;124m>> Installing AWS SDK\u001B[39m\u001B[38;5;124m\"\u001B[39m\u001B[38;5;130;01m\\n\u001B[39;00m\u001B[38;5;124m'\u001B[39m)\n\u001B[1;32m     37\u001B[0m fp\u001B[38;5;241m.\u001B[39mwrite(install_aws_sdk()\u001B[38;5;241m.\u001B[39mstrip())\n\u001B[0;32m---> 39\u001B[0m fp\u001B[38;5;241m.\u001B[39mwrite(\u001B[38;5;124m'\u001B[39m\u001B[38;5;130;01m\\n\u001B[39;00m\u001B[38;5;130;01m\\n\u001B[39;00m\u001B[38;5;124mecho \u001B[39m\u001B[38;5;124m\"\u001B[39m\u001B[38;5;124m>> Cleaning/removing workdir \u001B[39m\u001B[38;5;132;01m{}\u001B[39;00m\u001B[38;5;124m\"\u001B[39m\u001B[38;5;124m'\u001B[39m\u001B[38;5;241m.\u001B[39mformat(\u001B[43mWORKDIR\u001B[49m))\n\u001B[1;32m     40\u001B[0m fp\u001B[38;5;241m.\u001B[39mwrite(\u001B[38;5;124m'\u001B[39m\u001B[38;5;130;01m\\n\u001B[39;00m\u001B[38;5;124mrm -rf $\u001B[39m\u001B[38;5;132;01m{WORKDIR}\u001B[39;00m\u001B[38;5;130;01m\\n\u001B[39;00m\u001B[38;5;124m'\u001B[39m)\n\u001B[1;32m     41\u001B[0m fp\u001B[38;5;241m.\u001B[39mwrite(\u001B[38;5;124m'\u001B[39m\u001B[38;5;130;01m\\n\u001B[39;00m\u001B[38;5;124mecho \u001B[39m\u001B[38;5;124m\"\u001B[39m\u001B[38;5;124m-- Done, all Tuplex requirements installed to \u001B[39m\u001B[38;5;132;01m{}\u001B[39;00m\u001B[38;5;124m --\u001B[39m\u001B[38;5;124m\"\u001B[39m\u001B[38;5;130;01m\\n\u001B[39;00m\u001B[38;5;124m'\u001B[39m\u001B[38;5;241m.\u001B[39mformat(PREFIX))\n",
      "\u001B[0;31mNameError\u001B[0m: name 'WORKDIR' is not defined"
     ]
    }
   ],
   "source": [
    "# create Ubuntu 22.04 req file\n",
    "\n",
    "with open('install_dependencies_ubuntu_22_04.sh', 'w') as fp:\n",
    "    fp.write(bash_header().strip())\n",
    "    \n",
    "    fp.write('\\necho \">> Installing apt dependencies\"\\n')\n",
    "    fp.write(apt_dependencies().strip())\n",
    "    \n",
    "    fp.write('\\n\\necho \">> Installing recent cmake\"\\n')\n",
    "    fp.write(install_cmake().strip())\n",
    "    \n",
    "    # use for following commands, newly installed cmake!\n",
    "    fp.write('\\n\\nexport PATH=$PREFIX/bin:$PATH\\ncmake --version\\n')\n",
    "    \n",
    "    fp.write('\\n\\necho \">> Installing Boost\"\\n')\n",
    "    fp.write(install_boost().strip())\n",
    "    \n",
    "    fp.write('\\n\\necho \">> Installing LLVM\"\\n')\n",
    "    fp.write(install_llvm().strip())\n",
    "    \n",
    "    fp.write('\\n\\necho \">> Installing PCRE2\"\\n')\n",
    "    fp.write(install_pcre2().strip())\n",
    "    \n",
    "    fp.write('\\n\\necho \">> Installing Celero\"\\n')\n",
    "    fp.write(install_celero().strip())\n",
    "    \n",
    "    fp.write('\\n\\necho \">> Installing YAMLCPP\"\\n')\n",
    "    fp.write(install_yaml().strip())\n",
    "    \n",
    "    fp.write('\\n\\necho \">> Installing ANTLR\"\\n')\n",
    "    fp.write(install_antlr().strip())\n",
    "    \n",
    "    fp.write('\\n\\necho \">> Installing protobuf\"\\n')\n",
    "    fp.write(install_protobuf().strip())\n",
    "    \n",
    "    fp.write('\\n\\necho \">> Installing AWS SDK\"\\n')\n",
    "    fp.write(install_aws_sdk().strip())\n",
    "    \n",
    "    fp.write('\\n\\necho \">> Cleaning/removing workdir {}\"'.format(WORKDIR))\n",
    "    fp.write('\\nrm -rf ${WORKDIR}\\n')\n",
    "    fp.write('\\necho \"-- Done, all Tuplex requirements installed to {} --\"\\n'.format(PREFIX))"
   ]
  },
  {
   "cell_type": "code",
   "execution_count": null,
   "id": "d580fbed",
   "metadata": {
    "pycharm": {
     "name": "#%%\n"
    }
   },
   "outputs": [],
   "source": []
  },
  {
   "cell_type": "code",
   "execution_count": null,
   "id": "0dcebd58",
   "metadata": {
    "pycharm": {
     "name": "#%%\n"
    }
   },
   "outputs": [],
   "source": [
    "# create Ubunti 22.04 req file\n",
    "\n",
    "with open('install_llvm14_ubuntu_22_04.sh', 'w') as fp:\n",
    "    fp.write(bash_header().strip())\n",
    "    \n",
    "    LLVM_VERSION='14.0.6'\n",
    "    \n",
    "    fp.write('\\n\\necho \">> Installing LLVM\"\\n')\n",
    "    fp.write(install_llvm().strip())\n",
    "\n",
    "    \n",
    "    fp.write('\\n\\necho \">> Cleaning/removing workdir {}\"'.format(WORKDIR))\n",
    "    fp.write('\\nrm -rf ${WORKDIR}\\n')\n",
    "    fp.write('\\necho \"-- Done, all Tuplex requirements installed to {} --\"\\n'.format(PREFIX))"
   ]
  },
  {
   "cell_type": "code",
   "execution_count": null,
   "id": "27d885a1",
   "metadata": {
    "scrolled": false,
    "pycharm": {
     "name": "#%%\n"
    }
   },
   "outputs": [],
   "source": [
    "!cat install_dependencies_ubuntu_22_04.sh"
   ]
  },
  {
   "cell_type": "code",
   "execution_count": null,
   "id": "a2174913",
   "metadata": {
    "pycharm": {
     "name": "#%%\n"
    }
   },
   "outputs": [],
   "source": []
  },
  {
   "cell_type": "code",
   "execution_count": null,
   "id": "3cdbb5c8",
   "metadata": {
    "pycharm": {
     "name": "#%%\n"
    }
   },
   "outputs": [],
   "source": [
    "# create docker containers to build tuplex for ubuntu 18.04, 20.04, 22.04\n",
    "# => this is to test the versions\n",
    "# @TODO.\n",
    "\n",
    "# TODO: need to update azure pipelines to use ubuntu 22.04 for CI."
   ]
  },
  {
   "cell_type": "code",
   "execution_count": null,
   "id": "f583c852",
   "metadata": {
    "pycharm": {
     "name": "#%%\n"
    }
   },
   "outputs": [],
   "source": [
    "!pip3 install docker"
   ]
  },
  {
   "cell_type": "code",
   "execution_count": null,
   "id": "e7df64ad",
   "metadata": {
    "pycharm": {
     "name": "#%%\n"
    }
   },
   "outputs": [],
   "source": []
  }
 ],
 "metadata": {
  "kernelspec": {
   "display_name": "Python 3 (ipykernel)",
   "language": "python",
   "name": "python3"
  },
  "language_info": {
   "codemirror_mode": {
    "name": "ipython",
    "version": 3
   },
   "file_extension": ".py",
   "mimetype": "text/x-python",
   "name": "python",
   "nbconvert_exporter": "python",
   "pygments_lexer": "ipython3",
   "version": "3.10.4"
  }
 },
 "nbformat": 4,
 "nbformat_minor": 5
}