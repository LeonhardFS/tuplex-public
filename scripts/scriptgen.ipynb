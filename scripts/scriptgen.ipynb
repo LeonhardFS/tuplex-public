{
 "cells": [
  {
   "cell_type": "code",
   "execution_count": 1,
   "id": "184a1e8f",
   "metadata": {},
   "outputs": [],
   "source": [
    "# this script is intended to help generate install_dependecy scripts for different platforms\n"
   ]
  },
  {
   "cell_type": "code",
   "execution_count": 2,
   "id": "f7e6a6be",
   "metadata": {},
   "outputs": [],
   "source": [
    "import os\n",
    "import glob\n",
    "import json\n",
    "import datetime"
   ]
  },
  {
   "cell_type": "code",
   "execution_count": 70,
   "id": "23e48f13",
   "metadata": {},
   "outputs": [],
   "source": [
    "def bash_header(install_prefix='/opt', workdir='/tmp'):\n",
    "    current_year = datetime.datetime.now().year\n",
    "    current_date = str(datetime.datetime.now())\n",
    "    return '''#!/usr/bin/env bash\n",
    "# (c) Tuplex team 2017-{}\n",
    "# auto-generated on {}\n",
    "# install all dependencies required to compile tuplex + whatever is needed for profiling\n",
    "# everything will be installed to {} by default'''.format(current_year, current_date, install_prefix) + \\\n",
    "'\\n' + '''\n",
    "# need to run this with root privileges\n",
    "if [[ $(id -u) -ne 0 ]]; then\n",
    "  echo \"Please run this script with root privileges\"\n",
    "  exit 1\n",
    "fi\n",
    "\n",
    "export DEBIAN_FRONTEND=noninteractive\n",
    "\n",
    "PREFIX=${{PREFIX:-{}}}\n",
    "WORKDIR=${{WORKDIR:-{}}}\n",
    "\n",
    "echo \">> Installing packages into ${{PREFIX}}\"\n",
    "mkdir -p $PREFIX && chmod 0755 $PREFIX\n",
    "mkdir -p $PREFIX/sbin\n",
    "mkdir -p $PREFIX/bin\n",
    "mkdir -p $PREFIX/share\n",
    "mkdir -p $PREFIX/include\n",
    "mkdir -p $PREFIX/lib\n",
    "\n",
    "echo \">> Files will be downloaded to ${{WORKDIR}}/tuplex-downloads\"\n",
    "WORKDIR=$WORKDIR/tuplex-downloads\n",
    "mkdir -p $WORKDIR\n",
    "\n",
    "PYTHON_EXECUTABLE=${{PYTHON_EXECUTABLE:-python3}}\n",
    "PYTHON_BASENAME=\"$(basename -- $PYTHON_EXECUTABLE)\"\n",
    "PYTHON_VERSION=$(${{PYTHON_EXECUTABLE}} --version)\n",
    "echo \">> Building dependencies for ${{PYTHON_VERSION}}\"\n",
    "\n",
    "'''.format(install_prefix, workdir)"
   ]
  },
  {
   "cell_type": "code",
   "execution_count": 71,
   "id": "40249c6b",
   "metadata": {},
   "outputs": [],
   "source": [
    "with open('test.sh', 'w') as fp:\n",
    "    fp.write(bash_header())"
   ]
  },
  {
   "cell_type": "code",
   "execution_count": 72,
   "id": "57518dff",
   "metadata": {},
   "outputs": [
    {
     "name": "stdout",
     "output_type": "stream",
     "text": [
      "#!/usr/bin/env bash\n",
      "# (c) Tuplex team 2017-2022\n",
      "# auto-generated on 2022-08-12 11:00:30.688359\n",
      "# install all dependencies required to compile tuplex + whatever is needed for profiling\n",
      "# everything will be installed to /opt by default\n",
      "\n",
      "# need to run this with root privileges\n",
      "if [[ $(id -u) -ne 0 ]]; then\n",
      "  echo \"Please run this script with root privileges\"\n",
      "  exit 1\n",
      "fi\n",
      "\n",
      "export DEBIAN_FRONTEND=noninteractive\n",
      "\n",
      "PREFIX=${PREFIX:-/opt}\n",
      "WORKDIR=${WORKDIR:-/tmp}\n",
      "\n",
      "echo \">> Installing packages into ${PREFIX}\"\n",
      "mkdir -p $PREFIX && chmod 0755 $PREFIX\n",
      "mkdir -p $PREFIX/sbin\n",
      "mkdir -p $PREFIX/bin\n",
      "mkdir -p $PREFIX/share\n",
      "mkdir -p $PREFIX/include\n",
      "mkdir -p $PREFIX/lib\n",
      "\n",
      "echo \">> Files will be downloaded to ${WORKDIR}/tuplex-downloads\"\n",
      "WORKDIR=$WORKDIR/tuplex-downloads\n",
      "mkdir -p $WORKDIR\n",
      "\n",
      "PYTHON_EXECUTABLE=${PYTHON_EXECUTABLE:-python3}\n",
      "PYTHON_BASENAME=\"$(basename -- $PYTHON_EXECUTABLE)\"\n",
      "PYTHON_VERSION=$(${PYTHON_EXECUTABLE} --version)\n",
      "echo \">> Building dependencies for ${PYTHON_VERSION}\"\n",
      "\n",
      "\n"
     ]
    }
   ],
   "source": [
    "print(bash_header())"
   ]
  },
  {
   "cell_type": "code",
   "execution_count": 103,
   "id": "27d7c4f1",
   "metadata": {},
   "outputs": [],
   "source": [
    "# configure here which versions to use for each platform\n",
    "\n",
    "CMAKE_VERSION='3.23.2'\n",
    "YAMLCPP_VERSION='0.6.3'\n",
    "CELERO_VERSION='2.6.0'\n",
    "ANTLR_VERSION='4.8'\n",
    "AWSSDK_VERSION='1.9.133'\n",
    "AWSLAMBDACPP_VERSION='0.2.6'\n",
    "PCRE2_VERSION='10.39'\n",
    "PROTOBUF_VERSION='3.12'\n",
    "CLOUDPICKLE_VERSION='<2.0.0'\n",
    "BOOST_VERSION='1.75.0'\n",
    "GCC_VERSION='10'\n",
    "LLVM_VERSION='9.0.1'\n",
    "\n",
    "WORKDIR='/tmp'\n",
    "PREFIX='/opt'\n",
    "\n",
    "# derived vars\n",
    "GCC_VERSION_MAJOR=GCC_VERSION.split('.')[0]\n",
    "CMAKE_VERSION_MAJOR,CMAKE_VERSION_MINOR,CMAKE_VERSION_PATCH=tuple(CMAKE_VERSION.split('.'))"
   ]
  },
  {
   "cell_type": "code",
   "execution_count": null,
   "id": "74a1311d",
   "metadata": {},
   "outputs": [],
   "source": []
  },
  {
   "cell_type": "code",
   "execution_count": 104,
   "id": "b7d34fc3",
   "metadata": {},
   "outputs": [],
   "source": [
    "def apt_dependencies(osname='ubuntu:22.04'):\n",
    "    \n",
    "    packages_dict = {'ubuntu:22.04': '''apt-utils curl libxml2-dev vim build-essential libssl-dev zlib1g-dev libncurses5-dev \\\\\n",
    "    libncursesw5-dev libreadline-dev libsqlite3-dev libgdbm-dev libdb5.3-dev \\\\\n",
    "    libbz2-dev libexpat1-dev liblzma-dev tk-dev libffi-dev wget git''',\n",
    "                     'ubuntu:20.04': '''software-properties-common curl build-essential wget git libedit-dev libz-dev \\\\\n",
    "                   python3-yaml python3-pip pkg-config libssl-dev libcurl4-openssl-dev curl \\\\\n",
    "                   uuid-dev libffi-dev libmagic-dev \\\\\n",
    "                   doxygen doxygen-doc doxygen-latex doxygen-gui graphviz \\\\\n",
    "                   libgflags-dev libncurses-dev \\\\\n",
    "                   openjdk-8-jdk libyaml-dev ninja-build gcc-{} g++-{} autoconf libtool m4\n",
    "                     '''.format(GCC_VERSION_MAJOR, GCC_VERSION_MAJOR),\n",
    "                    'ubuntu:18.04': '''build-essential libxml2-dev\n",
    " autoconf curl automake libtool software-properties-common wget libedit-dev libz-dev \\\\\n",
    "  python3-yaml pkg-config libssl-dev libcurl4-openssl-dev curl \\\\\n",
    "  uuid-dev git python3.7 python3.7-dev python3-pip libffi-dev \\\\\n",
    "  doxygen doxygen-doc doxygen-latex doxygen-gui graphviz \\\\\n",
    "  gcc-{} g++-{} libgflags-dev libncurses-dev \\\\\n",
    "  awscli openjdk-8-jdk libyaml-dev libmagic-dev ninja-build\n",
    "                    '''.format(GCC_VERSION_MAJOR, GCC_VERSION_MAJOR)}\n",
    "    \n",
    "    return 'apt update -y\\n' + \\\n",
    "'''\n",
    "apt-get install -y {}\n",
    "  \n",
    "ldconfig\n",
    "export CC=gcc-{}\n",
    "export CXX=g++-{}\n",
    "'''.format(packages_dict[osname], GCC_VERSION_MAJOR, GCC_VERSION_MAJOR)"
   ]
  },
  {
   "cell_type": "code",
   "execution_count": 105,
   "id": "402e3670",
   "metadata": {},
   "outputs": [
    {
     "name": "stdout",
     "output_type": "stream",
     "text": [
      "apt update -y\n",
      "\n",
      "apt-get install -y apt-utils curl libxml2-dev vim build-essential libssl-dev zlib1g-dev libncurses5-dev \\\n",
      "    libncursesw5-dev libreadline-dev libsqlite3-dev libgdbm-dev libdb5.3-dev \\\n",
      "    libbz2-dev libexpat1-dev liblzma-dev tk-dev libffi-dev wget git\n",
      "  \n",
      "ldconfig\n",
      "export CC=gcc-10\n",
      "export CXX=g++-10\n",
      "\n"
     ]
    }
   ],
   "source": [
    "print(apt_dependencies())"
   ]
  },
  {
   "cell_type": "code",
   "execution_count": 106,
   "id": "1dc3b1bc",
   "metadata": {},
   "outputs": [],
   "source": [
    "def install_cmake():\n",
    "    return '''\n",
    "# fetch recent cmake & install\n",
    "CMAKE_VER_MAJOR={}\n",
    "CMAKE_VER_MINOR={}\n",
    "CMAKE_VER_PATCH={}'''.format(CMAKE_VERSION_MAJOR,CMAKE_VERSION_MINOR,CMAKE_VERSION_PATCH) + '''\n",
    "CMAKE_VER=\"${CMAKE_VER_MAJOR}.${CMAKE_VER_MINOR}\"\n",
    "CMAKE_VERSION=\"${CMAKE_VER}.${CMAKE_VER_PATCH}\"\n",
    "URL=https://github.com/Kitware/CMake/releases/download/v${CMAKE_VERSION}/cmake-${CMAKE_VERSION}-linux-x86_64.tar.gz\n",
    "mkdir -p ${WORKDIR}/cmake && cd ${WORKDIR}/cmake &&\n",
    "  curl -sSL $URL -o cmake-${CMAKE_VERSION}-linux-x86_64.tar.gz &&\n",
    "  tar -v -zxf cmake-${CMAKE_VERSION}-linux-x86_64.tar.gz &&\n",
    "  rm -f cmake-${CMAKE_VERSION}-linux-x86_64.tar.gz &&\n",
    "  cd cmake-${CMAKE_VERSION}-linux-x86_64 &&\n",
    "  cp -rp bin/* ${PREFIX}/bin/ &&\n",
    "  cp -rp share/* ${PREFIX}/share/ &&\n",
    "  cd / && rm -rf ${WORKDIR}/cmake\n",
    "    '''"
   ]
  },
  {
   "cell_type": "code",
   "execution_count": 107,
   "id": "5bfc16d1",
   "metadata": {},
   "outputs": [
    {
     "name": "stdout",
     "output_type": "stream",
     "text": [
      "\n",
      "# fetch recent cmake & install\n",
      "CMAKE_VER_MAJOR=3\n",
      "CMAKE_VER_MINOR=23\n",
      "CMAKE_VER_PATCH=2\n",
      "CMAKE_VER=\"${CMAKE_VER_MAJOR}.${CMAKE_VER_MINOR}\"\n",
      "CMAKE_VERSION=\"${CMAKE_VER}.${CMAKE_VER_PATCH}\"\n",
      "URL=https://github.com/Kitware/CMake/releases/download/v${CMAKE_VERSION}/cmake-${CMAKE_VERSION}-linux-x86_64.tar.gz\n",
      "mkdir -p ${WORKDIR}/cmake && cd ${WORKDIR}/cmake &&\n",
      "  curl -sSL $URL -o cmake-${CMAKE_VERSION}-linux-x86_64.tar.gz &&\n",
      "  tar -v -zxf cmake-${CMAKE_VERSION}-linux-x86_64.tar.gz &&\n",
      "  rm -f cmake-${CMAKE_VERSION}-linux-x86_64.tar.gz &&\n",
      "  cd cmake-${CMAKE_VERSION}-linux-x86_64 &&\n",
      "  cp -rp bin/* ${PREFIX}/bin/ &&\n",
      "  cp -rp share/* ${PREFIX}/share/ &&\n",
      "  cd / && rm -rf ${WORKDIR}/cmake\n",
      "    \n"
     ]
    }
   ],
   "source": [
    "print(install_cmake())"
   ]
  },
  {
   "cell_type": "code",
   "execution_count": 108,
   "id": "764ecffb",
   "metadata": {},
   "outputs": [],
   "source": [
    "def install_boost():\n",
    "    # may need to include the following to work for boost python\n",
    "    # # fix up for boost python a link\n",
    "    # cd /usr/local/include/ && ln -s python3.6m python3.6 && cd - || exit\n",
    "    \n",
    "    boost_reformatted = BOOST_VERSION.replace('.', '_')\n",
    "    \n",
    "    return '''    \n",
    "mkdir -p ${WORKDIR/boost}\n",
    "    \n",
    "# build incl. boost python\n",
    "pushd ${WORKDIR/boost} && ''' + \\\n",
    "'wget https://boostorg.jfrog.io/artifactory/main/release/{}/source/boost_{}.tar.gz && tar xf boost_{}.tar.gz'.format(BOOST_VERSION, boost_reformatted, boost_reformatted, boost_reformatted) + \\\n",
    "' && cd ${{WORKDIR/boost}}/boost_{}'.format(boost_reformatted) + \\\n",
    "''' \\\\\n",
    "&& ./bootstrap.sh --with-python=${PYTHON_EXECUTABLE} --prefix=${PREFIX} --with-libraries=\"thread,iostreams,regex,system,filesystem,python,stacktrace,atomic,chrono,date_time\" \\\\\n",
    " && ./b2 cxxflags=\"-fPIC\" link=static -j \"$(nproc)\" \\\\\n",
    " && ./b2 cxxflags=\"-fPIC\" link=static install'''"
   ]
  },
  {
   "cell_type": "code",
   "execution_count": 109,
   "id": "9e62fd70",
   "metadata": {},
   "outputs": [
    {
     "name": "stdout",
     "output_type": "stream",
     "text": [
      "    \n",
      "mkdir -p ${WORKDIR/boost}\n",
      "    \n",
      "# build incl. boost python\n",
      "pushd ${WORKDIR/boost} && wget https://boostorg.jfrog.io/artifactory/main/release/1.75.0/source/boost_1_75_0.tar.gz && tar xf boost_1_75_0.tar.gz && cd ${WORKDIR/boost}/boost_1_75_0 \\\n",
      "&& ./bootstrap.sh --with-python=${PYTHON_EXECUTABLE} --prefix=${PREFIX} --with-libraries=\"thread,iostreams,regex,system,filesystem,python,stacktrace,atomic,chrono,date_time\" \\\n",
      " && ./b2 cxxflags=\"-fPIC\" link=static -j \"$(nproc)\" \\\n",
      " && ./b2 cxxflags=\"-fPIC\" link=static install\n"
     ]
    }
   ],
   "source": [
    "print(install_boost())"
   ]
  },
  {
   "cell_type": "code",
   "execution_count": 141,
   "id": "52890166",
   "metadata": {},
   "outputs": [],
   "source": [
    "def install_llvm():\n",
    "    \n",
    "    LLVM_VERSION_MAJOR=LLVM_VERSION.split('.')[0]\n",
    "    workdir='${WORKDIR}/llvm'\n",
    "    code = 'mkdir -p {} && cd {} && '.format(workdir, workdir)  + \\\n",
    "'''wget https://github.com/llvm/llvm-project/releases/download/llvmorg-{version}/llvm-{version}.src.tar.xz \\\\ \n",
    "&& wget https://github.com/llvm/llvm-project/releases/download/llvmorg-{version}/clang-{version}.src.tar.xz \\\\ \n",
    "&& tar xf llvm-{version}.src.tar.xz && tar xf clang-{version}.src.tar.xz \\\\ '''.format(version=LLVM_VERSION)\n",
    "\n",
    "    code += '''\\n&& mkdir llvm{maj} && mv clang-{version}.src llvm{maj}/clang \\\\\n",
    "&& mv llvm-{version}.src llvm{maj}/llvm-{version}.src \\\\\n",
    "&& cd llvm{maj}'''.format(version=LLVM_VERSION, maj=LLVM_VERSION_MAJOR)\n",
    "\n",
    "    code += ''' && mkdir build && cd build \\\\\n",
    "&& cmake -DLLVM_ENABLE_RTTI=ON -DLLVM_ENABLE_EH=ON \\\\\n",
    "        -DLLVM_ENABLE_PROJECTS=\"clang\" \\\\\n",
    "         -DLLVM_TARGETS_TO_BUILD=\"X86\" -DCMAKE_BUILD_TYPE=Release \\\\\n",
    "         -DCMAKE_INSTALL_PREFIX=/opt/llvm-{version} ../llvm-{version}.src \\\\\n",
    "&& make -j \"$(nproc)\" && make install'''.format(version=LLVM_VERSION)\n",
    "    \n",
    "    return code"
   ]
  },
  {
   "cell_type": "code",
   "execution_count": 142,
   "id": "8684f1b3",
   "metadata": {},
   "outputs": [
    {
     "name": "stdout",
     "output_type": "stream",
     "text": [
      "mkdir -p ${WORKDIR}/llvm && cd ${WORKDIR}/llvm && wget https://github.com/llvm/llvm-project/releases/download/llvmorg-9.0.1/llvm-9.0.1.src.tar.xz \\ \n",
      "&& wget https://github.com/llvm/llvm-project/releases/download/llvmorg-9.0.1/clang-9.0.1.src.tar.xz \\ \n",
      "&& tar xf llvm-9.0.1.src.tar.xz && tar xf clang-9.0.1.src.tar.xz \\ \n",
      "&& mkdir llvm9 && mv clang-9.0.1.src llvm9/clang \\\n",
      "&& mv llvm-9.0.1.src llvm9/llvm-9.0.1.src \\\n",
      "&& cd llvm9 && mkdir build && cd build \\\n",
      "&& cmake -DLLVM_ENABLE_RTTI=ON -DLLVM_ENABLE_EH=ON \\\n",
      "        -DLLVM_ENABLE_PROJECTS=\"clang\" \\\n",
      "         -DLLVM_TARGETS_TO_BUILD=\"X86\" -DCMAKE_BUILD_TYPE=Release \\\n",
      "         -DCMAKE_INSTALL_PREFIX=/opt/llvm-9.0.1 ../llvm-9.0.1.src \\\n",
      "&& make -j \"$(nproc)\" && make install\n"
     ]
    }
   ],
   "source": [
    "print(install_llvm())"
   ]
  },
  {
   "cell_type": "code",
   "execution_count": null,
   "id": "a30fdf71",
   "metadata": {},
   "outputs": [],
   "source": []
  }
 ],
 "metadata": {
  "kernelspec": {
   "display_name": "Python 3 (ipykernel)",
   "language": "python",
   "name": "python3"
  },
  "language_info": {
   "codemirror_mode": {
    "name": "ipython",
    "version": 3
   },
   "file_extension": ".py",
   "mimetype": "text/x-python",
   "name": "python",
   "nbconvert_exporter": "python",
   "pygments_lexer": "ipython3",
   "version": "3.10.4"
  }
 },
 "nbformat": 4,
 "nbformat_minor": 5
}
