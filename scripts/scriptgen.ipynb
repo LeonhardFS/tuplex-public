{
 "cells": [
  {
   "cell_type": "code",
   "execution_count": 1,
   "id": "184a1e8f",
   "metadata": {},
   "outputs": [],
   "source": [
    "# this script is intended to help generate install_dependecy scripts for different platforms\n"
   ]
  },
  {
   "cell_type": "code",
   "execution_count": 3,
   "id": "f7e6a6be",
   "metadata": {},
   "outputs": [],
   "source": [
    "import os\n",
    "import glob\n",
    "import json\n",
    "import datetime"
   ]
  },
  {
   "cell_type": "code",
   "execution_count": 8,
   "id": "9e0a3dff",
   "metadata": {},
   "outputs": [
    {
     "data": {
      "text/plain": [
       "'2022-08-11 16:47:16.253866'"
      ]
     },
     "execution_count": 8,
     "metadata": {},
     "output_type": "execute_result"
    }
   ],
   "source": [
    "\n",
    "current_date"
   ]
  },
  {
   "cell_type": "code",
   "execution_count": 32,
   "id": "23e48f13",
   "metadata": {},
   "outputs": [],
   "source": [
    "def bash_header(install_prefix='/opt'):\n",
    "    current_year = datetime.datetime.now().year\n",
    "    current_date = str(datetime.datetime.now())\n",
    "    return '''#!/usr/bin/env bash\n",
    "# (c) Tuplex team 2017-{}\n",
    "# auto-generated on {}\n",
    "# install all dependencies required to compile tuplex + whatever is needed for profiling\n",
    "# everything will be installed to {} by default'''.format(current_year, current_date, install_prefix) + \\\n",
    "'\\n' + '''\n",
    "# need to run this with root privileges\n",
    "if [[ $(id -u) -ne 0 ]]; then\n",
    "  echo \"Please run this script with root privileges\"\n",
    "  exit 1\n",
    "fi\n",
    "\n",
    "export DEBIAN_FRONTEND=noninteractive\n",
    "\n",
    "PREFIX={{PREFIX:-{}}}\n",
    "\n",
    "echo \">> Installing packages into ${{PREFIX}}\"\n",
    "mkdir -p $PREFIX && chmod 0755 $PREFIX\n",
    "'''.format(install_prefix, )"
   ]
  },
  {
   "cell_type": "code",
   "execution_count": 33,
   "id": "57518dff",
   "metadata": {},
   "outputs": [
    {
     "name": "stdout",
     "output_type": "stream",
     "text": [
      "#!/usr/bin/env bash\n",
      "# (c) Tuplex team 2017-2022\n",
      "# auto-generated on 2022-08-11 16:52:13.087160\n",
      "# install all dependencies required to compile tuplex + whatever is needed for profiling\n",
      "# everything will be installed to /opt by default\n",
      "\n",
      "# need to run this with root privileges\n",
      "if [[ $(id -u) -ne 0 ]]; then\n",
      "  echo \"Please run this script with root privileges\"\n",
      "  exit 1\n",
      "fi\n",
      "\n",
      "export DEBIAN_FRONTEND=noninteractive\n",
      "\n",
      "PREFIX={PREFIX:-/opt}\n",
      "\n",
      "echo \">> Installing packages into ${PREFIX}\"\n",
      "mkdir -p $PREFIX && chmod 0755 $PREFIX\n",
      "\n"
     ]
    }
   ],
   "source": [
    "print(bash_header())"
   ]
  },
  {
   "cell_type": "code",
   "execution_count": 34,
   "id": "27d7c4f1",
   "metadata": {},
   "outputs": [],
   "source": [
    "# configure here which versions to use for each platform\n",
    "\n",
    "CMAKE_VERSION='3.23.2'\n",
    "YAMLCPP_VERSION='0.6.3'\n",
    "CELERO_VERSION='2.6.0'\n",
    "ANTLR_VERSION='4.8'\n",
    "AWSSDK_VERSION='1.9.133'\n",
    "AWSLAMBDACPP_VERSION='0.2.6'\n",
    "PCRE2_VERSION='10.39'\n",
    "PROTOBUF_VERSION='3.12'\n",
    "CLOUDPICKLE_VERSION='<2.0.0'\n",
    "BOOST_VERSION='1.70.0'"
   ]
  },
  {
   "cell_type": "code",
   "execution_count": 37,
   "id": "b7d34fc3",
   "metadata": {},
   "outputs": [],
   "source": [
    "def apt_dependencies():\n",
    "    return 'apt update -y\\n' + \\\n",
    "'''\n",
    "apt-get install -y software-properties-common build-essential wget libedit-dev libz-dev \\\n",
    "                   python3-yaml python3-pip pkg-config libssl-dev libcurl4-openssl-dev curl \\\n",
    "                   uuid-dev git libffi-dev libmagic-dev \\\n",
    "                   doxygen doxygen-doc doxygen-latex doxygen-gui graphviz \\\n",
    "                   libgflags-dev libncurses-dev \\\n",
    "                   openjdk-8-jdk libyaml-dev ninja-build gcc-10 g++-10 autoconf libtool m4\n",
    "  \n",
    "ldconfig\n",
    "export CC=gcc-10\n",
    "export CXX=g++-10\n",
    "'''"
   ]
  },
  {
   "cell_type": "code",
   "execution_count": 39,
   "id": "402e3670",
   "metadata": {},
   "outputs": [
    {
     "name": "stdout",
     "output_type": "stream",
     "text": [
      "apt update -y\n",
      "\n",
      "apt-get install -y software-properties-common build-essential wget libedit-dev libz-dev                    python3-yaml python3-pip pkg-config libssl-dev libcurl4-openssl-dev curl                    uuid-dev git libffi-dev libmagic-dev                    doxygen doxygen-doc doxygen-latex doxygen-gui graphviz                    libgflags-dev libncurses-dev                    openjdk-8-jdk libyaml-dev ninja-build gcc-10 g++-10 autoconf libtool m4\n",
      "  \n",
      "ldconfig\n",
      "export CC=gcc-10\n",
      "export CXX=g++-10\n",
      "\n"
     ]
    }
   ],
   "source": [
    "print(apt_dependencies())"
   ]
  },
  {
   "cell_type": "code",
   "execution_count": null,
   "id": "1dc3b1bc",
   "metadata": {},
   "outputs": [],
   "source": []
  }
 ],
 "metadata": {
  "kernelspec": {
   "display_name": "Python 3",
   "language": "python",
   "name": "python3"
  },
  "language_info": {
   "codemirror_mode": {
    "name": "ipython",
    "version": 3
   },
   "file_extension": ".py",
   "mimetype": "text/x-python",
   "name": "python",
   "nbconvert_exporter": "python",
   "pygments_lexer": "ipython3",
   "version": "3.9.10"
  }
 },
 "nbformat": 4,
 "nbformat_minor": 5
}
