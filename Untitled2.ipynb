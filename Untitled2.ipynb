{
 "cells": [
  {
   "cell_type": "code",
   "execution_count": 1,
   "id": "f24e5bc1",
   "metadata": {},
   "outputs": [],
   "source": [
    "test = \"\"\"  sharedObjectPropagation;\n",
    "                nullValueOptimization;\n",
    "                isRootStage;\n",
    "                generateParser;\n",
    "                \n",
    "                outputMode;\n",
    "                outputFileFormat;\n",
    "                outputNodeID;\n",
    "                outputSchema; \n",
    "                fileOutputParameters; \n",
    "                hashColKeys; \n",
    "                hashKeyType;\n",
    "                hashSaveOthers; \n",
    "                hashAggregate; \n",
    "    \n",
    "                inputMode;\n",
    "                inputFileFormat;\n",
    "                inputNodeID;\n",
    "                fileInputParameters; \"\"\""
   ]
  },
  {
   "cell_type": "code",
   "execution_count": 7,
   "id": "b8429b85",
   "metadata": {},
   "outputs": [],
   "source": [
    "lines = list(map(lambda line: 'root[\"{}\"] = {}'.format(line.strip().replace(';', ''), line.strip()), test.split()))"
   ]
  },
  {
   "cell_type": "code",
   "execution_count": 9,
   "id": "b1c2725a",
   "metadata": {},
   "outputs": [
    {
     "name": "stdout",
     "output_type": "stream",
     "text": [
      "root[\"sharedObjectPropagation\"] = sharedObjectPropagation;\n",
      "root[\"nullValueOptimization\"] = nullValueOptimization;\n",
      "root[\"isRootStage\"] = isRootStage;\n",
      "root[\"generateParser\"] = generateParser;\n",
      "root[\"outputMode\"] = outputMode;\n",
      "root[\"outputFileFormat\"] = outputFileFormat;\n",
      "root[\"outputNodeID\"] = outputNodeID;\n",
      "root[\"outputSchema\"] = outputSchema;\n",
      "root[\"fileOutputParameters\"] = fileOutputParameters;\n",
      "root[\"hashColKeys\"] = hashColKeys;\n",
      "root[\"hashKeyType\"] = hashKeyType;\n",
      "root[\"hashSaveOthers\"] = hashSaveOthers;\n",
      "root[\"hashAggregate\"] = hashAggregate;\n",
      "root[\"inputMode\"] = inputMode;\n",
      "root[\"inputFileFormat\"] = inputFileFormat;\n",
      "root[\"inputNodeID\"] = inputNodeID;\n",
      "root[\"fileInputParameters\"] = fileInputParameters;\n"
     ]
    }
   ],
   "source": [
    "print('\\n'.join(lines))"
   ]
  },
  {
   "cell_type": "code",
   "execution_count": null,
   "id": "06cc80af",
   "metadata": {},
   "outputs": [],
   "source": []
  }
 ],
 "metadata": {
  "kernelspec": {
   "display_name": "Python 3",
   "language": "python",
   "name": "python3"
  },
  "language_info": {
   "codemirror_mode": {
    "name": "ipython",
    "version": 3
   },
   "file_extension": ".py",
   "mimetype": "text/x-python",
   "name": "python",
   "nbconvert_exporter": "python",
   "pygments_lexer": "ipython3",
   "version": "3.9.10"
  }
 },
 "nbformat": 4,
 "nbformat_minor": 5
}
